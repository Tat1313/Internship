{
 "cells": [
  {
   "cell_type": "markdown",
   "id": "3b6610d1",
   "metadata": {},
   "source": [
    "Q1: Write a python program to scrape data for “Data Analyst” Job position in “Bangalore” location. You\n",
    "have to scrape the job-title, job-location, company_name, experience_required. You have to scrape first 10\n",
    "jobs data.\n",
    "This task will be done in following steps:\n",
    "\n",
    "1. First get the webpage https://www.naukri.com/\n",
    "\n",
    "2. Enter “Data Analyst” in “Skill, Designations, Companies” field and enter “Bangalore” in “enter the\n",
    "location” field.\n",
    "\n",
    "3. Then click the search button.\n",
    "\n",
    "4. Then scrape the data for the first 10 jobs results you get.\n",
    "\n",
    "5. Finally create a dataframe of the scraped data.\n",
    "Note: All of the above steps have to be done in code. No step is to be done manually."
   ]
  },
  {
   "cell_type": "code",
   "execution_count": 1,
   "id": "8a82960b",
   "metadata": {},
   "outputs": [
    {
     "name": "stdout",
     "output_type": "stream",
     "text": [
      "Requirement already satisfied: selenium in c:\\users\\tat\\anaconda\\lib\\site-packages (4.0.0)\n",
      "Requirement already satisfied: trio-websocket~=0.9 in c:\\users\\tat\\anaconda\\lib\\site-packages (from selenium) (0.9.2)\n",
      "Requirement already satisfied: trio~=0.17 in c:\\users\\tat\\anaconda\\lib\\site-packages (from selenium) (0.19.0)\n",
      "Requirement already satisfied: urllib3[secure]~=1.26 in c:\\users\\tat\\anaconda\\lib\\site-packages (from selenium) (1.26.7)\n",
      "Requirement already satisfied: outcome in c:\\users\\tat\\anaconda\\lib\\site-packages (from trio~=0.17->selenium) (1.1.0)\n",
      "Requirement already satisfied: sortedcontainers in c:\\users\\tat\\anaconda\\lib\\site-packages (from trio~=0.17->selenium) (2.4.0)\n",
      "Requirement already satisfied: idna in c:\\users\\tat\\anaconda\\lib\\site-packages (from trio~=0.17->selenium) (2.10)\n",
      "Requirement already satisfied: cffi>=1.14 in c:\\users\\tat\\anaconda\\lib\\site-packages (from trio~=0.17->selenium) (1.14.4)\n",
      "Requirement already satisfied: sniffio in c:\\users\\tat\\anaconda\\lib\\site-packages (from trio~=0.17->selenium) (1.2.0)\n",
      "Requirement already satisfied: attrs>=19.2.0 in c:\\users\\tat\\anaconda\\lib\\site-packages (from trio~=0.17->selenium) (20.3.0)\n",
      "Requirement already satisfied: async-generator>=1.9 in c:\\users\\tat\\anaconda\\lib\\site-packages (from trio~=0.17->selenium) (1.10)\n",
      "Requirement already satisfied: pycparser in c:\\users\\tat\\anaconda\\lib\\site-packages (from cffi>=1.14->trio~=0.17->selenium) (2.20)\n",
      "Requirement already satisfied: attrs>=19.2.0 in c:\\users\\tat\\anaconda\\lib\\site-packages (from trio~=0.17->selenium) (20.3.0)\n",
      "Requirement already satisfied: trio~=0.17 in c:\\users\\tat\\anaconda\\lib\\site-packages (from selenium) (0.19.0)\n",
      "Requirement already satisfied: wsproto>=0.14 in c:\\users\\tat\\anaconda\\lib\\site-packages (from trio-websocket~=0.9->selenium) (1.0.0)\n",
      "Requirement already satisfied: async-generator>=1.9 in c:\\users\\tat\\anaconda\\lib\\site-packages (from trio~=0.17->selenium) (1.10)\n",
      "Requirement already satisfied: certifi in c:\\users\\tat\\anaconda\\lib\\site-packages (from urllib3[secure]~=1.26->selenium) (2020.12.5)\n",
      "Requirement already satisfied: cryptography>=1.3.4 in c:\\users\\tat\\anaconda\\lib\\site-packages (from urllib3[secure]~=1.26->selenium) (3.3.1)\n",
      "Requirement already satisfied: pyOpenSSL>=0.14 in c:\\users\\tat\\anaconda\\lib\\site-packages (from urllib3[secure]~=1.26->selenium) (20.0.0)\n",
      "Requirement already satisfied: idna in c:\\users\\tat\\anaconda\\lib\\site-packages (from trio~=0.17->selenium) (2.10)\n",
      "Requirement already satisfied: six>=1.4.1 in c:\\users\\tat\\anaconda\\lib\\site-packages (from cryptography>=1.3.4->urllib3[secure]~=1.26->selenium) (1.15.0)\n",
      "Requirement already satisfied: cffi>=1.14 in c:\\users\\tat\\anaconda\\lib\\site-packages (from trio~=0.17->selenium) (1.14.4)\n",
      "Requirement already satisfied: cryptography>=1.3.4 in c:\\users\\tat\\anaconda\\lib\\site-packages (from urllib3[secure]~=1.26->selenium) (3.3.1)\n",
      "Requirement already satisfied: six>=1.4.1 in c:\\users\\tat\\anaconda\\lib\\site-packages (from cryptography>=1.3.4->urllib3[secure]~=1.26->selenium) (1.15.0)\n",
      "Requirement already satisfied: h11<1,>=0.9.0 in c:\\users\\tat\\anaconda\\lib\\site-packages (from wsproto>=0.14->trio-websocket~=0.9->selenium) (0.12.0)\n"
     ]
    }
   ],
   "source": [
    "! pip install selenium"
   ]
  },
  {
   "cell_type": "code",
   "execution_count": 1,
   "id": "68922f43",
   "metadata": {},
   "outputs": [],
   "source": [
    "import selenium\n",
    "import pandas as pd\n",
    "from selenium import webdriver"
   ]
  },
  {
   "cell_type": "code",
   "execution_count": 2,
   "id": "f11679c6",
   "metadata": {},
   "outputs": [
    {
     "ename": "NameError",
     "evalue": "name 'webdriver' is not defined",
     "output_type": "error",
     "traceback": [
      "\u001b[1;31m---------------------------------------------------------------------------\u001b[0m",
      "\u001b[1;31mNameError\u001b[0m                                 Traceback (most recent call last)",
      "\u001b[1;32m<ipython-input-2-7cb550b8266b>\u001b[0m in \u001b[0;36m<module>\u001b[1;34m\u001b[0m\n\u001b[0;32m      1\u001b[0m \u001b[0mPATH\u001b[0m \u001b[1;33m=\u001b[0m \u001b[1;34m\"C:\\Program Files (x86)\\chromedriver.exe\"\u001b[0m\u001b[1;33m\u001b[0m\u001b[1;33m\u001b[0m\u001b[0m\n\u001b[1;32m----> 2\u001b[1;33m \u001b[0mdriver\u001b[0m \u001b[1;33m=\u001b[0m \u001b[0mwebdriver\u001b[0m\u001b[1;33m.\u001b[0m\u001b[0mChrome\u001b[0m\u001b[1;33m(\u001b[0m\u001b[0mPATH\u001b[0m\u001b[1;33m)\u001b[0m\u001b[1;33m\u001b[0m\u001b[1;33m\u001b[0m\u001b[0m\n\u001b[0m",
      "\u001b[1;31mNameError\u001b[0m: name 'webdriver' is not defined"
     ]
    }
   ],
   "source": [
    "PATH = \"C:\\Program Files (x86)\\chromedriver.exe\"\n",
    "driver = webdriver.Chrome(PATH)"
   ]
  },
  {
   "cell_type": "code",
   "execution_count": 121,
   "id": "7170c41b",
   "metadata": {},
   "outputs": [],
   "source": [
    "driver.get('https://www.naukri.com')"
   ]
  },
  {
   "cell_type": "code",
   "execution_count": 122,
   "id": "f7dc19ca",
   "metadata": {},
   "outputs": [
    {
     "name": "stderr",
     "output_type": "stream",
     "text": [
      "<ipython-input-122-674b747294f0>:1: DeprecationWarning: find_element_by_* commands are deprecated. Please use find_element() instead\n",
      "  search_job = driver.find_element_by_id('qsb-keyword-sugg')\n"
     ]
    }
   ],
   "source": [
    "search_job = driver.find_element_by_id('qsb-keyword-sugg')\n",
    "search_job.send_keys('Data Analyst')"
   ]
  },
  {
   "cell_type": "code",
   "execution_count": 123,
   "id": "b92b3edd",
   "metadata": {},
   "outputs": [
    {
     "name": "stderr",
     "output_type": "stream",
     "text": [
      "<ipython-input-123-5a8835cc9ce5>:1: DeprecationWarning: find_element_by_* commands are deprecated. Please use find_element() instead\n",
      "  search_loc = driver.find_element_by_xpath(\"//input[@id='qsb-location-sugg']\")\n"
     ]
    }
   ],
   "source": [
    "search_loc = driver.find_element_by_xpath(\"//input[@id='qsb-location-sugg']\")\n",
    "search_loc.send_keys('Bangalore')"
   ]
  },
  {
   "cell_type": "code",
   "execution_count": 124,
   "id": "31414439",
   "metadata": {},
   "outputs": [
    {
     "name": "stderr",
     "output_type": "stream",
     "text": [
      "<ipython-input-124-c9b437d84350>:1: DeprecationWarning: find_element_by_* commands are deprecated. Please use find_element() instead\n",
      "  search_btn = driver.find_element_by_xpath(\"//div[@class='search-btn']/button\")\n"
     ]
    }
   ],
   "source": [
    "search_btn = driver.find_element_by_xpath(\"//div[@class='search-btn']/button\")\n",
    "search_btn.click()"
   ]
  },
  {
   "cell_type": "code",
   "execution_count": 125,
   "id": "4cb3f28b",
   "metadata": {},
   "outputs": [],
   "source": [
    "job_title = []\n",
    "job_location = []\n",
    "company_name = []\n",
    "experience_required = []"
   ]
  },
  {
   "cell_type": "code",
   "execution_count": 126,
   "id": "b2157d13",
   "metadata": {},
   "outputs": [
    {
     "name": "stderr",
     "output_type": "stream",
     "text": [
      "<ipython-input-126-bbe5128b7374>:1: DeprecationWarning: find_elements_by_* commands are deprecated. Please use find_elements() instead\n",
      "  title_tags = driver.find_elements_by_xpath(\"//a[@class='title fw500 ellipsis']\")\n"
     ]
    },
    {
     "data": {
      "text/plain": [
       "[<selenium.webdriver.remote.webelement.WebElement (session=\"7cbf6d84bdebe5dae8d77213956f187f\", element=\"12d1444e-e76a-41d4-988b-5c16ed65ffba\")>,\n",
       " <selenium.webdriver.remote.webelement.WebElement (session=\"7cbf6d84bdebe5dae8d77213956f187f\", element=\"00d6755d-1f2b-48cb-8883-8df27124b6d2\")>,\n",
       " <selenium.webdriver.remote.webelement.WebElement (session=\"7cbf6d84bdebe5dae8d77213956f187f\", element=\"851291f8-58aa-4d0a-9a49-36c89b693680\")>,\n",
       " <selenium.webdriver.remote.webelement.WebElement (session=\"7cbf6d84bdebe5dae8d77213956f187f\", element=\"bfbfc0c6-46d5-4903-8a00-c6cc5f163230\")>,\n",
       " <selenium.webdriver.remote.webelement.WebElement (session=\"7cbf6d84bdebe5dae8d77213956f187f\", element=\"9427d1e8-59d1-49ac-945c-4db15ca12b3d\")>,\n",
       " <selenium.webdriver.remote.webelement.WebElement (session=\"7cbf6d84bdebe5dae8d77213956f187f\", element=\"c867d03b-164f-4498-8456-acc7db087261\")>,\n",
       " <selenium.webdriver.remote.webelement.WebElement (session=\"7cbf6d84bdebe5dae8d77213956f187f\", element=\"2fe486de-3c4c-4d7f-a13d-0ea957599954\")>,\n",
       " <selenium.webdriver.remote.webelement.WebElement (session=\"7cbf6d84bdebe5dae8d77213956f187f\", element=\"be76b5dc-9fba-4339-8abd-c7ddb59df47c\")>,\n",
       " <selenium.webdriver.remote.webelement.WebElement (session=\"7cbf6d84bdebe5dae8d77213956f187f\", element=\"e1916b78-2f86-4eeb-8d5b-6d110bc744eb\")>,\n",
       " <selenium.webdriver.remote.webelement.WebElement (session=\"7cbf6d84bdebe5dae8d77213956f187f\", element=\"86e7a6bc-0de5-4406-9744-a91b38b3ce3c\")>]"
      ]
     },
     "execution_count": 126,
     "metadata": {},
     "output_type": "execute_result"
    }
   ],
   "source": [
    "title_tags = driver.find_elements_by_xpath(\"//a[@class='title fw500 ellipsis']\")\n",
    "title_tags[0:10]"
   ]
  },
  {
   "cell_type": "code",
   "execution_count": 127,
   "id": "095336e0",
   "metadata": {},
   "outputs": [
    {
     "data": {
      "text/plain": [
       "['Data Analyst',\n",
       " 'Data Analyst',\n",
       " 'Data Analyst',\n",
       " 'Business Data Analyst - Database Design/Mining',\n",
       " 'Power BI - Data Analyst - Biocon Biologics',\n",
       " 'Sr Business Data Analyst',\n",
       " 'Business Data Analyst - MIS & Reporting',\n",
       " 'Data Analyst',\n",
       " 'ID&A - Data Analyst - Informatica MDM',\n",
       " 'Data Analyst']"
      ]
     },
     "execution_count": 127,
     "metadata": {},
     "output_type": "execute_result"
    }
   ],
   "source": [
    "for i in title_tags:\n",
    "    title = i.text\n",
    "    job_title.append(title)\n",
    "job_title[0:10]"
   ]
  },
  {
   "cell_type": "code",
   "execution_count": 128,
   "id": "7240b36b",
   "metadata": {},
   "outputs": [
    {
     "name": "stderr",
     "output_type": "stream",
     "text": [
      "<ipython-input-128-edca770a560f>:1: DeprecationWarning: find_elements_by_* commands are deprecated. Please use find_elements() instead\n",
      "  location_tags = driver.find_elements_by_xpath(\"//li[@class='fleft grey-text br2 placeHolderLi location']/span[1]\")\n"
     ]
    },
    {
     "data": {
      "text/plain": [
       "[<selenium.webdriver.remote.webelement.WebElement (session=\"7cbf6d84bdebe5dae8d77213956f187f\", element=\"3c1f3530-49bb-4348-936b-d145deb75529\")>,\n",
       " <selenium.webdriver.remote.webelement.WebElement (session=\"7cbf6d84bdebe5dae8d77213956f187f\", element=\"b55cadd9-7543-4daa-ac2c-e1a110f93dac\")>,\n",
       " <selenium.webdriver.remote.webelement.WebElement (session=\"7cbf6d84bdebe5dae8d77213956f187f\", element=\"8c96b716-ff81-48cc-95b4-3cc17d5097e4\")>,\n",
       " <selenium.webdriver.remote.webelement.WebElement (session=\"7cbf6d84bdebe5dae8d77213956f187f\", element=\"c14be3e0-804b-4b45-9b8b-53e9211cff20\")>,\n",
       " <selenium.webdriver.remote.webelement.WebElement (session=\"7cbf6d84bdebe5dae8d77213956f187f\", element=\"e6b3ca04-39a8-49f5-b62e-d4bfa0b3e83f\")>,\n",
       " <selenium.webdriver.remote.webelement.WebElement (session=\"7cbf6d84bdebe5dae8d77213956f187f\", element=\"f5385908-90e1-4e15-bf5d-1e9398237cc3\")>,\n",
       " <selenium.webdriver.remote.webelement.WebElement (session=\"7cbf6d84bdebe5dae8d77213956f187f\", element=\"904185b0-bc83-4668-abae-2af6fd60bc56\")>,\n",
       " <selenium.webdriver.remote.webelement.WebElement (session=\"7cbf6d84bdebe5dae8d77213956f187f\", element=\"412a73b2-fc25-4cf0-bf9e-59e7550bd07d\")>,\n",
       " <selenium.webdriver.remote.webelement.WebElement (session=\"7cbf6d84bdebe5dae8d77213956f187f\", element=\"026ce690-86d6-4e35-84a4-6e5681a45d34\")>,\n",
       " <selenium.webdriver.remote.webelement.WebElement (session=\"7cbf6d84bdebe5dae8d77213956f187f\", element=\"a9994b39-00cc-4cd8-9a71-ae5c4241ed75\")>]"
      ]
     },
     "execution_count": 128,
     "metadata": {},
     "output_type": "execute_result"
    }
   ],
   "source": [
    "location_tags = driver.find_elements_by_xpath(\"//li[@class='fleft grey-text br2 placeHolderLi location']/span[1]\")\n",
    "location_tags[0:10]"
   ]
  },
  {
   "cell_type": "code",
   "execution_count": 129,
   "id": "d580cada",
   "metadata": {},
   "outputs": [
    {
     "data": {
      "text/plain": [
       "['Bangalore/Bengaluru',\n",
       " 'Bangalore/Bengaluru',\n",
       " 'Bangalore/Bengaluru',\n",
       " 'Bangalore/Bengaluru',\n",
       " 'Bangalore/Bengaluru',\n",
       " 'Bangalore/Bengaluru',\n",
       " 'Mumbai, Bangalore/Bengaluru',\n",
       " 'Bangalore/Bengaluru',\n",
       " 'Bangalore/Bengaluru',\n",
       " 'Bangalore/Bengaluru']"
      ]
     },
     "execution_count": 129,
     "metadata": {},
     "output_type": "execute_result"
    }
   ],
   "source": [
    "for i in location_tags:\n",
    "    location = i.text\n",
    "    job_location.append(location)\n",
    "job_location[0:10]"
   ]
  },
  {
   "cell_type": "code",
   "execution_count": 130,
   "id": "aa37e4a7",
   "metadata": {},
   "outputs": [
    {
     "name": "stderr",
     "output_type": "stream",
     "text": [
      "<ipython-input-130-858b4ae14d4a>:1: DeprecationWarning: find_elements_by_* commands are deprecated. Please use find_elements() instead\n",
      "  company_tags = driver.find_elements_by_xpath(\"//a[@class='subTitle ellipsis fleft']\")\n"
     ]
    },
    {
     "data": {
      "text/plain": [
       "[<selenium.webdriver.remote.webelement.WebElement (session=\"7cbf6d84bdebe5dae8d77213956f187f\", element=\"755edddd-fec2-4a16-9fce-115c502e4938\")>,\n",
       " <selenium.webdriver.remote.webelement.WebElement (session=\"7cbf6d84bdebe5dae8d77213956f187f\", element=\"3b06e292-9e4f-443e-8bb2-bd92a0f7ea5c\")>,\n",
       " <selenium.webdriver.remote.webelement.WebElement (session=\"7cbf6d84bdebe5dae8d77213956f187f\", element=\"851e62c0-8372-4cc8-b72d-36d5c2eb3a33\")>,\n",
       " <selenium.webdriver.remote.webelement.WebElement (session=\"7cbf6d84bdebe5dae8d77213956f187f\", element=\"2cfe7d9f-c04a-4904-9874-53acc44cb430\")>,\n",
       " <selenium.webdriver.remote.webelement.WebElement (session=\"7cbf6d84bdebe5dae8d77213956f187f\", element=\"3e316b74-3ab9-471c-a09e-812eaf1c5c9b\")>,\n",
       " <selenium.webdriver.remote.webelement.WebElement (session=\"7cbf6d84bdebe5dae8d77213956f187f\", element=\"4ad0a5a2-9092-4449-8499-3a0b0d05bb42\")>,\n",
       " <selenium.webdriver.remote.webelement.WebElement (session=\"7cbf6d84bdebe5dae8d77213956f187f\", element=\"f22786cf-2645-4db9-ab79-975b0be69f5b\")>,\n",
       " <selenium.webdriver.remote.webelement.WebElement (session=\"7cbf6d84bdebe5dae8d77213956f187f\", element=\"cf493953-1b22-4069-98e8-b09e8f3ec822\")>,\n",
       " <selenium.webdriver.remote.webelement.WebElement (session=\"7cbf6d84bdebe5dae8d77213956f187f\", element=\"b54f4995-bf82-4e62-aed6-5c0e29e5514c\")>,\n",
       " <selenium.webdriver.remote.webelement.WebElement (session=\"7cbf6d84bdebe5dae8d77213956f187f\", element=\"868f5c77-ad93-4987-8988-7b2032cb467f\")>]"
      ]
     },
     "execution_count": 130,
     "metadata": {},
     "output_type": "execute_result"
    }
   ],
   "source": [
    "company_tags = driver.find_elements_by_xpath(\"//a[@class='subTitle ellipsis fleft']\")\n",
    "company_tags[0:10]"
   ]
  },
  {
   "cell_type": "code",
   "execution_count": 131,
   "id": "bfc25f8a",
   "metadata": {},
   "outputs": [
    {
     "data": {
      "text/plain": [
       "['Applied Materials',\n",
       " 'Shell',\n",
       " 'Shell',\n",
       " 'AugmatrixGo',\n",
       " 'BIOCON BIOLOGICS LIMITED',\n",
       " 'ExecBoardinAsia',\n",
       " 'INTERTRUST GROUP',\n",
       " 'Leap29',\n",
       " 'Shell',\n",
       " 'Capgemini']"
      ]
     },
     "execution_count": 131,
     "metadata": {},
     "output_type": "execute_result"
    }
   ],
   "source": [
    "for i in company_tags:\n",
    "    company = i.text\n",
    "    company_name.append(company)\n",
    "company_name[0:10]"
   ]
  },
  {
   "cell_type": "code",
   "execution_count": 132,
   "id": "95033441",
   "metadata": {},
   "outputs": [
    {
     "name": "stderr",
     "output_type": "stream",
     "text": [
      "<ipython-input-132-5fa767a63a3e>:1: DeprecationWarning: find_elements_by_* commands are deprecated. Please use find_elements() instead\n",
      "  experience_tags = driver.find_elements_by_xpath(\"//li[@class='fleft grey-text br2 placeHolderLi experience']/span[1]\")\n"
     ]
    },
    {
     "data": {
      "text/plain": [
       "[<selenium.webdriver.remote.webelement.WebElement (session=\"7cbf6d84bdebe5dae8d77213956f187f\", element=\"c7b70215-d2bf-423c-9948-8bef62c50322\")>,\n",
       " <selenium.webdriver.remote.webelement.WebElement (session=\"7cbf6d84bdebe5dae8d77213956f187f\", element=\"cd5f4700-1576-4397-a485-377658f15a3c\")>,\n",
       " <selenium.webdriver.remote.webelement.WebElement (session=\"7cbf6d84bdebe5dae8d77213956f187f\", element=\"39bacc85-719c-4114-8bc2-3cb6e1cd718f\")>,\n",
       " <selenium.webdriver.remote.webelement.WebElement (session=\"7cbf6d84bdebe5dae8d77213956f187f\", element=\"4fd18698-3795-4dc0-b871-d7e9bb8b00a0\")>,\n",
       " <selenium.webdriver.remote.webelement.WebElement (session=\"7cbf6d84bdebe5dae8d77213956f187f\", element=\"b630d148-f12c-49df-9393-0a9ee111dc4f\")>,\n",
       " <selenium.webdriver.remote.webelement.WebElement (session=\"7cbf6d84bdebe5dae8d77213956f187f\", element=\"2e1dc701-c02b-441a-92ad-9fd10ca3b311\")>,\n",
       " <selenium.webdriver.remote.webelement.WebElement (session=\"7cbf6d84bdebe5dae8d77213956f187f\", element=\"effb5d79-4b8d-4232-846a-ee603090a94b\")>,\n",
       " <selenium.webdriver.remote.webelement.WebElement (session=\"7cbf6d84bdebe5dae8d77213956f187f\", element=\"d28cc489-1435-4f5c-a4bc-390cc35c8ded\")>,\n",
       " <selenium.webdriver.remote.webelement.WebElement (session=\"7cbf6d84bdebe5dae8d77213956f187f\", element=\"847dce92-3adb-4f1c-9266-6fcd18b156c3\")>,\n",
       " <selenium.webdriver.remote.webelement.WebElement (session=\"7cbf6d84bdebe5dae8d77213956f187f\", element=\"a41b2e1f-36da-45a7-836c-f174754c93b8\")>]"
      ]
     },
     "execution_count": 132,
     "metadata": {},
     "output_type": "execute_result"
    }
   ],
   "source": [
    "experience_tags = driver.find_elements_by_xpath(\"//li[@class='fleft grey-text br2 placeHolderLi experience']/span[1]\")\n",
    "experience_tags[0:10]"
   ]
  },
  {
   "cell_type": "code",
   "execution_count": 133,
   "id": "afd22344",
   "metadata": {},
   "outputs": [
    {
     "data": {
      "text/plain": [
       "['0-3 Yrs',\n",
       " '5-8 Yrs',\n",
       " '5-10 Yrs',\n",
       " '2-5 Yrs',\n",
       " '3-8 Yrs',\n",
       " '5-10 Yrs',\n",
       " '3-8 Yrs',\n",
       " '3-8 Yrs',\n",
       " '5-9 Yrs',\n",
       " '2-5 Yrs']"
      ]
     },
     "execution_count": 133,
     "metadata": {},
     "output_type": "execute_result"
    }
   ],
   "source": [
    "for i in experience_tags:\n",
    "    experience = i.text\n",
    "    experience_required.append(experience)\n",
    "experience_required[0:10]"
   ]
  },
  {
   "cell_type": "code",
   "execution_count": 134,
   "id": "98508f88",
   "metadata": {},
   "outputs": [
    {
     "name": "stdout",
     "output_type": "stream",
     "text": [
      "20 20 20 20\n"
     ]
    }
   ],
   "source": [
    "print(len(job_title),len(job_location),len(company_name),len(experience_required))"
   ]
  },
  {
   "cell_type": "code",
   "execution_count": 136,
   "id": "32ab9760",
   "metadata": {},
   "outputs": [
    {
     "data": {
      "text/html": [
       "<div>\n",
       "<style scoped>\n",
       "    .dataframe tbody tr th:only-of-type {\n",
       "        vertical-align: middle;\n",
       "    }\n",
       "\n",
       "    .dataframe tbody tr th {\n",
       "        vertical-align: top;\n",
       "    }\n",
       "\n",
       "    .dataframe thead th {\n",
       "        text-align: right;\n",
       "    }\n",
       "</style>\n",
       "<table border=\"1\" class=\"dataframe\">\n",
       "  <thead>\n",
       "    <tr style=\"text-align: right;\">\n",
       "      <th></th>\n",
       "      <th>Title</th>\n",
       "      <th>Location</th>\n",
       "      <th>Company</th>\n",
       "      <th>Required Experience</th>\n",
       "    </tr>\n",
       "  </thead>\n",
       "  <tbody>\n",
       "    <tr>\n",
       "      <th>0</th>\n",
       "      <td>Data Analyst</td>\n",
       "      <td>Bangalore/Bengaluru</td>\n",
       "      <td>Applied Materials</td>\n",
       "      <td>0-3 Yrs</td>\n",
       "    </tr>\n",
       "    <tr>\n",
       "      <th>1</th>\n",
       "      <td>Data Analyst</td>\n",
       "      <td>Bangalore/Bengaluru</td>\n",
       "      <td>Shell</td>\n",
       "      <td>5-8 Yrs</td>\n",
       "    </tr>\n",
       "    <tr>\n",
       "      <th>2</th>\n",
       "      <td>Data Analyst</td>\n",
       "      <td>Bangalore/Bengaluru</td>\n",
       "      <td>Shell</td>\n",
       "      <td>5-10 Yrs</td>\n",
       "    </tr>\n",
       "    <tr>\n",
       "      <th>3</th>\n",
       "      <td>Business Data Analyst - Database Design/Mining</td>\n",
       "      <td>Bangalore/Bengaluru</td>\n",
       "      <td>AugmatrixGo</td>\n",
       "      <td>2-5 Yrs</td>\n",
       "    </tr>\n",
       "    <tr>\n",
       "      <th>4</th>\n",
       "      <td>Power BI - Data Analyst - Biocon Biologics</td>\n",
       "      <td>Bangalore/Bengaluru</td>\n",
       "      <td>BIOCON BIOLOGICS LIMITED</td>\n",
       "      <td>3-8 Yrs</td>\n",
       "    </tr>\n",
       "    <tr>\n",
       "      <th>5</th>\n",
       "      <td>Sr Business Data Analyst</td>\n",
       "      <td>Bangalore/Bengaluru</td>\n",
       "      <td>ExecBoardinAsia</td>\n",
       "      <td>5-10 Yrs</td>\n",
       "    </tr>\n",
       "    <tr>\n",
       "      <th>6</th>\n",
       "      <td>Business Data Analyst - MIS &amp; Reporting</td>\n",
       "      <td>Mumbai, Bangalore/Bengaluru</td>\n",
       "      <td>INTERTRUST GROUP</td>\n",
       "      <td>3-8 Yrs</td>\n",
       "    </tr>\n",
       "    <tr>\n",
       "      <th>7</th>\n",
       "      <td>Data Analyst</td>\n",
       "      <td>Bangalore/Bengaluru</td>\n",
       "      <td>Leap29</td>\n",
       "      <td>3-8 Yrs</td>\n",
       "    </tr>\n",
       "    <tr>\n",
       "      <th>8</th>\n",
       "      <td>ID&amp;A - Data Analyst - Informatica MDM</td>\n",
       "      <td>Bangalore/Bengaluru</td>\n",
       "      <td>Shell</td>\n",
       "      <td>5-9 Yrs</td>\n",
       "    </tr>\n",
       "    <tr>\n",
       "      <th>9</th>\n",
       "      <td>Data Analyst</td>\n",
       "      <td>Bangalore/Bengaluru</td>\n",
       "      <td>Capgemini</td>\n",
       "      <td>2-5 Yrs</td>\n",
       "    </tr>\n",
       "  </tbody>\n",
       "</table>\n",
       "</div>"
      ],
      "text/plain": [
       "                                            Title  \\\n",
       "0                                    Data Analyst   \n",
       "1                                    Data Analyst   \n",
       "2                                    Data Analyst   \n",
       "3  Business Data Analyst - Database Design/Mining   \n",
       "4      Power BI - Data Analyst - Biocon Biologics   \n",
       "5                        Sr Business Data Analyst   \n",
       "6         Business Data Analyst - MIS & Reporting   \n",
       "7                                    Data Analyst   \n",
       "8           ID&A - Data Analyst - Informatica MDM   \n",
       "9                                    Data Analyst   \n",
       "\n",
       "                      Location                   Company Required Experience  \n",
       "0          Bangalore/Bengaluru         Applied Materials             0-3 Yrs  \n",
       "1          Bangalore/Bengaluru                     Shell             5-8 Yrs  \n",
       "2          Bangalore/Bengaluru                     Shell            5-10 Yrs  \n",
       "3          Bangalore/Bengaluru               AugmatrixGo             2-5 Yrs  \n",
       "4          Bangalore/Bengaluru  BIOCON BIOLOGICS LIMITED             3-8 Yrs  \n",
       "5          Bangalore/Bengaluru           ExecBoardinAsia            5-10 Yrs  \n",
       "6  Mumbai, Bangalore/Bengaluru          INTERTRUST GROUP             3-8 Yrs  \n",
       "7          Bangalore/Bengaluru                    Leap29             3-8 Yrs  \n",
       "8          Bangalore/Bengaluru                     Shell             5-9 Yrs  \n",
       "9          Bangalore/Bengaluru                 Capgemini             2-5 Yrs  "
      ]
     },
     "execution_count": 136,
     "metadata": {},
     "output_type": "execute_result"
    }
   ],
   "source": [
    "dataAnalystJobs = pd.DataFrame()\n",
    "dataAnalystJobs['Title'] = job_title[0:10]\n",
    "dataAnalystJobs['Location'] = job_location[0:10]\n",
    "dataAnalystJobs['Company'] = company_name[0:10]\n",
    "dataAnalystJobs['Required Experience'] = experience_required[0:10]\n",
    "dataAnalystJobs"
   ]
  },
  {
   "cell_type": "markdown",
   "id": "b7bd0635",
   "metadata": {},
   "source": [
    "Q2: Write a python program to scrape data for “Data Scientist” Job position in “Bangalore” location. You\n",
    "have to scrape the job-title, job-location, company_name. You have to scrape first 10 jobs data.\n",
    "This task will be done in following steps:\n",
    "\n",
    "1. First get the webpage https://www.naukri.com/\n",
    "\n",
    "2. Enter “Data Scientist” in “Skill, Designations, Companies” field and enter “Bangalore” in “enter the\n",
    "location” field.\n",
    "\n",
    "3. Then click the search button.\n",
    "\n",
    "4. Then scrape the data for the first 10 jobs results you get.\n",
    "\n",
    "5. Finally create a dataframe of the scraped data.\n",
    "\n",
    "Note: All of the above steps have to be done in code. No step is to be done manually."
   ]
  },
  {
   "cell_type": "code",
   "execution_count": 137,
   "id": "2e8394ab",
   "metadata": {},
   "outputs": [
    {
     "name": "stderr",
     "output_type": "stream",
     "text": [
      "<ipython-input-137-7cb550b8266b>:2: DeprecationWarning: executable_path has been deprecated, please pass in a Service object\n",
      "  driver = webdriver.Chrome(PATH)\n"
     ]
    }
   ],
   "source": [
    "PATH = \"C:\\Program Files (x86)\\chromedriver.exe\"\n",
    "driver = webdriver.Chrome(PATH)"
   ]
  },
  {
   "cell_type": "code",
   "execution_count": 138,
   "id": "ef9efff9",
   "metadata": {},
   "outputs": [],
   "source": [
    "driver.get('https://www.naukri.com')"
   ]
  },
  {
   "cell_type": "code",
   "execution_count": 139,
   "id": "f9afa211",
   "metadata": {},
   "outputs": [
    {
     "name": "stderr",
     "output_type": "stream",
     "text": [
      "<ipython-input-139-2980616edddb>:1: DeprecationWarning: find_element_by_* commands are deprecated. Please use find_element() instead\n",
      "  search_job = driver.find_element_by_id('qsb-keyword-sugg')\n"
     ]
    }
   ],
   "source": [
    "search_job = driver.find_element_by_id('qsb-keyword-sugg')\n",
    "search_job.send_keys('Data Scientist')"
   ]
  },
  {
   "cell_type": "code",
   "execution_count": 140,
   "id": "ab8736c5",
   "metadata": {},
   "outputs": [
    {
     "name": "stderr",
     "output_type": "stream",
     "text": [
      "<ipython-input-140-f40331d51835>:1: DeprecationWarning: find_element_by_* commands are deprecated. Please use find_element() instead\n",
      "  search_location = driver.find_element_by_id('qsb-location-sugg')\n"
     ]
    }
   ],
   "source": [
    "search_location = driver.find_element_by_id('qsb-location-sugg')\n",
    "search_location.send_keys('Bangalore')"
   ]
  },
  {
   "cell_type": "code",
   "execution_count": 141,
   "id": "c118922f",
   "metadata": {},
   "outputs": [
    {
     "name": "stderr",
     "output_type": "stream",
     "text": [
      "<ipython-input-141-c3398795fffb>:1: DeprecationWarning: find_element_by_* commands are deprecated. Please use find_element() instead\n",
      "  search_button = driver.find_element_by_xpath(\"//div[@class='search-btn']/button\")\n"
     ]
    }
   ],
   "source": [
    "search_button = driver.find_element_by_xpath(\"//div[@class='search-btn']/button\")\n",
    "search_button.click()"
   ]
  },
  {
   "cell_type": "code",
   "execution_count": 142,
   "id": "12449bad",
   "metadata": {},
   "outputs": [],
   "source": [
    "jobTitle = []\n",
    "jobLocation = []\n",
    "companyName = []"
   ]
  },
  {
   "cell_type": "code",
   "execution_count": 143,
   "id": "7749e812",
   "metadata": {},
   "outputs": [
    {
     "name": "stderr",
     "output_type": "stream",
     "text": [
      "<ipython-input-143-da9348b114da>:1: DeprecationWarning: find_elements_by_* commands are deprecated. Please use find_elements() instead\n",
      "  titleTag = driver.find_elements_by_xpath(\"//a[@class='title fw500 ellipsis']\")\n"
     ]
    },
    {
     "data": {
      "text/plain": [
       "[<selenium.webdriver.remote.webelement.WebElement (session=\"8140c5596ed779762dede17a408c0c3d\", element=\"3563561d-b454-496b-afc6-de2a60f0f241\")>,\n",
       " <selenium.webdriver.remote.webelement.WebElement (session=\"8140c5596ed779762dede17a408c0c3d\", element=\"dd3ff0ac-8520-487d-8a00-b44f0cb6c7e3\")>,\n",
       " <selenium.webdriver.remote.webelement.WebElement (session=\"8140c5596ed779762dede17a408c0c3d\", element=\"a819ed57-4386-475e-9897-3cdc2ba20813\")>,\n",
       " <selenium.webdriver.remote.webelement.WebElement (session=\"8140c5596ed779762dede17a408c0c3d\", element=\"f8f4d63f-7a1c-434f-82f3-80c143c1edef\")>,\n",
       " <selenium.webdriver.remote.webelement.WebElement (session=\"8140c5596ed779762dede17a408c0c3d\", element=\"6b70112c-f8e6-4688-8197-8deb51c686c5\")>,\n",
       " <selenium.webdriver.remote.webelement.WebElement (session=\"8140c5596ed779762dede17a408c0c3d\", element=\"75e8c0cd-e832-4b10-88e9-0aad9b6d638b\")>,\n",
       " <selenium.webdriver.remote.webelement.WebElement (session=\"8140c5596ed779762dede17a408c0c3d\", element=\"895ec9a5-2c8b-465e-b72d-abf248ec629c\")>,\n",
       " <selenium.webdriver.remote.webelement.WebElement (session=\"8140c5596ed779762dede17a408c0c3d\", element=\"11920c3a-b6d7-492f-97e5-fc35a27ea681\")>,\n",
       " <selenium.webdriver.remote.webelement.WebElement (session=\"8140c5596ed779762dede17a408c0c3d\", element=\"5e55490c-0a4a-41b6-8ddc-dadf495ff6ad\")>,\n",
       " <selenium.webdriver.remote.webelement.WebElement (session=\"8140c5596ed779762dede17a408c0c3d\", element=\"427126b1-5c29-4bf7-bbfa-5a0ca7fe21d6\")>]"
      ]
     },
     "execution_count": 143,
     "metadata": {},
     "output_type": "execute_result"
    }
   ],
   "source": [
    "titleTag = driver.find_elements_by_xpath(\"//a[@class='title fw500 ellipsis']\")\n",
    "titleTag[0:10]"
   ]
  },
  {
   "cell_type": "code",
   "execution_count": 144,
   "id": "9713b1f7",
   "metadata": {},
   "outputs": [
    {
     "data": {
      "text/plain": [
       "['Data Scientist',\n",
       " 'Senior Data Scientist | Fortune 500 Supermarket Chain',\n",
       " 'Senior Data Scientist',\n",
       " 'Hiring For AI Architect / Lead Data Scientist - Bangalore -Iqvia',\n",
       " 'Data Scientist',\n",
       " 'Senior / Lead Data Scientist',\n",
       " 'Data scientist',\n",
       " 'Data Scientist',\n",
       " 'CN - Strategy - MC - T&O - OA Data Scientist (Advanced Analytics) - 09',\n",
       " 'Data Scientist']"
      ]
     },
     "execution_count": 144,
     "metadata": {},
     "output_type": "execute_result"
    }
   ],
   "source": [
    "for i in titleTag:\n",
    "    title = i.text\n",
    "    jobTitle.append(title)\n",
    "jobTitle[0:10]"
   ]
  },
  {
   "cell_type": "code",
   "execution_count": 145,
   "id": "22558c45",
   "metadata": {},
   "outputs": [
    {
     "name": "stderr",
     "output_type": "stream",
     "text": [
      "<ipython-input-145-8cb476a17c76>:1: DeprecationWarning: find_elements_by_* commands are deprecated. Please use find_elements() instead\n",
      "  locationTag = driver.find_elements_by_xpath(\"//li[@class='fleft grey-text br2 placeHolderLi location']\")\n"
     ]
    },
    {
     "data": {
      "text/plain": [
       "[<selenium.webdriver.remote.webelement.WebElement (session=\"8140c5596ed779762dede17a408c0c3d\", element=\"513c4104-bae0-4f22-acbf-b0d89c078c42\")>,\n",
       " <selenium.webdriver.remote.webelement.WebElement (session=\"8140c5596ed779762dede17a408c0c3d\", element=\"47d191de-d705-46fc-a8df-463896f9416d\")>,\n",
       " <selenium.webdriver.remote.webelement.WebElement (session=\"8140c5596ed779762dede17a408c0c3d\", element=\"d658fa54-0c9c-45e8-93b4-348602c353df\")>,\n",
       " <selenium.webdriver.remote.webelement.WebElement (session=\"8140c5596ed779762dede17a408c0c3d\", element=\"5a828499-f0b2-41d4-98fa-273b9f5348c5\")>,\n",
       " <selenium.webdriver.remote.webelement.WebElement (session=\"8140c5596ed779762dede17a408c0c3d\", element=\"4ba43364-ba6f-43e1-8224-511fb7afbebf\")>,\n",
       " <selenium.webdriver.remote.webelement.WebElement (session=\"8140c5596ed779762dede17a408c0c3d\", element=\"1d63904f-5a61-4619-b57a-5c098a54fade\")>,\n",
       " <selenium.webdriver.remote.webelement.WebElement (session=\"8140c5596ed779762dede17a408c0c3d\", element=\"8a598c72-47c5-4c63-8835-d0e8464fec72\")>,\n",
       " <selenium.webdriver.remote.webelement.WebElement (session=\"8140c5596ed779762dede17a408c0c3d\", element=\"a0e56517-b263-4f74-baa4-35265d17d9b7\")>,\n",
       " <selenium.webdriver.remote.webelement.WebElement (session=\"8140c5596ed779762dede17a408c0c3d\", element=\"f5a96872-4032-48e5-9bd6-d996d731fede\")>,\n",
       " <selenium.webdriver.remote.webelement.WebElement (session=\"8140c5596ed779762dede17a408c0c3d\", element=\"82a45418-ccfc-4470-902f-88d621f956bd\")>]"
      ]
     },
     "execution_count": 145,
     "metadata": {},
     "output_type": "execute_result"
    }
   ],
   "source": [
    "locationTag = driver.find_elements_by_xpath(\"//li[@class='fleft grey-text br2 placeHolderLi location']\")\n",
    "locationTag[0:10]"
   ]
  },
  {
   "cell_type": "code",
   "execution_count": 146,
   "id": "bfcdbf59",
   "metadata": {},
   "outputs": [
    {
     "data": {
      "text/plain": [
       "['Bangalore/Bengaluru',\n",
       " 'Bangalore/Bengaluru',\n",
       " 'Hyderabad/Secunderabad, Chennai, Bangalore/Bengaluru',\n",
       " 'Bangalore/Bengaluru',\n",
       " 'Hyderabad/Secunderabad, Pune, Bangalore/Bengaluru',\n",
       " 'Bangalore/Bengaluru',\n",
       " 'Bangalore/Bengaluru',\n",
       " 'Bangalore/Bengaluru',\n",
       " 'Bangalore/Bengaluru',\n",
       " 'Pune, Bangalore/Bengaluru\\n(WFH during Covid)']"
      ]
     },
     "execution_count": 146,
     "metadata": {},
     "output_type": "execute_result"
    }
   ],
   "source": [
    "for i in locationTag:\n",
    "    location = i.text\n",
    "    jobLocation.append(location)\n",
    "jobLocation[0:10]"
   ]
  },
  {
   "cell_type": "code",
   "execution_count": 147,
   "id": "42085b57",
   "metadata": {},
   "outputs": [
    {
     "name": "stderr",
     "output_type": "stream",
     "text": [
      "<ipython-input-147-bdb1f31a7673>:1: DeprecationWarning: find_elements_by_* commands are deprecated. Please use find_elements() instead\n",
      "  companyTag = driver.find_elements_by_xpath(\"//a[@class='subTitle ellipsis fleft']\")\n"
     ]
    },
    {
     "data": {
      "text/plain": [
       "[<selenium.webdriver.remote.webelement.WebElement (session=\"8140c5596ed779762dede17a408c0c3d\", element=\"5bc842a8-c183-4939-bf69-b30c760f97df\")>,\n",
       " <selenium.webdriver.remote.webelement.WebElement (session=\"8140c5596ed779762dede17a408c0c3d\", element=\"46c51d35-1c43-466b-85c1-d2cc7d708984\")>,\n",
       " <selenium.webdriver.remote.webelement.WebElement (session=\"8140c5596ed779762dede17a408c0c3d\", element=\"e1244b2b-99cb-48f3-b43e-1ea1728b0388\")>,\n",
       " <selenium.webdriver.remote.webelement.WebElement (session=\"8140c5596ed779762dede17a408c0c3d\", element=\"e7f72924-6d35-4949-b48f-66e58f1e6fde\")>,\n",
       " <selenium.webdriver.remote.webelement.WebElement (session=\"8140c5596ed779762dede17a408c0c3d\", element=\"b40022dc-5f47-4879-9809-d2c643cb10c2\")>,\n",
       " <selenium.webdriver.remote.webelement.WebElement (session=\"8140c5596ed779762dede17a408c0c3d\", element=\"34d287d8-8b94-4639-ac76-41638187b26f\")>,\n",
       " <selenium.webdriver.remote.webelement.WebElement (session=\"8140c5596ed779762dede17a408c0c3d\", element=\"85ebee5f-8f29-40d9-85e9-22a0acdad1d7\")>,\n",
       " <selenium.webdriver.remote.webelement.WebElement (session=\"8140c5596ed779762dede17a408c0c3d\", element=\"58042d94-6de3-43d7-a8d2-d3dd4b49b5f9\")>,\n",
       " <selenium.webdriver.remote.webelement.WebElement (session=\"8140c5596ed779762dede17a408c0c3d\", element=\"5824d3d7-0340-48c3-8f8a-0ef52bad61b7\")>,\n",
       " <selenium.webdriver.remote.webelement.WebElement (session=\"8140c5596ed779762dede17a408c0c3d\", element=\"0e509821-427e-4c31-95a6-61c064cb19ff\")>]"
      ]
     },
     "execution_count": 147,
     "metadata": {},
     "output_type": "execute_result"
    }
   ],
   "source": [
    "companyTag = driver.find_elements_by_xpath(\"//a[@class='subTitle ellipsis fleft']\")\n",
    "companyTag[0:10]"
   ]
  },
  {
   "cell_type": "code",
   "execution_count": 148,
   "id": "69edda1a",
   "metadata": {},
   "outputs": [
    {
     "data": {
      "text/plain": [
       "['Alstom Transport India Ltd.',\n",
       " 'TALENT500 TECH (INDIA) PRIVATE LIMITED',\n",
       " 'Santechture',\n",
       " 'IQVIA RDS India Pvt Ltd',\n",
       " 'SG Analytics Pvt. Ltd.',\n",
       " 'Bukuwarung',\n",
       " 'Superior Group',\n",
       " 'Narayana Hrudayalaya Ltd',\n",
       " 'Accenture',\n",
       " 'Persistent Systems Limited.']"
      ]
     },
     "execution_count": 148,
     "metadata": {},
     "output_type": "execute_result"
    }
   ],
   "source": [
    "for i in companyTag:\n",
    "    company = i.text\n",
    "    companyName.append(company)\n",
    "companyName[0:10]"
   ]
  },
  {
   "cell_type": "code",
   "execution_count": 149,
   "id": "2f604416",
   "metadata": {},
   "outputs": [
    {
     "name": "stdout",
     "output_type": "stream",
     "text": [
      "20 20 20\n"
     ]
    }
   ],
   "source": [
    "print(len(jobTitle),len(jobLocation),len(companyName))"
   ]
  },
  {
   "cell_type": "code",
   "execution_count": 150,
   "id": "a563e122",
   "metadata": {},
   "outputs": [],
   "source": [
    "dataScientistJobs = pd.DataFrame()\n",
    "dataScientistJobs['Title'] = jobTitle[0:10]\n",
    "dataScientistJobs['Location'] = jobLocation[0:10]\n",
    "dataScientistJobs['Company Name'] = companyName[0:10]"
   ]
  },
  {
   "cell_type": "code",
   "execution_count": 151,
   "id": "b79cad5d",
   "metadata": {},
   "outputs": [
    {
     "data": {
      "text/html": [
       "<div>\n",
       "<style scoped>\n",
       "    .dataframe tbody tr th:only-of-type {\n",
       "        vertical-align: middle;\n",
       "    }\n",
       "\n",
       "    .dataframe tbody tr th {\n",
       "        vertical-align: top;\n",
       "    }\n",
       "\n",
       "    .dataframe thead th {\n",
       "        text-align: right;\n",
       "    }\n",
       "</style>\n",
       "<table border=\"1\" class=\"dataframe\">\n",
       "  <thead>\n",
       "    <tr style=\"text-align: right;\">\n",
       "      <th></th>\n",
       "      <th>Title</th>\n",
       "      <th>Location</th>\n",
       "      <th>Company Name</th>\n",
       "    </tr>\n",
       "  </thead>\n",
       "  <tbody>\n",
       "    <tr>\n",
       "      <th>0</th>\n",
       "      <td>Data Scientist</td>\n",
       "      <td>Bangalore/Bengaluru</td>\n",
       "      <td>Alstom Transport India Ltd.</td>\n",
       "    </tr>\n",
       "    <tr>\n",
       "      <th>1</th>\n",
       "      <td>Senior Data Scientist | Fortune 500 Supermarke...</td>\n",
       "      <td>Bangalore/Bengaluru</td>\n",
       "      <td>TALENT500 TECH (INDIA) PRIVATE LIMITED</td>\n",
       "    </tr>\n",
       "    <tr>\n",
       "      <th>2</th>\n",
       "      <td>Senior Data Scientist</td>\n",
       "      <td>Hyderabad/Secunderabad, Chennai, Bangalore/Ben...</td>\n",
       "      <td>Santechture</td>\n",
       "    </tr>\n",
       "    <tr>\n",
       "      <th>3</th>\n",
       "      <td>Hiring For AI Architect / Lead Data Scientist ...</td>\n",
       "      <td>Bangalore/Bengaluru</td>\n",
       "      <td>IQVIA RDS India Pvt Ltd</td>\n",
       "    </tr>\n",
       "    <tr>\n",
       "      <th>4</th>\n",
       "      <td>Data Scientist</td>\n",
       "      <td>Hyderabad/Secunderabad, Pune, Bangalore/Bengaluru</td>\n",
       "      <td>SG Analytics Pvt. Ltd.</td>\n",
       "    </tr>\n",
       "    <tr>\n",
       "      <th>5</th>\n",
       "      <td>Senior / Lead Data Scientist</td>\n",
       "      <td>Bangalore/Bengaluru</td>\n",
       "      <td>Bukuwarung</td>\n",
       "    </tr>\n",
       "    <tr>\n",
       "      <th>6</th>\n",
       "      <td>Data scientist</td>\n",
       "      <td>Bangalore/Bengaluru</td>\n",
       "      <td>Superior Group</td>\n",
       "    </tr>\n",
       "    <tr>\n",
       "      <th>7</th>\n",
       "      <td>Data Scientist</td>\n",
       "      <td>Bangalore/Bengaluru</td>\n",
       "      <td>Narayana Hrudayalaya Ltd</td>\n",
       "    </tr>\n",
       "    <tr>\n",
       "      <th>8</th>\n",
       "      <td>CN - Strategy - MC - T&amp;O - OA Data Scientist (...</td>\n",
       "      <td>Bangalore/Bengaluru</td>\n",
       "      <td>Accenture</td>\n",
       "    </tr>\n",
       "    <tr>\n",
       "      <th>9</th>\n",
       "      <td>Data Scientist</td>\n",
       "      <td>Pune, Bangalore/Bengaluru\\n(WFH during Covid)</td>\n",
       "      <td>Persistent Systems Limited.</td>\n",
       "    </tr>\n",
       "  </tbody>\n",
       "</table>\n",
       "</div>"
      ],
      "text/plain": [
       "                                               Title  \\\n",
       "0                                     Data Scientist   \n",
       "1  Senior Data Scientist | Fortune 500 Supermarke...   \n",
       "2                              Senior Data Scientist   \n",
       "3  Hiring For AI Architect / Lead Data Scientist ...   \n",
       "4                                     Data Scientist   \n",
       "5                       Senior / Lead Data Scientist   \n",
       "6                                     Data scientist   \n",
       "7                                     Data Scientist   \n",
       "8  CN - Strategy - MC - T&O - OA Data Scientist (...   \n",
       "9                                     Data Scientist   \n",
       "\n",
       "                                            Location  \\\n",
       "0                                Bangalore/Bengaluru   \n",
       "1                                Bangalore/Bengaluru   \n",
       "2  Hyderabad/Secunderabad, Chennai, Bangalore/Ben...   \n",
       "3                                Bangalore/Bengaluru   \n",
       "4  Hyderabad/Secunderabad, Pune, Bangalore/Bengaluru   \n",
       "5                                Bangalore/Bengaluru   \n",
       "6                                Bangalore/Bengaluru   \n",
       "7                                Bangalore/Bengaluru   \n",
       "8                                Bangalore/Bengaluru   \n",
       "9      Pune, Bangalore/Bengaluru\\n(WFH during Covid)   \n",
       "\n",
       "                             Company Name  \n",
       "0             Alstom Transport India Ltd.  \n",
       "1  TALENT500 TECH (INDIA) PRIVATE LIMITED  \n",
       "2                             Santechture  \n",
       "3                 IQVIA RDS India Pvt Ltd  \n",
       "4                  SG Analytics Pvt. Ltd.  \n",
       "5                              Bukuwarung  \n",
       "6                          Superior Group  \n",
       "7                Narayana Hrudayalaya Ltd  \n",
       "8                               Accenture  \n",
       "9             Persistent Systems Limited.  "
      ]
     },
     "execution_count": 151,
     "metadata": {},
     "output_type": "execute_result"
    }
   ],
   "source": [
    "dataScientistJobs"
   ]
  },
  {
   "cell_type": "markdown",
   "id": "a7ae27b8",
   "metadata": {},
   "source": [
    "Q3: In this question you have to scrape data using the filters available on the webpage as shown below:\n",
    "You have to use the location and salary filter.\n",
    "You have to scrape data for “Data Scientist” designation for first 10 job results.\n",
    "You have to scrape the job-title, job-location, company name, experience required.\n",
    "The location filter to be used is “Delhi/NCR” The salary filter to be used is “3-6” lakhs\n",
    "\n",
    "The task will be done as shown in the below steps:\n",
    "\n",
    "1. first get the webpage https://www.naukri.com/\n",
    "\n",
    "2. Enter “Data Scientist” in “Skill, Designations, and Companies” field.\n",
    "\n",
    "3. Then click the search button.\n",
    "\n",
    "4. Then apply the location filter and salary filter by checking the respective boxes\n",
    "\n",
    "5. Then scrape the data for the first 10 jobs results you get.\n",
    "\n",
    "6. Finally create a dataframe of the scraped data.\n",
    "Note: All of the above steps have to be done in code. No step is to be done manually."
   ]
  },
  {
   "cell_type": "code",
   "execution_count": 239,
   "id": "47a5201b",
   "metadata": {},
   "outputs": [
    {
     "name": "stderr",
     "output_type": "stream",
     "text": [
      "<ipython-input-239-7cb550b8266b>:2: DeprecationWarning: executable_path has been deprecated, please pass in a Service object\n",
      "  driver = webdriver.Chrome(PATH)\n"
     ]
    }
   ],
   "source": [
    "PATH = \"C:\\Program Files (x86)\\chromedriver.exe\"\n",
    "driver = webdriver.Chrome(PATH)"
   ]
  },
  {
   "cell_type": "code",
   "execution_count": 240,
   "id": "971d8ef4",
   "metadata": {},
   "outputs": [],
   "source": [
    "driver.get('https://www.naukri.com')"
   ]
  },
  {
   "cell_type": "code",
   "execution_count": 247,
   "id": "cd93bcd9",
   "metadata": {},
   "outputs": [
    {
     "name": "stderr",
     "output_type": "stream",
     "text": [
      "<ipython-input-247-8b613d98f499>:1: DeprecationWarning: find_element_by_* commands are deprecated. Please use find_element() instead\n",
      "  searchJob = driver.find_element_by_id('qsb-keyword-sugg')\n"
     ]
    }
   ],
   "source": [
    "searchJob = driver.find_element_by_id('qsb-keyword-sugg')\n",
    "searchJob.send_keys('Data Scientist')"
   ]
  },
  {
   "cell_type": "code",
   "execution_count": 248,
   "id": "74f18dbd",
   "metadata": {},
   "outputs": [
    {
     "name": "stderr",
     "output_type": "stream",
     "text": [
      "<ipython-input-248-c3398795fffb>:1: DeprecationWarning: find_element_by_* commands are deprecated. Please use find_element() instead\n",
      "  search_button = driver.find_element_by_xpath(\"//div[@class='search-btn']/button\")\n"
     ]
    }
   ],
   "source": [
    "search_button = driver.find_element_by_xpath(\"//div[@class='search-btn']/button\")\n",
    "search_button.click()"
   ]
  },
  {
   "cell_type": "code",
   "execution_count": 251,
   "id": "736b6493",
   "metadata": {},
   "outputs": [
    {
     "name": "stderr",
     "output_type": "stream",
     "text": [
      "<ipython-input-251-8cefdfc2aec2>:2: DeprecationWarning: find_element_by_* commands are deprecated. Please use find_element() instead\n",
      "  filterLocation = driver.find_element_by_xpath(\"/html/body/div[1]/div[3]/div[2]/section[1]/div[2]/div[1]/div[2]/div[3]/label/p/span[1]\")\n"
     ]
    }
   ],
   "source": [
    "#filterLocation = driver.find_element_by_xpath(\"/html/body/div[1]/div[3]/div[2]/section[1]/div[2]/div[1]/div[2]/div[3]/label/p/span[1]\")\n",
    "filterLocation = driver.find_element_by_xpath(\"/html/body/div[1]/div[3]/div[2]/section[1]/div[2]/div[1]/div[2]/div[3]/label/p/span[1]\")\n",
    "filterLocation.click()"
   ]
  },
  {
   "cell_type": "code",
   "execution_count": 252,
   "id": "3cf528c4",
   "metadata": {},
   "outputs": [
    {
     "name": "stderr",
     "output_type": "stream",
     "text": [
      "<ipython-input-252-411a229f8e4d>:1: DeprecationWarning: find_element_by_* commands are deprecated. Please use find_element() instead\n",
      "  filterSalary = driver.find_element_by_xpath(\"/html/body/div[1]/div[3]/div[2]/section[1]/div[2]/div[2]/div[2]/div[2]/label/p\")\n"
     ]
    }
   ],
   "source": [
    "filterSalary = driver.find_element_by_xpath(\"/html/body/div[1]/div[3]/div[2]/section[1]/div[2]/div[2]/div[2]/div[2]/label/p\")\n",
    "filterSalary.click()"
   ]
  },
  {
   "cell_type": "code",
   "execution_count": 253,
   "id": "a265ea82",
   "metadata": {},
   "outputs": [],
   "source": [
    "j_title = []\n",
    "j_location = []\n",
    "com_name = []\n",
    "exp_required = []"
   ]
  },
  {
   "cell_type": "code",
   "execution_count": 254,
   "id": "14e9591e",
   "metadata": {},
   "outputs": [
    {
     "name": "stderr",
     "output_type": "stream",
     "text": [
      "<ipython-input-254-230bf3de7135>:1: DeprecationWarning: find_elements_by_* commands are deprecated. Please use find_elements() instead\n",
      "  Titletag = driver.find_elements_by_xpath(\"//a[@class='title fw500 ellipsis']\")\n"
     ]
    },
    {
     "data": {
      "text/plain": [
       "[<selenium.webdriver.remote.webelement.WebElement (session=\"0dc766331b6fab182bc64f6971efeaa0\", element=\"9952b489-f40d-453b-9a0f-e40f5bd68537\")>,\n",
       " <selenium.webdriver.remote.webelement.WebElement (session=\"0dc766331b6fab182bc64f6971efeaa0\", element=\"a3849b7d-edaa-4142-8747-f2e857862146\")>,\n",
       " <selenium.webdriver.remote.webelement.WebElement (session=\"0dc766331b6fab182bc64f6971efeaa0\", element=\"01bd873b-9877-4a3c-90c2-7941c1bc3955\")>,\n",
       " <selenium.webdriver.remote.webelement.WebElement (session=\"0dc766331b6fab182bc64f6971efeaa0\", element=\"222ffc42-7cb1-4250-848c-c242a7182a08\")>,\n",
       " <selenium.webdriver.remote.webelement.WebElement (session=\"0dc766331b6fab182bc64f6971efeaa0\", element=\"c695c4d6-e5f7-4827-91e9-a80635609697\")>,\n",
       " <selenium.webdriver.remote.webelement.WebElement (session=\"0dc766331b6fab182bc64f6971efeaa0\", element=\"827171e3-ad0e-429a-8497-c5c0b47df755\")>,\n",
       " <selenium.webdriver.remote.webelement.WebElement (session=\"0dc766331b6fab182bc64f6971efeaa0\", element=\"7258b002-64f2-4f82-b11d-85a298c0141e\")>,\n",
       " <selenium.webdriver.remote.webelement.WebElement (session=\"0dc766331b6fab182bc64f6971efeaa0\", element=\"2c1e7043-17c4-4004-abb5-84206edfd25f\")>,\n",
       " <selenium.webdriver.remote.webelement.WebElement (session=\"0dc766331b6fab182bc64f6971efeaa0\", element=\"d1ca8589-9a93-426d-9589-d8a78e397a53\")>,\n",
       " <selenium.webdriver.remote.webelement.WebElement (session=\"0dc766331b6fab182bc64f6971efeaa0\", element=\"4a0e5cd9-f56d-48ed-bcdc-746197d17e6d\")>]"
      ]
     },
     "execution_count": 254,
     "metadata": {},
     "output_type": "execute_result"
    }
   ],
   "source": [
    "Titletag = driver.find_elements_by_xpath(\"//a[@class='title fw500 ellipsis']\")\n",
    "Titletag[0:10]"
   ]
  },
  {
   "cell_type": "code",
   "execution_count": 255,
   "id": "1865bb6e",
   "metadata": {},
   "outputs": [
    {
     "data": {
      "text/plain": [
       "['Data Scientist',\n",
       " 'Job Opportunity || Data Scientist || HCL Technologies',\n",
       " 'Data Scientist',\n",
       " 'Data Scientist',\n",
       " 'Urgent Hiring || Data Scientist || Delhi',\n",
       " 'Data Scientist',\n",
       " 'Data Scientist',\n",
       " 'Data Scientist Internship',\n",
       " 'Data Scientist',\n",
       " 'Project Manager | Team Leader | Senior Data Scientist']"
      ]
     },
     "execution_count": 255,
     "metadata": {},
     "output_type": "execute_result"
    }
   ],
   "source": [
    "for i in Titletag:\n",
    "    title = i.text\n",
    "    j_title.append(title)\n",
    "j_title[0:10]"
   ]
  },
  {
   "cell_type": "code",
   "execution_count": 258,
   "id": "712e7029",
   "metadata": {},
   "outputs": [
    {
     "name": "stderr",
     "output_type": "stream",
     "text": [
      "<ipython-input-258-93b99b48c89e>:1: DeprecationWarning: find_elements_by_* commands are deprecated. Please use find_elements() instead\n",
      "  Locationtag = driver.find_elements_by_xpath(\"//li[@class='fleft grey-text br2 placeHolderLi location']\")\n"
     ]
    },
    {
     "data": {
      "text/plain": [
       "[<selenium.webdriver.remote.webelement.WebElement (session=\"0dc766331b6fab182bc64f6971efeaa0\", element=\"ff071e71-4d93-42a0-9264-dc532fe14d17\")>,\n",
       " <selenium.webdriver.remote.webelement.WebElement (session=\"0dc766331b6fab182bc64f6971efeaa0\", element=\"059ef6ec-8fcb-4ac3-aa2b-ac6eb47608ed\")>,\n",
       " <selenium.webdriver.remote.webelement.WebElement (session=\"0dc766331b6fab182bc64f6971efeaa0\", element=\"987329e0-d809-47c8-95a8-77293fbae55b\")>,\n",
       " <selenium.webdriver.remote.webelement.WebElement (session=\"0dc766331b6fab182bc64f6971efeaa0\", element=\"55d8fb59-3d70-4809-93a7-e0751d189620\")>,\n",
       " <selenium.webdriver.remote.webelement.WebElement (session=\"0dc766331b6fab182bc64f6971efeaa0\", element=\"3d1f6ac9-51c6-461e-9e80-9367b61f6b5e\")>,\n",
       " <selenium.webdriver.remote.webelement.WebElement (session=\"0dc766331b6fab182bc64f6971efeaa0\", element=\"9bbab4a3-9ffb-4e48-a757-e5b0706ac0f3\")>,\n",
       " <selenium.webdriver.remote.webelement.WebElement (session=\"0dc766331b6fab182bc64f6971efeaa0\", element=\"0724b976-a964-461a-986e-ba5538ef257d\")>,\n",
       " <selenium.webdriver.remote.webelement.WebElement (session=\"0dc766331b6fab182bc64f6971efeaa0\", element=\"836e3d64-2b35-4270-9e36-d6447000a536\")>,\n",
       " <selenium.webdriver.remote.webelement.WebElement (session=\"0dc766331b6fab182bc64f6971efeaa0\", element=\"2dac89c6-e87b-4fff-89cd-de879b02c2fa\")>,\n",
       " <selenium.webdriver.remote.webelement.WebElement (session=\"0dc766331b6fab182bc64f6971efeaa0\", element=\"0cd39145-f033-4cec-a7cd-c5c5bdd94267\")>]"
      ]
     },
     "execution_count": 258,
     "metadata": {},
     "output_type": "execute_result"
    }
   ],
   "source": [
    "Locationtag = driver.find_elements_by_xpath(\"//li[@class='fleft grey-text br2 placeHolderLi location']\")\n",
    "Locationtag[0:10]"
   ]
  },
  {
   "cell_type": "code",
   "execution_count": 259,
   "id": "158c79c5",
   "metadata": {},
   "outputs": [
    {
     "data": {
      "text/plain": [
       "['Kochi/Cochin, Kolkata, Hyderabad/Secunderabad, Pune, Ahmedabad, Chennai, Bangalore/Bengaluru, Delhi / NCR, Mumbai (All Areas)',\n",
       " 'Delhi / NCR',\n",
       " 'Noida(Sector-126 Noida)',\n",
       " 'Noida(Sector-126 Noida)',\n",
       " 'Delhi / NCR(Netaji Subhash Place)',\n",
       " 'Noida, Gurgaon/Gurugram',\n",
       " 'Noida',\n",
       " 'New Delhi',\n",
       " 'Mumbai, Gurgaon/Gurugram, Bangalore/Bengaluru',\n",
       " 'Remote']"
      ]
     },
     "execution_count": 259,
     "metadata": {},
     "output_type": "execute_result"
    }
   ],
   "source": [
    "for i in Locationtag:\n",
    "    location = i.text\n",
    "    j_location.append(location)\n",
    "j_location[0:10]"
   ]
  },
  {
   "cell_type": "code",
   "execution_count": 261,
   "id": "b7c88bd6",
   "metadata": {},
   "outputs": [
    {
     "name": "stderr",
     "output_type": "stream",
     "text": [
      "<ipython-input-261-3b66f0ca1ed5>:1: DeprecationWarning: find_elements_by_* commands are deprecated. Please use find_elements() instead\n",
      "  Companytag = driver.find_elements_by_xpath(\"//a[@class='subTitle ellipsis fleft']\")\n"
     ]
    },
    {
     "data": {
      "text/plain": [
       "[<selenium.webdriver.remote.webelement.WebElement (session=\"0dc766331b6fab182bc64f6971efeaa0\", element=\"8ae7a438-3129-4536-9490-e199419d8f6e\")>,\n",
       " <selenium.webdriver.remote.webelement.WebElement (session=\"0dc766331b6fab182bc64f6971efeaa0\", element=\"4f26070f-9249-4268-aaf9-8c056ad132cf\")>,\n",
       " <selenium.webdriver.remote.webelement.WebElement (session=\"0dc766331b6fab182bc64f6971efeaa0\", element=\"66403431-b265-4fe4-9eb7-84f2008a0db5\")>,\n",
       " <selenium.webdriver.remote.webelement.WebElement (session=\"0dc766331b6fab182bc64f6971efeaa0\", element=\"6a06d63b-fe6e-4419-916e-8a77ac1a5cff\")>,\n",
       " <selenium.webdriver.remote.webelement.WebElement (session=\"0dc766331b6fab182bc64f6971efeaa0\", element=\"f9d8f2fa-4f6d-42de-8cb6-0809b4841da3\")>,\n",
       " <selenium.webdriver.remote.webelement.WebElement (session=\"0dc766331b6fab182bc64f6971efeaa0\", element=\"91d5b8c5-311d-4856-9a82-3794295767e6\")>,\n",
       " <selenium.webdriver.remote.webelement.WebElement (session=\"0dc766331b6fab182bc64f6971efeaa0\", element=\"2c3928b2-75cb-4cd9-b5f7-2c95753e0b50\")>,\n",
       " <selenium.webdriver.remote.webelement.WebElement (session=\"0dc766331b6fab182bc64f6971efeaa0\", element=\"2d48c7f6-926a-4245-b831-4df7bf024713\")>,\n",
       " <selenium.webdriver.remote.webelement.WebElement (session=\"0dc766331b6fab182bc64f6971efeaa0\", element=\"86786a72-d4f9-4b19-af0d-533812001800\")>,\n",
       " <selenium.webdriver.remote.webelement.WebElement (session=\"0dc766331b6fab182bc64f6971efeaa0\", element=\"4e16a5f6-f9a3-47d6-957f-78272dbf0624\")>]"
      ]
     },
     "execution_count": 261,
     "metadata": {},
     "output_type": "execute_result"
    }
   ],
   "source": [
    "Companytag = driver.find_elements_by_xpath(\"//a[@class='subTitle ellipsis fleft']\")\n",
    "Companytag[0:10]"
   ]
  },
  {
   "cell_type": "code",
   "execution_count": 262,
   "id": "d8f1452d",
   "metadata": {},
   "outputs": [
    {
     "data": {
      "text/plain": [
       "['Think i',\n",
       " 'HCL Technologies',\n",
       " 'MoMagic Technologies Pvt. Ltd.',\n",
       " 'MoMagic Technologies Pvt. Ltd.',\n",
       " 'Shriram Automall India Limited',\n",
       " 'Optum Global Solutions (India) Private Limited',\n",
       " 'SVK Global Solutions Private Limited',\n",
       " 'iHackers Inc',\n",
       " 'Fractal Analytics',\n",
       " 'Tidyquant (OPC) Private Limited']"
      ]
     },
     "execution_count": 262,
     "metadata": {},
     "output_type": "execute_result"
    }
   ],
   "source": [
    "for i in Companytag:\n",
    "    company = i.text\n",
    "    com_name.append(company)\n",
    "com_name[0:10]"
   ]
  },
  {
   "cell_type": "code",
   "execution_count": 263,
   "id": "5a106357",
   "metadata": {},
   "outputs": [
    {
     "name": "stderr",
     "output_type": "stream",
     "text": [
      "<ipython-input-263-df13618ad9b9>:1: DeprecationWarning: find_elements_by_* commands are deprecated. Please use find_elements() instead\n",
      "  exptag = driver.find_elements_by_xpath(\"//li[@class='fleft grey-text br2 placeHolderLi experience']\")\n"
     ]
    },
    {
     "data": {
      "text/plain": [
       "[<selenium.webdriver.remote.webelement.WebElement (session=\"0dc766331b6fab182bc64f6971efeaa0\", element=\"f2daef66-21e3-4349-86bd-bcbcf5904b3b\")>,\n",
       " <selenium.webdriver.remote.webelement.WebElement (session=\"0dc766331b6fab182bc64f6971efeaa0\", element=\"a2df4749-de54-422a-8853-2154f701bd20\")>,\n",
       " <selenium.webdriver.remote.webelement.WebElement (session=\"0dc766331b6fab182bc64f6971efeaa0\", element=\"602588b7-d8c9-4f53-b602-1590d5a673eb\")>,\n",
       " <selenium.webdriver.remote.webelement.WebElement (session=\"0dc766331b6fab182bc64f6971efeaa0\", element=\"45e67dc8-f090-43b8-bcd3-da10e8d4e562\")>,\n",
       " <selenium.webdriver.remote.webelement.WebElement (session=\"0dc766331b6fab182bc64f6971efeaa0\", element=\"ab138e1a-a030-4790-a30b-13469888e627\")>,\n",
       " <selenium.webdriver.remote.webelement.WebElement (session=\"0dc766331b6fab182bc64f6971efeaa0\", element=\"91b93760-ca09-4dd9-8b66-8850b2a6f8f1\")>,\n",
       " <selenium.webdriver.remote.webelement.WebElement (session=\"0dc766331b6fab182bc64f6971efeaa0\", element=\"72b8fb0c-be3b-47ea-b5d3-322edcc3afd1\")>,\n",
       " <selenium.webdriver.remote.webelement.WebElement (session=\"0dc766331b6fab182bc64f6971efeaa0\", element=\"d479044b-01b3-4afb-bc71-7bc8e83776a0\")>,\n",
       " <selenium.webdriver.remote.webelement.WebElement (session=\"0dc766331b6fab182bc64f6971efeaa0\", element=\"1da1ce6d-eacb-4ea8-8ba9-a4ecbc338d1c\")>,\n",
       " <selenium.webdriver.remote.webelement.WebElement (session=\"0dc766331b6fab182bc64f6971efeaa0\", element=\"db5e1a7e-472b-4fb3-819c-4c97d575f867\")>]"
      ]
     },
     "execution_count": 263,
     "metadata": {},
     "output_type": "execute_result"
    }
   ],
   "source": [
    "exptag = driver.find_elements_by_xpath(\"//li[@class='fleft grey-text br2 placeHolderLi experience']\")\n",
    "exptag[0:10]"
   ]
  },
  {
   "cell_type": "code",
   "execution_count": 264,
   "id": "c405c8b0",
   "metadata": {},
   "outputs": [
    {
     "data": {
      "text/plain": [
       "['0-2 Yrs',\n",
       " '4-7 Yrs',\n",
       " '4-6 Yrs',\n",
       " '4-6 Yrs',\n",
       " '2-7 Yrs',\n",
       " '2-6 Yrs',\n",
       " '6-10 Yrs',\n",
       " '0-1 Yrs',\n",
       " '3-7 Yrs',\n",
       " '2-7 Yrs']"
      ]
     },
     "execution_count": 264,
     "metadata": {},
     "output_type": "execute_result"
    }
   ],
   "source": [
    "for i in exptag:\n",
    "    exp = i.text\n",
    "    exp_required.append(exp)\n",
    "exp_required[0:10]"
   ]
  },
  {
   "cell_type": "code",
   "execution_count": 265,
   "id": "442b055f",
   "metadata": {},
   "outputs": [
    {
     "name": "stdout",
     "output_type": "stream",
     "text": [
      "20 20 20 20\n"
     ]
    }
   ],
   "source": [
    "print(len(j_title),len(j_location),len(com_name),len(exp_required))"
   ]
  },
  {
   "cell_type": "code",
   "execution_count": 266,
   "id": "83659697",
   "metadata": {},
   "outputs": [],
   "source": [
    "datajobs = pd.DataFrame()\n",
    "datajobs['Title'] = j_title[0:10]\n",
    "datajobs['Location'] = j_location[0:10]\n",
    "datajobs['Company Name'] = com_name[0:10]\n",
    "datajobs['Experience Required'] = exp_required[0:10]"
   ]
  },
  {
   "cell_type": "code",
   "execution_count": 267,
   "id": "083cd8e1",
   "metadata": {},
   "outputs": [
    {
     "data": {
      "text/html": [
       "<div>\n",
       "<style scoped>\n",
       "    .dataframe tbody tr th:only-of-type {\n",
       "        vertical-align: middle;\n",
       "    }\n",
       "\n",
       "    .dataframe tbody tr th {\n",
       "        vertical-align: top;\n",
       "    }\n",
       "\n",
       "    .dataframe thead th {\n",
       "        text-align: right;\n",
       "    }\n",
       "</style>\n",
       "<table border=\"1\" class=\"dataframe\">\n",
       "  <thead>\n",
       "    <tr style=\"text-align: right;\">\n",
       "      <th></th>\n",
       "      <th>Title</th>\n",
       "      <th>Location</th>\n",
       "      <th>Company Name</th>\n",
       "      <th>Experience Required</th>\n",
       "    </tr>\n",
       "  </thead>\n",
       "  <tbody>\n",
       "    <tr>\n",
       "      <th>0</th>\n",
       "      <td>Data Scientist</td>\n",
       "      <td>Kochi/Cochin, Kolkata, Hyderabad/Secunderabad,...</td>\n",
       "      <td>Think i</td>\n",
       "      <td>0-2 Yrs</td>\n",
       "    </tr>\n",
       "    <tr>\n",
       "      <th>1</th>\n",
       "      <td>Job Opportunity || Data Scientist || HCL Techn...</td>\n",
       "      <td>Delhi / NCR</td>\n",
       "      <td>HCL Technologies</td>\n",
       "      <td>4-7 Yrs</td>\n",
       "    </tr>\n",
       "    <tr>\n",
       "      <th>2</th>\n",
       "      <td>Data Scientist</td>\n",
       "      <td>Noida(Sector-126 Noida)</td>\n",
       "      <td>MoMagic Technologies Pvt. Ltd.</td>\n",
       "      <td>4-6 Yrs</td>\n",
       "    </tr>\n",
       "    <tr>\n",
       "      <th>3</th>\n",
       "      <td>Data Scientist</td>\n",
       "      <td>Noida(Sector-126 Noida)</td>\n",
       "      <td>MoMagic Technologies Pvt. Ltd.</td>\n",
       "      <td>4-6 Yrs</td>\n",
       "    </tr>\n",
       "    <tr>\n",
       "      <th>4</th>\n",
       "      <td>Urgent Hiring || Data Scientist || Delhi</td>\n",
       "      <td>Delhi / NCR(Netaji Subhash Place)</td>\n",
       "      <td>Shriram Automall India Limited</td>\n",
       "      <td>2-7 Yrs</td>\n",
       "    </tr>\n",
       "    <tr>\n",
       "      <th>5</th>\n",
       "      <td>Data Scientist</td>\n",
       "      <td>Noida, Gurgaon/Gurugram</td>\n",
       "      <td>Optum Global Solutions (India) Private Limited</td>\n",
       "      <td>2-6 Yrs</td>\n",
       "    </tr>\n",
       "    <tr>\n",
       "      <th>6</th>\n",
       "      <td>Data Scientist</td>\n",
       "      <td>Noida</td>\n",
       "      <td>SVK Global Solutions Private Limited</td>\n",
       "      <td>6-10 Yrs</td>\n",
       "    </tr>\n",
       "    <tr>\n",
       "      <th>7</th>\n",
       "      <td>Data Scientist Internship</td>\n",
       "      <td>New Delhi</td>\n",
       "      <td>iHackers Inc</td>\n",
       "      <td>0-1 Yrs</td>\n",
       "    </tr>\n",
       "    <tr>\n",
       "      <th>8</th>\n",
       "      <td>Data Scientist</td>\n",
       "      <td>Mumbai, Gurgaon/Gurugram, Bangalore/Bengaluru</td>\n",
       "      <td>Fractal Analytics</td>\n",
       "      <td>3-7 Yrs</td>\n",
       "    </tr>\n",
       "    <tr>\n",
       "      <th>9</th>\n",
       "      <td>Project Manager | Team Leader | Senior Data Sc...</td>\n",
       "      <td>Remote</td>\n",
       "      <td>Tidyquant (OPC) Private Limited</td>\n",
       "      <td>2-7 Yrs</td>\n",
       "    </tr>\n",
       "  </tbody>\n",
       "</table>\n",
       "</div>"
      ],
      "text/plain": [
       "                                               Title  \\\n",
       "0                                     Data Scientist   \n",
       "1  Job Opportunity || Data Scientist || HCL Techn...   \n",
       "2                                     Data Scientist   \n",
       "3                                     Data Scientist   \n",
       "4           Urgent Hiring || Data Scientist || Delhi   \n",
       "5                                     Data Scientist   \n",
       "6                                     Data Scientist   \n",
       "7                          Data Scientist Internship   \n",
       "8                                     Data Scientist   \n",
       "9  Project Manager | Team Leader | Senior Data Sc...   \n",
       "\n",
       "                                            Location  \\\n",
       "0  Kochi/Cochin, Kolkata, Hyderabad/Secunderabad,...   \n",
       "1                                        Delhi / NCR   \n",
       "2                            Noida(Sector-126 Noida)   \n",
       "3                            Noida(Sector-126 Noida)   \n",
       "4                  Delhi / NCR(Netaji Subhash Place)   \n",
       "5                            Noida, Gurgaon/Gurugram   \n",
       "6                                              Noida   \n",
       "7                                          New Delhi   \n",
       "8      Mumbai, Gurgaon/Gurugram, Bangalore/Bengaluru   \n",
       "9                                             Remote   \n",
       "\n",
       "                                     Company Name Experience Required  \n",
       "0                                         Think i             0-2 Yrs  \n",
       "1                                HCL Technologies             4-7 Yrs  \n",
       "2                  MoMagic Technologies Pvt. Ltd.             4-6 Yrs  \n",
       "3                  MoMagic Technologies Pvt. Ltd.             4-6 Yrs  \n",
       "4                  Shriram Automall India Limited             2-7 Yrs  \n",
       "5  Optum Global Solutions (India) Private Limited             2-6 Yrs  \n",
       "6            SVK Global Solutions Private Limited            6-10 Yrs  \n",
       "7                                    iHackers Inc             0-1 Yrs  \n",
       "8                               Fractal Analytics             3-7 Yrs  \n",
       "9                 Tidyquant (OPC) Private Limited             2-7 Yrs  "
      ]
     },
     "execution_count": 267,
     "metadata": {},
     "output_type": "execute_result"
    }
   ],
   "source": [
    "datajobs"
   ]
  },
  {
   "cell_type": "markdown",
   "id": "90e06423",
   "metadata": {},
   "source": [
    "Q4: Scrape data of first 100 sunglasses listings on flipkart.com. You have to scrape four attributes:\n",
    "\n",
    "1. Brand\n",
    "\n",
    "2. Product Description\n",
    "\n",
    "3. Price\n",
    "\n",
    "To scrape the data you have to go through following steps:\n",
    "\n",
    "1. Go to Flipkart webpage by url : https://www.flipkart.com/\n",
    "\n",
    "2. Enter “sunglasses” in the search field where “search for products, brands and more” is written and\n",
    "click the search icon\n",
    "\n",
    "3. After that you will reach to the page having a lot of sunglasses. From this page you can scrap the\n",
    "required data as usual."
   ]
  },
  {
   "cell_type": "code",
   "execution_count": 286,
   "id": "53ffca16",
   "metadata": {},
   "outputs": [
    {
     "name": "stderr",
     "output_type": "stream",
     "text": [
      "<ipython-input-286-7cb550b8266b>:2: DeprecationWarning: executable_path has been deprecated, please pass in a Service object\n",
      "  driver = webdriver.Chrome(PATH)\n"
     ]
    }
   ],
   "source": [
    "PATH = \"C:\\Program Files (x86)\\chromedriver.exe\"\n",
    "driver = webdriver.Chrome(PATH)"
   ]
  },
  {
   "cell_type": "code",
   "execution_count": 287,
   "id": "c599bd04",
   "metadata": {},
   "outputs": [],
   "source": [
    "driver.get(\"https://www.flipkart.com/\")"
   ]
  },
  {
   "cell_type": "code",
   "execution_count": 288,
   "id": "c3d80d30",
   "metadata": {},
   "outputs": [
    {
     "name": "stderr",
     "output_type": "stream",
     "text": [
      "<ipython-input-288-b981497761b0>:1: DeprecationWarning: find_element_by_* commands are deprecated. Please use find_element() instead\n",
      "  searchProduct = driver.find_element_by_class_name(\"_3704LK\")\n"
     ]
    }
   ],
   "source": [
    "searchProduct = driver.find_element_by_class_name(\"_3704LK\")\n",
    "searchProduct.send_keys('sunglasses')"
   ]
  },
  {
   "cell_type": "code",
   "execution_count": 289,
   "id": "172b11cc",
   "metadata": {},
   "outputs": [
    {
     "name": "stderr",
     "output_type": "stream",
     "text": [
      "<ipython-input-289-43cb1f097e5c>:1: DeprecationWarning: find_element_by_* commands are deprecated. Please use find_element() instead\n",
      "  search_icon = driver.find_element_by_class_name(\"_34RNph\")\n"
     ]
    }
   ],
   "source": [
    "search_icon = driver.find_element_by_class_name(\"_34RNph\")\n",
    "search_icon.click()"
   ]
  },
  {
   "cell_type": "code",
   "execution_count": 348,
   "id": "e4aa4885",
   "metadata": {},
   "outputs": [],
   "source": [
    "Brand_name = []\n",
    "Product_desc = []\n",
    "Product_price = []"
   ]
  },
  {
   "cell_type": "code",
   "execution_count": 349,
   "id": "fa928617",
   "metadata": {},
   "outputs": [
    {
     "name": "stderr",
     "output_type": "stream",
     "text": [
      "<ipython-input-349-83743a1f730d>:1: DeprecationWarning: find_elements_by_* commands are deprecated. Please use find_elements() instead\n",
      "  Brand_tag = driver.find_elements_by_xpath(\"//div[@class='_2WkVRV']\")\n"
     ]
    },
    {
     "data": {
      "text/plain": [
       "[<selenium.webdriver.remote.webelement.WebElement (session=\"20c1fec1bc8abbb35d466647a7e7d146\", element=\"d148a06f-b908-46b7-b954-9503d7f77dcf\")>,\n",
       " <selenium.webdriver.remote.webelement.WebElement (session=\"20c1fec1bc8abbb35d466647a7e7d146\", element=\"7077980b-8851-4aeb-b585-53c5bc3b7ed3\")>,\n",
       " <selenium.webdriver.remote.webelement.WebElement (session=\"20c1fec1bc8abbb35d466647a7e7d146\", element=\"947a3d8a-7019-4116-ba58-215e8fc654e0\")>,\n",
       " <selenium.webdriver.remote.webelement.WebElement (session=\"20c1fec1bc8abbb35d466647a7e7d146\", element=\"1851f24b-6564-407d-ae11-7370b73750f1\")>,\n",
       " <selenium.webdriver.remote.webelement.WebElement (session=\"20c1fec1bc8abbb35d466647a7e7d146\", element=\"bb602da2-3f48-4b98-9688-640203a2543e\")>,\n",
       " <selenium.webdriver.remote.webelement.WebElement (session=\"20c1fec1bc8abbb35d466647a7e7d146\", element=\"d1874902-0ed5-4207-abce-630ffa958578\")>,\n",
       " <selenium.webdriver.remote.webelement.WebElement (session=\"20c1fec1bc8abbb35d466647a7e7d146\", element=\"c887e45a-3ce3-4197-978c-18d24a47ea24\")>,\n",
       " <selenium.webdriver.remote.webelement.WebElement (session=\"20c1fec1bc8abbb35d466647a7e7d146\", element=\"f5e55b64-fc6a-482e-855e-26ecf278b1f2\")>,\n",
       " <selenium.webdriver.remote.webelement.WebElement (session=\"20c1fec1bc8abbb35d466647a7e7d146\", element=\"5de53bef-ddd7-419e-8d92-b960193c5cf9\")>,\n",
       " <selenium.webdriver.remote.webelement.WebElement (session=\"20c1fec1bc8abbb35d466647a7e7d146\", element=\"fafb62e8-f2ea-4f80-b414-a2447596fb80\")>,\n",
       " <selenium.webdriver.remote.webelement.WebElement (session=\"20c1fec1bc8abbb35d466647a7e7d146\", element=\"91c47fc9-5a13-4b30-8e10-2a6e0f28bbf2\")>,\n",
       " <selenium.webdriver.remote.webelement.WebElement (session=\"20c1fec1bc8abbb35d466647a7e7d146\", element=\"4068fde0-2e69-409b-858f-b067ace9eefd\")>,\n",
       " <selenium.webdriver.remote.webelement.WebElement (session=\"20c1fec1bc8abbb35d466647a7e7d146\", element=\"20a26b54-67be-4bba-b629-b5d8bf77e12a\")>,\n",
       " <selenium.webdriver.remote.webelement.WebElement (session=\"20c1fec1bc8abbb35d466647a7e7d146\", element=\"58a442a0-8c78-4125-837f-f9c2f5c6603a\")>,\n",
       " <selenium.webdriver.remote.webelement.WebElement (session=\"20c1fec1bc8abbb35d466647a7e7d146\", element=\"1eaf77d9-9352-449e-91e0-6dc9c77f856a\")>,\n",
       " <selenium.webdriver.remote.webelement.WebElement (session=\"20c1fec1bc8abbb35d466647a7e7d146\", element=\"9d9ce32e-2f44-4ff0-b6db-0c68ca56db87\")>,\n",
       " <selenium.webdriver.remote.webelement.WebElement (session=\"20c1fec1bc8abbb35d466647a7e7d146\", element=\"5166454e-ead2-44be-b8d4-54b960ca78c2\")>,\n",
       " <selenium.webdriver.remote.webelement.WebElement (session=\"20c1fec1bc8abbb35d466647a7e7d146\", element=\"89807dfa-d2e7-4e19-a0a4-5b8bbfdc07b3\")>,\n",
       " <selenium.webdriver.remote.webelement.WebElement (session=\"20c1fec1bc8abbb35d466647a7e7d146\", element=\"0622639b-0b71-4b27-b0d8-ba69f219ec8f\")>,\n",
       " <selenium.webdriver.remote.webelement.WebElement (session=\"20c1fec1bc8abbb35d466647a7e7d146\", element=\"52949434-8012-4c59-a3b5-6f2101cc798e\")>,\n",
       " <selenium.webdriver.remote.webelement.WebElement (session=\"20c1fec1bc8abbb35d466647a7e7d146\", element=\"d484dcc7-8468-426f-a4f4-5ec10713fc39\")>,\n",
       " <selenium.webdriver.remote.webelement.WebElement (session=\"20c1fec1bc8abbb35d466647a7e7d146\", element=\"c757bbab-f680-4d0c-8d5e-900f76f2e97d\")>,\n",
       " <selenium.webdriver.remote.webelement.WebElement (session=\"20c1fec1bc8abbb35d466647a7e7d146\", element=\"c096f27a-caec-4162-8af4-e7f0c04d3bda\")>,\n",
       " <selenium.webdriver.remote.webelement.WebElement (session=\"20c1fec1bc8abbb35d466647a7e7d146\", element=\"82901841-3c33-4855-ae19-82cda5bc6aae\")>,\n",
       " <selenium.webdriver.remote.webelement.WebElement (session=\"20c1fec1bc8abbb35d466647a7e7d146\", element=\"3b61c0dd-f019-4864-a98f-bb102032ddac\")>,\n",
       " <selenium.webdriver.remote.webelement.WebElement (session=\"20c1fec1bc8abbb35d466647a7e7d146\", element=\"84bc1906-294c-4d39-add5-7caa54143719\")>,\n",
       " <selenium.webdriver.remote.webelement.WebElement (session=\"20c1fec1bc8abbb35d466647a7e7d146\", element=\"3117691d-5dee-499a-9d9c-8b7c7c142012\")>,\n",
       " <selenium.webdriver.remote.webelement.WebElement (session=\"20c1fec1bc8abbb35d466647a7e7d146\", element=\"037564dc-2658-4195-82ac-856f6789b393\")>,\n",
       " <selenium.webdriver.remote.webelement.WebElement (session=\"20c1fec1bc8abbb35d466647a7e7d146\", element=\"5550681a-a0f4-49a5-aa50-3e772b87c9ac\")>,\n",
       " <selenium.webdriver.remote.webelement.WebElement (session=\"20c1fec1bc8abbb35d466647a7e7d146\", element=\"8b046e35-777c-4856-9f0e-4a67e6c88403\")>,\n",
       " <selenium.webdriver.remote.webelement.WebElement (session=\"20c1fec1bc8abbb35d466647a7e7d146\", element=\"0c01fe62-84d9-4450-99f0-7fe190f9afe3\")>,\n",
       " <selenium.webdriver.remote.webelement.WebElement (session=\"20c1fec1bc8abbb35d466647a7e7d146\", element=\"9899d050-4b59-416c-80cf-621beae08f4a\")>,\n",
       " <selenium.webdriver.remote.webelement.WebElement (session=\"20c1fec1bc8abbb35d466647a7e7d146\", element=\"f0e92ea9-32c6-4ce0-b851-779c6deae998\")>,\n",
       " <selenium.webdriver.remote.webelement.WebElement (session=\"20c1fec1bc8abbb35d466647a7e7d146\", element=\"b172156b-5f72-43ac-9e20-75e967886b40\")>,\n",
       " <selenium.webdriver.remote.webelement.WebElement (session=\"20c1fec1bc8abbb35d466647a7e7d146\", element=\"a70b7d4c-0a59-4280-9e6e-383d4f5cf380\")>,\n",
       " <selenium.webdriver.remote.webelement.WebElement (session=\"20c1fec1bc8abbb35d466647a7e7d146\", element=\"95754167-c1cc-45c6-86a9-bec99bdbcc77\")>,\n",
       " <selenium.webdriver.remote.webelement.WebElement (session=\"20c1fec1bc8abbb35d466647a7e7d146\", element=\"8b467996-7a0f-428f-b2ec-b43f9a41f2ba\")>,\n",
       " <selenium.webdriver.remote.webelement.WebElement (session=\"20c1fec1bc8abbb35d466647a7e7d146\", element=\"7e244c22-2d3f-48cf-ac6b-9e21269b774b\")>,\n",
       " <selenium.webdriver.remote.webelement.WebElement (session=\"20c1fec1bc8abbb35d466647a7e7d146\", element=\"9c72b75f-c93a-42d8-b14b-aecba92d9c42\")>,\n",
       " <selenium.webdriver.remote.webelement.WebElement (session=\"20c1fec1bc8abbb35d466647a7e7d146\", element=\"18337002-b26f-4ad7-b1b3-17e13df7db72\")>]"
      ]
     },
     "execution_count": 349,
     "metadata": {},
     "output_type": "execute_result"
    }
   ],
   "source": [
    "Brand_tag = driver.find_elements_by_xpath(\"//div[@class='_2WkVRV']\")\n",
    "Brand_tag[0:40]"
   ]
  },
  {
   "cell_type": "code",
   "execution_count": 350,
   "id": "fe640888",
   "metadata": {},
   "outputs": [
    {
     "data": {
      "text/plain": [
       "['ROYAL SON',\n",
       " 'elegante',\n",
       " 'Elligator',\n",
       " 'Fastrack',\n",
       " 'PIRASO',\n",
       " 'SHAAH COLLECTIONS',\n",
       " 'New Specs',\n",
       " 'Fravy',\n",
       " 'kingsunglasses',\n",
       " 'PIRASO',\n",
       " 'PHENOMENAL',\n",
       " 'VILLAIN',\n",
       " 'HIPPON',\n",
       " 'GANSTA',\n",
       " 'kingsunglasses',\n",
       " 'ROYAL SON',\n",
       " 'New Specs',\n",
       " 'ROZZETTA CRAFT',\n",
       " 'SHAAH COLLECTIONS',\n",
       " 'ROYAL SON',\n",
       " 'Elligator',\n",
       " 'hipe',\n",
       " 'PIRASO',\n",
       " 'ROYAL SON',\n",
       " 'Silver Kartz',\n",
       " 'ROZZETTA CRAFT',\n",
       " 'Rich Club',\n",
       " 'ROYAL SON',\n",
       " 'Singco India',\n",
       " 'PIRASO',\n",
       " 'kingsunglasses',\n",
       " 'ROYAL SON',\n",
       " 'Elligator',\n",
       " 'agera',\n",
       " 'Silver Kartz',\n",
       " 'ROYAL SON',\n",
       " 'Fastrack',\n",
       " 'ROYAL SON',\n",
       " 'SUNBEE',\n",
       " 'ROYAL SON']"
      ]
     },
     "execution_count": 350,
     "metadata": {},
     "output_type": "execute_result"
    }
   ],
   "source": [
    "for i in Brand_tag:\n",
    "    brand = i.text\n",
    "    Brand_name.append(brand)\n",
    "Brand_name[0:40]"
   ]
  },
  {
   "cell_type": "code",
   "execution_count": 351,
   "id": "f4613af8",
   "metadata": {},
   "outputs": [
    {
     "name": "stderr",
     "output_type": "stream",
     "text": [
      "<ipython-input-351-c1c436c39692>:1: DeprecationWarning: find_elements_by_* commands are deprecated. Please use find_elements() instead\n",
      "  Desc_tag = driver.find_elements_by_xpath(\"//a[@class='IRpwTa']\")\n"
     ]
    },
    {
     "data": {
      "text/plain": [
       "[<selenium.webdriver.remote.webelement.WebElement (session=\"20c1fec1bc8abbb35d466647a7e7d146\", element=\"d91afb04-bf35-46ec-95ab-aed7ea3376b5\")>,\n",
       " <selenium.webdriver.remote.webelement.WebElement (session=\"20c1fec1bc8abbb35d466647a7e7d146\", element=\"a6738b99-4fec-44be-bfe8-e2c5e042b965\")>,\n",
       " <selenium.webdriver.remote.webelement.WebElement (session=\"20c1fec1bc8abbb35d466647a7e7d146\", element=\"64dc1a7a-fdb2-4f70-a815-c7ddec11c7c9\")>,\n",
       " <selenium.webdriver.remote.webelement.WebElement (session=\"20c1fec1bc8abbb35d466647a7e7d146\", element=\"5252caad-7e74-4d7e-b9c6-00bfda120b05\")>,\n",
       " <selenium.webdriver.remote.webelement.WebElement (session=\"20c1fec1bc8abbb35d466647a7e7d146\", element=\"c7cf407e-539a-4070-8f6f-6c7bf7272122\")>,\n",
       " <selenium.webdriver.remote.webelement.WebElement (session=\"20c1fec1bc8abbb35d466647a7e7d146\", element=\"d1132ac7-1df6-4071-bc5f-4e2a53c8ee12\")>,\n",
       " <selenium.webdriver.remote.webelement.WebElement (session=\"20c1fec1bc8abbb35d466647a7e7d146\", element=\"05a4a72e-2340-478d-bb76-68381f09b37d\")>,\n",
       " <selenium.webdriver.remote.webelement.WebElement (session=\"20c1fec1bc8abbb35d466647a7e7d146\", element=\"2d83f1af-1ec9-4765-b3df-fb13f9f84761\")>,\n",
       " <selenium.webdriver.remote.webelement.WebElement (session=\"20c1fec1bc8abbb35d466647a7e7d146\", element=\"b504870f-53df-41dd-afe0-44a0d89bc5f0\")>,\n",
       " <selenium.webdriver.remote.webelement.WebElement (session=\"20c1fec1bc8abbb35d466647a7e7d146\", element=\"b0dbfc6e-9416-4b4a-b9d0-474ed8a28e1f\")>,\n",
       " <selenium.webdriver.remote.webelement.WebElement (session=\"20c1fec1bc8abbb35d466647a7e7d146\", element=\"27d2b9ea-4757-4ff7-abce-6fd52260082b\")>,\n",
       " <selenium.webdriver.remote.webelement.WebElement (session=\"20c1fec1bc8abbb35d466647a7e7d146\", element=\"5882930a-a653-4a96-8f24-985f743708c0\")>,\n",
       " <selenium.webdriver.remote.webelement.WebElement (session=\"20c1fec1bc8abbb35d466647a7e7d146\", element=\"2e3088b4-7d64-4649-b2d0-e7c57d5faf1b\")>,\n",
       " <selenium.webdriver.remote.webelement.WebElement (session=\"20c1fec1bc8abbb35d466647a7e7d146\", element=\"f181b58d-4cf8-46a1-b242-96c534e2d81d\")>,\n",
       " <selenium.webdriver.remote.webelement.WebElement (session=\"20c1fec1bc8abbb35d466647a7e7d146\", element=\"9b2df9f3-498f-419b-98f8-845c03675c8b\")>,\n",
       " <selenium.webdriver.remote.webelement.WebElement (session=\"20c1fec1bc8abbb35d466647a7e7d146\", element=\"fe8136a9-083a-4fbb-9e00-cc83c6100ef5\")>,\n",
       " <selenium.webdriver.remote.webelement.WebElement (session=\"20c1fec1bc8abbb35d466647a7e7d146\", element=\"3efec8f2-a8cd-42c8-827b-be60ddcf4302\")>,\n",
       " <selenium.webdriver.remote.webelement.WebElement (session=\"20c1fec1bc8abbb35d466647a7e7d146\", element=\"53d4f291-7d3f-4d7d-9d45-78053bd51afc\")>,\n",
       " <selenium.webdriver.remote.webelement.WebElement (session=\"20c1fec1bc8abbb35d466647a7e7d146\", element=\"2e00fed9-09a7-42a6-b866-491cea04507b\")>,\n",
       " <selenium.webdriver.remote.webelement.WebElement (session=\"20c1fec1bc8abbb35d466647a7e7d146\", element=\"57676e75-48e3-4ff1-b2cb-d67136ccd2ea\")>,\n",
       " <selenium.webdriver.remote.webelement.WebElement (session=\"20c1fec1bc8abbb35d466647a7e7d146\", element=\"3d47e9f0-0f5c-4ad2-8f6d-38755ceceb54\")>,\n",
       " <selenium.webdriver.remote.webelement.WebElement (session=\"20c1fec1bc8abbb35d466647a7e7d146\", element=\"91a9f501-56db-4e70-bd79-635c3146d68d\")>,\n",
       " <selenium.webdriver.remote.webelement.WebElement (session=\"20c1fec1bc8abbb35d466647a7e7d146\", element=\"6f6cc1af-75e5-4818-9096-679b6cf6084e\")>,\n",
       " <selenium.webdriver.remote.webelement.WebElement (session=\"20c1fec1bc8abbb35d466647a7e7d146\", element=\"15218633-837c-4beb-adbe-adae01da89cc\")>,\n",
       " <selenium.webdriver.remote.webelement.WebElement (session=\"20c1fec1bc8abbb35d466647a7e7d146\", element=\"6cebf15f-0a54-43d7-a22a-a8b2607b3b4d\")>,\n",
       " <selenium.webdriver.remote.webelement.WebElement (session=\"20c1fec1bc8abbb35d466647a7e7d146\", element=\"19f3727f-54f4-4cd8-97d4-942c5e8ee3a6\")>,\n",
       " <selenium.webdriver.remote.webelement.WebElement (session=\"20c1fec1bc8abbb35d466647a7e7d146\", element=\"66965933-3e81-4351-a1c2-966ed14f8a99\")>,\n",
       " <selenium.webdriver.remote.webelement.WebElement (session=\"20c1fec1bc8abbb35d466647a7e7d146\", element=\"e96b3abd-4bdc-486b-91d6-9a0c20c9f6c1\")>,\n",
       " <selenium.webdriver.remote.webelement.WebElement (session=\"20c1fec1bc8abbb35d466647a7e7d146\", element=\"47be0d52-46ab-4e1f-b6bf-b9c18d0a9013\")>,\n",
       " <selenium.webdriver.remote.webelement.WebElement (session=\"20c1fec1bc8abbb35d466647a7e7d146\", element=\"3c75f71c-db63-474b-b227-ce0729f28c0f\")>,\n",
       " <selenium.webdriver.remote.webelement.WebElement (session=\"20c1fec1bc8abbb35d466647a7e7d146\", element=\"7a956a4f-af17-4c2d-b8f9-a1af34ab833e\")>,\n",
       " <selenium.webdriver.remote.webelement.WebElement (session=\"20c1fec1bc8abbb35d466647a7e7d146\", element=\"b1f1e6b2-a38f-40ea-ae4f-cb13679586d3\")>,\n",
       " <selenium.webdriver.remote.webelement.WebElement (session=\"20c1fec1bc8abbb35d466647a7e7d146\", element=\"fd4517df-7a5b-465c-92bc-933a4aa103fa\")>,\n",
       " <selenium.webdriver.remote.webelement.WebElement (session=\"20c1fec1bc8abbb35d466647a7e7d146\", element=\"510dd567-9b45-467b-a5fa-ba5fd5c17931\")>,\n",
       " <selenium.webdriver.remote.webelement.WebElement (session=\"20c1fec1bc8abbb35d466647a7e7d146\", element=\"62881a47-2405-4e2f-9529-d07487860b49\")>,\n",
       " <selenium.webdriver.remote.webelement.WebElement (session=\"20c1fec1bc8abbb35d466647a7e7d146\", element=\"8def2f04-b24d-4995-9046-62cfafdca9af\")>,\n",
       " <selenium.webdriver.remote.webelement.WebElement (session=\"20c1fec1bc8abbb35d466647a7e7d146\", element=\"ad51105f-8627-4c9a-86e3-60d5f67004c3\")>,\n",
       " <selenium.webdriver.remote.webelement.WebElement (session=\"20c1fec1bc8abbb35d466647a7e7d146\", element=\"3317e3e3-bd36-4229-a0ec-677aeeeddbc1\")>,\n",
       " <selenium.webdriver.remote.webelement.WebElement (session=\"20c1fec1bc8abbb35d466647a7e7d146\", element=\"938186ea-c677-4d9c-a971-348e306ec126\")>,\n",
       " <selenium.webdriver.remote.webelement.WebElement (session=\"20c1fec1bc8abbb35d466647a7e7d146\", element=\"2e930ee8-cf51-4360-b4a3-0e244563b691\")>]"
      ]
     },
     "execution_count": 351,
     "metadata": {},
     "output_type": "execute_result"
    }
   ],
   "source": [
    "Desc_tag = driver.find_elements_by_xpath(\"//a[@class='IRpwTa']\")\n",
    "Desc_tag[0:40]"
   ]
  },
  {
   "cell_type": "code",
   "execution_count": 352,
   "id": "00fd6de4",
   "metadata": {},
   "outputs": [
    {
     "data": {
      "text/plain": [
       "['Polarized, UV Protection Round Sunglasses (53)',\n",
       " 'UV Protection Oval Sunglasses (Free Size)',\n",
       " 'UV Protection Round Sunglasses (54)',\n",
       " 'UV Protection Rectangular Sunglasses (Free Size)',\n",
       " 'UV Protection Aviator Sunglasses (54)',\n",
       " 'UV Protection, Polarized, Mirrored Rectangular Sunglass...',\n",
       " 'UV Protection Rectangular Sunglasses (Free Size)',\n",
       " 'UV Protection, Others Retro Square Sunglasses (Free Siz...',\n",
       " 'UV Protection Round Sunglasses (54)',\n",
       " 'UV Protection Aviator Sunglasses (54)',\n",
       " 'UV Protection Retro Square Sunglasses (Free Size)',\n",
       " 'Others Wayfarer Sunglasses (Free Size)',\n",
       " 'UV Protection Wayfarer Sunglasses (55)',\n",
       " 'UV Protection Aviator Sunglasses (57)',\n",
       " 'Mirrored, UV Protection Wayfarer Sunglasses (Free Size)',\n",
       " 'Polarized, UV Protection Wrap-around Sunglasses (60)',\n",
       " 'Mirrored, UV Protection, Riding Glasses, Others Round S...',\n",
       " 'UV Protection Retro Square Sunglasses (Free Size)',\n",
       " 'UV Protection Round Sunglasses (Free Size)',\n",
       " 'UV Protection Retro Square Sunglasses (60)',\n",
       " 'UV Protection Round Sunglasses (55)',\n",
       " 'Mirrored, UV Protection, Gradient Round Sunglasses (55)',\n",
       " 'UV Protection Aviator Sunglasses (54)',\n",
       " 'Polarized, UV Protection Wrap-around Sunglasses (60)',\n",
       " 'UV Protection Wayfarer Sunglasses (Free Size)',\n",
       " 'UV Protection, Gradient Rectangular Sunglasses (Free Si...',\n",
       " 'Polarized Round Sunglasses (48)',\n",
       " 'Polarized Sports Sunglasses (68)',\n",
       " 'UV Protection Round Sunglasses (Free Size)',\n",
       " 'UV Protection, Polarized Aviator Sunglasses (32)',\n",
       " 'UV Protection, Riding Glasses, Mirrored Wayfarer Sungla...',\n",
       " 'UV Protection, Gradient Butterfly Sunglasses (52)',\n",
       " 'UV Protection Aviator Sunglasses (55)',\n",
       " 'Gradient Aviator Sunglasses (55)',\n",
       " 'UV Protection Oval Sunglasses (56)',\n",
       " 'Polarized, UV Protection Round Sunglasses (52)',\n",
       " 'UV Protection Wayfarer Sunglasses (Free Size)',\n",
       " 'Mirrored Aviator Sunglasses (55)',\n",
       " 'UV Protection, Polarized, Mirrored Round Sunglasses (Fr...',\n",
       " 'UV Protection, Gradient Over-sized Sunglasses (59)']"
      ]
     },
     "execution_count": 352,
     "metadata": {},
     "output_type": "execute_result"
    }
   ],
   "source": [
    "for i in Desc_tag:\n",
    "    desc = i.text\n",
    "    Product_desc.append(desc)\n",
    "Product_desc[0:40]"
   ]
  },
  {
   "cell_type": "code",
   "execution_count": 353,
   "id": "96992ff6",
   "metadata": {},
   "outputs": [
    {
     "name": "stderr",
     "output_type": "stream",
     "text": [
      "<ipython-input-353-17583b0f6b40>:1: DeprecationWarning: find_elements_by_* commands are deprecated. Please use find_elements() instead\n",
      "  Price_tag = driver.find_elements_by_xpath(\"//div[@class='_30jeq3']\")\n"
     ]
    },
    {
     "data": {
      "text/plain": [
       "[<selenium.webdriver.remote.webelement.WebElement (session=\"20c1fec1bc8abbb35d466647a7e7d146\", element=\"195d6614-bb01-4535-ac86-ed8011ef4235\")>,\n",
       " <selenium.webdriver.remote.webelement.WebElement (session=\"20c1fec1bc8abbb35d466647a7e7d146\", element=\"e3c14d25-5ae6-462f-96c5-41f165c28a3a\")>,\n",
       " <selenium.webdriver.remote.webelement.WebElement (session=\"20c1fec1bc8abbb35d466647a7e7d146\", element=\"18a13536-c020-42e8-a53d-be8bdfe34323\")>,\n",
       " <selenium.webdriver.remote.webelement.WebElement (session=\"20c1fec1bc8abbb35d466647a7e7d146\", element=\"b465611a-70ea-4ad6-af84-2227edd19ddb\")>,\n",
       " <selenium.webdriver.remote.webelement.WebElement (session=\"20c1fec1bc8abbb35d466647a7e7d146\", element=\"a2a81b2f-91e8-407a-8bba-f6a26dda9f26\")>,\n",
       " <selenium.webdriver.remote.webelement.WebElement (session=\"20c1fec1bc8abbb35d466647a7e7d146\", element=\"eee8a4cd-4856-4ef7-8a63-9c0690e4fe0d\")>,\n",
       " <selenium.webdriver.remote.webelement.WebElement (session=\"20c1fec1bc8abbb35d466647a7e7d146\", element=\"83115422-bfe6-449a-84f9-4baf1bc60538\")>,\n",
       " <selenium.webdriver.remote.webelement.WebElement (session=\"20c1fec1bc8abbb35d466647a7e7d146\", element=\"13102323-21a0-408c-b0b7-e6ec9da501a2\")>,\n",
       " <selenium.webdriver.remote.webelement.WebElement (session=\"20c1fec1bc8abbb35d466647a7e7d146\", element=\"0451b20a-ec97-4a44-b562-d8664998709a\")>,\n",
       " <selenium.webdriver.remote.webelement.WebElement (session=\"20c1fec1bc8abbb35d466647a7e7d146\", element=\"f8738d24-37c3-4d2e-a23a-20f673d77aea\")>,\n",
       " <selenium.webdriver.remote.webelement.WebElement (session=\"20c1fec1bc8abbb35d466647a7e7d146\", element=\"b6d23339-6bfb-4b6f-9795-406c8f3d8230\")>,\n",
       " <selenium.webdriver.remote.webelement.WebElement (session=\"20c1fec1bc8abbb35d466647a7e7d146\", element=\"333e7566-8d5e-42dd-bd82-262b200abd64\")>,\n",
       " <selenium.webdriver.remote.webelement.WebElement (session=\"20c1fec1bc8abbb35d466647a7e7d146\", element=\"5727e46d-b8b5-47d1-b131-a45de924db6b\")>,\n",
       " <selenium.webdriver.remote.webelement.WebElement (session=\"20c1fec1bc8abbb35d466647a7e7d146\", element=\"770c82a6-4ce4-4cf2-8c57-1a5579bab761\")>,\n",
       " <selenium.webdriver.remote.webelement.WebElement (session=\"20c1fec1bc8abbb35d466647a7e7d146\", element=\"74663e43-026b-4c75-bbea-8594d4ad8766\")>,\n",
       " <selenium.webdriver.remote.webelement.WebElement (session=\"20c1fec1bc8abbb35d466647a7e7d146\", element=\"673829b3-0016-4bf7-a74b-cd27032e6534\")>,\n",
       " <selenium.webdriver.remote.webelement.WebElement (session=\"20c1fec1bc8abbb35d466647a7e7d146\", element=\"ea630a45-3946-49a3-bcf8-037007b4f73c\")>,\n",
       " <selenium.webdriver.remote.webelement.WebElement (session=\"20c1fec1bc8abbb35d466647a7e7d146\", element=\"39c1d0e9-c45d-4f5c-971f-6920fad0cd7b\")>,\n",
       " <selenium.webdriver.remote.webelement.WebElement (session=\"20c1fec1bc8abbb35d466647a7e7d146\", element=\"1a15313d-f24c-43d1-82fe-2574ecbb6ade\")>,\n",
       " <selenium.webdriver.remote.webelement.WebElement (session=\"20c1fec1bc8abbb35d466647a7e7d146\", element=\"b7b52440-e4e4-494c-bbf5-de769a631a31\")>,\n",
       " <selenium.webdriver.remote.webelement.WebElement (session=\"20c1fec1bc8abbb35d466647a7e7d146\", element=\"c9281b36-724d-4de3-a48b-788638f87743\")>,\n",
       " <selenium.webdriver.remote.webelement.WebElement (session=\"20c1fec1bc8abbb35d466647a7e7d146\", element=\"d9ce1ac5-54fc-44e0-a0f2-9b76d7b1e479\")>,\n",
       " <selenium.webdriver.remote.webelement.WebElement (session=\"20c1fec1bc8abbb35d466647a7e7d146\", element=\"81dc4dbb-35ac-4aa1-8206-16007bf90f2d\")>,\n",
       " <selenium.webdriver.remote.webelement.WebElement (session=\"20c1fec1bc8abbb35d466647a7e7d146\", element=\"7e7a8cf2-4de8-4186-8bb1-524648a533b3\")>,\n",
       " <selenium.webdriver.remote.webelement.WebElement (session=\"20c1fec1bc8abbb35d466647a7e7d146\", element=\"77f0864f-98a5-486b-b4e9-4cec1910c85f\")>,\n",
       " <selenium.webdriver.remote.webelement.WebElement (session=\"20c1fec1bc8abbb35d466647a7e7d146\", element=\"9fc3028b-dd43-42ac-b8a3-54fc7a3bbf8a\")>,\n",
       " <selenium.webdriver.remote.webelement.WebElement (session=\"20c1fec1bc8abbb35d466647a7e7d146\", element=\"507e0b18-ba5a-4f09-870a-eb227e28a81d\")>,\n",
       " <selenium.webdriver.remote.webelement.WebElement (session=\"20c1fec1bc8abbb35d466647a7e7d146\", element=\"742b16c8-a817-483d-a7ea-0f70763a1372\")>,\n",
       " <selenium.webdriver.remote.webelement.WebElement (session=\"20c1fec1bc8abbb35d466647a7e7d146\", element=\"0a9a054b-46e5-4f62-abb7-5be501b2466c\")>,\n",
       " <selenium.webdriver.remote.webelement.WebElement (session=\"20c1fec1bc8abbb35d466647a7e7d146\", element=\"e0d30466-d02c-4efa-81ad-06c2c31fa868\")>,\n",
       " <selenium.webdriver.remote.webelement.WebElement (session=\"20c1fec1bc8abbb35d466647a7e7d146\", element=\"870d6330-4b3b-4980-9325-fdb9bf063abf\")>,\n",
       " <selenium.webdriver.remote.webelement.WebElement (session=\"20c1fec1bc8abbb35d466647a7e7d146\", element=\"2f767f79-3efe-4b65-83d5-67822e9a0d56\")>,\n",
       " <selenium.webdriver.remote.webelement.WebElement (session=\"20c1fec1bc8abbb35d466647a7e7d146\", element=\"a3713612-6145-4664-a2f4-10c1fe7a7a17\")>,\n",
       " <selenium.webdriver.remote.webelement.WebElement (session=\"20c1fec1bc8abbb35d466647a7e7d146\", element=\"94621a18-7f6e-48ee-9aa6-aaee009f8a88\")>,\n",
       " <selenium.webdriver.remote.webelement.WebElement (session=\"20c1fec1bc8abbb35d466647a7e7d146\", element=\"cffd8cf4-b275-44f5-b223-fc982e6c5d5a\")>,\n",
       " <selenium.webdriver.remote.webelement.WebElement (session=\"20c1fec1bc8abbb35d466647a7e7d146\", element=\"5d7bda4e-9550-4376-aaf2-39cbeb006870\")>,\n",
       " <selenium.webdriver.remote.webelement.WebElement (session=\"20c1fec1bc8abbb35d466647a7e7d146\", element=\"ac094e9b-2e42-47a5-b9d5-340b3ec66aaa\")>,\n",
       " <selenium.webdriver.remote.webelement.WebElement (session=\"20c1fec1bc8abbb35d466647a7e7d146\", element=\"403674d9-0504-455c-ae6f-fb041bb9e73c\")>,\n",
       " <selenium.webdriver.remote.webelement.WebElement (session=\"20c1fec1bc8abbb35d466647a7e7d146\", element=\"e39d2747-6608-47f1-b8e9-67b25f19a19b\")>,\n",
       " <selenium.webdriver.remote.webelement.WebElement (session=\"20c1fec1bc8abbb35d466647a7e7d146\", element=\"6a9c3092-2b1e-4b79-b757-9d5b5e7b6d2d\")>]"
      ]
     },
     "execution_count": 353,
     "metadata": {},
     "output_type": "execute_result"
    }
   ],
   "source": [
    "Price_tag = driver.find_elements_by_xpath(\"//div[@class='_30jeq3']\")\n",
    "Price_tag[0:40]"
   ]
  },
  {
   "cell_type": "code",
   "execution_count": 354,
   "id": "e798d68a",
   "metadata": {},
   "outputs": [
    {
     "data": {
      "text/plain": [
       "['₹664',\n",
       " '₹359',\n",
       " '₹264',\n",
       " '₹513',\n",
       " '₹200',\n",
       " '₹177',\n",
       " '₹259',\n",
       " '₹289',\n",
       " '₹189',\n",
       " '₹200',\n",
       " '₹329',\n",
       " '₹549',\n",
       " '₹231',\n",
       " '₹236',\n",
       " '₹259',\n",
       " '₹759',\n",
       " '₹269',\n",
       " '₹499',\n",
       " '₹296',\n",
       " '₹699',\n",
       " '₹239',\n",
       " '₹189',\n",
       " '₹200',\n",
       " '₹759',\n",
       " '₹246',\n",
       " '₹349',\n",
       " '₹179',\n",
       " '₹1,234',\n",
       " '₹217',\n",
       " '₹175',\n",
       " '₹199',\n",
       " '₹664',\n",
       " '₹294',\n",
       " '₹196',\n",
       " '₹284',\n",
       " '₹759',\n",
       " '₹758',\n",
       " '₹359',\n",
       " '₹276',\n",
       " '₹664']"
      ]
     },
     "execution_count": 354,
     "metadata": {},
     "output_type": "execute_result"
    }
   ],
   "source": [
    "for i in Price_tag:\n",
    "    price = i.text\n",
    "    Product_price.append(price)\n",
    "Product_price[0:40]"
   ]
  },
  {
   "cell_type": "code",
   "execution_count": 355,
   "id": "f7bc1b96",
   "metadata": {},
   "outputs": [
    {
     "name": "stderr",
     "output_type": "stream",
     "text": [
      "<ipython-input-355-b50b7bd3080e>:1: DeprecationWarning: find_elements_by_* commands are deprecated. Please use find_elements() instead\n",
      "  off_tag = driver.find_elements_by_xpath(\"//div[@class='_3Ay6Sb']\")\n"
     ]
    },
    {
     "data": {
      "text/plain": [
       "[<selenium.webdriver.remote.webelement.WebElement (session=\"20c1fec1bc8abbb35d466647a7e7d146\", element=\"9be1b05e-de9a-4097-9bd3-4ebef9eb097a\")>,\n",
       " <selenium.webdriver.remote.webelement.WebElement (session=\"20c1fec1bc8abbb35d466647a7e7d146\", element=\"0385ac08-11bf-4172-a227-0bdaa21f4a70\")>,\n",
       " <selenium.webdriver.remote.webelement.WebElement (session=\"20c1fec1bc8abbb35d466647a7e7d146\", element=\"56cd36b2-3588-499b-a56e-62d063f3d41b\")>,\n",
       " <selenium.webdriver.remote.webelement.WebElement (session=\"20c1fec1bc8abbb35d466647a7e7d146\", element=\"95fd2962-0cac-404a-9253-5ce67a0875d4\")>,\n",
       " <selenium.webdriver.remote.webelement.WebElement (session=\"20c1fec1bc8abbb35d466647a7e7d146\", element=\"4989a14b-9ff3-41cf-87d3-cf7bb9ecdc2e\")>,\n",
       " <selenium.webdriver.remote.webelement.WebElement (session=\"20c1fec1bc8abbb35d466647a7e7d146\", element=\"50fc2cae-641d-486b-85af-c8ee5c95bf25\")>,\n",
       " <selenium.webdriver.remote.webelement.WebElement (session=\"20c1fec1bc8abbb35d466647a7e7d146\", element=\"8c861958-a63b-49e1-af57-702438fa879c\")>,\n",
       " <selenium.webdriver.remote.webelement.WebElement (session=\"20c1fec1bc8abbb35d466647a7e7d146\", element=\"a93e6da3-aa6e-47b0-8cdd-2f0333cd9566\")>,\n",
       " <selenium.webdriver.remote.webelement.WebElement (session=\"20c1fec1bc8abbb35d466647a7e7d146\", element=\"4ad194d7-20e3-4239-b3ad-0d38f65c1aaf\")>,\n",
       " <selenium.webdriver.remote.webelement.WebElement (session=\"20c1fec1bc8abbb35d466647a7e7d146\", element=\"b1e05a26-9b0a-4d7f-8ff2-a8a8cb10fb08\")>,\n",
       " <selenium.webdriver.remote.webelement.WebElement (session=\"20c1fec1bc8abbb35d466647a7e7d146\", element=\"6941d02e-a570-4fc3-b3b4-9d9cef3726e0\")>,\n",
       " <selenium.webdriver.remote.webelement.WebElement (session=\"20c1fec1bc8abbb35d466647a7e7d146\", element=\"e9523193-7d8e-4638-ba58-28e373e35dca\")>,\n",
       " <selenium.webdriver.remote.webelement.WebElement (session=\"20c1fec1bc8abbb35d466647a7e7d146\", element=\"aaa944f9-77db-425d-be7e-1c672008d208\")>,\n",
       " <selenium.webdriver.remote.webelement.WebElement (session=\"20c1fec1bc8abbb35d466647a7e7d146\", element=\"f8e23cc8-3aaa-45ac-a834-138a4de30313\")>,\n",
       " <selenium.webdriver.remote.webelement.WebElement (session=\"20c1fec1bc8abbb35d466647a7e7d146\", element=\"65afad61-0dd5-4a76-95eb-3ac2456bbb91\")>,\n",
       " <selenium.webdriver.remote.webelement.WebElement (session=\"20c1fec1bc8abbb35d466647a7e7d146\", element=\"1e44dde3-3e71-4174-975a-b263f30d3836\")>,\n",
       " <selenium.webdriver.remote.webelement.WebElement (session=\"20c1fec1bc8abbb35d466647a7e7d146\", element=\"9b3f44b1-0a69-4bd0-9581-5168163eb3c4\")>,\n",
       " <selenium.webdriver.remote.webelement.WebElement (session=\"20c1fec1bc8abbb35d466647a7e7d146\", element=\"164bbcd0-465b-49cc-ab4f-94b8c4237438\")>,\n",
       " <selenium.webdriver.remote.webelement.WebElement (session=\"20c1fec1bc8abbb35d466647a7e7d146\", element=\"3df20474-7984-4cd6-b174-e89ab017c6e1\")>,\n",
       " <selenium.webdriver.remote.webelement.WebElement (session=\"20c1fec1bc8abbb35d466647a7e7d146\", element=\"993d34fa-19ff-45bc-ace5-86ad730dcaa1\")>,\n",
       " <selenium.webdriver.remote.webelement.WebElement (session=\"20c1fec1bc8abbb35d466647a7e7d146\", element=\"f2b66379-1282-4b6d-853a-f32f2675b8f2\")>,\n",
       " <selenium.webdriver.remote.webelement.WebElement (session=\"20c1fec1bc8abbb35d466647a7e7d146\", element=\"dfe39381-4f2f-4100-9994-7a5c7925c30f\")>,\n",
       " <selenium.webdriver.remote.webelement.WebElement (session=\"20c1fec1bc8abbb35d466647a7e7d146\", element=\"ab9e5177-eaf5-4de5-abb3-39df70bd573c\")>,\n",
       " <selenium.webdriver.remote.webelement.WebElement (session=\"20c1fec1bc8abbb35d466647a7e7d146\", element=\"ef153ebb-4686-4ffa-a17d-bc9f57598df8\")>,\n",
       " <selenium.webdriver.remote.webelement.WebElement (session=\"20c1fec1bc8abbb35d466647a7e7d146\", element=\"ddccf630-dcf4-4f3c-803f-26f90ed8b8e6\")>,\n",
       " <selenium.webdriver.remote.webelement.WebElement (session=\"20c1fec1bc8abbb35d466647a7e7d146\", element=\"0fdeeb95-4255-4411-ac91-8b21381def48\")>,\n",
       " <selenium.webdriver.remote.webelement.WebElement (session=\"20c1fec1bc8abbb35d466647a7e7d146\", element=\"8446fda0-8313-4890-83be-65b8e071b1a7\")>,\n",
       " <selenium.webdriver.remote.webelement.WebElement (session=\"20c1fec1bc8abbb35d466647a7e7d146\", element=\"c05dc607-6922-4ce3-a3dd-c7f74af143d4\")>,\n",
       " <selenium.webdriver.remote.webelement.WebElement (session=\"20c1fec1bc8abbb35d466647a7e7d146\", element=\"a66bf102-06ab-47fb-babf-9335f6251759\")>,\n",
       " <selenium.webdriver.remote.webelement.WebElement (session=\"20c1fec1bc8abbb35d466647a7e7d146\", element=\"5fe27963-5c76-4ea2-b0dd-adea0c65745c\")>,\n",
       " <selenium.webdriver.remote.webelement.WebElement (session=\"20c1fec1bc8abbb35d466647a7e7d146\", element=\"70739edb-cc53-4d9c-9b08-cd42909c95b4\")>,\n",
       " <selenium.webdriver.remote.webelement.WebElement (session=\"20c1fec1bc8abbb35d466647a7e7d146\", element=\"4ab4d3b7-cf89-4cb6-87ff-3a1306cfc9bb\")>,\n",
       " <selenium.webdriver.remote.webelement.WebElement (session=\"20c1fec1bc8abbb35d466647a7e7d146\", element=\"479c39b0-3de2-4788-a150-8200b683daee\")>,\n",
       " <selenium.webdriver.remote.webelement.WebElement (session=\"20c1fec1bc8abbb35d466647a7e7d146\", element=\"5a83b98d-be25-471c-b07d-224fbc5e322c\")>,\n",
       " <selenium.webdriver.remote.webelement.WebElement (session=\"20c1fec1bc8abbb35d466647a7e7d146\", element=\"50bc509a-da48-47c8-84e7-5a054ba96615\")>,\n",
       " <selenium.webdriver.remote.webelement.WebElement (session=\"20c1fec1bc8abbb35d466647a7e7d146\", element=\"4b9b5a21-982d-458a-a1cc-3a950b0cdb8d\")>,\n",
       " <selenium.webdriver.remote.webelement.WebElement (session=\"20c1fec1bc8abbb35d466647a7e7d146\", element=\"691c8c18-22e6-4c40-a315-790571357bea\")>,\n",
       " <selenium.webdriver.remote.webelement.WebElement (session=\"20c1fec1bc8abbb35d466647a7e7d146\", element=\"39675bea-f82f-4cfe-bcd7-68f2734706d7\")>,\n",
       " <selenium.webdriver.remote.webelement.WebElement (session=\"20c1fec1bc8abbb35d466647a7e7d146\", element=\"37498431-ffae-46a2-a42c-640281c81eab\")>,\n",
       " <selenium.webdriver.remote.webelement.WebElement (session=\"20c1fec1bc8abbb35d466647a7e7d146\", element=\"88dcf72c-ccd4-4994-8166-c3c04743c050\")>]"
      ]
     },
     "execution_count": 355,
     "metadata": {},
     "output_type": "execute_result"
    }
   ],
   "source": [
    "off_tag = driver.find_elements_by_xpath(\"//div[@class='_3Ay6Sb']\")\n",
    "off_tag[0:40]"
   ]
  },
  {
   "cell_type": "code",
   "execution_count": 356,
   "id": "868c7826",
   "metadata": {},
   "outputs": [
    {
     "data": {
      "text/plain": [
       "['66% off',\n",
       " '76% off',\n",
       " '89% off',\n",
       " '35% off',\n",
       " '87% off',\n",
       " '89% off',\n",
       " '87% off',\n",
       " '80% off',\n",
       " '82% off',\n",
       " '87% off',\n",
       " '83% off',\n",
       " '45% off',\n",
       " '80% off',\n",
       " '88% off',\n",
       " '87% off',\n",
       " '62% off',\n",
       " '83% off',\n",
       " '77% off',\n",
       " '82% off',\n",
       " '65% off',\n",
       " '88% off',\n",
       " '87% off',\n",
       " '87% off',\n",
       " '62% off',\n",
       " '83% off',\n",
       " '82% off',\n",
       " '64% off',\n",
       " '50% off',\n",
       " '78% off',\n",
       " '89% off',\n",
       " '83% off',\n",
       " '66% off',\n",
       " '88% off',\n",
       " '82% off',\n",
       " '76% off',\n",
       " '62% off',\n",
       " '15% off',\n",
       " '76% off',\n",
       " '83% off',\n",
       " '66% off']"
      ]
     },
     "execution_count": 356,
     "metadata": {},
     "output_type": "execute_result"
    }
   ],
   "source": [
    "Price_off = []\n",
    "for i in off_tag:\n",
    "    off = i.text\n",
    "    Price_off.append(off)\n",
    "Price_off[0:40]"
   ]
  },
  {
   "cell_type": "code",
   "execution_count": 357,
   "id": "6f6c7537",
   "metadata": {},
   "outputs": [
    {
     "name": "stderr",
     "output_type": "stream",
     "text": [
      "<ipython-input-357-a60c0782f8aa>:1: DeprecationWarning: find_element_by_* commands are deprecated. Please use find_element() instead\n",
      "  next_button = driver.find_element_by_xpath(\"/html/body/div/div/div[3]/div[1]/div[2]/div[12]/div/div/nav/a[11]/span\")\n"
     ]
    }
   ],
   "source": [
    "next_button = driver.find_element_by_xpath(\"/html/body/div/div/div[3]/div[1]/div[2]/div[12]/div/div/nav/a[11]/span\")\n",
    "next_button.click()"
   ]
  },
  {
   "cell_type": "code",
   "execution_count": 358,
   "id": "536f3c63",
   "metadata": {},
   "outputs": [
    {
     "name": "stderr",
     "output_type": "stream",
     "text": [
      "<ipython-input-358-050f8f94e0f9>:1: DeprecationWarning: find_elements_by_* commands are deprecated. Please use find_elements() instead\n",
      "  Brand_tag1 = driver.find_elements_by_xpath(\"//div[@class='_2WkVRV']\")\n"
     ]
    },
    {
     "data": {
      "text/plain": [
       "[<selenium.webdriver.remote.webelement.WebElement (session=\"20c1fec1bc8abbb35d466647a7e7d146\", element=\"d2c5fdae-17c3-4b67-8581-d6edca5b9f21\")>,\n",
       " <selenium.webdriver.remote.webelement.WebElement (session=\"20c1fec1bc8abbb35d466647a7e7d146\", element=\"ab92b304-b7fd-4ee1-a612-1eab8b41308b\")>,\n",
       " <selenium.webdriver.remote.webelement.WebElement (session=\"20c1fec1bc8abbb35d466647a7e7d146\", element=\"4483a595-b6be-4069-b3e0-5aa922c7097a\")>,\n",
       " <selenium.webdriver.remote.webelement.WebElement (session=\"20c1fec1bc8abbb35d466647a7e7d146\", element=\"adf18dad-1dd8-4105-a123-77f8e2c97bb6\")>,\n",
       " <selenium.webdriver.remote.webelement.WebElement (session=\"20c1fec1bc8abbb35d466647a7e7d146\", element=\"3d1eea6d-ce7a-44b9-a6e8-c476427da687\")>,\n",
       " <selenium.webdriver.remote.webelement.WebElement (session=\"20c1fec1bc8abbb35d466647a7e7d146\", element=\"219c2c6b-e183-4b5c-9b1e-835d3c45a5b4\")>,\n",
       " <selenium.webdriver.remote.webelement.WebElement (session=\"20c1fec1bc8abbb35d466647a7e7d146\", element=\"e31ada30-03dd-4ef6-a133-cd97fe8d73c0\")>,\n",
       " <selenium.webdriver.remote.webelement.WebElement (session=\"20c1fec1bc8abbb35d466647a7e7d146\", element=\"dc9267dc-41b0-4231-8a8c-91f3696f3ade\")>,\n",
       " <selenium.webdriver.remote.webelement.WebElement (session=\"20c1fec1bc8abbb35d466647a7e7d146\", element=\"4538010b-3ea8-4e3a-b378-59bf6a7cbe0a\")>,\n",
       " <selenium.webdriver.remote.webelement.WebElement (session=\"20c1fec1bc8abbb35d466647a7e7d146\", element=\"a5ef46ba-1b74-4520-a786-4bb76d32c16f\")>,\n",
       " <selenium.webdriver.remote.webelement.WebElement (session=\"20c1fec1bc8abbb35d466647a7e7d146\", element=\"e0fd0833-7822-4d82-8649-4becb36a899b\")>,\n",
       " <selenium.webdriver.remote.webelement.WebElement (session=\"20c1fec1bc8abbb35d466647a7e7d146\", element=\"83fb00a7-399d-4858-b299-3c46eca1e580\")>,\n",
       " <selenium.webdriver.remote.webelement.WebElement (session=\"20c1fec1bc8abbb35d466647a7e7d146\", element=\"530bc10d-aa0a-4cef-9211-f7d283280a48\")>,\n",
       " <selenium.webdriver.remote.webelement.WebElement (session=\"20c1fec1bc8abbb35d466647a7e7d146\", element=\"8a661695-d79f-4601-a8da-e9a6aac7be7c\")>,\n",
       " <selenium.webdriver.remote.webelement.WebElement (session=\"20c1fec1bc8abbb35d466647a7e7d146\", element=\"ccc1dc24-780e-463d-80de-82df47173992\")>,\n",
       " <selenium.webdriver.remote.webelement.WebElement (session=\"20c1fec1bc8abbb35d466647a7e7d146\", element=\"c12833ef-6629-4d0f-81ef-ac4b72c0ddb2\")>,\n",
       " <selenium.webdriver.remote.webelement.WebElement (session=\"20c1fec1bc8abbb35d466647a7e7d146\", element=\"13c6c3ed-d292-4dec-8e94-cd314ce010c5\")>,\n",
       " <selenium.webdriver.remote.webelement.WebElement (session=\"20c1fec1bc8abbb35d466647a7e7d146\", element=\"97683c8e-bc0b-4f84-9aed-d1f911a2d6e3\")>,\n",
       " <selenium.webdriver.remote.webelement.WebElement (session=\"20c1fec1bc8abbb35d466647a7e7d146\", element=\"acfc3be9-0991-4055-abf9-e68037e8e6cc\")>,\n",
       " <selenium.webdriver.remote.webelement.WebElement (session=\"20c1fec1bc8abbb35d466647a7e7d146\", element=\"61cad7dd-70f5-4edd-97d8-1b1e7ffd07e6\")>,\n",
       " <selenium.webdriver.remote.webelement.WebElement (session=\"20c1fec1bc8abbb35d466647a7e7d146\", element=\"84aea3fb-eba2-451d-a2d3-2589f878f256\")>,\n",
       " <selenium.webdriver.remote.webelement.WebElement (session=\"20c1fec1bc8abbb35d466647a7e7d146\", element=\"5d0392bd-d97a-4d73-8989-67f7a7872ced\")>,\n",
       " <selenium.webdriver.remote.webelement.WebElement (session=\"20c1fec1bc8abbb35d466647a7e7d146\", element=\"cb6a530f-27ca-49db-9ee3-c518b1f4c1be\")>,\n",
       " <selenium.webdriver.remote.webelement.WebElement (session=\"20c1fec1bc8abbb35d466647a7e7d146\", element=\"1f81ed19-83f5-4530-9fc0-55c7bb03d247\")>,\n",
       " <selenium.webdriver.remote.webelement.WebElement (session=\"20c1fec1bc8abbb35d466647a7e7d146\", element=\"bed8fbaa-617c-4dff-ad2f-d5d38c53dd2e\")>,\n",
       " <selenium.webdriver.remote.webelement.WebElement (session=\"20c1fec1bc8abbb35d466647a7e7d146\", element=\"3aed2380-d740-49c8-802a-8abe2d9a069e\")>,\n",
       " <selenium.webdriver.remote.webelement.WebElement (session=\"20c1fec1bc8abbb35d466647a7e7d146\", element=\"dfe7ba3f-c652-4281-8730-59b9f9e0dc7b\")>,\n",
       " <selenium.webdriver.remote.webelement.WebElement (session=\"20c1fec1bc8abbb35d466647a7e7d146\", element=\"43aef6a6-43fb-438c-8b82-d008fbafc25a\")>,\n",
       " <selenium.webdriver.remote.webelement.WebElement (session=\"20c1fec1bc8abbb35d466647a7e7d146\", element=\"bbd69dc3-3761-4ab6-b4e7-bbe25d846511\")>,\n",
       " <selenium.webdriver.remote.webelement.WebElement (session=\"20c1fec1bc8abbb35d466647a7e7d146\", element=\"bf1e0aef-4d47-4c94-8ffe-94f28c601606\")>,\n",
       " <selenium.webdriver.remote.webelement.WebElement (session=\"20c1fec1bc8abbb35d466647a7e7d146\", element=\"5ab546bf-6c4e-46b7-9312-cf19ebffbfd8\")>,\n",
       " <selenium.webdriver.remote.webelement.WebElement (session=\"20c1fec1bc8abbb35d466647a7e7d146\", element=\"b7ca1e16-9303-4177-bb70-3a1f2b7f3460\")>,\n",
       " <selenium.webdriver.remote.webelement.WebElement (session=\"20c1fec1bc8abbb35d466647a7e7d146\", element=\"6b7f32a4-712b-44eb-8974-947501ddf93f\")>,\n",
       " <selenium.webdriver.remote.webelement.WebElement (session=\"20c1fec1bc8abbb35d466647a7e7d146\", element=\"3d8bfff3-924e-45e5-a735-bfff05ef5b5c\")>,\n",
       " <selenium.webdriver.remote.webelement.WebElement (session=\"20c1fec1bc8abbb35d466647a7e7d146\", element=\"b88f1389-2cbd-4fbb-ba8f-ef577ec2f0f3\")>,\n",
       " <selenium.webdriver.remote.webelement.WebElement (session=\"20c1fec1bc8abbb35d466647a7e7d146\", element=\"6c03f341-6cb8-4c5f-bac6-291b9bcb88c9\")>,\n",
       " <selenium.webdriver.remote.webelement.WebElement (session=\"20c1fec1bc8abbb35d466647a7e7d146\", element=\"b743bc98-b0be-4e85-bb44-a2d4f62d726d\")>,\n",
       " <selenium.webdriver.remote.webelement.WebElement (session=\"20c1fec1bc8abbb35d466647a7e7d146\", element=\"4af0da92-ab60-4abc-9987-4728a9287190\")>,\n",
       " <selenium.webdriver.remote.webelement.WebElement (session=\"20c1fec1bc8abbb35d466647a7e7d146\", element=\"5a249c5d-83aa-4e75-bc41-4b44780e5df2\")>,\n",
       " <selenium.webdriver.remote.webelement.WebElement (session=\"20c1fec1bc8abbb35d466647a7e7d146\", element=\"4dcb71e4-2a7c-4716-b1ed-0313f6a5f781\")>]"
      ]
     },
     "execution_count": 358,
     "metadata": {},
     "output_type": "execute_result"
    }
   ],
   "source": [
    "Brand_tag1 = driver.find_elements_by_xpath(\"//div[@class='_2WkVRV']\")\n",
    "Brand_tag1[0:40]"
   ]
  },
  {
   "cell_type": "code",
   "execution_count": 359,
   "id": "dc7d5e4b",
   "metadata": {},
   "outputs": [
    {
     "data": {
      "text/plain": [
       "['PHENOMENAL',\n",
       " 'hipe',\n",
       " 'kingsunglasses',\n",
       " 'Fravy',\n",
       " 'povty',\n",
       " 'ROZZETTA CRAFT',\n",
       " 'SHAAH COLLECTIONS',\n",
       " 'PIRASO',\n",
       " 'PIRASO',\n",
       " 'Lee Topper',\n",
       " 'elegante',\n",
       " 'PIRASO',\n",
       " 'hipe',\n",
       " 'New Specs',\n",
       " 'Fastrack',\n",
       " 'PIRASO',\n",
       " 'Silver Kartz',\n",
       " 'GANSTA',\n",
       " 'Lee Topper',\n",
       " 'PIRASO',\n",
       " 'hipe',\n",
       " 'kingsunglasses',\n",
       " 'kingsunglasses',\n",
       " 'elegante',\n",
       " 'PHENOMENAL',\n",
       " 'MAXX',\n",
       " 'PHENOMENAL',\n",
       " 'PIRASO',\n",
       " 'Elligator',\n",
       " 'ROZZETTA CRAFT',\n",
       " 'Rich Club',\n",
       " 'PIRASO',\n",
       " 'PIRASO',\n",
       " 'GANSTA',\n",
       " 'PIRASO',\n",
       " 'Fravy',\n",
       " 'SUNBEE',\n",
       " 'NuVew',\n",
       " 'kingsunglasses',\n",
       " 'ROYAL SON']"
      ]
     },
     "execution_count": 359,
     "metadata": {},
     "output_type": "execute_result"
    }
   ],
   "source": [
    "Brand_name_next = []\n",
    "for i in Brand_tag1:\n",
    "    brand = i.text\n",
    "    Brand_name_next.append(brand)\n",
    "Brand_name_next[0:40]"
   ]
  },
  {
   "cell_type": "code",
   "execution_count": 360,
   "id": "87bbb501",
   "metadata": {},
   "outputs": [
    {
     "name": "stderr",
     "output_type": "stream",
     "text": [
      "<ipython-input-360-1345af7f7cd5>:1: DeprecationWarning: find_elements_by_* commands are deprecated. Please use find_elements() instead\n",
      "  Desc_tag1 = driver.find_elements_by_xpath(\"//a[@class='IRpwTa']\")\n"
     ]
    },
    {
     "data": {
      "text/plain": [
       "[<selenium.webdriver.remote.webelement.WebElement (session=\"20c1fec1bc8abbb35d466647a7e7d146\", element=\"15999570-8c7f-44e0-9b4c-8d1b090f688c\")>,\n",
       " <selenium.webdriver.remote.webelement.WebElement (session=\"20c1fec1bc8abbb35d466647a7e7d146\", element=\"f8c9ad03-64a9-460f-9d7a-ae78241074e8\")>,\n",
       " <selenium.webdriver.remote.webelement.WebElement (session=\"20c1fec1bc8abbb35d466647a7e7d146\", element=\"9e0e5840-c4e7-41ea-b3bd-6091fbffc9a5\")>,\n",
       " <selenium.webdriver.remote.webelement.WebElement (session=\"20c1fec1bc8abbb35d466647a7e7d146\", element=\"8daedcbb-8b9a-49c2-b540-02c297031161\")>,\n",
       " <selenium.webdriver.remote.webelement.WebElement (session=\"20c1fec1bc8abbb35d466647a7e7d146\", element=\"3202da2a-1cd7-40e7-b57c-a851f6142249\")>,\n",
       " <selenium.webdriver.remote.webelement.WebElement (session=\"20c1fec1bc8abbb35d466647a7e7d146\", element=\"6799f563-b26c-40d4-afa3-f0a570469100\")>,\n",
       " <selenium.webdriver.remote.webelement.WebElement (session=\"20c1fec1bc8abbb35d466647a7e7d146\", element=\"c2b3f1a9-c07b-460d-8d28-5677d3464a64\")>,\n",
       " <selenium.webdriver.remote.webelement.WebElement (session=\"20c1fec1bc8abbb35d466647a7e7d146\", element=\"a3393606-dd71-4bf3-ab06-9fa2279324a2\")>,\n",
       " <selenium.webdriver.remote.webelement.WebElement (session=\"20c1fec1bc8abbb35d466647a7e7d146\", element=\"9df4f6f5-62ed-4635-91c9-dbafd3cdf0ea\")>,\n",
       " <selenium.webdriver.remote.webelement.WebElement (session=\"20c1fec1bc8abbb35d466647a7e7d146\", element=\"15e560cc-436d-4c23-957f-84c8b66b91a3\")>,\n",
       " <selenium.webdriver.remote.webelement.WebElement (session=\"20c1fec1bc8abbb35d466647a7e7d146\", element=\"4de8960a-a54b-4d8e-9251-f7c8743ae6dd\")>,\n",
       " <selenium.webdriver.remote.webelement.WebElement (session=\"20c1fec1bc8abbb35d466647a7e7d146\", element=\"3cda474d-50cc-4e8b-b134-d226e43158fe\")>,\n",
       " <selenium.webdriver.remote.webelement.WebElement (session=\"20c1fec1bc8abbb35d466647a7e7d146\", element=\"669f0db5-6003-497b-92e5-be38d932ed17\")>,\n",
       " <selenium.webdriver.remote.webelement.WebElement (session=\"20c1fec1bc8abbb35d466647a7e7d146\", element=\"8fb0ece3-2f04-4a82-b7b2-342a52789c67\")>,\n",
       " <selenium.webdriver.remote.webelement.WebElement (session=\"20c1fec1bc8abbb35d466647a7e7d146\", element=\"43e00b19-b74f-4639-b12b-f6dc73964d0c\")>,\n",
       " <selenium.webdriver.remote.webelement.WebElement (session=\"20c1fec1bc8abbb35d466647a7e7d146\", element=\"f6c72064-1f5b-4a99-bf45-c911c8ec028d\")>,\n",
       " <selenium.webdriver.remote.webelement.WebElement (session=\"20c1fec1bc8abbb35d466647a7e7d146\", element=\"09f89d44-2b35-40ee-8d8f-4620272092ae\")>,\n",
       " <selenium.webdriver.remote.webelement.WebElement (session=\"20c1fec1bc8abbb35d466647a7e7d146\", element=\"a2fc12b8-540d-417a-9788-7c35e3a23399\")>,\n",
       " <selenium.webdriver.remote.webelement.WebElement (session=\"20c1fec1bc8abbb35d466647a7e7d146\", element=\"6fda1434-e4a4-4930-8cb5-bfe75cc94e7d\")>,\n",
       " <selenium.webdriver.remote.webelement.WebElement (session=\"20c1fec1bc8abbb35d466647a7e7d146\", element=\"ad4dc06d-6a70-4ec3-b1b3-ac178fd90ccd\")>,\n",
       " <selenium.webdriver.remote.webelement.WebElement (session=\"20c1fec1bc8abbb35d466647a7e7d146\", element=\"a19a0cd4-5c22-49be-97fe-e21549e675f3\")>,\n",
       " <selenium.webdriver.remote.webelement.WebElement (session=\"20c1fec1bc8abbb35d466647a7e7d146\", element=\"2adcbd6d-c591-4971-b1bd-fe0a06a80bda\")>,\n",
       " <selenium.webdriver.remote.webelement.WebElement (session=\"20c1fec1bc8abbb35d466647a7e7d146\", element=\"e3901a8e-c940-4987-8820-e00aa023e09f\")>,\n",
       " <selenium.webdriver.remote.webelement.WebElement (session=\"20c1fec1bc8abbb35d466647a7e7d146\", element=\"fbc0d1b8-fdcf-4afc-bb7a-150759aa5b3e\")>,\n",
       " <selenium.webdriver.remote.webelement.WebElement (session=\"20c1fec1bc8abbb35d466647a7e7d146\", element=\"d63b9ffe-dcff-43e6-b043-c95b1f279837\")>,\n",
       " <selenium.webdriver.remote.webelement.WebElement (session=\"20c1fec1bc8abbb35d466647a7e7d146\", element=\"196d2597-0424-4611-b8f7-1f2073733cc3\")>,\n",
       " <selenium.webdriver.remote.webelement.WebElement (session=\"20c1fec1bc8abbb35d466647a7e7d146\", element=\"383c72d2-35be-4b87-8c09-f51e3cd3795e\")>,\n",
       " <selenium.webdriver.remote.webelement.WebElement (session=\"20c1fec1bc8abbb35d466647a7e7d146\", element=\"3606e569-afde-42dd-a84d-635a2af8021a\")>,\n",
       " <selenium.webdriver.remote.webelement.WebElement (session=\"20c1fec1bc8abbb35d466647a7e7d146\", element=\"97c814f2-45bd-4dbf-8884-ce68ef0754d4\")>,\n",
       " <selenium.webdriver.remote.webelement.WebElement (session=\"20c1fec1bc8abbb35d466647a7e7d146\", element=\"16c52ccd-561f-45c8-9bbd-035007ed53a2\")>,\n",
       " <selenium.webdriver.remote.webelement.WebElement (session=\"20c1fec1bc8abbb35d466647a7e7d146\", element=\"a302cbc1-0f77-447a-aa62-cff851f80eff\")>,\n",
       " <selenium.webdriver.remote.webelement.WebElement (session=\"20c1fec1bc8abbb35d466647a7e7d146\", element=\"da445f02-9424-4c61-8b09-920c1f411896\")>,\n",
       " <selenium.webdriver.remote.webelement.WebElement (session=\"20c1fec1bc8abbb35d466647a7e7d146\", element=\"f6e87b3e-68e8-46ae-9208-8fb640134911\")>,\n",
       " <selenium.webdriver.remote.webelement.WebElement (session=\"20c1fec1bc8abbb35d466647a7e7d146\", element=\"78000962-6c96-4fde-a6f1-b73e204e3c8a\")>,\n",
       " <selenium.webdriver.remote.webelement.WebElement (session=\"20c1fec1bc8abbb35d466647a7e7d146\", element=\"9c53041d-8b7c-4a9b-b025-6e57e5ee7edc\")>,\n",
       " <selenium.webdriver.remote.webelement.WebElement (session=\"20c1fec1bc8abbb35d466647a7e7d146\", element=\"24c64c4b-e8d1-42b2-8d41-7bb8c82f1580\")>,\n",
       " <selenium.webdriver.remote.webelement.WebElement (session=\"20c1fec1bc8abbb35d466647a7e7d146\", element=\"b724c3aa-12b3-46f4-96fd-6679c7698de3\")>,\n",
       " <selenium.webdriver.remote.webelement.WebElement (session=\"20c1fec1bc8abbb35d466647a7e7d146\", element=\"edad4517-fba2-4a4f-9ca4-2185ce6531ec\")>,\n",
       " <selenium.webdriver.remote.webelement.WebElement (session=\"20c1fec1bc8abbb35d466647a7e7d146\", element=\"2c184cf0-7339-4783-b691-ae63101001da\")>,\n",
       " <selenium.webdriver.remote.webelement.WebElement (session=\"20c1fec1bc8abbb35d466647a7e7d146\", element=\"733b86ad-f24a-41ef-b10d-f5c78dcaf612\")>]"
      ]
     },
     "execution_count": 360,
     "metadata": {},
     "output_type": "execute_result"
    }
   ],
   "source": [
    "Desc_tag1 = driver.find_elements_by_xpath(\"//a[@class='IRpwTa']\")\n",
    "Desc_tag1[0:40]"
   ]
  },
  {
   "cell_type": "code",
   "execution_count": 361,
   "id": "1ced135f",
   "metadata": {},
   "outputs": [
    {
     "data": {
      "text/plain": [
       "['UV Protection, Mirrored Retro Square Sunglasses (53)',\n",
       " 'UV Protection, Gradient, Mirrored, Riding Glasses Aviat...',\n",
       " 'Mirrored, UV Protection Wayfarer Sunglasses (Free Size)',\n",
       " 'UV Protection Retro Square Sunglasses (Free Size)',\n",
       " 'UV Protection Retro Square Sunglasses (Free Size)',\n",
       " 'UV Protection, Gradient Retro Square Sunglasses (Free S...',\n",
       " 'UV Protection Round Sunglasses (Free Size)',\n",
       " 'UV Protection Aviator Sunglasses (54)',\n",
       " 'UV Protection Aviator Sunglasses (54)',\n",
       " 'Riding Glasses, Night Vision Wrap-around Sunglasses (Fr...',\n",
       " 'Mirrored Round Sunglasses (Free Size)',\n",
       " 'UV Protection Aviator Sunglasses (55)',\n",
       " 'Mirrored, Gradient, Riding Glasses Round Sunglasses (55...',\n",
       " 'UV Protection Rectangular Sunglasses (Free Size)',\n",
       " 'UV Protection Wayfarer Sunglasses (Free Size)',\n",
       " 'UV Protection Rectangular, Over-sized Sunglasses (Free ...',\n",
       " 'UV Protection Aviator Sunglasses (88)',\n",
       " 'UV Protection, Night Vision, Riding Glasses Aviator Sun...',\n",
       " 'UV Protection Round Sunglasses (Free Size)',\n",
       " 'UV Protection Aviator Sunglasses (54)',\n",
       " 'UV Protection Sports Sunglasses (Free Size)',\n",
       " 'UV Protection, Night Vision Wayfarer Sunglasses (Free S...',\n",
       " 'UV Protection, Mirrored Round Sunglasses (54)',\n",
       " 'UV Protection Oval Sunglasses (Free Size)',\n",
       " 'UV Protection, Mirrored Retro Square Sunglasses (53)',\n",
       " 'UV Protection Aviator Sunglasses (Free Size)',\n",
       " 'UV Protection, Mirrored Retro Square Sunglasses (Free S...',\n",
       " 'UV Protection Butterfly Sunglasses (60)',\n",
       " 'UV Protection Wayfarer Sunglasses (53)',\n",
       " 'UV Protection, Gradient Round Sunglasses (Free Size)',\n",
       " 'Polarized Round Sunglasses (48)',\n",
       " 'UV Protection Wayfarer Sunglasses (32)',\n",
       " 'UV Protection Butterfly Sunglasses (65)',\n",
       " 'UV Protection Rectangular Sunglasses (60)',\n",
       " 'UV Protection Aviator Sunglasses (58)',\n",
       " 'UV Protection, Gradient, Night Vision Retro Square Sung...',\n",
       " 'UV Protection, Polarized Wayfarer Sunglasses (Free Size...',\n",
       " 'UV Protection, Mirrored, Night Vision, Riding Glasses S...',\n",
       " 'UV Protection Round Sunglasses (Free Size)',\n",
       " 'Gradient, UV Protection Cat-eye, Over-sized Sunglasses ...']"
      ]
     },
     "execution_count": 361,
     "metadata": {},
     "output_type": "execute_result"
    }
   ],
   "source": [
    "Product_desc1 = []\n",
    "for i in Desc_tag1:\n",
    "    desc = i.text\n",
    "    Product_desc1.append(desc)\n",
    "Product_desc1[0:40]"
   ]
  },
  {
   "cell_type": "code",
   "execution_count": 363,
   "id": "95d459c8",
   "metadata": {},
   "outputs": [
    {
     "name": "stderr",
     "output_type": "stream",
     "text": [
      "<ipython-input-363-10250faeb468>:1: DeprecationWarning: find_elements_by_* commands are deprecated. Please use find_elements() instead\n",
      "  Price_tag1 = driver.find_elements_by_xpath(\"//div[@class='_30jeq3']\")\n"
     ]
    },
    {
     "data": {
      "text/plain": [
       "[<selenium.webdriver.remote.webelement.WebElement (session=\"20c1fec1bc8abbb35d466647a7e7d146\", element=\"8732ad91-eee8-494a-b91d-170122f5e3b0\")>,\n",
       " <selenium.webdriver.remote.webelement.WebElement (session=\"20c1fec1bc8abbb35d466647a7e7d146\", element=\"8218b148-2d74-4eb4-8fb8-2ed50f5c369f\")>,\n",
       " <selenium.webdriver.remote.webelement.WebElement (session=\"20c1fec1bc8abbb35d466647a7e7d146\", element=\"78de8e41-ab95-4992-82d1-88ecffc8f52d\")>,\n",
       " <selenium.webdriver.remote.webelement.WebElement (session=\"20c1fec1bc8abbb35d466647a7e7d146\", element=\"718c5c7c-dcfe-4757-a990-c27f732ecf3f\")>,\n",
       " <selenium.webdriver.remote.webelement.WebElement (session=\"20c1fec1bc8abbb35d466647a7e7d146\", element=\"c4f79e73-91b4-4032-bbf5-7e345ea0a056\")>,\n",
       " <selenium.webdriver.remote.webelement.WebElement (session=\"20c1fec1bc8abbb35d466647a7e7d146\", element=\"ea71864e-04b0-472c-a00d-4cf0524fbbe5\")>,\n",
       " <selenium.webdriver.remote.webelement.WebElement (session=\"20c1fec1bc8abbb35d466647a7e7d146\", element=\"7745773c-bb18-40e6-9c2e-20adc7dcf5fb\")>,\n",
       " <selenium.webdriver.remote.webelement.WebElement (session=\"20c1fec1bc8abbb35d466647a7e7d146\", element=\"364301e7-3c0d-40eb-b06c-fca7e27eebcb\")>,\n",
       " <selenium.webdriver.remote.webelement.WebElement (session=\"20c1fec1bc8abbb35d466647a7e7d146\", element=\"a4bd1f73-ac0c-4fed-8bc7-fc07f3ebf010\")>,\n",
       " <selenium.webdriver.remote.webelement.WebElement (session=\"20c1fec1bc8abbb35d466647a7e7d146\", element=\"e7038f22-c260-45f0-858a-80fe55380c39\")>,\n",
       " <selenium.webdriver.remote.webelement.WebElement (session=\"20c1fec1bc8abbb35d466647a7e7d146\", element=\"9583a15b-48c6-4ec7-a472-a42b18f1c1c8\")>,\n",
       " <selenium.webdriver.remote.webelement.WebElement (session=\"20c1fec1bc8abbb35d466647a7e7d146\", element=\"7c98cb9d-ce52-4582-9693-c3fe628176cd\")>,\n",
       " <selenium.webdriver.remote.webelement.WebElement (session=\"20c1fec1bc8abbb35d466647a7e7d146\", element=\"c4a2081d-b014-4f43-879d-fd598fc78d19\")>,\n",
       " <selenium.webdriver.remote.webelement.WebElement (session=\"20c1fec1bc8abbb35d466647a7e7d146\", element=\"a9e71c49-3270-475a-bd7a-04ad40f1c55a\")>,\n",
       " <selenium.webdriver.remote.webelement.WebElement (session=\"20c1fec1bc8abbb35d466647a7e7d146\", element=\"a113a605-1275-4382-917a-93d81596199b\")>,\n",
       " <selenium.webdriver.remote.webelement.WebElement (session=\"20c1fec1bc8abbb35d466647a7e7d146\", element=\"26c7cb04-e659-4b37-b966-4d81ad0eb1d3\")>,\n",
       " <selenium.webdriver.remote.webelement.WebElement (session=\"20c1fec1bc8abbb35d466647a7e7d146\", element=\"2253d763-1096-467f-b887-d65decaa5b28\")>,\n",
       " <selenium.webdriver.remote.webelement.WebElement (session=\"20c1fec1bc8abbb35d466647a7e7d146\", element=\"45d7289a-c012-4203-b284-d54a707ce078\")>,\n",
       " <selenium.webdriver.remote.webelement.WebElement (session=\"20c1fec1bc8abbb35d466647a7e7d146\", element=\"9c28fad8-124c-42a2-ba7d-2dff21a3d4a8\")>,\n",
       " <selenium.webdriver.remote.webelement.WebElement (session=\"20c1fec1bc8abbb35d466647a7e7d146\", element=\"00c575a2-79f3-472b-9d03-d71a80e4f529\")>,\n",
       " <selenium.webdriver.remote.webelement.WebElement (session=\"20c1fec1bc8abbb35d466647a7e7d146\", element=\"c2d591a8-2834-46b6-a976-88398a6c3243\")>,\n",
       " <selenium.webdriver.remote.webelement.WebElement (session=\"20c1fec1bc8abbb35d466647a7e7d146\", element=\"e8fd65db-aaf1-40a8-988e-30714f853215\")>,\n",
       " <selenium.webdriver.remote.webelement.WebElement (session=\"20c1fec1bc8abbb35d466647a7e7d146\", element=\"5001ccf6-e497-4f0c-8109-dface172b153\")>,\n",
       " <selenium.webdriver.remote.webelement.WebElement (session=\"20c1fec1bc8abbb35d466647a7e7d146\", element=\"401ee712-eacd-4280-86be-a67ae2545405\")>,\n",
       " <selenium.webdriver.remote.webelement.WebElement (session=\"20c1fec1bc8abbb35d466647a7e7d146\", element=\"2eff2495-d896-4401-995c-cc4581c7e791\")>,\n",
       " <selenium.webdriver.remote.webelement.WebElement (session=\"20c1fec1bc8abbb35d466647a7e7d146\", element=\"c80095bb-8ef2-41aa-9da1-7a9f57831e9a\")>,\n",
       " <selenium.webdriver.remote.webelement.WebElement (session=\"20c1fec1bc8abbb35d466647a7e7d146\", element=\"3331a85d-abf3-4aa7-9f9e-9dc8fea30c53\")>,\n",
       " <selenium.webdriver.remote.webelement.WebElement (session=\"20c1fec1bc8abbb35d466647a7e7d146\", element=\"a700c567-e7f7-40d4-ba1f-74ffa2b49287\")>,\n",
       " <selenium.webdriver.remote.webelement.WebElement (session=\"20c1fec1bc8abbb35d466647a7e7d146\", element=\"ef36c720-5624-4d60-aa03-854f06af9009\")>,\n",
       " <selenium.webdriver.remote.webelement.WebElement (session=\"20c1fec1bc8abbb35d466647a7e7d146\", element=\"bf0a1cc1-b428-4fff-b41c-55767f78d950\")>,\n",
       " <selenium.webdriver.remote.webelement.WebElement (session=\"20c1fec1bc8abbb35d466647a7e7d146\", element=\"79ba90c3-1fa2-4628-bd3b-f8c164a8567f\")>,\n",
       " <selenium.webdriver.remote.webelement.WebElement (session=\"20c1fec1bc8abbb35d466647a7e7d146\", element=\"7524f3b2-4767-4e7a-84ed-9650505239c2\")>,\n",
       " <selenium.webdriver.remote.webelement.WebElement (session=\"20c1fec1bc8abbb35d466647a7e7d146\", element=\"41c82426-bf5d-409b-90b5-45302beba7a4\")>,\n",
       " <selenium.webdriver.remote.webelement.WebElement (session=\"20c1fec1bc8abbb35d466647a7e7d146\", element=\"e849e88c-3221-48f7-b028-3cc6952d2c4f\")>,\n",
       " <selenium.webdriver.remote.webelement.WebElement (session=\"20c1fec1bc8abbb35d466647a7e7d146\", element=\"b7f31fec-3ea3-486e-9c5c-77e43c076738\")>,\n",
       " <selenium.webdriver.remote.webelement.WebElement (session=\"20c1fec1bc8abbb35d466647a7e7d146\", element=\"f108db71-3b7b-4628-b11d-7b398ca1a337\")>,\n",
       " <selenium.webdriver.remote.webelement.WebElement (session=\"20c1fec1bc8abbb35d466647a7e7d146\", element=\"62839ba9-88bf-4046-8ead-7c13447f3b6a\")>,\n",
       " <selenium.webdriver.remote.webelement.WebElement (session=\"20c1fec1bc8abbb35d466647a7e7d146\", element=\"26ac6adb-8718-4a36-bf3a-7a9d92d0c5a1\")>,\n",
       " <selenium.webdriver.remote.webelement.WebElement (session=\"20c1fec1bc8abbb35d466647a7e7d146\", element=\"56660ebb-55d3-4c2e-adfd-30b76dd77e3b\")>,\n",
       " <selenium.webdriver.remote.webelement.WebElement (session=\"20c1fec1bc8abbb35d466647a7e7d146\", element=\"e69d43d0-3953-4b67-8b9d-7969e5d1f39e\")>]"
      ]
     },
     "execution_count": 363,
     "metadata": {},
     "output_type": "execute_result"
    }
   ],
   "source": [
    "Price_tag1 = driver.find_elements_by_xpath(\"//div[@class='_30jeq3']\")\n",
    "Price_tag1[0:40]"
   ]
  },
  {
   "cell_type": "code",
   "execution_count": 364,
   "id": "dd68a4d1",
   "metadata": {},
   "outputs": [
    {
     "data": {
      "text/plain": [
       "['₹329',\n",
       " '₹209',\n",
       " '₹259',\n",
       " '₹299',\n",
       " '₹329',\n",
       " '₹325',\n",
       " '₹299',\n",
       " '₹200',\n",
       " '₹200',\n",
       " '₹276',\n",
       " '₹340',\n",
       " '₹250',\n",
       " '₹189',\n",
       " '₹199',\n",
       " '₹649',\n",
       " '₹349',\n",
       " '₹255',\n",
       " '₹295',\n",
       " '₹259',\n",
       " '₹200',\n",
       " '₹287',\n",
       " '₹299',\n",
       " '₹219',\n",
       " '₹359',\n",
       " '₹329',\n",
       " '₹166',\n",
       " '₹329',\n",
       " '₹271',\n",
       " '₹299',\n",
       " '₹449',\n",
       " '₹179',\n",
       " '₹200',\n",
       " '₹359',\n",
       " '₹186',\n",
       " '₹319',\n",
       " '₹339',\n",
       " '₹276',\n",
       " '₹345',\n",
       " '₹299',\n",
       " '₹664']"
      ]
     },
     "execution_count": 364,
     "metadata": {},
     "output_type": "execute_result"
    }
   ],
   "source": [
    "Product_price1 = []\n",
    "for i in Price_tag1:\n",
    "    price = i.text\n",
    "    Product_price1.append(price)\n",
    "Product_price1[0:40]"
   ]
  },
  {
   "cell_type": "code",
   "execution_count": 365,
   "id": "1d6597eb",
   "metadata": {},
   "outputs": [
    {
     "name": "stderr",
     "output_type": "stream",
     "text": [
      "<ipython-input-365-a463b4744fcb>:1: DeprecationWarning: find_elements_by_* commands are deprecated. Please use find_elements() instead\n",
      "  off_tag1 = driver.find_elements_by_xpath(\"//div[@class='_3Ay6Sb']\")\n"
     ]
    },
    {
     "data": {
      "text/plain": [
       "[<selenium.webdriver.remote.webelement.WebElement (session=\"20c1fec1bc8abbb35d466647a7e7d146\", element=\"0618c684-51f4-461e-8530-f361f1ce62be\")>,\n",
       " <selenium.webdriver.remote.webelement.WebElement (session=\"20c1fec1bc8abbb35d466647a7e7d146\", element=\"c71ca677-9581-40c6-b659-9f7302265d2a\")>,\n",
       " <selenium.webdriver.remote.webelement.WebElement (session=\"20c1fec1bc8abbb35d466647a7e7d146\", element=\"d0ba9e9a-89f6-426c-afc1-e3e6f0212090\")>,\n",
       " <selenium.webdriver.remote.webelement.WebElement (session=\"20c1fec1bc8abbb35d466647a7e7d146\", element=\"37ce8e2d-91d6-440a-a00f-0f0e22f85a7b\")>,\n",
       " <selenium.webdriver.remote.webelement.WebElement (session=\"20c1fec1bc8abbb35d466647a7e7d146\", element=\"7075924b-de50-45b9-82cb-f5debddc26aa\")>,\n",
       " <selenium.webdriver.remote.webelement.WebElement (session=\"20c1fec1bc8abbb35d466647a7e7d146\", element=\"45ca2288-a97e-4fd8-a0c4-0813446ee569\")>,\n",
       " <selenium.webdriver.remote.webelement.WebElement (session=\"20c1fec1bc8abbb35d466647a7e7d146\", element=\"2396b105-f8d4-47fa-8075-648f51c397ba\")>,\n",
       " <selenium.webdriver.remote.webelement.WebElement (session=\"20c1fec1bc8abbb35d466647a7e7d146\", element=\"5ce64cb6-1503-4598-85a3-8785ddf82830\")>,\n",
       " <selenium.webdriver.remote.webelement.WebElement (session=\"20c1fec1bc8abbb35d466647a7e7d146\", element=\"4d439511-814b-48f6-82ed-b3cba60a0b42\")>,\n",
       " <selenium.webdriver.remote.webelement.WebElement (session=\"20c1fec1bc8abbb35d466647a7e7d146\", element=\"f99c0d85-75ad-4130-b7d4-5f8fc4225b42\")>,\n",
       " <selenium.webdriver.remote.webelement.WebElement (session=\"20c1fec1bc8abbb35d466647a7e7d146\", element=\"e33313e8-8879-4b6b-8e7d-b8f5ccc6563c\")>,\n",
       " <selenium.webdriver.remote.webelement.WebElement (session=\"20c1fec1bc8abbb35d466647a7e7d146\", element=\"c5644984-5ce2-4d5a-be1c-4eb0a52236fc\")>,\n",
       " <selenium.webdriver.remote.webelement.WebElement (session=\"20c1fec1bc8abbb35d466647a7e7d146\", element=\"6c164bfe-ae46-4a68-ac26-742bfd89b622\")>,\n",
       " <selenium.webdriver.remote.webelement.WebElement (session=\"20c1fec1bc8abbb35d466647a7e7d146\", element=\"cf7d1a98-08d7-456e-b05e-d4d96db60c6f\")>,\n",
       " <selenium.webdriver.remote.webelement.WebElement (session=\"20c1fec1bc8abbb35d466647a7e7d146\", element=\"fe8165e2-56ba-4142-bf41-738f2c493b44\")>,\n",
       " <selenium.webdriver.remote.webelement.WebElement (session=\"20c1fec1bc8abbb35d466647a7e7d146\", element=\"6a6ad9fd-03de-4b8d-8cd8-189a9482a4cb\")>,\n",
       " <selenium.webdriver.remote.webelement.WebElement (session=\"20c1fec1bc8abbb35d466647a7e7d146\", element=\"e6f6a19c-7455-40fd-8a84-b349a76a2bcc\")>,\n",
       " <selenium.webdriver.remote.webelement.WebElement (session=\"20c1fec1bc8abbb35d466647a7e7d146\", element=\"e8d62c79-eec2-40cf-be28-0a98e0203541\")>,\n",
       " <selenium.webdriver.remote.webelement.WebElement (session=\"20c1fec1bc8abbb35d466647a7e7d146\", element=\"0f5f2432-f919-4a0c-be9b-06f582d06e1d\")>,\n",
       " <selenium.webdriver.remote.webelement.WebElement (session=\"20c1fec1bc8abbb35d466647a7e7d146\", element=\"d2282648-8ad7-4c1a-89ed-646b913c9f75\")>,\n",
       " <selenium.webdriver.remote.webelement.WebElement (session=\"20c1fec1bc8abbb35d466647a7e7d146\", element=\"14a0419e-5c31-41ce-8629-312b0dc8aeb3\")>,\n",
       " <selenium.webdriver.remote.webelement.WebElement (session=\"20c1fec1bc8abbb35d466647a7e7d146\", element=\"5dc5db5b-589c-4f84-8199-6f99ec387acb\")>,\n",
       " <selenium.webdriver.remote.webelement.WebElement (session=\"20c1fec1bc8abbb35d466647a7e7d146\", element=\"455b18a8-0352-44c8-9588-7c0dff59b7f1\")>,\n",
       " <selenium.webdriver.remote.webelement.WebElement (session=\"20c1fec1bc8abbb35d466647a7e7d146\", element=\"57313205-b35e-4c49-8a5f-8ae79d244f52\")>,\n",
       " <selenium.webdriver.remote.webelement.WebElement (session=\"20c1fec1bc8abbb35d466647a7e7d146\", element=\"d5edd0ed-4b9c-4c9c-ad3f-80ead13075d2\")>,\n",
       " <selenium.webdriver.remote.webelement.WebElement (session=\"20c1fec1bc8abbb35d466647a7e7d146\", element=\"64425140-8e90-4064-8c9e-ec62f1654ced\")>,\n",
       " <selenium.webdriver.remote.webelement.WebElement (session=\"20c1fec1bc8abbb35d466647a7e7d146\", element=\"a61c30c6-98fd-4df8-a7b1-2a201655f2a0\")>,\n",
       " <selenium.webdriver.remote.webelement.WebElement (session=\"20c1fec1bc8abbb35d466647a7e7d146\", element=\"2ba72cbe-63b4-4799-8963-b4841e089f0a\")>,\n",
       " <selenium.webdriver.remote.webelement.WebElement (session=\"20c1fec1bc8abbb35d466647a7e7d146\", element=\"f5c12f8b-007e-4e7b-961f-57788162045d\")>,\n",
       " <selenium.webdriver.remote.webelement.WebElement (session=\"20c1fec1bc8abbb35d466647a7e7d146\", element=\"b5b802db-6b42-49f5-8d14-cd0f4fdf48c8\")>,\n",
       " <selenium.webdriver.remote.webelement.WebElement (session=\"20c1fec1bc8abbb35d466647a7e7d146\", element=\"6ae56086-1106-4740-8602-bc8227f25cb9\")>,\n",
       " <selenium.webdriver.remote.webelement.WebElement (session=\"20c1fec1bc8abbb35d466647a7e7d146\", element=\"8c072e5f-ce6c-4722-86a7-cb4fc477a852\")>,\n",
       " <selenium.webdriver.remote.webelement.WebElement (session=\"20c1fec1bc8abbb35d466647a7e7d146\", element=\"e9e6e4a4-030a-4663-8859-ac746ca6981c\")>,\n",
       " <selenium.webdriver.remote.webelement.WebElement (session=\"20c1fec1bc8abbb35d466647a7e7d146\", element=\"7a54508a-4a5c-4103-bd0f-03363e397f9e\")>,\n",
       " <selenium.webdriver.remote.webelement.WebElement (session=\"20c1fec1bc8abbb35d466647a7e7d146\", element=\"703d070b-d48d-4542-94fa-5a550c45c39f\")>,\n",
       " <selenium.webdriver.remote.webelement.WebElement (session=\"20c1fec1bc8abbb35d466647a7e7d146\", element=\"035cf02e-6b10-4dce-bdf5-a40ff0729479\")>,\n",
       " <selenium.webdriver.remote.webelement.WebElement (session=\"20c1fec1bc8abbb35d466647a7e7d146\", element=\"fe949aa7-8142-465e-878f-8873a3a135e6\")>,\n",
       " <selenium.webdriver.remote.webelement.WebElement (session=\"20c1fec1bc8abbb35d466647a7e7d146\", element=\"fbb4c05d-a6ce-4c22-982f-6c25792ce52c\")>,\n",
       " <selenium.webdriver.remote.webelement.WebElement (session=\"20c1fec1bc8abbb35d466647a7e7d146\", element=\"17c92205-ac38-4096-a6bf-7c32be5b467a\")>,\n",
       " <selenium.webdriver.remote.webelement.WebElement (session=\"20c1fec1bc8abbb35d466647a7e7d146\", element=\"217137f1-1e48-4e3d-a029-5de8dc74370e\")>]"
      ]
     },
     "execution_count": 365,
     "metadata": {},
     "output_type": "execute_result"
    }
   ],
   "source": [
    "off_tag1 = driver.find_elements_by_xpath(\"//div[@class='_3Ay6Sb']\")\n",
    "off_tag1[0:40]"
   ]
  },
  {
   "cell_type": "code",
   "execution_count": 367,
   "id": "ca6193ff",
   "metadata": {},
   "outputs": [
    {
     "data": {
      "text/plain": [
       "['83% off',\n",
       " '79% off',\n",
       " '82% off',\n",
       " '80% off',\n",
       " '67% off',\n",
       " '83% off',\n",
       " '82% off',\n",
       " '87% off',\n",
       " '87% off',\n",
       " '88% off',\n",
       " '82% off',\n",
       " '84% off',\n",
       " '86% off',\n",
       " '86% off',\n",
       " '18% off',\n",
       " '88% off',\n",
       " '78% off',\n",
       " '85% off',\n",
       " '74% off',\n",
       " '87% off',\n",
       " '84% off',\n",
       " '82% off',\n",
       " '81% off',\n",
       " '76% off',\n",
       " '83% off',\n",
       " '81% off',\n",
       " '83% off',\n",
       " '89% off',\n",
       " '91% off',\n",
       " '77% off',\n",
       " '64% off',\n",
       " '87% off',\n",
       " '86% off',\n",
       " '85% off',\n",
       " '87% off',\n",
       " '83% off',\n",
       " '78% off',\n",
       " '62% off',\n",
       " '81% off',\n",
       " '55% off']"
      ]
     },
     "execution_count": 367,
     "metadata": {},
     "output_type": "execute_result"
    }
   ],
   "source": [
    "Price_off1 = []\n",
    "for i in off_tag1:\n",
    "    off = i.text\n",
    "    Price_off1.append(off)\n",
    "Price_off1[0:40]"
   ]
  },
  {
   "cell_type": "code",
   "execution_count": 368,
   "id": "719272f4",
   "metadata": {},
   "outputs": [
    {
     "name": "stderr",
     "output_type": "stream",
     "text": [
      "<ipython-input-368-1e05a79bc3c0>:1: DeprecationWarning: find_element_by_* commands are deprecated. Please use find_element() instead\n",
      "  next_button = driver.find_element_by_xpath(\"/html/body/div/div/div[3]/div[1]/div[2]/div[12]/div/div/nav/a[12]/span\")\n"
     ]
    }
   ],
   "source": [
    "next_button = driver.find_element_by_xpath(\"/html/body/div/div/div[3]/div[1]/div[2]/div[12]/div/div/nav/a[12]/span\")\n",
    "next_button.click()"
   ]
  },
  {
   "cell_type": "code",
   "execution_count": 369,
   "id": "22206434",
   "metadata": {},
   "outputs": [
    {
     "name": "stderr",
     "output_type": "stream",
     "text": [
      "<ipython-input-369-6bad36798cad>:1: DeprecationWarning: find_elements_by_* commands are deprecated. Please use find_elements() instead\n",
      "  Brand_tag2 = driver.find_elements_by_xpath(\"//div[@class='_2WkVRV']\")\n"
     ]
    },
    {
     "data": {
      "text/plain": [
       "[<selenium.webdriver.remote.webelement.WebElement (session=\"20c1fec1bc8abbb35d466647a7e7d146\", element=\"0bfbd5ff-a2c3-48c3-bced-0d2d43bf0abb\")>,\n",
       " <selenium.webdriver.remote.webelement.WebElement (session=\"20c1fec1bc8abbb35d466647a7e7d146\", element=\"1bf05eeb-a3e9-46fa-9fad-e3e0e4ad8c62\")>,\n",
       " <selenium.webdriver.remote.webelement.WebElement (session=\"20c1fec1bc8abbb35d466647a7e7d146\", element=\"1009f804-db46-4ecd-84a5-bf97a5067443\")>,\n",
       " <selenium.webdriver.remote.webelement.WebElement (session=\"20c1fec1bc8abbb35d466647a7e7d146\", element=\"dbc8c7f0-b567-43fb-b3aa-d76df5c91792\")>,\n",
       " <selenium.webdriver.remote.webelement.WebElement (session=\"20c1fec1bc8abbb35d466647a7e7d146\", element=\"8d321027-cd98-44ed-92af-eef80d28b30f\")>,\n",
       " <selenium.webdriver.remote.webelement.WebElement (session=\"20c1fec1bc8abbb35d466647a7e7d146\", element=\"6fc5e360-669e-41d9-b593-1686a37b1e2e\")>,\n",
       " <selenium.webdriver.remote.webelement.WebElement (session=\"20c1fec1bc8abbb35d466647a7e7d146\", element=\"ac5be0a3-ee12-4486-a88e-d99a981c4fd7\")>,\n",
       " <selenium.webdriver.remote.webelement.WebElement (session=\"20c1fec1bc8abbb35d466647a7e7d146\", element=\"e048891b-07a8-4828-9577-4018cf21d9c4\")>,\n",
       " <selenium.webdriver.remote.webelement.WebElement (session=\"20c1fec1bc8abbb35d466647a7e7d146\", element=\"8ae3d54f-9c6f-485b-957e-2a9e59b78c85\")>,\n",
       " <selenium.webdriver.remote.webelement.WebElement (session=\"20c1fec1bc8abbb35d466647a7e7d146\", element=\"aac82dbd-ca73-4307-807e-7fe71cba1265\")>,\n",
       " <selenium.webdriver.remote.webelement.WebElement (session=\"20c1fec1bc8abbb35d466647a7e7d146\", element=\"79041d9c-ed91-4afc-924c-e63407e1a3e7\")>,\n",
       " <selenium.webdriver.remote.webelement.WebElement (session=\"20c1fec1bc8abbb35d466647a7e7d146\", element=\"680cbe18-d2db-4771-924a-a3dca449ff03\")>,\n",
       " <selenium.webdriver.remote.webelement.WebElement (session=\"20c1fec1bc8abbb35d466647a7e7d146\", element=\"da1b956b-99f2-43c5-8d40-b5ba8aa7c34d\")>,\n",
       " <selenium.webdriver.remote.webelement.WebElement (session=\"20c1fec1bc8abbb35d466647a7e7d146\", element=\"1d3e3c6c-f700-4b55-a66c-df8b3a61c506\")>,\n",
       " <selenium.webdriver.remote.webelement.WebElement (session=\"20c1fec1bc8abbb35d466647a7e7d146\", element=\"50634ea3-23a0-4b7f-8ed2-136ccdc7058c\")>,\n",
       " <selenium.webdriver.remote.webelement.WebElement (session=\"20c1fec1bc8abbb35d466647a7e7d146\", element=\"b25bd629-6b7b-461f-8579-17ca30374f0d\")>,\n",
       " <selenium.webdriver.remote.webelement.WebElement (session=\"20c1fec1bc8abbb35d466647a7e7d146\", element=\"5c7f911c-de34-4dfa-ab92-e6c426065564\")>,\n",
       " <selenium.webdriver.remote.webelement.WebElement (session=\"20c1fec1bc8abbb35d466647a7e7d146\", element=\"0173f5c5-187f-466f-8bcd-896073e32f99\")>,\n",
       " <selenium.webdriver.remote.webelement.WebElement (session=\"20c1fec1bc8abbb35d466647a7e7d146\", element=\"c6902696-971b-47a6-a071-c3c8201aa703\")>,\n",
       " <selenium.webdriver.remote.webelement.WebElement (session=\"20c1fec1bc8abbb35d466647a7e7d146\", element=\"529fbb7e-3042-490d-80f1-9a90270520ef\")>]"
      ]
     },
     "execution_count": 369,
     "metadata": {},
     "output_type": "execute_result"
    }
   ],
   "source": [
    "Brand_tag2 = driver.find_elements_by_xpath(\"//div[@class='_2WkVRV']\")\n",
    "Brand_tag2[0:20]"
   ]
  },
  {
   "cell_type": "code",
   "execution_count": 370,
   "id": "f7e09c86",
   "metadata": {},
   "outputs": [
    {
     "data": {
      "text/plain": [
       "['DEIXELS',\n",
       " 'ABNER',\n",
       " 'ROYAL SON',\n",
       " 'PIRASO',\n",
       " 'Elligator',\n",
       " 'kingsunglasses',\n",
       " 'hipe',\n",
       " 'PIRASO',\n",
       " 'ROYAL SON',\n",
       " 'Elligator',\n",
       " 'GANSTA',\n",
       " 'PIRASO',\n",
       " 'Elligator',\n",
       " 'Ray-Ban',\n",
       " 'Elligator',\n",
       " 'elegante',\n",
       " 'PIRASO',\n",
       " 'Singco',\n",
       " 'ROZZETTA CRAFT',\n",
       " 'PIRASO']"
      ]
     },
     "execution_count": 370,
     "metadata": {},
     "output_type": "execute_result"
    }
   ],
   "source": [
    "Brand_name2 = []\n",
    "for i in Brand_tag2:\n",
    "    brand = i.text\n",
    "    Brand_name2.append(brand)\n",
    "Brand_name2[0:20]"
   ]
  },
  {
   "cell_type": "code",
   "execution_count": 371,
   "id": "1e3e8535",
   "metadata": {},
   "outputs": [
    {
     "name": "stderr",
     "output_type": "stream",
     "text": [
      "<ipython-input-371-e635de2b08e8>:1: DeprecationWarning: find_elements_by_* commands are deprecated. Please use find_elements() instead\n",
      "  Desc_tag2 = driver.find_elements_by_xpath(\"//a[@class='IRpwTa']\")\n"
     ]
    },
    {
     "data": {
      "text/plain": [
       "[<selenium.webdriver.remote.webelement.WebElement (session=\"20c1fec1bc8abbb35d466647a7e7d146\", element=\"a96c6a8f-04a4-4d95-ad36-dd8257a8bd2a\")>,\n",
       " <selenium.webdriver.remote.webelement.WebElement (session=\"20c1fec1bc8abbb35d466647a7e7d146\", element=\"4ec532cd-be2c-46ca-a618-17f673d175fa\")>,\n",
       " <selenium.webdriver.remote.webelement.WebElement (session=\"20c1fec1bc8abbb35d466647a7e7d146\", element=\"a262e029-8a2c-44d4-a6ee-e39b4f5c7bd2\")>,\n",
       " <selenium.webdriver.remote.webelement.WebElement (session=\"20c1fec1bc8abbb35d466647a7e7d146\", element=\"c84f3049-948e-4041-9002-dcbe285948d3\")>,\n",
       " <selenium.webdriver.remote.webelement.WebElement (session=\"20c1fec1bc8abbb35d466647a7e7d146\", element=\"9aa032f6-766d-4084-96f0-a4f516e25da9\")>,\n",
       " <selenium.webdriver.remote.webelement.WebElement (session=\"20c1fec1bc8abbb35d466647a7e7d146\", element=\"a8216c46-91cd-4b75-a247-2e3e0e534f78\")>,\n",
       " <selenium.webdriver.remote.webelement.WebElement (session=\"20c1fec1bc8abbb35d466647a7e7d146\", element=\"840f2aba-c04f-4a92-896b-a3becaf675be\")>,\n",
       " <selenium.webdriver.remote.webelement.WebElement (session=\"20c1fec1bc8abbb35d466647a7e7d146\", element=\"516e74e2-bc9d-4bc3-918d-fa2636ef6778\")>,\n",
       " <selenium.webdriver.remote.webelement.WebElement (session=\"20c1fec1bc8abbb35d466647a7e7d146\", element=\"b518d791-a7ee-4fef-aee1-7bca54241335\")>,\n",
       " <selenium.webdriver.remote.webelement.WebElement (session=\"20c1fec1bc8abbb35d466647a7e7d146\", element=\"d18ee308-9e5d-4253-9a53-f6dfeaa91dbd\")>,\n",
       " <selenium.webdriver.remote.webelement.WebElement (session=\"20c1fec1bc8abbb35d466647a7e7d146\", element=\"2f0cccdb-7a8f-46eb-887c-1f149f97d7c8\")>,\n",
       " <selenium.webdriver.remote.webelement.WebElement (session=\"20c1fec1bc8abbb35d466647a7e7d146\", element=\"c72f0468-2f5f-4878-9ea6-b7d0d01bb0ed\")>,\n",
       " <selenium.webdriver.remote.webelement.WebElement (session=\"20c1fec1bc8abbb35d466647a7e7d146\", element=\"c625f305-85a0-4752-9249-1a72b6fcf398\")>,\n",
       " <selenium.webdriver.remote.webelement.WebElement (session=\"20c1fec1bc8abbb35d466647a7e7d146\", element=\"b2d5d3d0-1cbc-4d6d-91e2-811f3ac44c75\")>,\n",
       " <selenium.webdriver.remote.webelement.WebElement (session=\"20c1fec1bc8abbb35d466647a7e7d146\", element=\"a18e5847-a541-4754-bf0a-2892eb0cec6e\")>,\n",
       " <selenium.webdriver.remote.webelement.WebElement (session=\"20c1fec1bc8abbb35d466647a7e7d146\", element=\"7e82635e-9591-408f-b734-984426c7bdab\")>,\n",
       " <selenium.webdriver.remote.webelement.WebElement (session=\"20c1fec1bc8abbb35d466647a7e7d146\", element=\"9abab296-af34-4a9f-9d95-db931787cee5\")>,\n",
       " <selenium.webdriver.remote.webelement.WebElement (session=\"20c1fec1bc8abbb35d466647a7e7d146\", element=\"e61c6b03-7f80-4bfa-9fe0-b26bdd48abf0\")>,\n",
       " <selenium.webdriver.remote.webelement.WebElement (session=\"20c1fec1bc8abbb35d466647a7e7d146\", element=\"9fc275f5-b4fd-4555-af05-b69c3c0c9ea7\")>,\n",
       " <selenium.webdriver.remote.webelement.WebElement (session=\"20c1fec1bc8abbb35d466647a7e7d146\", element=\"08200d15-f010-4845-8923-552bc6d93eef\")>]"
      ]
     },
     "execution_count": 371,
     "metadata": {},
     "output_type": "execute_result"
    }
   ],
   "source": [
    "Desc_tag2 = driver.find_elements_by_xpath(\"//a[@class='IRpwTa']\")\n",
    "Desc_tag2[0:20]"
   ]
  },
  {
   "cell_type": "code",
   "execution_count": 372,
   "id": "63682949",
   "metadata": {},
   "outputs": [
    {
     "data": {
      "text/plain": [
       "['Polarized, UV Protection, Riding Glasses Wayfarer Sungl...',\n",
       " 'UV Protection Retro Square Sunglasses (Free Size)',\n",
       " 'UV Protection Round Sunglasses (50)',\n",
       " 'UV Protection Aviator Sunglasses (54)',\n",
       " 'UV Protection, Riding Glasses Rectangular, Retro Square...',\n",
       " 'UV Protection Rectangular Sunglasses (55)',\n",
       " 'UV Protection, Night Vision, Riding Glasses, Gradient, ...',\n",
       " 'UV Protection Rectangular, Over-sized Sunglasses (Free ...',\n",
       " 'UV Protection Round Sunglasses (50)',\n",
       " 'UV Protection Round Sunglasses (54)',\n",
       " 'UV Protection, Riding Glasses Wayfarer Sunglasses (53)',\n",
       " 'UV Protection Aviator Sunglasses (54)',\n",
       " 'UV Protection Round Sunglasses (53)',\n",
       " 'Mirrored, UV Protection Aviator Sunglasses (58)',\n",
       " 'UV Protection, Riding Glasses Rectangular, Retro Square...',\n",
       " 'UV Protection Oval Sunglasses (Free Size)',\n",
       " 'UV Protection Aviator Sunglasses (58)',\n",
       " 'UV Protection Aviator Sunglasses (Free Size)',\n",
       " 'UV Protection, Riding Glasses Rectangular Sunglasses (F...',\n",
       " 'UV Protection Butterfly Sunglasses (60)',\n",
       " 'UV Protection Rectangular Sunglasses (58)',\n",
       " 'Mirrored Aviator Sunglasses (55)',\n",
       " 'UV Protection, Polarized, Mirrored Retro Square Sunglas...',\n",
       " 'UV Protection Wayfarer Sunglasses (32)',\n",
       " 'UV Protection, Others Round Sunglasses (48)',\n",
       " 'UV Protection Round Sunglasses (Free Size)',\n",
       " 'UV Protection, Mirrored Retro Square Sunglasses (53)',\n",
       " 'UV Protection, Gradient, Night Vision Retro Square Sung...',\n",
       " 'UV Protection Rectangular Sunglasses (55)',\n",
       " 'UV Protection, Mirrored Aviator Sunglasses (Free Size)',\n",
       " 'Night Vision, Riding Glasses, UV Protection Wrap-around...',\n",
       " 'UV Protection Aviator Sunglasses (58)',\n",
       " 'UV Protection Rectangular Sunglasses (56)',\n",
       " 'UV Protection Retro Square Sunglasses (Free Size)',\n",
       " 'UV Protection, Mirrored Wayfarer Sunglasses (53)',\n",
       " 'UV Protection, Polarized Round Sunglasses (Free Size)',\n",
       " 'UV Protection, Mirrored Aviator Sunglasses (58)',\n",
       " 'UV Protection, Night Vision, Riding Glasses Sports Sung...',\n",
       " 'UV Protection Retro Square Sunglasses (58)',\n",
       " 'UV Protection, Gradient Butterfly Sunglasses (60)']"
      ]
     },
     "execution_count": 372,
     "metadata": {},
     "output_type": "execute_result"
    }
   ],
   "source": [
    "Product_desc2 = []\n",
    "for i in Desc_tag2:\n",
    "    desc = i.text\n",
    "    Product_desc2.append(desc)\n",
    "Product_desc2[0:40]"
   ]
  },
  {
   "cell_type": "code",
   "execution_count": 375,
   "id": "96e74d47",
   "metadata": {},
   "outputs": [
    {
     "name": "stderr",
     "output_type": "stream",
     "text": [
      "<ipython-input-375-22dd74217351>:1: DeprecationWarning: find_elements_by_* commands are deprecated. Please use find_elements() instead\n",
      "  Price_tag2 = driver.find_elements_by_xpath(\"//div[@class='_30jeq3']\")\n"
     ]
    },
    {
     "data": {
      "text/plain": [
       "[<selenium.webdriver.remote.webelement.WebElement (session=\"20c1fec1bc8abbb35d466647a7e7d146\", element=\"1923c3fa-d05c-47e4-8644-7cd4496f238b\")>,\n",
       " <selenium.webdriver.remote.webelement.WebElement (session=\"20c1fec1bc8abbb35d466647a7e7d146\", element=\"1780f955-9764-47dc-9e51-ebd3e2cd0cf1\")>,\n",
       " <selenium.webdriver.remote.webelement.WebElement (session=\"20c1fec1bc8abbb35d466647a7e7d146\", element=\"00001d35-dc52-4dd8-9968-f76e9ca2f98e\")>,\n",
       " <selenium.webdriver.remote.webelement.WebElement (session=\"20c1fec1bc8abbb35d466647a7e7d146\", element=\"796473e5-9429-4fc9-838f-aefa5012ad85\")>,\n",
       " <selenium.webdriver.remote.webelement.WebElement (session=\"20c1fec1bc8abbb35d466647a7e7d146\", element=\"87f3fae9-35da-4c61-9481-896ebccf5c81\")>,\n",
       " <selenium.webdriver.remote.webelement.WebElement (session=\"20c1fec1bc8abbb35d466647a7e7d146\", element=\"8c87de1b-ab07-49c8-ad97-fce4eaea3f58\")>,\n",
       " <selenium.webdriver.remote.webelement.WebElement (session=\"20c1fec1bc8abbb35d466647a7e7d146\", element=\"9d9f690b-d5d6-474d-becb-d25ccb18d6bd\")>,\n",
       " <selenium.webdriver.remote.webelement.WebElement (session=\"20c1fec1bc8abbb35d466647a7e7d146\", element=\"e1393974-b5a7-4d03-bb82-60a46e1c8063\")>,\n",
       " <selenium.webdriver.remote.webelement.WebElement (session=\"20c1fec1bc8abbb35d466647a7e7d146\", element=\"f5a03164-a455-47dc-a15a-54cd5c7cb255\")>,\n",
       " <selenium.webdriver.remote.webelement.WebElement (session=\"20c1fec1bc8abbb35d466647a7e7d146\", element=\"480f8573-ee39-4452-9e32-0b613b2a0f04\")>,\n",
       " <selenium.webdriver.remote.webelement.WebElement (session=\"20c1fec1bc8abbb35d466647a7e7d146\", element=\"cfb1d6f8-f762-444d-9ef2-59c58c6a263f\")>,\n",
       " <selenium.webdriver.remote.webelement.WebElement (session=\"20c1fec1bc8abbb35d466647a7e7d146\", element=\"dc500975-79e7-4a04-8deb-d24f7c0877e9\")>,\n",
       " <selenium.webdriver.remote.webelement.WebElement (session=\"20c1fec1bc8abbb35d466647a7e7d146\", element=\"fe3c15ca-3944-41de-b892-6a3e597c9e2d\")>,\n",
       " <selenium.webdriver.remote.webelement.WebElement (session=\"20c1fec1bc8abbb35d466647a7e7d146\", element=\"e9605572-3225-4f0f-8899-296a4fc4a551\")>,\n",
       " <selenium.webdriver.remote.webelement.WebElement (session=\"20c1fec1bc8abbb35d466647a7e7d146\", element=\"e4342592-1d10-42fd-bb35-f4b7c9ba2b29\")>,\n",
       " <selenium.webdriver.remote.webelement.WebElement (session=\"20c1fec1bc8abbb35d466647a7e7d146\", element=\"eeaeffd2-fbc3-4708-872d-3d48805908c9\")>,\n",
       " <selenium.webdriver.remote.webelement.WebElement (session=\"20c1fec1bc8abbb35d466647a7e7d146\", element=\"b05b1193-345f-43f2-a6cf-8fc246331795\")>,\n",
       " <selenium.webdriver.remote.webelement.WebElement (session=\"20c1fec1bc8abbb35d466647a7e7d146\", element=\"9338be4d-64a8-4a23-9e37-9306580baf28\")>,\n",
       " <selenium.webdriver.remote.webelement.WebElement (session=\"20c1fec1bc8abbb35d466647a7e7d146\", element=\"30e4d01d-2fa4-412a-8af0-ce43d90f64f8\")>,\n",
       " <selenium.webdriver.remote.webelement.WebElement (session=\"20c1fec1bc8abbb35d466647a7e7d146\", element=\"4d1f28d6-c6eb-4830-9f62-3b2e2f217e61\")>]"
      ]
     },
     "execution_count": 375,
     "metadata": {},
     "output_type": "execute_result"
    }
   ],
   "source": [
    "Price_tag2 = driver.find_elements_by_xpath(\"//div[@class='_30jeq3']\")\n",
    "Price_tag2[0:20]"
   ]
  },
  {
   "cell_type": "code",
   "execution_count": 376,
   "id": "517f55af",
   "metadata": {},
   "outputs": [
    {
     "data": {
      "text/plain": [
       "['₹236',\n",
       " '₹319',\n",
       " '₹359',\n",
       " '₹200',\n",
       " '₹332',\n",
       " '₹169',\n",
       " '₹189',\n",
       " '₹349',\n",
       " '₹359',\n",
       " '₹279',\n",
       " '₹209',\n",
       " '₹200',\n",
       " '₹264',\n",
       " '₹3,142',\n",
       " '₹332',\n",
       " '₹359',\n",
       " '₹319',\n",
       " '₹526',\n",
       " '₹379',\n",
       " '₹271']"
      ]
     },
     "execution_count": 376,
     "metadata": {},
     "output_type": "execute_result"
    }
   ],
   "source": [
    "Product_price2 = []\n",
    "for i in Price_tag2:\n",
    "    price = i.text\n",
    "    Product_price2.append(price)\n",
    "Product_price2[0:20]"
   ]
  },
  {
   "cell_type": "code",
   "execution_count": 377,
   "id": "5ff41111",
   "metadata": {},
   "outputs": [
    {
     "name": "stderr",
     "output_type": "stream",
     "text": [
      "<ipython-input-377-fa45a722f4cb>:1: DeprecationWarning: find_elements_by_* commands are deprecated. Please use find_elements() instead\n",
      "  off_tag2 = driver.find_elements_by_xpath(\"//div[@class='_3Ay6Sb']\")\n"
     ]
    },
    {
     "data": {
      "text/plain": [
       "[<selenium.webdriver.remote.webelement.WebElement (session=\"20c1fec1bc8abbb35d466647a7e7d146\", element=\"2fdebf88-35d5-4ed7-89d1-ff7d9de16e82\")>,\n",
       " <selenium.webdriver.remote.webelement.WebElement (session=\"20c1fec1bc8abbb35d466647a7e7d146\", element=\"2cc83b6a-eb50-4398-b24f-c36b7497c503\")>,\n",
       " <selenium.webdriver.remote.webelement.WebElement (session=\"20c1fec1bc8abbb35d466647a7e7d146\", element=\"98141a9e-fd3d-4599-afee-c9555e0f1e7d\")>,\n",
       " <selenium.webdriver.remote.webelement.WebElement (session=\"20c1fec1bc8abbb35d466647a7e7d146\", element=\"eb62f2ff-6893-48f8-8af4-c630e268025a\")>,\n",
       " <selenium.webdriver.remote.webelement.WebElement (session=\"20c1fec1bc8abbb35d466647a7e7d146\", element=\"28ca8b82-9d4d-4db9-b1ff-cbad71402dcc\")>,\n",
       " <selenium.webdriver.remote.webelement.WebElement (session=\"20c1fec1bc8abbb35d466647a7e7d146\", element=\"a19c50d2-27d4-4f3e-93a8-bc3931c2e28e\")>,\n",
       " <selenium.webdriver.remote.webelement.WebElement (session=\"20c1fec1bc8abbb35d466647a7e7d146\", element=\"882de57c-1a0b-4562-a2b4-f76ab70c7a6d\")>,\n",
       " <selenium.webdriver.remote.webelement.WebElement (session=\"20c1fec1bc8abbb35d466647a7e7d146\", element=\"04ae2f86-64af-4a95-87ed-69dd5db96b06\")>,\n",
       " <selenium.webdriver.remote.webelement.WebElement (session=\"20c1fec1bc8abbb35d466647a7e7d146\", element=\"a518058b-982f-4f44-af8a-3264230a6268\")>,\n",
       " <selenium.webdriver.remote.webelement.WebElement (session=\"20c1fec1bc8abbb35d466647a7e7d146\", element=\"b54f8208-f154-4de0-913a-1c65e1eb0f67\")>,\n",
       " <selenium.webdriver.remote.webelement.WebElement (session=\"20c1fec1bc8abbb35d466647a7e7d146\", element=\"0bcb4eea-2e49-49fd-9a72-fa82aac05a3c\")>,\n",
       " <selenium.webdriver.remote.webelement.WebElement (session=\"20c1fec1bc8abbb35d466647a7e7d146\", element=\"e03645c8-64ff-4ca5-91f5-9feb09633c76\")>,\n",
       " <selenium.webdriver.remote.webelement.WebElement (session=\"20c1fec1bc8abbb35d466647a7e7d146\", element=\"f04a58a1-6e7a-4137-8d81-b722e13225af\")>,\n",
       " <selenium.webdriver.remote.webelement.WebElement (session=\"20c1fec1bc8abbb35d466647a7e7d146\", element=\"095dcb6d-1888-4404-b143-500876864654\")>,\n",
       " <selenium.webdriver.remote.webelement.WebElement (session=\"20c1fec1bc8abbb35d466647a7e7d146\", element=\"aa4e4243-1d07-43ba-b7fc-6a50819c7343\")>,\n",
       " <selenium.webdriver.remote.webelement.WebElement (session=\"20c1fec1bc8abbb35d466647a7e7d146\", element=\"eb9a6f32-9c3f-45d7-b69d-83d0d2cfde4f\")>,\n",
       " <selenium.webdriver.remote.webelement.WebElement (session=\"20c1fec1bc8abbb35d466647a7e7d146\", element=\"abf2587a-b0e4-49b9-b993-ac9e04cdb40a\")>,\n",
       " <selenium.webdriver.remote.webelement.WebElement (session=\"20c1fec1bc8abbb35d466647a7e7d146\", element=\"813943c3-06dd-4ca8-8b2a-bbd82a28bd67\")>,\n",
       " <selenium.webdriver.remote.webelement.WebElement (session=\"20c1fec1bc8abbb35d466647a7e7d146\", element=\"609395a6-4d63-4be2-9014-3b83b8e91cc8\")>,\n",
       " <selenium.webdriver.remote.webelement.WebElement (session=\"20c1fec1bc8abbb35d466647a7e7d146\", element=\"49fd9df9-4fc2-4776-aa19-679baa437bec\")>]"
      ]
     },
     "execution_count": 377,
     "metadata": {},
     "output_type": "execute_result"
    }
   ],
   "source": [
    "off_tag2 = driver.find_elements_by_xpath(\"//div[@class='_3Ay6Sb']\")\n",
    "off_tag2[0:20]"
   ]
  },
  {
   "cell_type": "code",
   "execution_count": 379,
   "id": "3ab941d9",
   "metadata": {},
   "outputs": [
    {
     "data": {
      "text/plain": [
       "['60% off',\n",
       " '83% off',\n",
       " '76% off',\n",
       " '87% off',\n",
       " '77% off',\n",
       " '86% off',\n",
       " '85% off',\n",
       " '88% off',\n",
       " '76% off',\n",
       " '78% off',\n",
       " '88% off',\n",
       " '87% off',\n",
       " '89% off',\n",
       " '43% off',\n",
       " '77% off',\n",
       " '76% off',\n",
       " '87% off',\n",
       " '73% off',\n",
       " '82% off',\n",
       " '89% off']"
      ]
     },
     "execution_count": 379,
     "metadata": {},
     "output_type": "execute_result"
    }
   ],
   "source": [
    "Price_off2 = []\n",
    "for i in off_tag2:\n",
    "    off = i.text\n",
    "    Price_off2.append(off)\n",
    "Price_off2[0:20]"
   ]
  },
  {
   "cell_type": "markdown",
   "id": "72484996",
   "metadata": {},
   "source": [
    "Q5: Scrape 100 reviews data from flipkart.com for iphone11 phone. You have to go the link:\n",
    "\n",
    "https://www.flipkart.com/apple-iphone-11-black-64-gb-includes- earpods-poweradapter/\n",
    "p/itm0f37c2240b217?pid=MOBFKCTSVZAXUHGR&lid=LSTMOBFKC\n",
    "TSVZAXUHGREPBFGI&marketplace.\n",
    "\n",
    "As shown in the above page you have to scrape the tick marked attributes. These are:\n",
    "\n",
    "1. Rating\n",
    "\n",
    "2. Review_summary\n",
    "\n",
    "3. Full review\n",
    "\n",
    "4. You have to scrape this data for first 100 reviews."
   ]
  },
  {
   "cell_type": "code",
   "execution_count": 385,
   "id": "4663601a",
   "metadata": {},
   "outputs": [
    {
     "name": "stderr",
     "output_type": "stream",
     "text": [
      "<ipython-input-385-7cb550b8266b>:2: DeprecationWarning: executable_path has been deprecated, please pass in a Service object\n",
      "  driver = webdriver.Chrome(PATH)\n"
     ]
    }
   ],
   "source": [
    "PATH = \"C:\\Program Files (x86)\\chromedriver.exe\"\n",
    "driver = webdriver.Chrome(PATH)"
   ]
  },
  {
   "cell_type": "code",
   "execution_count": 386,
   "id": "92fd478d",
   "metadata": {},
   "outputs": [],
   "source": [
    "driver.get('https://www.flipkart.com/apple-iphone-11-black-64-gb-includes- earpods-poweradapter/p/itm0f37c2240b217?pid=MOBFKCTSVZAXUHGR&lid=LSTMOBFKCTSVZAXUHGREPBFGI&marketplace')"
   ]
  },
  {
   "cell_type": "code",
   "execution_count": 391,
   "id": "c8c14557",
   "metadata": {},
   "outputs": [
    {
     "name": "stderr",
     "output_type": "stream",
     "text": [
      "<ipython-input-391-bc43beff5f52>:1: DeprecationWarning: find_elements_by_* commands are deprecated. Please use find_elements() instead\n",
      "  rating_tag = driver.find_elements_by_xpath(\"//div[@class='_3LWZlK _1BLPMq']\")\n"
     ]
    },
    {
     "data": {
      "text/plain": [
       "[<selenium.webdriver.remote.webelement.WebElement (session=\"8798cbf4eaf1e47b30254f455d36bf95\", element=\"0a376f54-473b-431a-ac6b-90e7fdba973c\")>,\n",
       " <selenium.webdriver.remote.webelement.WebElement (session=\"8798cbf4eaf1e47b30254f455d36bf95\", element=\"8e2a8347-8c8d-4022-8a44-89340fb84ab6\")>,\n",
       " <selenium.webdriver.remote.webelement.WebElement (session=\"8798cbf4eaf1e47b30254f455d36bf95\", element=\"64e2f2b6-f801-4b6f-8146-2d1c22aff1c0\")>,\n",
       " <selenium.webdriver.remote.webelement.WebElement (session=\"8798cbf4eaf1e47b30254f455d36bf95\", element=\"fc79e4d4-0b3c-4eb3-ae50-52e00ac1013b\")>,\n",
       " <selenium.webdriver.remote.webelement.WebElement (session=\"8798cbf4eaf1e47b30254f455d36bf95\", element=\"77e92f5f-6ab6-4c0f-a478-653e73bdc1bb\")>,\n",
       " <selenium.webdriver.remote.webelement.WebElement (session=\"8798cbf4eaf1e47b30254f455d36bf95\", element=\"f6ca0559-0a56-4178-adf6-14319f49d2fe\")>,\n",
       " <selenium.webdriver.remote.webelement.WebElement (session=\"8798cbf4eaf1e47b30254f455d36bf95\", element=\"49fe5284-0697-4010-9329-3ae839c7170c\")>,\n",
       " <selenium.webdriver.remote.webelement.WebElement (session=\"8798cbf4eaf1e47b30254f455d36bf95\", element=\"dc2a6079-6cd2-4a48-9200-d1914fe5b989\")>,\n",
       " <selenium.webdriver.remote.webelement.WebElement (session=\"8798cbf4eaf1e47b30254f455d36bf95\", element=\"23cf4608-604e-4fd3-a13d-d5a6a601ae96\")>,\n",
       " <selenium.webdriver.remote.webelement.WebElement (session=\"8798cbf4eaf1e47b30254f455d36bf95\", element=\"f79c669e-71a9-4036-9b72-7c66fc237753\")>]"
      ]
     },
     "execution_count": 391,
     "metadata": {},
     "output_type": "execute_result"
    }
   ],
   "source": [
    "rating_tag = driver.find_elements_by_xpath(\"//div[@class='_3LWZlK _1BLPMq']\")\n",
    "rating_tag[0:10]"
   ]
  },
  {
   "cell_type": "code",
   "execution_count": 392,
   "id": "bce797d2",
   "metadata": {},
   "outputs": [
    {
     "data": {
      "text/plain": [
       "['5', '5', '5', '5', '5', '5', '5', '4', '5', '5']"
      ]
     },
     "execution_count": 392,
     "metadata": {},
     "output_type": "execute_result"
    }
   ],
   "source": [
    "Product_rating = []\n",
    "for i in rating_tag:\n",
    "    rating = i.text\n",
    "    Product_rating.append(rating)\n",
    "Product_rating[0:10]"
   ]
  },
  {
   "cell_type": "code",
   "execution_count": 395,
   "id": "404b3fff",
   "metadata": {},
   "outputs": [
    {
     "name": "stderr",
     "output_type": "stream",
     "text": [
      "<ipython-input-395-0c6ebded948c>:1: DeprecationWarning: find_elements_by_* commands are deprecated. Please use find_elements() instead\n",
      "  Review_tag = driver.find_elements_by_xpath(\"//p[@class='_2-N8zT']\")\n"
     ]
    },
    {
     "data": {
      "text/plain": [
       "[<selenium.webdriver.remote.webelement.WebElement (session=\"8798cbf4eaf1e47b30254f455d36bf95\", element=\"cd764958-9ded-448a-afd6-1aa3d79cd13c\")>,\n",
       " <selenium.webdriver.remote.webelement.WebElement (session=\"8798cbf4eaf1e47b30254f455d36bf95\", element=\"578123c0-cbac-4a1e-a51b-85a825090a53\")>,\n",
       " <selenium.webdriver.remote.webelement.WebElement (session=\"8798cbf4eaf1e47b30254f455d36bf95\", element=\"029a4283-772c-43ca-b2ed-3143aaa3ba76\")>,\n",
       " <selenium.webdriver.remote.webelement.WebElement (session=\"8798cbf4eaf1e47b30254f455d36bf95\", element=\"08660eec-5209-449b-bd33-6003dd6491dc\")>,\n",
       " <selenium.webdriver.remote.webelement.WebElement (session=\"8798cbf4eaf1e47b30254f455d36bf95\", element=\"2efc58d3-e5d3-448b-841a-165ffe3e0bec\")>,\n",
       " <selenium.webdriver.remote.webelement.WebElement (session=\"8798cbf4eaf1e47b30254f455d36bf95\", element=\"ca746c6a-806d-43d1-8809-c8eb105b1b9d\")>,\n",
       " <selenium.webdriver.remote.webelement.WebElement (session=\"8798cbf4eaf1e47b30254f455d36bf95\", element=\"c1f8184f-8c98-4ddd-a675-61102dac2581\")>,\n",
       " <selenium.webdriver.remote.webelement.WebElement (session=\"8798cbf4eaf1e47b30254f455d36bf95\", element=\"2aa91088-ff06-40e4-b5b2-645c9ad6e235\")>,\n",
       " <selenium.webdriver.remote.webelement.WebElement (session=\"8798cbf4eaf1e47b30254f455d36bf95\", element=\"4b54aee3-e960-405f-b59e-632ef166615a\")>,\n",
       " <selenium.webdriver.remote.webelement.WebElement (session=\"8798cbf4eaf1e47b30254f455d36bf95\", element=\"aa179ab5-8306-48c5-a7b5-f9e2ee069aaf\")>]"
      ]
     },
     "execution_count": 395,
     "metadata": {},
     "output_type": "execute_result"
    }
   ],
   "source": [
    "Review_tag = driver.find_elements_by_xpath(\"//p[@class='_2-N8zT']\")\n",
    "Review_tag[0:10]"
   ]
  },
  {
   "cell_type": "code",
   "execution_count": 394,
   "id": "c6142fda",
   "metadata": {},
   "outputs": [
    {
     "data": {
      "text/plain": [
       "['Brilliant',\n",
       " 'Simply awesome',\n",
       " 'Perfect product!',\n",
       " 'Worth every penny',\n",
       " 'Fabulous!',\n",
       " 'Best in the market!',\n",
       " 'Great product',\n",
       " 'Good choice',\n",
       " 'Worth every penny',\n",
       " 'Highly recommended']"
      ]
     },
     "execution_count": 394,
     "metadata": {},
     "output_type": "execute_result"
    }
   ],
   "source": [
    "Review_summary = []\n",
    "for i in Review_tag:\n",
    "    summary=i.text\n",
    "    Review_summary.append(summary)\n",
    "Review_summary[0:10]"
   ]
  },
  {
   "cell_type": "code",
   "execution_count": 397,
   "id": "cd5f8111",
   "metadata": {},
   "outputs": [
    {
     "name": "stderr",
     "output_type": "stream",
     "text": [
      "<ipython-input-397-c6ec5c153832>:1: DeprecationWarning: find_elements_by_* commands are deprecated. Please use find_elements() instead\n",
      "  fReview_tag = driver.find_elements_by_xpath(\"//div[@class='t-ZTKy']\")\n"
     ]
    },
    {
     "data": {
      "text/plain": [
       "[<selenium.webdriver.remote.webelement.WebElement (session=\"8798cbf4eaf1e47b30254f455d36bf95\", element=\"48dcfbd4-9b9b-4601-a7e3-7a82fc7f7a55\")>,\n",
       " <selenium.webdriver.remote.webelement.WebElement (session=\"8798cbf4eaf1e47b30254f455d36bf95\", element=\"de568754-9894-4cf7-a1ce-5323451b73ff\")>,\n",
       " <selenium.webdriver.remote.webelement.WebElement (session=\"8798cbf4eaf1e47b30254f455d36bf95\", element=\"e5a2cf6a-b429-4a66-8c16-98dc4deade9a\")>,\n",
       " <selenium.webdriver.remote.webelement.WebElement (session=\"8798cbf4eaf1e47b30254f455d36bf95\", element=\"0699a2b4-94f2-4746-8835-f594e2856e9a\")>,\n",
       " <selenium.webdriver.remote.webelement.WebElement (session=\"8798cbf4eaf1e47b30254f455d36bf95\", element=\"6678479c-eaa6-4aba-b2a1-d2e6f07395d7\")>,\n",
       " <selenium.webdriver.remote.webelement.WebElement (session=\"8798cbf4eaf1e47b30254f455d36bf95\", element=\"614cd076-30d0-40b6-a909-09da15417c74\")>,\n",
       " <selenium.webdriver.remote.webelement.WebElement (session=\"8798cbf4eaf1e47b30254f455d36bf95\", element=\"86dd35e4-d2a9-4488-b851-5f33c1c038b3\")>,\n",
       " <selenium.webdriver.remote.webelement.WebElement (session=\"8798cbf4eaf1e47b30254f455d36bf95\", element=\"d624d00f-23a2-4773-be71-3379b3287685\")>,\n",
       " <selenium.webdriver.remote.webelement.WebElement (session=\"8798cbf4eaf1e47b30254f455d36bf95\", element=\"2887662e-5164-40da-83a4-a526cdc1e6d1\")>,\n",
       " <selenium.webdriver.remote.webelement.WebElement (session=\"8798cbf4eaf1e47b30254f455d36bf95\", element=\"187a9e09-c41f-4199-bca9-08c2458414c5\")>]"
      ]
     },
     "execution_count": 397,
     "metadata": {},
     "output_type": "execute_result"
    }
   ],
   "source": [
    "fReview_tag = driver.find_elements_by_xpath(\"//div[@class='t-ZTKy']\")\n",
    "fReview_tag[0:10]"
   ]
  },
  {
   "cell_type": "code",
   "execution_count": 399,
   "id": "324f5a75",
   "metadata": {},
   "outputs": [
    {
     "data": {
      "text/plain": [
       "['The Best Phone for the Money\\n\\nThe iPhone 11 offers superb cameras, a more durable design and excellent battery life for an affordable price.\\n\\nCompelling ultra-wide camera\\nNew Night mode is excellent\\nLong battery life',\n",
       " 'Really satisfied with the Product I received... It’s totally genuine and the packaging was also really good so if ur planning to buy just go for it.',\n",
       " 'Amazing phone with great cameras and better battery which gives you the best performance. I just love the camera .',\n",
       " 'Previously I was using one plus 3t it was a great phone\\nAnd then I decided to upgrade I am stuck between Samsung s10 plus or iPhone 11\\nI have seen the specs and everything were good except the display it’s somewhere between 720-1080 and it’s not even an amoled it’s an LCD display\\nBut I decided to go with iPhone because I have never used an IOS device I have Been an android user from the past 9 years I ordered IPhone 11 (128gb) product red\\nMy experience after using 3 weeks\\n1. The delivery ...\\nREAD MORE',\n",
       " 'This is my first iOS phone. I am very happy with this product. Very much satisfied with this. I love this phone.',\n",
       " 'Great iPhone very snappy experience as apple kind. Upgraded from iPhone 7.\\nPros\\n-Camera top class\\n- Battery top performed\\n-Chipset no need to say as apple kind\\n-Security as you expect from apple\\n- Display super bright industry leading colour\\naccuracy and super responsive\\n-Build quality as expect from apple sturdy\\npremium durable beautiful stylish.\\n-Os most stable os in smartphone industry\\n\\nCons\\n-No 5G\\n-Display is not based on OLED technology\\n-Charger headphones and 1 apple stic...\\nREAD MORE',\n",
       " 'Amazing Powerful and Durable Gadget.\\n\\nI’m am very happy with the camera picture quality, Amazing face id unlocked in dark room, Strong battery with perfect screen size as you can carry easily in pocket. This is my third iPhone.\\n\\nI shifted from android Samsung Note series to iPhone because of the strong build quality and peace of mind for next 3-4 years.\\n\\nDon’t think to much just go for it and I suggest you to go for minimum 128gb variant or more 256gb.\\n\\nI’ve attached my puppy pics and no fi...\\nREAD MORE',\n",
       " 'So far it’s been an AMAZING experience coming back to iOS after nearly a decade but it’s not as versatile as android though phone is sturdy dropped it accidentally a couple of times and nothing happened fortunately camera is awesome',\n",
       " 'i11 is worthy to buy, too much happy with the product. Thank u flipkart I received the item on time..loved it..',\n",
       " 'iphone 11 is a very good phone to buy only if you can compromise for the display. The display on this is device is pretty good but you can get other options with better displays in this price segment.\\nIf you can survive with an HD+ LCD panel with thicker bezels and a notch up top then this is a very good phone for you.\\nCameras are awesome, battery backup excellent, great performance and a decent premium look. Good job Apple !']"
      ]
     },
     "execution_count": 399,
     "metadata": {},
     "output_type": "execute_result"
    }
   ],
   "source": [
    "full_review = []\n",
    "for i in fReview_tag:\n",
    "    freview = i.text\n",
    "    full_review.append(freview)\n",
    "full_review[0:10]"
   ]
  },
  {
   "cell_type": "code",
   "execution_count": 400,
   "id": "7c839cb7",
   "metadata": {},
   "outputs": [
    {
     "name": "stderr",
     "output_type": "stream",
     "text": [
      "<ipython-input-400-09e6578f0d81>:1: DeprecationWarning: find_element_by_* commands are deprecated. Please use find_element() instead\n",
      "  Next_page2 = driver.find_element_by_xpath('/html/body/div[1]/div/div[3]/div/div/div[2]/div[13]/div/div/nav/a[11]/span').click()\n"
     ]
    }
   ],
   "source": [
    "Next_page2 = driver.find_element_by_xpath('/html/body/div[1]/div/div[3]/div/div/div[2]/div[13]/div/div/nav/a[11]/span').click()"
   ]
  },
  {
   "cell_type": "code",
   "execution_count": 401,
   "id": "75a03ed1",
   "metadata": {},
   "outputs": [
    {
     "name": "stderr",
     "output_type": "stream",
     "text": [
      "<ipython-input-401-d672790a2ae7>:1: DeprecationWarning: find_elements_by_* commands are deprecated. Please use find_elements() instead\n",
      "  rating_tag1 = driver.find_elements_by_xpath(\"//div[@class='_3LWZlK _1BLPMq']\")\n"
     ]
    },
    {
     "data": {
      "text/plain": [
       "[<selenium.webdriver.remote.webelement.WebElement (session=\"8798cbf4eaf1e47b30254f455d36bf95\", element=\"29f197b0-6a43-4ff6-b175-09a5f0d216b8\")>,\n",
       " <selenium.webdriver.remote.webelement.WebElement (session=\"8798cbf4eaf1e47b30254f455d36bf95\", element=\"11ba9d65-760b-437f-a725-b287c50f9601\")>,\n",
       " <selenium.webdriver.remote.webelement.WebElement (session=\"8798cbf4eaf1e47b30254f455d36bf95\", element=\"579a49d8-1558-43ae-9c24-c8090e0256da\")>,\n",
       " <selenium.webdriver.remote.webelement.WebElement (session=\"8798cbf4eaf1e47b30254f455d36bf95\", element=\"9e53800d-b9f3-4157-b2ed-4ca6ba91282f\")>,\n",
       " <selenium.webdriver.remote.webelement.WebElement (session=\"8798cbf4eaf1e47b30254f455d36bf95\", element=\"a14cb18f-7e78-4f35-97d5-425361a3394e\")>,\n",
       " <selenium.webdriver.remote.webelement.WebElement (session=\"8798cbf4eaf1e47b30254f455d36bf95\", element=\"3828a502-682f-4f57-878b-4d00e78006c9\")>,\n",
       " <selenium.webdriver.remote.webelement.WebElement (session=\"8798cbf4eaf1e47b30254f455d36bf95\", element=\"35973494-f7b6-4a19-b46c-4f1e4afb1fce\")>,\n",
       " <selenium.webdriver.remote.webelement.WebElement (session=\"8798cbf4eaf1e47b30254f455d36bf95\", element=\"7d8b8589-8afb-4b4e-ad51-aeca69bc4faa\")>,\n",
       " <selenium.webdriver.remote.webelement.WebElement (session=\"8798cbf4eaf1e47b30254f455d36bf95\", element=\"0384b733-e7b5-44f6-b615-4a28422ef96e\")>,\n",
       " <selenium.webdriver.remote.webelement.WebElement (session=\"8798cbf4eaf1e47b30254f455d36bf95\", element=\"f927afd2-0625-42b4-80ab-1813e95f6e11\")>]"
      ]
     },
     "execution_count": 401,
     "metadata": {},
     "output_type": "execute_result"
    }
   ],
   "source": [
    "rating_tag1 = driver.find_elements_by_xpath(\"//div[@class='_3LWZlK _1BLPMq']\")\n",
    "rating_tag1[0:10]"
   ]
  },
  {
   "cell_type": "code",
   "execution_count": 402,
   "id": "c5925554",
   "metadata": {},
   "outputs": [
    {
     "data": {
      "text/plain": [
       "['5', '5', '5', '5', '5', '5', '5', '5', '5', '5']"
      ]
     },
     "execution_count": 402,
     "metadata": {},
     "output_type": "execute_result"
    }
   ],
   "source": [
    "Product_rating1 = []\n",
    "for i in rating_tag1:\n",
    "    rating = i.text\n",
    "    Product_rating1.append(rating)\n",
    "Product_rating1[0:10]"
   ]
  },
  {
   "cell_type": "code",
   "execution_count": 403,
   "id": "daa0777c",
   "metadata": {},
   "outputs": [
    {
     "name": "stderr",
     "output_type": "stream",
     "text": [
      "<ipython-input-403-bf20c07c7e6e>:1: DeprecationWarning: find_elements_by_* commands are deprecated. Please use find_elements() instead\n",
      "  Review_tag1 = driver.find_elements_by_xpath(\"//p[@class='_2-N8zT']\")\n"
     ]
    },
    {
     "data": {
      "text/plain": [
       "[<selenium.webdriver.remote.webelement.WebElement (session=\"8798cbf4eaf1e47b30254f455d36bf95\", element=\"a6be06bf-0bb5-49d1-a351-5b8a05505db6\")>,\n",
       " <selenium.webdriver.remote.webelement.WebElement (session=\"8798cbf4eaf1e47b30254f455d36bf95\", element=\"de0d0f43-7e19-48e2-a475-98673ace8105\")>,\n",
       " <selenium.webdriver.remote.webelement.WebElement (session=\"8798cbf4eaf1e47b30254f455d36bf95\", element=\"c72835a8-6db1-495e-ae40-3563ce46776c\")>,\n",
       " <selenium.webdriver.remote.webelement.WebElement (session=\"8798cbf4eaf1e47b30254f455d36bf95\", element=\"7e1e6df2-9f23-4bc7-9b24-363be7dba17a\")>,\n",
       " <selenium.webdriver.remote.webelement.WebElement (session=\"8798cbf4eaf1e47b30254f455d36bf95\", element=\"978d9dab-12fd-447f-a7e9-b032c7565b3d\")>,\n",
       " <selenium.webdriver.remote.webelement.WebElement (session=\"8798cbf4eaf1e47b30254f455d36bf95\", element=\"38e013c0-1578-407f-8607-8c8ea95c83a4\")>,\n",
       " <selenium.webdriver.remote.webelement.WebElement (session=\"8798cbf4eaf1e47b30254f455d36bf95\", element=\"166eb673-c1b6-4467-95a9-98a15d32f3dc\")>,\n",
       " <selenium.webdriver.remote.webelement.WebElement (session=\"8798cbf4eaf1e47b30254f455d36bf95\", element=\"94b253f5-9ed3-423a-a050-a8f252565f76\")>,\n",
       " <selenium.webdriver.remote.webelement.WebElement (session=\"8798cbf4eaf1e47b30254f455d36bf95\", element=\"0870de62-d2cc-4ee9-9e6d-7bfceca79f09\")>,\n",
       " <selenium.webdriver.remote.webelement.WebElement (session=\"8798cbf4eaf1e47b30254f455d36bf95\", element=\"90a8fe98-f6c2-4a31-aa45-8c7ae90f86a3\")>]"
      ]
     },
     "execution_count": 403,
     "metadata": {},
     "output_type": "execute_result"
    }
   ],
   "source": [
    "Review_tag1 = driver.find_elements_by_xpath(\"//p[@class='_2-N8zT']\")\n",
    "Review_tag1[0:10]"
   ]
  },
  {
   "cell_type": "code",
   "execution_count": 404,
   "id": "415a8392",
   "metadata": {},
   "outputs": [
    {
     "data": {
      "text/plain": [
       "['Highly recommended',\n",
       " 'Perfect product!',\n",
       " 'Perfect product!',\n",
       " 'Classy product',\n",
       " 'Worth every penny',\n",
       " 'Simply awesome',\n",
       " 'Perfect product!',\n",
       " 'Highly recommended',\n",
       " 'Worth every penny',\n",
       " 'Worth every penny']"
      ]
     },
     "execution_count": 404,
     "metadata": {},
     "output_type": "execute_result"
    }
   ],
   "source": [
    "Review_summary1 = []\n",
    "for i in Review_tag1:\n",
    "    summary=i.text\n",
    "    Review_summary1.append(summary)\n",
    "Review_summary1[0:10]"
   ]
  },
  {
   "cell_type": "code",
   "execution_count": 405,
   "id": "f03c1a91",
   "metadata": {},
   "outputs": [
    {
     "name": "stderr",
     "output_type": "stream",
     "text": [
      "<ipython-input-405-725be6ab4dbd>:1: DeprecationWarning: find_elements_by_* commands are deprecated. Please use find_elements() instead\n",
      "  fReview_tag1 = driver.find_elements_by_xpath(\"//div[@class='t-ZTKy']\")\n"
     ]
    },
    {
     "data": {
      "text/plain": [
       "[<selenium.webdriver.remote.webelement.WebElement (session=\"8798cbf4eaf1e47b30254f455d36bf95\", element=\"be40b68e-f5e9-45ac-bd79-4f79a7e8bd32\")>,\n",
       " <selenium.webdriver.remote.webelement.WebElement (session=\"8798cbf4eaf1e47b30254f455d36bf95\", element=\"1bd9de53-c890-45cd-94f0-0d99418309b8\")>,\n",
       " <selenium.webdriver.remote.webelement.WebElement (session=\"8798cbf4eaf1e47b30254f455d36bf95\", element=\"3fe7a392-db60-4742-a7e9-0c44f7912929\")>,\n",
       " <selenium.webdriver.remote.webelement.WebElement (session=\"8798cbf4eaf1e47b30254f455d36bf95\", element=\"3ab7db8b-ce91-4768-9c96-32be7df804a7\")>,\n",
       " <selenium.webdriver.remote.webelement.WebElement (session=\"8798cbf4eaf1e47b30254f455d36bf95\", element=\"ff87134a-2fb2-4865-bba8-b5fe20a9f1f9\")>,\n",
       " <selenium.webdriver.remote.webelement.WebElement (session=\"8798cbf4eaf1e47b30254f455d36bf95\", element=\"c5a4d14a-e813-44bc-9ec5-a0017e62580b\")>,\n",
       " <selenium.webdriver.remote.webelement.WebElement (session=\"8798cbf4eaf1e47b30254f455d36bf95\", element=\"2ab97141-10a5-4f51-b79b-a05ffff36321\")>,\n",
       " <selenium.webdriver.remote.webelement.WebElement (session=\"8798cbf4eaf1e47b30254f455d36bf95\", element=\"42887c2e-f3c5-46e8-bf47-9967011b88f6\")>,\n",
       " <selenium.webdriver.remote.webelement.WebElement (session=\"8798cbf4eaf1e47b30254f455d36bf95\", element=\"014260f4-671b-4198-8afa-10736c7bc6a1\")>,\n",
       " <selenium.webdriver.remote.webelement.WebElement (session=\"8798cbf4eaf1e47b30254f455d36bf95\", element=\"808fc3a1-b160-455a-a2e3-3d565d15f9cd\")>]"
      ]
     },
     "execution_count": 405,
     "metadata": {},
     "output_type": "execute_result"
    }
   ],
   "source": [
    "fReview_tag1 = driver.find_elements_by_xpath(\"//div[@class='t-ZTKy']\")\n",
    "fReview_tag1[0:10]"
   ]
  },
  {
   "cell_type": "code",
   "execution_count": 406,
   "id": "a672d6ab",
   "metadata": {},
   "outputs": [
    {
     "data": {
      "text/plain": [
       "['What a camera .....just awesome ..you can feel this iPhone just awesome . Good for gaming also ...try pubg in hd it’s just wow',\n",
       " 'It’s a must buy who is looking for an upgrade from previous generation of iPhones. If you are using XR then still you can hold on for sometime and upgrade to 2020 model else this phone is a must buy . Camera quality is amazing and wide angle is something to count upon. Performance wise it’s amazing and feels premium while holding in hand. So a big YES for this device. Go for 128 GB variant as the 4K videos will occupy lots of space and the storage can get over very quickly. Try to buy it with...\\nREAD MORE',\n",
       " 'Value for money❤️❤️\\nIts awesome mobile phone in the world ...\\nDisplay was very good and bright ..\\nTrust me freinds you r never regret after Buying..\\nJust go for it....\\nI love this phone and i switch to iphone x to 11',\n",
       " 'Totally in love with this ❤ the camera quality is amazing just love it 😘😘😘 itsss dammnnnnnn amazing... Must buy iPhone 11 this is my best experience ever ☀👌👌🧡🧡🧡🧡🧡 thanku apple ❤',\n",
       " 'Best budget Iphone till date ❤️ go for it guys without second thought. Let me explain you guys about Camera, Display, battery, and performance.\\n\\nCamera: at this price range there is no comparison of camera, you’ll love the picture quality as well as video quality. I am a Vlogger I wanted an iPhone with 4k video by front camera and I got this phone and I am more than happy 😃\\n\\nBattery: I use this phone roughly as I am active social media person and I have a youtube channel. so the battery ba...\\nREAD MORE',\n",
       " 'Excellent camera, good performance, no lag. The lcd display is also good.. but difference come when we watch movie in prime and Netflix, the colours are not vibrant.. as we see in amoled display.. and the charger in box is of 5 watts.. takes more than 3 hours to charge from 0 to 100.. so guys be prepare to buy 18 watts charger . Finally I am an android user, it was my first Iapple phone, I promise u guys the iOS is so smooth.. overall the phone is damn good.... close eyes to buy it.. thanks t...\\nREAD MORE',\n",
       " \"Iphone is just awesome.. battery backup is very very nice.. continuously for 10 hours we can use it.camera is just awesome.. display is just fab.i love it alot..i had to wait 15 days for it as i pre ordered it..overalll it's worth the price..these all images are clicked by my iPhone..and i love it.\",\n",
       " \"It's my first time to use iOS phone and I am loving my upgradation 😍😍 I love the color, I love the assebility of the phone....I need to learn more about its functionality, but as far as I have seen, it's quite easy and it has a lot of functions to work on, specially if you are a content writer or a blogger you get a lot of content creation platforms and they are really amazing.\\n\\nThis phone not only for good quality photography but a lot of other task too.😍💯\",\n",
       " 'It’s been almost a month since I have been using this phone. I upgraded from an iPhone 8. The main issue with my 8 was battery and this phone is just awesome when it comes to battery. It lasts a day and a half for me with my regular use , internet connected always with 4g\\nCan’t move forward without saying this. Battery of this phone is a life saver when I am traveling or at work when I don’t get the option to charge\\nCamera is superb. Front cam selfies and back cam photos are just awesome.\\n...\\nREAD MORE',\n",
       " 'Smooth like butter, camera like fantabulous, sound is crystal clear & its red color is damn attractive, i am just loving it. Must buy if you love photography.\\n\\nLucky to get it in sale, thank you Flipkart.']"
      ]
     },
     "execution_count": 406,
     "metadata": {},
     "output_type": "execute_result"
    }
   ],
   "source": [
    "full_review1 = []\n",
    "for i in fReview_tag1:\n",
    "    freview = i.text\n",
    "    full_review1.append(freview)\n",
    "full_review1[0:10]"
   ]
  },
  {
   "cell_type": "code",
   "execution_count": 408,
   "id": "d25d301c",
   "metadata": {},
   "outputs": [
    {
     "name": "stderr",
     "output_type": "stream",
     "text": [
      "<ipython-input-408-283a2c719b16>:1: DeprecationWarning: find_element_by_* commands are deprecated. Please use find_element() instead\n",
      "  Next_page3 = driver.find_element_by_xpath('/html/body/div[1]/div/div[3]/div/div/div[2]/div[13]/div/div/nav/a[12]').click()\n"
     ]
    }
   ],
   "source": [
    "Next_page3 = driver.find_element_by_xpath('/html/body/div[1]/div/div[3]/div/div/div[2]/div[13]/div/div/nav/a[12]').click()"
   ]
  },
  {
   "cell_type": "code",
   "execution_count": 409,
   "id": "d183a399",
   "metadata": {},
   "outputs": [
    {
     "name": "stderr",
     "output_type": "stream",
     "text": [
      "<ipython-input-409-2af9d06e3d65>:1: DeprecationWarning: find_elements_by_* commands are deprecated. Please use find_elements() instead\n",
      "  rating_tag2 = driver.find_elements_by_xpath(\"//div[@class='_3LWZlK _1BLPMq']\")\n"
     ]
    },
    {
     "data": {
      "text/plain": [
       "[<selenium.webdriver.remote.webelement.WebElement (session=\"8798cbf4eaf1e47b30254f455d36bf95\", element=\"84a5c9fa-dfda-4dfb-84be-878d2b188f5b\")>,\n",
       " <selenium.webdriver.remote.webelement.WebElement (session=\"8798cbf4eaf1e47b30254f455d36bf95\", element=\"c0b19914-8ed5-4452-ae61-7eb4a24c175f\")>,\n",
       " <selenium.webdriver.remote.webelement.WebElement (session=\"8798cbf4eaf1e47b30254f455d36bf95\", element=\"16dbdf81-f9b1-4042-8a71-eec699d308c6\")>,\n",
       " <selenium.webdriver.remote.webelement.WebElement (session=\"8798cbf4eaf1e47b30254f455d36bf95\", element=\"15260c64-117f-453d-8e27-b5ba805ce2b9\")>,\n",
       " <selenium.webdriver.remote.webelement.WebElement (session=\"8798cbf4eaf1e47b30254f455d36bf95\", element=\"cb4f9b78-4502-4eb0-996c-aca0a3e9d5f4\")>,\n",
       " <selenium.webdriver.remote.webelement.WebElement (session=\"8798cbf4eaf1e47b30254f455d36bf95\", element=\"90be2d78-8d08-43b8-ad9c-7f353a4fc805\")>,\n",
       " <selenium.webdriver.remote.webelement.WebElement (session=\"8798cbf4eaf1e47b30254f455d36bf95\", element=\"771dfbb4-68da-48f4-b3c0-841f7e95497b\")>,\n",
       " <selenium.webdriver.remote.webelement.WebElement (session=\"8798cbf4eaf1e47b30254f455d36bf95\", element=\"62e78722-3a9e-45a9-a67c-fa328427c897\")>,\n",
       " <selenium.webdriver.remote.webelement.WebElement (session=\"8798cbf4eaf1e47b30254f455d36bf95\", element=\"b8e64425-9426-48b2-9292-ac090dd1de87\")>,\n",
       " <selenium.webdriver.remote.webelement.WebElement (session=\"8798cbf4eaf1e47b30254f455d36bf95\", element=\"402964da-5bcc-44ee-ab8a-42c7f6fa43c1\")>]"
      ]
     },
     "execution_count": 409,
     "metadata": {},
     "output_type": "execute_result"
    }
   ],
   "source": [
    "rating_tag2 = driver.find_elements_by_xpath(\"//div[@class='_3LWZlK _1BLPMq']\")\n",
    "rating_tag2[0:10]"
   ]
  },
  {
   "cell_type": "code",
   "execution_count": 410,
   "id": "8bb24f64",
   "metadata": {},
   "outputs": [
    {
     "data": {
      "text/plain": [
       "['5', '5', '4', '5', '5', '5', '5', '5', '4', '5']"
      ]
     },
     "execution_count": 410,
     "metadata": {},
     "output_type": "execute_result"
    }
   ],
   "source": [
    "Product_rating2 = []\n",
    "for i in rating_tag2:\n",
    "    rating = i.text\n",
    "    Product_rating2.append(rating)\n",
    "Product_rating2[0:10]"
   ]
  },
  {
   "cell_type": "code",
   "execution_count": 411,
   "id": "99ea4edc",
   "metadata": {},
   "outputs": [
    {
     "name": "stderr",
     "output_type": "stream",
     "text": [
      "<ipython-input-411-b0cf037db9dd>:1: DeprecationWarning: find_elements_by_* commands are deprecated. Please use find_elements() instead\n",
      "  Review_tag2 = driver.find_elements_by_xpath(\"//p[@class='_2-N8zT']\")\n"
     ]
    },
    {
     "data": {
      "text/plain": [
       "[<selenium.webdriver.remote.webelement.WebElement (session=\"8798cbf4eaf1e47b30254f455d36bf95\", element=\"002c129d-0e81-40e5-9e3a-ae27932c85f4\")>,\n",
       " <selenium.webdriver.remote.webelement.WebElement (session=\"8798cbf4eaf1e47b30254f455d36bf95\", element=\"eb85629f-4a75-4ae2-a75c-10210d543429\")>,\n",
       " <selenium.webdriver.remote.webelement.WebElement (session=\"8798cbf4eaf1e47b30254f455d36bf95\", element=\"9d04b2c2-b353-4b48-85f3-5dc6060eb030\")>,\n",
       " <selenium.webdriver.remote.webelement.WebElement (session=\"8798cbf4eaf1e47b30254f455d36bf95\", element=\"3b301d0c-b6fc-46f1-bc28-52e26bc3d227\")>,\n",
       " <selenium.webdriver.remote.webelement.WebElement (session=\"8798cbf4eaf1e47b30254f455d36bf95\", element=\"2b84130a-31a2-4b9a-b9f8-a3597dffd114\")>,\n",
       " <selenium.webdriver.remote.webelement.WebElement (session=\"8798cbf4eaf1e47b30254f455d36bf95\", element=\"34b6f15b-359e-4eba-bdce-f2b34c4b54e8\")>,\n",
       " <selenium.webdriver.remote.webelement.WebElement (session=\"8798cbf4eaf1e47b30254f455d36bf95\", element=\"5cb3740d-f85b-444c-a12d-6536055ecdaf\")>,\n",
       " <selenium.webdriver.remote.webelement.WebElement (session=\"8798cbf4eaf1e47b30254f455d36bf95\", element=\"ec691bcd-1c58-4f41-9525-ec715e4fbb78\")>,\n",
       " <selenium.webdriver.remote.webelement.WebElement (session=\"8798cbf4eaf1e47b30254f455d36bf95\", element=\"6324c3b6-327a-4903-bed4-2a237b314be2\")>,\n",
       " <selenium.webdriver.remote.webelement.WebElement (session=\"8798cbf4eaf1e47b30254f455d36bf95\", element=\"8b45d8b4-0131-4875-ae98-5f30ed35cf07\")>]"
      ]
     },
     "execution_count": 411,
     "metadata": {},
     "output_type": "execute_result"
    }
   ],
   "source": [
    "Review_tag2 = driver.find_elements_by_xpath(\"//p[@class='_2-N8zT']\")\n",
    "Review_tag2[0:10]"
   ]
  },
  {
   "cell_type": "code",
   "execution_count": 412,
   "id": "4c771592",
   "metadata": {},
   "outputs": [
    {
     "data": {
      "text/plain": [
       "['Terrific',\n",
       " 'Wonderful',\n",
       " 'Nice product',\n",
       " 'Perfect product!',\n",
       " 'Brilliant',\n",
       " 'Classy product',\n",
       " 'Must buy!',\n",
       " 'Perfect product!',\n",
       " 'Good choice',\n",
       " 'Wonderful']"
      ]
     },
     "execution_count": 412,
     "metadata": {},
     "output_type": "execute_result"
    }
   ],
   "source": [
    "Review_summary2 = []\n",
    "for i in Review_tag2:\n",
    "    summary=i.text\n",
    "    Review_summary2.append(summary)\n",
    "Review_summary2[0:10]"
   ]
  },
  {
   "cell_type": "code",
   "execution_count": 413,
   "id": "46ef10ab",
   "metadata": {},
   "outputs": [
    {
     "name": "stderr",
     "output_type": "stream",
     "text": [
      "<ipython-input-413-218050f9a618>:1: DeprecationWarning: find_elements_by_* commands are deprecated. Please use find_elements() instead\n",
      "  fReview_tag2 = driver.find_elements_by_xpath(\"//div[@class='t-ZTKy']\")\n"
     ]
    },
    {
     "data": {
      "text/plain": [
       "[<selenium.webdriver.remote.webelement.WebElement (session=\"8798cbf4eaf1e47b30254f455d36bf95\", element=\"8690d83a-cf8c-47c6-8683-de6cf7b6f911\")>,\n",
       " <selenium.webdriver.remote.webelement.WebElement (session=\"8798cbf4eaf1e47b30254f455d36bf95\", element=\"a0cf83b4-b185-4c6b-9850-897eb328c27a\")>,\n",
       " <selenium.webdriver.remote.webelement.WebElement (session=\"8798cbf4eaf1e47b30254f455d36bf95\", element=\"39ca1a5f-8339-46e8-938a-86ea5516f745\")>,\n",
       " <selenium.webdriver.remote.webelement.WebElement (session=\"8798cbf4eaf1e47b30254f455d36bf95\", element=\"dde69502-6a50-4e24-aeac-6e182c269f84\")>,\n",
       " <selenium.webdriver.remote.webelement.WebElement (session=\"8798cbf4eaf1e47b30254f455d36bf95\", element=\"8ced2c96-3c22-414b-8b9f-6a5104821863\")>,\n",
       " <selenium.webdriver.remote.webelement.WebElement (session=\"8798cbf4eaf1e47b30254f455d36bf95\", element=\"e6d2a103-acc7-49df-af0f-128ab6e4d5e5\")>,\n",
       " <selenium.webdriver.remote.webelement.WebElement (session=\"8798cbf4eaf1e47b30254f455d36bf95\", element=\"1b6d3b11-b190-4fa7-9498-1f8155be4cea\")>,\n",
       " <selenium.webdriver.remote.webelement.WebElement (session=\"8798cbf4eaf1e47b30254f455d36bf95\", element=\"d557bc8e-6d01-42ca-925e-ac140a425656\")>,\n",
       " <selenium.webdriver.remote.webelement.WebElement (session=\"8798cbf4eaf1e47b30254f455d36bf95\", element=\"6d35f206-656f-40b4-9539-95651b3e97aa\")>,\n",
       " <selenium.webdriver.remote.webelement.WebElement (session=\"8798cbf4eaf1e47b30254f455d36bf95\", element=\"2e64bc61-7317-4312-b25a-3cb54dd1cea3\")>]"
      ]
     },
     "execution_count": 413,
     "metadata": {},
     "output_type": "execute_result"
    }
   ],
   "source": [
    "fReview_tag2 = driver.find_elements_by_xpath(\"//div[@class='t-ZTKy']\")\n",
    "fReview_tag2[0:10]"
   ]
  },
  {
   "cell_type": "code",
   "execution_count": 414,
   "id": "9ef25e95",
   "metadata": {},
   "outputs": [
    {
     "data": {
      "text/plain": [
       "['Really worth of money. i just love it. It is the best phone ever.',\n",
       " 'This is my first ever I phone. Before this I was using my google nexus 5. But moving from android to iOS is a great experience. It’s worth at this price. I will highly recommend it if you want to move to iOS. The best part of this phone is it’s camera and it’s battery life. This two things have won my heart. I loved it. Happy to have it in my hand. Still exploring its features. And can’t forget to mention Flipkart service. Very prompt service and fast delivery.',\n",
       " 'Awesome Phone. Slightly high price but worth. Better than iPhone XR.\\nCamera is superb and wide angle camera is very clear.\\n12MP selfie camera is also very good.\\nA13 Chip gives a very good and smooth performance.',\n",
       " 'Battery backup is extraordinary, camera is decent & performance offered by A13 bionic is awsome. The display is good in practical usage like the visibility of display is very good in direct sun light compare to pro models. Iam extremely satisfied for the money I spent.',\n",
       " 'I have migrated from OP 7pro... and trust me, iPhone 11 is totally worth it.. following are the reasons:-\\n1)there is ABSOLUTELY NO ISSUE WITH THE DISPLAY... its crisp, sharp and I found it to be much much better than OP7 pro. Netflix, Prime video all run crisply... you won’t miss a thing. True Tone works flawlessly...the display brightness is perfect. OP have not calibrated their screens properly.\\n2) iPhone 11 series have really good cameras... others have spoken in depth about them.\\n3) bat...\\nREAD MORE',\n",
       " 'Superb Product !!!\\nA big and worthy upgrade from mi 3S to iphone 11 .\\nTotally loved it !',\n",
       " 'It’s an amazing product from apple and the camera is simply superb. Phone is faster.Night shot is simply superb and detailing and colour differentiation from camera is an added advantage\\n\\nThis review I have written from iPhone 11 only and I am glad to say outside.\\n\\nCons wise if we see HD+ display only, no battery percentage indicator as in older iPhone 8.\\nNo assistive touch control button in it\\nNo oleophobic coating on back panel glass and finger prints are visible but since I bought mint gr...\\nREAD MORE',\n",
       " 'After 1 month use I found camera quality best compared to my previous Samsung note 10+.Display not good as note 10 also charging too slow.Apple should add fast charger like 11 plus and pro.Best phone for daily use',\n",
       " 'Looking so good 👍 😍 super 👌 stylish 😎 phone\\nClean box 📦 good 👍 delivery 👌 fast delivery\\nOriginal box Original iphone 📱 👌 😍😍😍',\n",
       " 'I just directly switch from iphone 6s to iphone 11 .The best premium smartphone I recommend to everyone. Excellent quality and colors the iphone have in 11 series.\\nCamera quality is just awesome and the major feel when we hold in our hands. The sound quality and volume is also higher then the previous models.\\nI will recommend to buy iphone 11 instead of pro models , there is nothing much difference as this model contains everything which fulfill our needs.\\n\\nOnly one thing that I dislike abo...\\nREAD MORE']"
      ]
     },
     "execution_count": 414,
     "metadata": {},
     "output_type": "execute_result"
    }
   ],
   "source": [
    "full_review2 = []\n",
    "for i in fReview_tag2:\n",
    "    freview = i.text\n",
    "    full_review2.append(freview)\n",
    "full_review2[0:10]"
   ]
  },
  {
   "cell_type": "code",
   "execution_count": 415,
   "id": "62eaf87e",
   "metadata": {},
   "outputs": [
    {
     "name": "stderr",
     "output_type": "stream",
     "text": [
      "<ipython-input-415-798ac04be5d3>:1: DeprecationWarning: find_element_by_* commands are deprecated. Please use find_element() instead\n",
      "  Next_page4 = driver.find_element_by_xpath('/html/body/div[1]/div/div[3]/div/div/div[2]/div[13]/div/div/nav/a[12]/span').click()\n"
     ]
    }
   ],
   "source": [
    "Next_page4 = driver.find_element_by_xpath('/html/body/div[1]/div/div[3]/div/div/div[2]/div[13]/div/div/nav/a[12]/span').click()"
   ]
  },
  {
   "cell_type": "code",
   "execution_count": 416,
   "id": "337cb7d6",
   "metadata": {},
   "outputs": [
    {
     "name": "stderr",
     "output_type": "stream",
     "text": [
      "<ipython-input-416-24f66fff8e5f>:1: DeprecationWarning: find_elements_by_* commands are deprecated. Please use find_elements() instead\n",
      "  rating_tag3 = driver.find_elements_by_xpath(\"//div[@class='_3LWZlK _1BLPMq']\")\n"
     ]
    },
    {
     "data": {
      "text/plain": [
       "[<selenium.webdriver.remote.webelement.WebElement (session=\"8798cbf4eaf1e47b30254f455d36bf95\", element=\"25b20444-2aa4-4442-8bb8-dc6bc8e03ebf\")>,\n",
       " <selenium.webdriver.remote.webelement.WebElement (session=\"8798cbf4eaf1e47b30254f455d36bf95\", element=\"ed836783-2abe-4a1b-a881-3ff0fe20ab1b\")>,\n",
       " <selenium.webdriver.remote.webelement.WebElement (session=\"8798cbf4eaf1e47b30254f455d36bf95\", element=\"55b5d90d-07cb-4327-bcde-3668879e8cca\")>,\n",
       " <selenium.webdriver.remote.webelement.WebElement (session=\"8798cbf4eaf1e47b30254f455d36bf95\", element=\"2ed137fd-0382-439d-8d94-dd7629cf1811\")>,\n",
       " <selenium.webdriver.remote.webelement.WebElement (session=\"8798cbf4eaf1e47b30254f455d36bf95\", element=\"17c19edd-663c-4c4c-b60e-b7750c0aef3e\")>,\n",
       " <selenium.webdriver.remote.webelement.WebElement (session=\"8798cbf4eaf1e47b30254f455d36bf95\", element=\"41b86533-299f-4b92-8e66-4bd59b271224\")>,\n",
       " <selenium.webdriver.remote.webelement.WebElement (session=\"8798cbf4eaf1e47b30254f455d36bf95\", element=\"9c2945bb-8c7d-49f9-ada0-2569c26f7711\")>,\n",
       " <selenium.webdriver.remote.webelement.WebElement (session=\"8798cbf4eaf1e47b30254f455d36bf95\", element=\"1adc83af-627e-4982-940d-e28363ebd336\")>,\n",
       " <selenium.webdriver.remote.webelement.WebElement (session=\"8798cbf4eaf1e47b30254f455d36bf95\", element=\"e51e04e2-e169-46d7-bcad-245f32faa296\")>]"
      ]
     },
     "execution_count": 416,
     "metadata": {},
     "output_type": "execute_result"
    }
   ],
   "source": [
    "rating_tag3 = driver.find_elements_by_xpath(\"//div[@class='_3LWZlK _1BLPMq']\")\n",
    "rating_tag3[0:10]"
   ]
  },
  {
   "cell_type": "code",
   "execution_count": 417,
   "id": "3d74eef2",
   "metadata": {},
   "outputs": [
    {
     "data": {
      "text/plain": [
       "['5', '5', '5', '5', '5', '5', '5', '4', '5']"
      ]
     },
     "execution_count": 417,
     "metadata": {},
     "output_type": "execute_result"
    }
   ],
   "source": [
    "Product_rating3 = []\n",
    "for i in rating_tag3:\n",
    "    rating = i.text\n",
    "    Product_rating3.append(rating)\n",
    "Product_rating3[0:10]"
   ]
  },
  {
   "cell_type": "code",
   "execution_count": 418,
   "id": "5241f8b1",
   "metadata": {},
   "outputs": [
    {
     "name": "stderr",
     "output_type": "stream",
     "text": [
      "<ipython-input-418-7a2a066f9f49>:1: DeprecationWarning: find_elements_by_* commands are deprecated. Please use find_elements() instead\n",
      "  Review_tag3 = driver.find_elements_by_xpath(\"//p[@class='_2-N8zT']\")\n"
     ]
    },
    {
     "data": {
      "text/plain": [
       "[<selenium.webdriver.remote.webelement.WebElement (session=\"8798cbf4eaf1e47b30254f455d36bf95\", element=\"92b94cc9-a46b-4117-b1a1-6c0eb2f5dca3\")>,\n",
       " <selenium.webdriver.remote.webelement.WebElement (session=\"8798cbf4eaf1e47b30254f455d36bf95\", element=\"87b4cfe5-ef0a-403c-aac5-9f493c47741f\")>,\n",
       " <selenium.webdriver.remote.webelement.WebElement (session=\"8798cbf4eaf1e47b30254f455d36bf95\", element=\"303d3baf-88da-4b78-9a07-52a909239189\")>,\n",
       " <selenium.webdriver.remote.webelement.WebElement (session=\"8798cbf4eaf1e47b30254f455d36bf95\", element=\"51145a13-0003-4c9c-9518-7d9a40b57250\")>,\n",
       " <selenium.webdriver.remote.webelement.WebElement (session=\"8798cbf4eaf1e47b30254f455d36bf95\", element=\"3eb31c79-323b-45dc-8b48-3b7b2f8e573a\")>,\n",
       " <selenium.webdriver.remote.webelement.WebElement (session=\"8798cbf4eaf1e47b30254f455d36bf95\", element=\"53f4dc7e-b87f-45f1-8e5a-b8ccef50cb71\")>,\n",
       " <selenium.webdriver.remote.webelement.WebElement (session=\"8798cbf4eaf1e47b30254f455d36bf95\", element=\"4baa87c1-edac-49b2-80ae-cae4d7aab90e\")>,\n",
       " <selenium.webdriver.remote.webelement.WebElement (session=\"8798cbf4eaf1e47b30254f455d36bf95\", element=\"38460225-54d6-4e8e-82a2-ef1371e94f92\")>,\n",
       " <selenium.webdriver.remote.webelement.WebElement (session=\"8798cbf4eaf1e47b30254f455d36bf95\", element=\"21749d8c-6ce4-4c54-882a-91a85cd3b234\")>,\n",
       " <selenium.webdriver.remote.webelement.WebElement (session=\"8798cbf4eaf1e47b30254f455d36bf95\", element=\"e094b210-eb3c-4d88-b4f9-da5c267164fc\")>]"
      ]
     },
     "execution_count": 418,
     "metadata": {},
     "output_type": "execute_result"
    }
   ],
   "source": [
    "Review_tag3 = driver.find_elements_by_xpath(\"//p[@class='_2-N8zT']\")\n",
    "Review_tag3[0:10]"
   ]
  },
  {
   "cell_type": "code",
   "execution_count": 419,
   "id": "150a43bb",
   "metadata": {},
   "outputs": [
    {
     "data": {
      "text/plain": [
       "['Terrific purchase',\n",
       " 'Simply awesome',\n",
       " 'Great product',\n",
       " 'Terrific purchase',\n",
       " 'Mind-blowing purchase',\n",
       " 'Excellent',\n",
       " 'Simply awesome',\n",
       " 'Good quality product',\n",
       " 'Very poor',\n",
       " 'Classy product']"
      ]
     },
     "execution_count": 419,
     "metadata": {},
     "output_type": "execute_result"
    }
   ],
   "source": [
    "Review_summary3 = []\n",
    "for i in Review_tag3:\n",
    "    summary=i.text\n",
    "    Review_summary3.append(summary)\n",
    "Review_summary3[0:10]"
   ]
  },
  {
   "cell_type": "code",
   "execution_count": 420,
   "id": "e13b91b5",
   "metadata": {},
   "outputs": [
    {
     "name": "stderr",
     "output_type": "stream",
     "text": [
      "<ipython-input-420-207f17f1dff5>:1: DeprecationWarning: find_elements_by_* commands are deprecated. Please use find_elements() instead\n",
      "  fReview_tag3 = driver.find_elements_by_xpath(\"//div[@class='t-ZTKy']\")\n"
     ]
    },
    {
     "data": {
      "text/plain": [
       "[<selenium.webdriver.remote.webelement.WebElement (session=\"8798cbf4eaf1e47b30254f455d36bf95\", element=\"0a8b5c1e-7348-4baa-83c9-3881913009dd\")>,\n",
       " <selenium.webdriver.remote.webelement.WebElement (session=\"8798cbf4eaf1e47b30254f455d36bf95\", element=\"bec0c1dc-73bc-4076-8c68-369ea8b86882\")>,\n",
       " <selenium.webdriver.remote.webelement.WebElement (session=\"8798cbf4eaf1e47b30254f455d36bf95\", element=\"167ff09d-d7aa-40e8-a6d4-d7af0260069e\")>,\n",
       " <selenium.webdriver.remote.webelement.WebElement (session=\"8798cbf4eaf1e47b30254f455d36bf95\", element=\"282a60a5-e16a-4a1a-983a-12b2e7421f0e\")>,\n",
       " <selenium.webdriver.remote.webelement.WebElement (session=\"8798cbf4eaf1e47b30254f455d36bf95\", element=\"7bca6bd9-e987-492e-a236-1d05a44a26de\")>,\n",
       " <selenium.webdriver.remote.webelement.WebElement (session=\"8798cbf4eaf1e47b30254f455d36bf95\", element=\"7516e369-45e7-47c8-b311-85efd4ae3a1a\")>,\n",
       " <selenium.webdriver.remote.webelement.WebElement (session=\"8798cbf4eaf1e47b30254f455d36bf95\", element=\"97ec7c20-14fe-440f-85b0-63f5bd8c9838\")>,\n",
       " <selenium.webdriver.remote.webelement.WebElement (session=\"8798cbf4eaf1e47b30254f455d36bf95\", element=\"11b6250c-6b55-4801-a83c-4d8e219c03e2\")>,\n",
       " <selenium.webdriver.remote.webelement.WebElement (session=\"8798cbf4eaf1e47b30254f455d36bf95\", element=\"d13a7886-1df1-4734-8ef3-30a5ca3def6d\")>,\n",
       " <selenium.webdriver.remote.webelement.WebElement (session=\"8798cbf4eaf1e47b30254f455d36bf95\", element=\"e639f4b9-a823-49b8-8be0-747c3eee8296\")>]"
      ]
     },
     "execution_count": 420,
     "metadata": {},
     "output_type": "execute_result"
    }
   ],
   "source": [
    "fReview_tag3 = driver.find_elements_by_xpath(\"//div[@class='t-ZTKy']\")\n",
    "fReview_tag3[0:10]"
   ]
  },
  {
   "cell_type": "code",
   "execution_count": 421,
   "id": "b92d3172",
   "metadata": {},
   "outputs": [
    {
     "data": {
      "text/plain": [
       "['Upgraded from iphone 6 to 11 best phone for iphone users battery is much better than other iphones camera is awesome love to use it.camera is so clear in night.',\n",
       " \"It's very high performances devise i am like the service of flipkart delevary very fast and packing very nice perfect phone\",\n",
       " 'Well you all know the specifications . One of a kind. Best iPhone till date. Many enhancements to the camera app with many options. Love the glass body with matte finish in the lens area on the back. Lovely colours to choose from. Best battery in an iPhone till date, enough to last more than a day in normal usage. I tested my iPhone 11 battery and lasted for than 24 hours after full charge still with 30% battery charge left. Watched movies for some time. Normal usage on calls, browsing, musi...\\nREAD MORE',\n",
       " 'The built quality is not very premium.\\nThe battery back is great .\\nThe LCD panel is not so sharp but the brightness level is very High .\\nCamera is super duper awesome.\\nThe red colour which people think is bright is actually very soothing and excellent colour to choose from .\\nThe A13 Bionic chip is really a flagship processor and can beat any phone which even has 12 gb ram .\\nCamera module is very great and looks very stylish.',\n",
       " 'This will help you more. See if you are planning to buy iPhone 11. I will say. Yes. But there are some plans I just want to disclose before you buy. 1) If you are an existing iPhone X/XS/XS Max/ XR user, better you guys do not think it to buy. You guys have more or less better gadget. 2) If you are an android user and planning to buy premium phone. I will suggest them to please buy iPhone instead of buying an Android. I bet you will never go back to android after using IOS. Now I want to shar...\\nREAD MORE',\n",
       " 'Amazing camera and feel super machine I am not describe my feeling but this is amazing Phone I am so lucky I have this',\n",
       " 'Really good actually this is my first apple product am using its really awesome performance wise excellent. Am really happy with this iphone11',\n",
       " 'it is very good at performance. Camera is best like before and very smooth response even in water. Don’t buy 12 mini buy iPhone 11 , it is far better than 12 mini believe me ! Have a nice day \\uf8ff ☺️',\n",
       " 'Reviewing again after 5 months. At the beginning the battery and performance was good but it degraded soon. Also I was facing heating issues. The mobile will heat up like a stove sometimes. You cannot even play Pubg even in low settings properly, performance is not a problem but heating is. Also if you play that game for 10 mins the brightness will be automatically down due to over heating even when the auto brightness is set to off. This will not be solved even if u manually increase the bri...\\nREAD MORE',\n",
       " 'We are on apple ecosystem for almost eight years now with couple of iPads and iPhones, including Xr.\\n\\nBought iPhone 11 as a gift to my daughter who loves it. We chose for a purple coloured one. Believe me it is gorgeous and towards the lighter shade. Dazzling and brilliant!\\n\\nThe phone is great and does excellent RAM management like any other Apple device.\\n\\nThe screen, though a LCD and lesser ppi as compared to other flagship phones of competitor brands, is a delight to watch with perfect re...\\nREAD MORE']"
      ]
     },
     "execution_count": 421,
     "metadata": {},
     "output_type": "execute_result"
    }
   ],
   "source": [
    "full_review3 = []\n",
    "for i in fReview_tag3:\n",
    "    freview = i.text\n",
    "    full_review3.append(freview)\n",
    "full_review3[0:10]"
   ]
  },
  {
   "cell_type": "code",
   "execution_count": 426,
   "id": "168254d9",
   "metadata": {},
   "outputs": [
    {
     "name": "stderr",
     "output_type": "stream",
     "text": [
      "<ipython-input-426-ea910ccf90ce>:1: DeprecationWarning: find_element_by_* commands are deprecated. Please use find_element() instead\n",
      "  Next_page5 = driver.find_element_by_xpath('/html/body/div[1]/div/div[3]/div/div/div[2]/div[13]/div/div/nav/a[12]').click()\n"
     ]
    }
   ],
   "source": [
    "Next_page5 = driver.find_element_by_xpath('/html/body/div[1]/div/div[3]/div/div/div[2]/div[13]/div/div/nav/a[12]').click()"
   ]
  },
  {
   "cell_type": "code",
   "execution_count": 427,
   "id": "105d0de3",
   "metadata": {},
   "outputs": [
    {
     "name": "stderr",
     "output_type": "stream",
     "text": [
      "<ipython-input-427-33057fcef0fa>:1: DeprecationWarning: find_elements_by_* commands are deprecated. Please use find_elements() instead\n",
      "  rating_tag4 = driver.find_elements_by_xpath(\"//div[@class='_3LWZlK _1BLPMq']\")\n"
     ]
    },
    {
     "data": {
      "text/plain": [
       "[<selenium.webdriver.remote.webelement.WebElement (session=\"8798cbf4eaf1e47b30254f455d36bf95\", element=\"5fda3352-2055-4011-884b-4663a95217e8\")>,\n",
       " <selenium.webdriver.remote.webelement.WebElement (session=\"8798cbf4eaf1e47b30254f455d36bf95\", element=\"d56dd4fc-7c07-433b-ad6c-41271636c325\")>,\n",
       " <selenium.webdriver.remote.webelement.WebElement (session=\"8798cbf4eaf1e47b30254f455d36bf95\", element=\"cfec09a7-1366-4421-aeeb-b66437c7a5f1\")>,\n",
       " <selenium.webdriver.remote.webelement.WebElement (session=\"8798cbf4eaf1e47b30254f455d36bf95\", element=\"58b7b0de-e908-4710-8de0-7f09548d7ce6\")>,\n",
       " <selenium.webdriver.remote.webelement.WebElement (session=\"8798cbf4eaf1e47b30254f455d36bf95\", element=\"d3b1fae6-d268-4527-ae39-1123c1ebfcff\")>,\n",
       " <selenium.webdriver.remote.webelement.WebElement (session=\"8798cbf4eaf1e47b30254f455d36bf95\", element=\"2439695f-fba5-411d-8ece-ceb1eabccaae\")>,\n",
       " <selenium.webdriver.remote.webelement.WebElement (session=\"8798cbf4eaf1e47b30254f455d36bf95\", element=\"406cfcd0-1167-461a-84a3-a40c448ec79c\")>,\n",
       " <selenium.webdriver.remote.webelement.WebElement (session=\"8798cbf4eaf1e47b30254f455d36bf95\", element=\"2482174d-2b31-4bdf-b661-e5454a560c5d\")>,\n",
       " <selenium.webdriver.remote.webelement.WebElement (session=\"8798cbf4eaf1e47b30254f455d36bf95\", element=\"3ad2b4f6-dbb7-498c-9bee-7445b3884b20\")>,\n",
       " <selenium.webdriver.remote.webelement.WebElement (session=\"8798cbf4eaf1e47b30254f455d36bf95\", element=\"e70c7605-e244-42f6-b8c3-b383e223822a\")>]"
      ]
     },
     "execution_count": 427,
     "metadata": {},
     "output_type": "execute_result"
    }
   ],
   "source": [
    "rating_tag4 = driver.find_elements_by_xpath(\"//div[@class='_3LWZlK _1BLPMq']\")\n",
    "rating_tag4[0:10]"
   ]
  },
  {
   "cell_type": "code",
   "execution_count": 428,
   "id": "26bd26d1",
   "metadata": {},
   "outputs": [
    {
     "data": {
      "text/plain": [
       "['5', '5', '5', '5', '5', '5', '5', '4', '5', '5']"
      ]
     },
     "execution_count": 428,
     "metadata": {},
     "output_type": "execute_result"
    }
   ],
   "source": [
    "Product_rating4 = []\n",
    "for i in rating_tag4:\n",
    "    rating = i.text\n",
    "    Product_rating4.append(rating)\n",
    "Product_rating4[0:10]"
   ]
  },
  {
   "cell_type": "code",
   "execution_count": 429,
   "id": "0e3de16e",
   "metadata": {},
   "outputs": [
    {
     "name": "stderr",
     "output_type": "stream",
     "text": [
      "<ipython-input-429-c68c4491f974>:1: DeprecationWarning: find_elements_by_* commands are deprecated. Please use find_elements() instead\n",
      "  Review_tag4 = driver.find_elements_by_xpath(\"//p[@class='_2-N8zT']\")\n"
     ]
    },
    {
     "data": {
      "text/plain": [
       "[<selenium.webdriver.remote.webelement.WebElement (session=\"8798cbf4eaf1e47b30254f455d36bf95\", element=\"8b4e9afb-7698-4b9f-abff-05e0ed6f78ae\")>,\n",
       " <selenium.webdriver.remote.webelement.WebElement (session=\"8798cbf4eaf1e47b30254f455d36bf95\", element=\"1e1c7497-3213-4b61-b9c1-81fc35edf522\")>,\n",
       " <selenium.webdriver.remote.webelement.WebElement (session=\"8798cbf4eaf1e47b30254f455d36bf95\", element=\"7ee7273c-d6f6-418d-8a34-0972d9e33f12\")>,\n",
       " <selenium.webdriver.remote.webelement.WebElement (session=\"8798cbf4eaf1e47b30254f455d36bf95\", element=\"d7b281c5-80b5-4601-8d85-49f7b8e55ceb\")>,\n",
       " <selenium.webdriver.remote.webelement.WebElement (session=\"8798cbf4eaf1e47b30254f455d36bf95\", element=\"164ca828-9c21-4c23-9184-2cb772dba708\")>,\n",
       " <selenium.webdriver.remote.webelement.WebElement (session=\"8798cbf4eaf1e47b30254f455d36bf95\", element=\"dc2a0948-1743-4617-9156-8dbb915b0c2a\")>,\n",
       " <selenium.webdriver.remote.webelement.WebElement (session=\"8798cbf4eaf1e47b30254f455d36bf95\", element=\"ffc673e0-a557-4363-a9ef-d0cc994178d4\")>,\n",
       " <selenium.webdriver.remote.webelement.WebElement (session=\"8798cbf4eaf1e47b30254f455d36bf95\", element=\"5b8b9a97-23df-4984-a17e-818705fe3aaa\")>,\n",
       " <selenium.webdriver.remote.webelement.WebElement (session=\"8798cbf4eaf1e47b30254f455d36bf95\", element=\"bff17346-73b6-4c62-856c-16ca3dd7f025\")>,\n",
       " <selenium.webdriver.remote.webelement.WebElement (session=\"8798cbf4eaf1e47b30254f455d36bf95\", element=\"f0d70acb-8aae-49cf-9305-1e66447008dd\")>]"
      ]
     },
     "execution_count": 429,
     "metadata": {},
     "output_type": "execute_result"
    }
   ],
   "source": [
    "Review_tag4 = driver.find_elements_by_xpath(\"//p[@class='_2-N8zT']\")\n",
    "Review_tag4[0:10]"
   ]
  },
  {
   "cell_type": "code",
   "execution_count": 430,
   "id": "e80bfd9b",
   "metadata": {},
   "outputs": [
    {
     "data": {
      "text/plain": [
       "['Perfect product!',\n",
       " 'Must buy!',\n",
       " 'Fabulous!',\n",
       " 'Mind-blowing purchase',\n",
       " 'Mind-blowing purchase',\n",
       " 'Wonderful',\n",
       " 'Great product',\n",
       " 'Very Good',\n",
       " 'Classy product',\n",
       " 'Perfect product!']"
      ]
     },
     "execution_count": 430,
     "metadata": {},
     "output_type": "execute_result"
    }
   ],
   "source": [
    "Review_summary4 = []\n",
    "for i in Review_tag4:\n",
    "    summary=i.text\n",
    "    Review_summary4.append(summary)\n",
    "Review_summary4[0:10]"
   ]
  },
  {
   "cell_type": "code",
   "execution_count": 431,
   "id": "c86ad3e1",
   "metadata": {},
   "outputs": [
    {
     "name": "stderr",
     "output_type": "stream",
     "text": [
      "<ipython-input-431-a491780aaf82>:1: DeprecationWarning: find_elements_by_* commands are deprecated. Please use find_elements() instead\n",
      "  fReview_tag4 = driver.find_elements_by_xpath(\"//div[@class='t-ZTKy']\")\n"
     ]
    },
    {
     "data": {
      "text/plain": [
       "[<selenium.webdriver.remote.webelement.WebElement (session=\"8798cbf4eaf1e47b30254f455d36bf95\", element=\"f2dc207f-0c2e-4c01-a797-551c2c463753\")>,\n",
       " <selenium.webdriver.remote.webelement.WebElement (session=\"8798cbf4eaf1e47b30254f455d36bf95\", element=\"00e49520-cd7f-4ffd-8f28-cf9f7a21553d\")>,\n",
       " <selenium.webdriver.remote.webelement.WebElement (session=\"8798cbf4eaf1e47b30254f455d36bf95\", element=\"f5c94c3e-0cab-4310-a9b1-25c0f79fc3f0\")>,\n",
       " <selenium.webdriver.remote.webelement.WebElement (session=\"8798cbf4eaf1e47b30254f455d36bf95\", element=\"13f0764d-e197-4309-9f83-1652191f3dd4\")>,\n",
       " <selenium.webdriver.remote.webelement.WebElement (session=\"8798cbf4eaf1e47b30254f455d36bf95\", element=\"d832025b-c249-435d-bb9c-6dc137d85d05\")>,\n",
       " <selenium.webdriver.remote.webelement.WebElement (session=\"8798cbf4eaf1e47b30254f455d36bf95\", element=\"f8d17a29-b6d0-4f30-b1e2-97845a5d23ab\")>,\n",
       " <selenium.webdriver.remote.webelement.WebElement (session=\"8798cbf4eaf1e47b30254f455d36bf95\", element=\"0615d95b-308a-4815-8404-4e1a3f06eade\")>,\n",
       " <selenium.webdriver.remote.webelement.WebElement (session=\"8798cbf4eaf1e47b30254f455d36bf95\", element=\"508d0b71-8181-4cff-9914-d4a1419519b4\")>,\n",
       " <selenium.webdriver.remote.webelement.WebElement (session=\"8798cbf4eaf1e47b30254f455d36bf95\", element=\"2f971968-c9d7-4294-969b-e941bf68e711\")>,\n",
       " <selenium.webdriver.remote.webelement.WebElement (session=\"8798cbf4eaf1e47b30254f455d36bf95\", element=\"450d2e68-0dd9-42ec-8690-bf25053cec36\")>]"
      ]
     },
     "execution_count": 431,
     "metadata": {},
     "output_type": "execute_result"
    }
   ],
   "source": [
    "fReview_tag4 = driver.find_elements_by_xpath(\"//div[@class='t-ZTKy']\")\n",
    "fReview_tag4[0:10]"
   ]
  },
  {
   "cell_type": "code",
   "execution_count": 432,
   "id": "5179218b",
   "metadata": {},
   "outputs": [
    {
     "data": {
      "text/plain": [
       "['It is just awesome mobile for this price from Apple,\\n\\nAfter 10 days review\\n\\nBattery enough for 1 day even 24*7 Internet will be on and mostly internet usage\\n\\nCamera is just awesome cool , android 64 MP is equal to this just 12 MP\\n\\nA13 Bionic chip will give more high performance without hanging\\n\\nAudio stereo speakers will give Dolby atoms sound with crystal clear\\n\\nVideo recording is like cinematic shots of every sec can be a 4K 60fps. Just awesome this phone\\niPhone 11 loved one',\n",
       " 'Best Apple iPhone that i have bought at a very reasonable price, camera quality is next level just awesome n of superior quality android phones not even close(RIP) to that and also battery is really good but packaging by Flipkart of iPhone was very poor of such a expensive product, firstly im bit worried about the quality of product if i purchased it through online how was the product but i think now this was mine best decision to bought it through Flipkart online because i got genuine Apple...\\nREAD MORE',\n",
       " \"I can say I'm damn impressed with iPhone 11. As they says iPhone 11 have the toughest glass ever in the smartphone which you'll find on the front and back and it's totally smooth. The fit and finish is full apple quality - there's no sense that any cheaping out has happened in the construction. Without saying it's camera features this review won't complete. The iPhone 11 has a dual camera system, consisting of a wide angle len's that's pretty much same as found on the iPhone XR last year, but...\\nREAD MORE\",\n",
       " 'Best Quality Product OF iPhone Series , Sound Quality & Camera quality is very awesome, Battery Life is very Sufficient for 24 hr Backup With Full Internet Access , I love this this Product too much , It is very fast & making me Very fast in all my daily Routine\\nHighlights;\\n1.Camera: 5 STAR\\n2.Video Recording: 5 star\\n3.Night mODE sHOOTING & Camera:4 star\\n4. Audio Quality: Awesome\\n5. Battery : 5 Star\\n6. Touch:5 Star\\n7. Processor: Very Fast\\nThe M...\\nREAD MORE',\n",
       " 'First thanks to Flipkart for this amazing deal and phone is outstanding. I upgraded from iPhone 7 and this is like very big upgrade. But the packaging was very basic I expected a good packaging as they only wrapped one layer of bubble wrap which I don’t think is enough to protect this expensive phone. And I recommend this phone and seller as well.\\n\\nAnd I’m posting this review after using it for 4 days.',\n",
       " 'Superfast delivery by Flipkart. Thanks.\\n\\n1. iPhone 11 is a pretty solid phone for the money you are paying.\\n2. All the bad reviews about the display is confusing. It’s not that bad.\\n3. I switched from a Oneplus 7t. I have no complaints about the display quality of iPhone. Yes, it’s not OLED, so, we are missing on the deep blacks. But that’s it. It is a very colour accurate display. Gets adequately bright and I could not find any pixelation.\\n4. Performance is one of the best, if not best, in ...\\nREAD MORE',\n",
       " \"Again back to apple iphone after a gap of 2-3 years. It's pleasure to use iOS and the quality product by Apple. Iphone 11 still works like a beast in 2021 also. It really capable of doing day to day usage as well as hard core gaming. Battery is awesome. I'm really too much satisfied with it. Apart fto the very gorgious IPS LCD (AMOLED will be better) everything is mind boggling. Iphone💕.\",\n",
       " 'impressive super phone and best in class camera ,sound and face unlock is super fast just see and phone is unlock and fast in daily apps use',\n",
       " 'Well while switching from android to iOS the first thing you need to be careful about is that you will loose all your whatsapp chat backups as both are different operating systems. Camera clarity is awesome and though being an lcd screen clarity and resolution is good. Battery backup is also good unlike previous gen iPhone. So far the experience is good will Padre after a few months of usage.\\n\\nP.S the black is more of a dark grey shade and not jet black',\n",
       " 'In love with this iphone great performance,camera ,battery everything. Go for it have a uncompareble battery backup, no doubts in iPhone camera here You can see the picture which is shot on my iPhone In love with this iphone great performance,camera ,battery everything. Go for it have a uncompareble battery backup, no doubts in iPhone camera here You can see the picture which is shot on my iPhone In love with this iphone great performance,camera ,battery everything. Go for it have a uncompare...\\nREAD MORE']"
      ]
     },
     "execution_count": 432,
     "metadata": {},
     "output_type": "execute_result"
    }
   ],
   "source": [
    "full_review4 = []\n",
    "for i in fReview_tag4:\n",
    "    freview = i.text\n",
    "    full_review4.append(freview)\n",
    "full_review4[0:10]"
   ]
  },
  {
   "cell_type": "code",
   "execution_count": 433,
   "id": "2145b3ca",
   "metadata": {},
   "outputs": [
    {
     "name": "stderr",
     "output_type": "stream",
     "text": [
      "<ipython-input-433-17792f0e8b61>:1: DeprecationWarning: find_element_by_* commands are deprecated. Please use find_element() instead\n",
      "  Next_page6 = driver.find_element_by_xpath('/html/body/div[1]/div/div[3]/div/div/div[2]/div[13]/div/div/nav/a[12]/span').click()\n"
     ]
    }
   ],
   "source": [
    "Next_page6 = driver.find_element_by_xpath('/html/body/div[1]/div/div[3]/div/div/div[2]/div[13]/div/div/nav/a[12]/span').click()"
   ]
  },
  {
   "cell_type": "code",
   "execution_count": 435,
   "id": "47215bf8",
   "metadata": {},
   "outputs": [
    {
     "name": "stderr",
     "output_type": "stream",
     "text": [
      "<ipython-input-435-8c963369ef50>:1: DeprecationWarning: find_elements_by_* commands are deprecated. Please use find_elements() instead\n",
      "  rating_tag5 = driver.find_elements_by_xpath(\"//div[@class='_3LWZlK _1BLPMq']\")\n"
     ]
    },
    {
     "data": {
      "text/plain": [
       "[<selenium.webdriver.remote.webelement.WebElement (session=\"8798cbf4eaf1e47b30254f455d36bf95\", element=\"65e40b90-ac76-43e1-8ff5-626a0a5fa988\")>,\n",
       " <selenium.webdriver.remote.webelement.WebElement (session=\"8798cbf4eaf1e47b30254f455d36bf95\", element=\"11956d43-66a6-4a87-a1ee-b3beb2a4fcb3\")>,\n",
       " <selenium.webdriver.remote.webelement.WebElement (session=\"8798cbf4eaf1e47b30254f455d36bf95\", element=\"eb695eba-ddf8-4aef-8ddc-0eaa2d3256a9\")>,\n",
       " <selenium.webdriver.remote.webelement.WebElement (session=\"8798cbf4eaf1e47b30254f455d36bf95\", element=\"0966a911-87df-4eb5-a21a-cb6f1a3a3e5e\")>,\n",
       " <selenium.webdriver.remote.webelement.WebElement (session=\"8798cbf4eaf1e47b30254f455d36bf95\", element=\"9cdcecd3-dfca-49e7-b38c-dd132b79b63c\")>,\n",
       " <selenium.webdriver.remote.webelement.WebElement (session=\"8798cbf4eaf1e47b30254f455d36bf95\", element=\"8f4c90de-4caf-4e36-8b77-ef8f746f6123\")>,\n",
       " <selenium.webdriver.remote.webelement.WebElement (session=\"8798cbf4eaf1e47b30254f455d36bf95\", element=\"7b7837fc-126f-4d3b-828c-675a5f189ceb\")>,\n",
       " <selenium.webdriver.remote.webelement.WebElement (session=\"8798cbf4eaf1e47b30254f455d36bf95\", element=\"b10c778f-1508-465a-8916-d42bc3279ad3\")>,\n",
       " <selenium.webdriver.remote.webelement.WebElement (session=\"8798cbf4eaf1e47b30254f455d36bf95\", element=\"45442041-e246-4983-bcfe-99fc68d456d6\")>,\n",
       " <selenium.webdriver.remote.webelement.WebElement (session=\"8798cbf4eaf1e47b30254f455d36bf95\", element=\"cd0b11b0-538c-437f-a5b4-9ac52e712122\")>]"
      ]
     },
     "execution_count": 435,
     "metadata": {},
     "output_type": "execute_result"
    }
   ],
   "source": [
    "rating_tag5 = driver.find_elements_by_xpath(\"//div[@class='_3LWZlK _1BLPMq']\")\n",
    "rating_tag5[0:10]"
   ]
  },
  {
   "cell_type": "code",
   "execution_count": 436,
   "id": "868dd9d5",
   "metadata": {},
   "outputs": [
    {
     "data": {
      "text/plain": [
       "['5', '5', '4', '5', '5', '5', '5', '5', '5', '5']"
      ]
     },
     "execution_count": 436,
     "metadata": {},
     "output_type": "execute_result"
    }
   ],
   "source": [
    "Product_rating5 = []\n",
    "for i in rating_tag5:\n",
    "    rating = i.text\n",
    "    Product_rating5.append(rating)\n",
    "Product_rating5[0:10]"
   ]
  },
  {
   "cell_type": "code",
   "execution_count": 437,
   "id": "9f4e09ff",
   "metadata": {},
   "outputs": [
    {
     "name": "stderr",
     "output_type": "stream",
     "text": [
      "<ipython-input-437-18d43c0113d2>:1: DeprecationWarning: find_elements_by_* commands are deprecated. Please use find_elements() instead\n",
      "  Review_tag5 = driver.find_elements_by_xpath(\"//p[@class='_2-N8zT']\")\n"
     ]
    },
    {
     "data": {
      "text/plain": [
       "[<selenium.webdriver.remote.webelement.WebElement (session=\"8798cbf4eaf1e47b30254f455d36bf95\", element=\"4f9dddd9-d23c-4495-ac19-c219d0b2fdf5\")>,\n",
       " <selenium.webdriver.remote.webelement.WebElement (session=\"8798cbf4eaf1e47b30254f455d36bf95\", element=\"cfcd1536-9610-40ff-a9da-9a68e0101d8b\")>,\n",
       " <selenium.webdriver.remote.webelement.WebElement (session=\"8798cbf4eaf1e47b30254f455d36bf95\", element=\"e0011158-0276-446e-bb18-f36b6eb9a5ec\")>,\n",
       " <selenium.webdriver.remote.webelement.WebElement (session=\"8798cbf4eaf1e47b30254f455d36bf95\", element=\"15568a30-d733-452e-a774-9f4de9eaf404\")>,\n",
       " <selenium.webdriver.remote.webelement.WebElement (session=\"8798cbf4eaf1e47b30254f455d36bf95\", element=\"60a3d6eb-af8d-4817-a846-06ffcec73abc\")>,\n",
       " <selenium.webdriver.remote.webelement.WebElement (session=\"8798cbf4eaf1e47b30254f455d36bf95\", element=\"057e8925-8de6-49de-9a6d-722329fc99f6\")>,\n",
       " <selenium.webdriver.remote.webelement.WebElement (session=\"8798cbf4eaf1e47b30254f455d36bf95\", element=\"1ff662b4-b62e-4b7a-ba81-f9ca2be0bea7\")>,\n",
       " <selenium.webdriver.remote.webelement.WebElement (session=\"8798cbf4eaf1e47b30254f455d36bf95\", element=\"e07cfd4e-bda6-4e88-a5d8-fb8a5df13e5b\")>,\n",
       " <selenium.webdriver.remote.webelement.WebElement (session=\"8798cbf4eaf1e47b30254f455d36bf95\", element=\"70ab2735-fe11-4868-8e52-43d6c2a18d1d\")>,\n",
       " <selenium.webdriver.remote.webelement.WebElement (session=\"8798cbf4eaf1e47b30254f455d36bf95\", element=\"c13cdbb1-a47c-417d-a14a-2d19cacb9e7f\")>]"
      ]
     },
     "execution_count": 437,
     "metadata": {},
     "output_type": "execute_result"
    }
   ],
   "source": [
    "Review_tag5 = driver.find_elements_by_xpath(\"//p[@class='_2-N8zT']\")\n",
    "Review_tag5[0:10]"
   ]
  },
  {
   "cell_type": "code",
   "execution_count": 438,
   "id": "939d1cc6",
   "metadata": {},
   "outputs": [
    {
     "data": {
      "text/plain": [
       "['Just wow!',\n",
       " 'Awesome',\n",
       " 'Pretty good',\n",
       " 'Terrific purchase',\n",
       " 'Awesome',\n",
       " 'Classy product',\n",
       " 'Brilliant',\n",
       " 'Terrific',\n",
       " 'Perfect product!',\n",
       " 'Awesome']"
      ]
     },
     "execution_count": 438,
     "metadata": {},
     "output_type": "execute_result"
    }
   ],
   "source": [
    "Review_summary5 = []\n",
    "for i in Review_tag5:\n",
    "    summary=i.text\n",
    "    Review_summary5.append(summary)\n",
    "Review_summary5[0:10]"
   ]
  },
  {
   "cell_type": "code",
   "execution_count": 439,
   "id": "e0343a44",
   "metadata": {},
   "outputs": [
    {
     "name": "stderr",
     "output_type": "stream",
     "text": [
      "<ipython-input-439-c80a281ca685>:1: DeprecationWarning: find_elements_by_* commands are deprecated. Please use find_elements() instead\n",
      "  fReview_tag5 = driver.find_elements_by_xpath(\"//div[@class='t-ZTKy']\")\n"
     ]
    },
    {
     "data": {
      "text/plain": [
       "[<selenium.webdriver.remote.webelement.WebElement (session=\"8798cbf4eaf1e47b30254f455d36bf95\", element=\"23fdaed6-4ad2-449a-a77f-eada3c8921f7\")>,\n",
       " <selenium.webdriver.remote.webelement.WebElement (session=\"8798cbf4eaf1e47b30254f455d36bf95\", element=\"a3aac8f7-4595-4199-90a4-a4935b31c9e5\")>,\n",
       " <selenium.webdriver.remote.webelement.WebElement (session=\"8798cbf4eaf1e47b30254f455d36bf95\", element=\"9c7de737-9c67-40af-b1cc-c4175e9366cf\")>,\n",
       " <selenium.webdriver.remote.webelement.WebElement (session=\"8798cbf4eaf1e47b30254f455d36bf95\", element=\"5771e421-33c3-4431-9499-a358a05343f5\")>,\n",
       " <selenium.webdriver.remote.webelement.WebElement (session=\"8798cbf4eaf1e47b30254f455d36bf95\", element=\"c4494198-c788-4562-a390-3ba46c69c26d\")>,\n",
       " <selenium.webdriver.remote.webelement.WebElement (session=\"8798cbf4eaf1e47b30254f455d36bf95\", element=\"f7733c39-edf6-4765-80db-118542942cd3\")>,\n",
       " <selenium.webdriver.remote.webelement.WebElement (session=\"8798cbf4eaf1e47b30254f455d36bf95\", element=\"c1962446-e68f-4b50-b0b1-2de12a8db523\")>,\n",
       " <selenium.webdriver.remote.webelement.WebElement (session=\"8798cbf4eaf1e47b30254f455d36bf95\", element=\"a104403b-2c51-4364-8987-756cef1ee930\")>,\n",
       " <selenium.webdriver.remote.webelement.WebElement (session=\"8798cbf4eaf1e47b30254f455d36bf95\", element=\"48375c1b-7035-42e5-8163-c2b07913980e\")>,\n",
       " <selenium.webdriver.remote.webelement.WebElement (session=\"8798cbf4eaf1e47b30254f455d36bf95\", element=\"abacfd44-0f18-4e23-8ba5-63762e4a6d55\")>]"
      ]
     },
     "execution_count": 439,
     "metadata": {},
     "output_type": "execute_result"
    }
   ],
   "source": [
    "fReview_tag5 = driver.find_elements_by_xpath(\"//div[@class='t-ZTKy']\")\n",
    "fReview_tag5[0:10]"
   ]
  },
  {
   "cell_type": "code",
   "execution_count": 440,
   "id": "16838bb9",
   "metadata": {},
   "outputs": [
    {
     "data": {
      "text/plain": [
       "['Best in class. Battery backup is good especially when you play games like Pubg COD. But it is sort of heavy when you hold in hands. Portrait mode is best to click pictures. Stage light effect is awesome. Try to click photos outside in nature because photos inside home or room will not give you the quality in any phone even in DSLR.',\n",
       " 'Very excited to have this phone. This phone has the real power unlike the android phones having SD 855 . The battery life is very good and the camera quality is excellent as comapred to redmi and other phones except google pixel. I M enjoying every single bit of it. Would recommed only if you have the budget.',\n",
       " 'I was using Iphone 6s and also Oneplus 6t. Both mobiles were perfectly alright in Photos, gaming, and smooth interface . My 6s mobile getting battery issue. thought upgrade to 11. Really like this mobile of its Internal storage (compare to 6s) , camera and its touch feeling. Its a worth buying mobile for me.',\n",
       " 'Its Very awesome product working and good camera quality and all about best product and also flipkart is very great deal and offer nice price',\n",
       " 'I am using this phone for 5 days and its one of the best camera out there ❤️ the screen is not oled and i am coming from iphone xs so its little bit not up to the mark i would say\\nBut overall value for money💕😍the battery back up is far better than my iphone xs and its worth in my apple ecosystem💫❤️if u are an apple User and have the eco system then go for it❤️though i will be getting the new iphone but its pretty good💫',\n",
       " 'Best and amazing product.....phone looks so premium.... battary is also good as expected .... Wide angle camera is so addictive ...if you are a IOS lover....then this phone will be the best choice for you all!!💯🔥',\n",
       " 'Excellent camera and display touching very nice and smooth very improvement against iPhone XR and new processor is very fast',\n",
       " \"I got this beast today. And I must say the picture quality of its camera is awesome. Both the cameras works fine.\\n\\nAs for as the processing is concerned, it runs without any lag. You can play and do whatever you want without a glitch.\\n\\nThe battery runs for a day with medium and high workload.\\n\\nThe display is good and the speakers are working fine.\\n\\nThe earphones doesn't have any base and you can use it for calling mostly.\\n\\nThe charging time is approximately for 90 minutes for full charging...\\nREAD MORE\",\n",
       " 'Awesome purchase. Amazing phone with good battery backup. It’s a top notch device. White colour looks amazing. Phone has a few extra feature than iPhone XR. Overall, this is value for money',\n",
       " 'Always love the apple products, upgraded from old iPhone 6S plus to this after having my first baby. I just love to click baby’s photos with it. Overall I just love this phone. Battery back up is okay, sound quality is good. Haven’t tested yet waterproof yet. Only one thing I hate is apple could have given charger & headphones in box.']"
      ]
     },
     "execution_count": 440,
     "metadata": {},
     "output_type": "execute_result"
    }
   ],
   "source": [
    "full_review5 = []\n",
    "for i in fReview_tag5:\n",
    "    freview = i.text\n",
    "    full_review5.append(freview)\n",
    "full_review5[0:10]"
   ]
  },
  {
   "cell_type": "code",
   "execution_count": 441,
   "id": "58f95f6c",
   "metadata": {},
   "outputs": [
    {
     "name": "stderr",
     "output_type": "stream",
     "text": [
      "<ipython-input-441-935db4ed64cc>:1: DeprecationWarning: find_element_by_* commands are deprecated. Please use find_element() instead\n",
      "  Next_page7 = driver.find_element_by_xpath('/html/body/div[1]/div/div[3]/div/div/div[2]/div[13]/div/div/nav/a[12]/span').click()\n"
     ]
    }
   ],
   "source": [
    "Next_page7 = driver.find_element_by_xpath('/html/body/div[1]/div/div[3]/div/div/div[2]/div[13]/div/div/nav/a[12]/span').click()"
   ]
  },
  {
   "cell_type": "code",
   "execution_count": 442,
   "id": "b064cc0f",
   "metadata": {},
   "outputs": [
    {
     "name": "stderr",
     "output_type": "stream",
     "text": [
      "<ipython-input-442-f6f7e19e447b>:1: DeprecationWarning: find_elements_by_* commands are deprecated. Please use find_elements() instead\n",
      "  rating_tag6 = driver.find_elements_by_xpath(\"//div[@class='_3LWZlK _1BLPMq']\")\n"
     ]
    },
    {
     "data": {
      "text/plain": [
       "[<selenium.webdriver.remote.webelement.WebElement (session=\"8798cbf4eaf1e47b30254f455d36bf95\", element=\"8690fc82-ae0c-4c6b-b955-4287265ba3be\")>,\n",
       " <selenium.webdriver.remote.webelement.WebElement (session=\"8798cbf4eaf1e47b30254f455d36bf95\", element=\"0bbca47c-bff7-4fc5-888a-009bea6f45d5\")>,\n",
       " <selenium.webdriver.remote.webelement.WebElement (session=\"8798cbf4eaf1e47b30254f455d36bf95\", element=\"fbfbd373-b84a-47ee-b685-b758385b7474\")>,\n",
       " <selenium.webdriver.remote.webelement.WebElement (session=\"8798cbf4eaf1e47b30254f455d36bf95\", element=\"fff0092c-a234-4075-bce5-02c393812df3\")>,\n",
       " <selenium.webdriver.remote.webelement.WebElement (session=\"8798cbf4eaf1e47b30254f455d36bf95\", element=\"ca3a602d-c577-47e2-a557-0779f303326a\")>,\n",
       " <selenium.webdriver.remote.webelement.WebElement (session=\"8798cbf4eaf1e47b30254f455d36bf95\", element=\"07ca5e6f-74fe-489c-bca1-e377a4b4d1a4\")>,\n",
       " <selenium.webdriver.remote.webelement.WebElement (session=\"8798cbf4eaf1e47b30254f455d36bf95\", element=\"2d4a8520-94aa-467f-8ef6-a42d2f68203f\")>,\n",
       " <selenium.webdriver.remote.webelement.WebElement (session=\"8798cbf4eaf1e47b30254f455d36bf95\", element=\"e77a43e0-d9de-4762-8edb-b077841149eb\")>,\n",
       " <selenium.webdriver.remote.webelement.WebElement (session=\"8798cbf4eaf1e47b30254f455d36bf95\", element=\"c72a6b38-a95e-4d63-9ff8-9c8a1b1fe324\")>]"
      ]
     },
     "execution_count": 442,
     "metadata": {},
     "output_type": "execute_result"
    }
   ],
   "source": [
    "rating_tag6 = driver.find_elements_by_xpath(\"//div[@class='_3LWZlK _1BLPMq']\")\n",
    "rating_tag6[0:10]"
   ]
  },
  {
   "cell_type": "code",
   "execution_count": 443,
   "id": "97f97e2f",
   "metadata": {},
   "outputs": [
    {
     "data": {
      "text/plain": [
       "['5', '5', '5', '5', '4', '5', '5', '5', '4']"
      ]
     },
     "execution_count": 443,
     "metadata": {},
     "output_type": "execute_result"
    }
   ],
   "source": [
    "Product_rating6 = []\n",
    "for i in rating_tag6:\n",
    "    rating = i.text\n",
    "    Product_rating6.append(rating)\n",
    "Product_rating6[0:10]"
   ]
  },
  {
   "cell_type": "code",
   "execution_count": 444,
   "id": "ec320fe8",
   "metadata": {},
   "outputs": [
    {
     "name": "stderr",
     "output_type": "stream",
     "text": [
      "<ipython-input-444-d869fe282656>:1: DeprecationWarning: find_elements_by_* commands are deprecated. Please use find_elements() instead\n",
      "  Review_tag6 = driver.find_elements_by_xpath(\"//p[@class='_2-N8zT']\")\n"
     ]
    },
    {
     "data": {
      "text/plain": [
       "[<selenium.webdriver.remote.webelement.WebElement (session=\"8798cbf4eaf1e47b30254f455d36bf95\", element=\"a350adfb-43b9-4cb4-b2ec-fff36b73d4b4\")>,\n",
       " <selenium.webdriver.remote.webelement.WebElement (session=\"8798cbf4eaf1e47b30254f455d36bf95\", element=\"53594932-3d73-4483-9058-228bb44eb97a\")>,\n",
       " <selenium.webdriver.remote.webelement.WebElement (session=\"8798cbf4eaf1e47b30254f455d36bf95\", element=\"08211e71-4302-4dc6-85ad-ebbf8faca685\")>,\n",
       " <selenium.webdriver.remote.webelement.WebElement (session=\"8798cbf4eaf1e47b30254f455d36bf95\", element=\"b6786568-05cc-4a3c-8a72-f015daea26a4\")>,\n",
       " <selenium.webdriver.remote.webelement.WebElement (session=\"8798cbf4eaf1e47b30254f455d36bf95\", element=\"c0b124a2-8165-47a5-bb90-7e4d8a9b11ed\")>,\n",
       " <selenium.webdriver.remote.webelement.WebElement (session=\"8798cbf4eaf1e47b30254f455d36bf95\", element=\"4c582640-9226-4150-80ae-0ae701ddce81\")>,\n",
       " <selenium.webdriver.remote.webelement.WebElement (session=\"8798cbf4eaf1e47b30254f455d36bf95\", element=\"6c27e0cd-5638-4822-b302-e3148486ead7\")>,\n",
       " <selenium.webdriver.remote.webelement.WebElement (session=\"8798cbf4eaf1e47b30254f455d36bf95\", element=\"ed1e17ee-dd2f-4e24-9b9b-833fa85753f6\")>,\n",
       " <selenium.webdriver.remote.webelement.WebElement (session=\"8798cbf4eaf1e47b30254f455d36bf95\", element=\"51420204-160a-4629-a34b-e9d5de015cc7\")>,\n",
       " <selenium.webdriver.remote.webelement.WebElement (session=\"8798cbf4eaf1e47b30254f455d36bf95\", element=\"146a41ee-6eaf-4946-a623-5c05f6c2d245\")>]"
      ]
     },
     "execution_count": 444,
     "metadata": {},
     "output_type": "execute_result"
    }
   ],
   "source": [
    "Review_tag6 = driver.find_elements_by_xpath(\"//p[@class='_2-N8zT']\")\n",
    "Review_tag6[0:10]"
   ]
  },
  {
   "cell_type": "code",
   "execution_count": 445,
   "id": "74eb06ee",
   "metadata": {},
   "outputs": [
    {
     "data": {
      "text/plain": [
       "['Perfect product!',\n",
       " 'Very poor',\n",
       " 'Fabulous!',\n",
       " 'Excellent',\n",
       " 'Must buy!',\n",
       " 'Value-for-money',\n",
       " 'Best in the market!',\n",
       " 'Brilliant',\n",
       " 'Terrific purchase',\n",
       " 'Good quality product']"
      ]
     },
     "execution_count": 445,
     "metadata": {},
     "output_type": "execute_result"
    }
   ],
   "source": [
    "Review_summary6 = []\n",
    "for i in Review_tag6:\n",
    "    summary=i.text\n",
    "    Review_summary6.append(summary)\n",
    "Review_summary6[0:10]"
   ]
  },
  {
   "cell_type": "code",
   "execution_count": 446,
   "id": "f7a813c7",
   "metadata": {},
   "outputs": [
    {
     "name": "stderr",
     "output_type": "stream",
     "text": [
      "<ipython-input-446-c38db37a045a>:1: DeprecationWarning: find_elements_by_* commands are deprecated. Please use find_elements() instead\n",
      "  fReview_tag6 = driver.find_elements_by_xpath(\"//div[@class='t-ZTKy']\")\n"
     ]
    },
    {
     "data": {
      "text/plain": [
       "[<selenium.webdriver.remote.webelement.WebElement (session=\"8798cbf4eaf1e47b30254f455d36bf95\", element=\"f85414e3-92ec-453b-9277-7564e22d192a\")>,\n",
       " <selenium.webdriver.remote.webelement.WebElement (session=\"8798cbf4eaf1e47b30254f455d36bf95\", element=\"afd7b39b-4c65-4420-99a1-41b1f6d29c0c\")>,\n",
       " <selenium.webdriver.remote.webelement.WebElement (session=\"8798cbf4eaf1e47b30254f455d36bf95\", element=\"01e42825-a835-49b1-b848-3934b4d6a4e2\")>,\n",
       " <selenium.webdriver.remote.webelement.WebElement (session=\"8798cbf4eaf1e47b30254f455d36bf95\", element=\"c6b777df-efeb-46d8-8523-2dd2a30ca718\")>,\n",
       " <selenium.webdriver.remote.webelement.WebElement (session=\"8798cbf4eaf1e47b30254f455d36bf95\", element=\"695dd242-02c4-4852-8baa-7da7888e46fb\")>,\n",
       " <selenium.webdriver.remote.webelement.WebElement (session=\"8798cbf4eaf1e47b30254f455d36bf95\", element=\"130c2af1-0f2a-4679-9e44-d568fe77b457\")>,\n",
       " <selenium.webdriver.remote.webelement.WebElement (session=\"8798cbf4eaf1e47b30254f455d36bf95\", element=\"4dd77b75-a603-4073-a4e1-efb7abead8c1\")>,\n",
       " <selenium.webdriver.remote.webelement.WebElement (session=\"8798cbf4eaf1e47b30254f455d36bf95\", element=\"d7986c2b-711c-45d0-a255-bc76c156b402\")>,\n",
       " <selenium.webdriver.remote.webelement.WebElement (session=\"8798cbf4eaf1e47b30254f455d36bf95\", element=\"9433f1a6-9bec-4f8d-93b2-043e0be642a9\")>,\n",
       " <selenium.webdriver.remote.webelement.WebElement (session=\"8798cbf4eaf1e47b30254f455d36bf95\", element=\"397ce915-c01e-4b01-825e-edd314f909e2\")>]"
      ]
     },
     "execution_count": 446,
     "metadata": {},
     "output_type": "execute_result"
    }
   ],
   "source": [
    "fReview_tag6 = driver.find_elements_by_xpath(\"//div[@class='t-ZTKy']\")\n",
    "fReview_tag6[0:10]"
   ]
  },
  {
   "cell_type": "code",
   "execution_count": 447,
   "id": "9f0ef61f",
   "metadata": {},
   "outputs": [
    {
     "data": {
      "text/plain": [
       "['Value for money\\n5 star rating\\nExcellent camera\\nBattery backup full day in single charge.\\n\\nTougher and water resistant design, glossy back.\\nThe screen has excellent brightness and contrast.\\nApple A13 Bionic is the fastest smartphone chip on the planet.\\nExcellent battery life, fast charging support.\\nStereo speakers with great quality.',\n",
       " 'Please DONT buy from here,\\n\\nI purchased Apple iPhone 11. with an exchange of IPhone 7, the exchange did not go well, iPhone 7 had a small scratch out side screen which i could never identify till date, but the FLIPKART person could, so he reduced 50% from exchange rate. I decided not to trade in, but paid money.\\n\\niPhone 11 Detail Below\\n---------------------------------------------\\nIt came with no charging, then i have put for charging, it took lot of time for charging, the phone also showe...\\nREAD MORE',\n",
       " 'awesome phone to have. it has got many smart features apart from mind blowing looks, camera, display, battery and sound. have fallen in love with this phone. must buy phone if you have got enough money. thanks to flipkart and apple of course..',\n",
       " 'Its a fabulous mobile look awesome performance unbeaten camera like dslr battery good i think this is a beast of mobile',\n",
       " 'Dear friends... I want to share my experience with you about this amazing I phone 11....this is my first iPhone and special things about this mobile is it has great camera, battery backup and awesome display.... I mean everything is perfect.loved it 👍👍👍',\n",
       " \"Just got this iphone 11\\nAnd it is most powerful mobile phone I have used ever\\n\\nSo,go for it if you want a phone with best specification like camera,battery backup,display, A13 bionic chip\\n\\nThat's my review about this phone but yours can be differ from me....\",\n",
       " \"The best all rounder iphone. Flipkart is doing a great job. They're delivery services are blazing fast. I got delivery on the same day. Genuine Apple Product. Working great. Talking about review There's no need of review for iphones. They're simply the best.\",\n",
       " 'Amazing phone and on great deal I received with super fast delivery by Flipkart...',\n",
       " 'finally an iPhone with very nice battery backup. update from iPhone 7 and happy to have it. camera is not up to the mark in low light but overall a recommended phone if your budget allows 😀',\n",
       " \"I'm switching this phone to oppo reno 10x zoom\\nIt's really impressive\\nRarely I'm missing smooth display touch response like oppo reno but\\nI really loved it.\\nCamera really impressive\"]"
      ]
     },
     "execution_count": 447,
     "metadata": {},
     "output_type": "execute_result"
    }
   ],
   "source": [
    "full_review6 = []\n",
    "for i in fReview_tag6:\n",
    "    freview = i.text\n",
    "    full_review6.append(freview)\n",
    "full_review6[0:10]"
   ]
  },
  {
   "cell_type": "code",
   "execution_count": 454,
   "id": "60d8f24e",
   "metadata": {},
   "outputs": [
    {
     "name": "stderr",
     "output_type": "stream",
     "text": [
      "<ipython-input-454-3226f642dc42>:1: DeprecationWarning: find_element_by_* commands are deprecated. Please use find_element() instead\n",
      "  Next_page8 = driver.find_element_by_xpath('/html/body/div/div/div[3]/div/div/div[2]/div[13]/div/div/nav/a[12]/span').click()\n"
     ]
    }
   ],
   "source": [
    "Next_page8 = driver.find_element_by_xpath('/html/body/div/div/div[3]/div/div/div[2]/div[13]/div/div/nav/a[12]/span').click()"
   ]
  },
  {
   "cell_type": "code",
   "execution_count": 455,
   "id": "6e220c00",
   "metadata": {},
   "outputs": [
    {
     "name": "stderr",
     "output_type": "stream",
     "text": [
      "<ipython-input-455-b38f73a563e2>:1: DeprecationWarning: find_elements_by_* commands are deprecated. Please use find_elements() instead\n",
      "  rating_tag7 = driver.find_elements_by_xpath(\"//div[@class='_3LWZlK _1BLPMq']\")\n"
     ]
    },
    {
     "data": {
      "text/plain": [
       "[<selenium.webdriver.remote.webelement.WebElement (session=\"8798cbf4eaf1e47b30254f455d36bf95\", element=\"aa2af4da-bbce-4696-95c3-c61ccb1250d9\")>,\n",
       " <selenium.webdriver.remote.webelement.WebElement (session=\"8798cbf4eaf1e47b30254f455d36bf95\", element=\"9975a311-16fe-4e21-833a-dec56a37613d\")>,\n",
       " <selenium.webdriver.remote.webelement.WebElement (session=\"8798cbf4eaf1e47b30254f455d36bf95\", element=\"a9921089-bb53-4e21-9ad6-52a83ec4d4f0\")>,\n",
       " <selenium.webdriver.remote.webelement.WebElement (session=\"8798cbf4eaf1e47b30254f455d36bf95\", element=\"3d31c9bd-af6e-4b4c-988a-d6012e0b2fa9\")>,\n",
       " <selenium.webdriver.remote.webelement.WebElement (session=\"8798cbf4eaf1e47b30254f455d36bf95\", element=\"b8a0332c-5d14-4276-adc8-b08a227fd61d\")>,\n",
       " <selenium.webdriver.remote.webelement.WebElement (session=\"8798cbf4eaf1e47b30254f455d36bf95\", element=\"9918dc8f-6138-4215-9e40-a266cd0c1de2\")>,\n",
       " <selenium.webdriver.remote.webelement.WebElement (session=\"8798cbf4eaf1e47b30254f455d36bf95\", element=\"23ec07cc-2c85-4193-8f3d-5a3ae36b112e\")>,\n",
       " <selenium.webdriver.remote.webelement.WebElement (session=\"8798cbf4eaf1e47b30254f455d36bf95\", element=\"0b216c09-2281-4007-9d88-f7a1e8f51490\")>,\n",
       " <selenium.webdriver.remote.webelement.WebElement (session=\"8798cbf4eaf1e47b30254f455d36bf95\", element=\"9f058738-c2b7-4844-81e0-6e3da34c247d\")>]"
      ]
     },
     "execution_count": 455,
     "metadata": {},
     "output_type": "execute_result"
    }
   ],
   "source": [
    "rating_tag7 = driver.find_elements_by_xpath(\"//div[@class='_3LWZlK _1BLPMq']\")\n",
    "rating_tag7[0:10]"
   ]
  },
  {
   "cell_type": "code",
   "execution_count": 456,
   "id": "6ecbedad",
   "metadata": {},
   "outputs": [
    {
     "data": {
      "text/plain": [
       "['5', '5', '5', '4', '5', '5', '5', '5', '5']"
      ]
     },
     "execution_count": 456,
     "metadata": {},
     "output_type": "execute_result"
    }
   ],
   "source": [
    "Product_rating7 = []\n",
    "for i in rating_tag7:\n",
    "    rating = i.text\n",
    "    Product_rating7.append(rating)\n",
    "Product_rating7[0:10]"
   ]
  },
  {
   "cell_type": "code",
   "execution_count": 458,
   "id": "e7d67c8c",
   "metadata": {},
   "outputs": [
    {
     "name": "stderr",
     "output_type": "stream",
     "text": [
      "<ipython-input-458-412ece2b4a10>:1: DeprecationWarning: find_elements_by_* commands are deprecated. Please use find_elements() instead\n",
      "  Review_tag7 = driver.find_elements_by_xpath(\"//p[@class='_2-N8zT']\")\n"
     ]
    },
    {
     "data": {
      "text/plain": [
       "[<selenium.webdriver.remote.webelement.WebElement (session=\"8798cbf4eaf1e47b30254f455d36bf95\", element=\"db374994-19ff-4854-9648-f29e41e1d290\")>,\n",
       " <selenium.webdriver.remote.webelement.WebElement (session=\"8798cbf4eaf1e47b30254f455d36bf95\", element=\"8c720ee1-d749-44a9-8d27-5c4549884df0\")>,\n",
       " <selenium.webdriver.remote.webelement.WebElement (session=\"8798cbf4eaf1e47b30254f455d36bf95\", element=\"d18df328-365f-4363-ba5d-881d01eb6408\")>,\n",
       " <selenium.webdriver.remote.webelement.WebElement (session=\"8798cbf4eaf1e47b30254f455d36bf95\", element=\"faeaa827-fd87-44fe-8880-a8aab69460f8\")>,\n",
       " <selenium.webdriver.remote.webelement.WebElement (session=\"8798cbf4eaf1e47b30254f455d36bf95\", element=\"52231758-bc31-4e49-a841-d2647c5e3f28\")>,\n",
       " <selenium.webdriver.remote.webelement.WebElement (session=\"8798cbf4eaf1e47b30254f455d36bf95\", element=\"fe1df8c4-377f-45bf-8d52-d22ab8a320f4\")>,\n",
       " <selenium.webdriver.remote.webelement.WebElement (session=\"8798cbf4eaf1e47b30254f455d36bf95\", element=\"6e5c8b10-c2ad-41ba-b2bd-e58601aad86b\")>,\n",
       " <selenium.webdriver.remote.webelement.WebElement (session=\"8798cbf4eaf1e47b30254f455d36bf95\", element=\"5ccb3223-9d54-4fc5-a71a-c03a4310c979\")>,\n",
       " <selenium.webdriver.remote.webelement.WebElement (session=\"8798cbf4eaf1e47b30254f455d36bf95\", element=\"c85add5d-f0c9-48d1-958b-566dc4600b7a\")>,\n",
       " <selenium.webdriver.remote.webelement.WebElement (session=\"8798cbf4eaf1e47b30254f455d36bf95\", element=\"d3556504-fa27-48ff-af01-4e705cc652c5\")>]"
      ]
     },
     "execution_count": 458,
     "metadata": {},
     "output_type": "execute_result"
    }
   ],
   "source": [
    "Review_tag7 = driver.find_elements_by_xpath(\"//p[@class='_2-N8zT']\")\n",
    "Review_tag7[0:10]"
   ]
  },
  {
   "cell_type": "code",
   "execution_count": 459,
   "id": "8ddc0b23",
   "metadata": {},
   "outputs": [
    {
     "data": {
      "text/plain": [
       "['Best in the market!',\n",
       " 'Perfect product!',\n",
       " 'Awesome',\n",
       " 'Value-for-money',\n",
       " 'Just wow!',\n",
       " 'Worthless',\n",
       " 'Super!',\n",
       " 'Classy product',\n",
       " 'Must buy!',\n",
       " 'Excellent']"
      ]
     },
     "execution_count": 459,
     "metadata": {},
     "output_type": "execute_result"
    }
   ],
   "source": [
    "Review_summary7 = []\n",
    "for i in Review_tag7:\n",
    "    summary=i.text\n",
    "    Review_summary7.append(summary)\n",
    "Review_summary7[0:10]"
   ]
  },
  {
   "cell_type": "code",
   "execution_count": 460,
   "id": "bcba89e8",
   "metadata": {},
   "outputs": [
    {
     "name": "stderr",
     "output_type": "stream",
     "text": [
      "<ipython-input-460-f948f4e6a321>:1: DeprecationWarning: find_elements_by_* commands are deprecated. Please use find_elements() instead\n",
      "  fReview_tag7 = driver.find_elements_by_xpath(\"//div[@class='t-ZTKy']\")\n"
     ]
    },
    {
     "data": {
      "text/plain": [
       "[<selenium.webdriver.remote.webelement.WebElement (session=\"8798cbf4eaf1e47b30254f455d36bf95\", element=\"91c26efe-41f9-4d0b-8d0a-76eb35faa190\")>,\n",
       " <selenium.webdriver.remote.webelement.WebElement (session=\"8798cbf4eaf1e47b30254f455d36bf95\", element=\"43032c98-042c-4fea-8f0f-1ba181d6146d\")>,\n",
       " <selenium.webdriver.remote.webelement.WebElement (session=\"8798cbf4eaf1e47b30254f455d36bf95\", element=\"b0b91f18-b6b8-4279-a768-d2b24d3af179\")>,\n",
       " <selenium.webdriver.remote.webelement.WebElement (session=\"8798cbf4eaf1e47b30254f455d36bf95\", element=\"1746fd9b-8705-4779-b6bc-94e68b9db2ed\")>,\n",
       " <selenium.webdriver.remote.webelement.WebElement (session=\"8798cbf4eaf1e47b30254f455d36bf95\", element=\"b86b9a28-418b-464c-8a92-8b517b0d0cd2\")>,\n",
       " <selenium.webdriver.remote.webelement.WebElement (session=\"8798cbf4eaf1e47b30254f455d36bf95\", element=\"a3ec071f-096f-43ff-a03b-744aba1c0142\")>,\n",
       " <selenium.webdriver.remote.webelement.WebElement (session=\"8798cbf4eaf1e47b30254f455d36bf95\", element=\"5d9d8b63-e193-4f04-9bd1-51e2f4f2a7c1\")>,\n",
       " <selenium.webdriver.remote.webelement.WebElement (session=\"8798cbf4eaf1e47b30254f455d36bf95\", element=\"b53afc09-52c8-4758-8dd2-55725cd243d2\")>,\n",
       " <selenium.webdriver.remote.webelement.WebElement (session=\"8798cbf4eaf1e47b30254f455d36bf95\", element=\"17e04c06-b233-45c5-ba37-6b6d05e814a6\")>,\n",
       " <selenium.webdriver.remote.webelement.WebElement (session=\"8798cbf4eaf1e47b30254f455d36bf95\", element=\"2c28ae6f-cea7-48d9-badf-93c1b8dc9f1c\")>]"
      ]
     },
     "execution_count": 460,
     "metadata": {},
     "output_type": "execute_result"
    }
   ],
   "source": [
    "fReview_tag7 = driver.find_elements_by_xpath(\"//div[@class='t-ZTKy']\")\n",
    "fReview_tag7[0:10]"
   ]
  },
  {
   "cell_type": "code",
   "execution_count": 461,
   "id": "a966bba2",
   "metadata": {},
   "outputs": [
    {
     "data": {
      "text/plain": [
       "['Damn this phone is a blast . Upgraded from android to ios and is a duperb experience. Battery backup is top notch and display also pretty good',\n",
       " 'Worth the money’ starting first from its performance it beats out all phones , second the smoothness of camera is awesome, contrast ratio is much than expected. Price will not matter if u r a quality person, if not other phones are available with better discount',\n",
       " 'I dreamt about this day from a long time.... Getting an iPhone with my own money.... Super happy and worth spending every penny',\n",
       " \"I'm Really happy with the product\\nDelivery was fast as well\\n..it was a gift for my sister and she loved it so much.\",\n",
       " 'Great iphone.\\nI am writing this review after 2 months of usage.\\nCamera is excellent, especially the nightmode\\nDisplay perfect\\nBattery backup awesome\\nSound quality very good\\nOverall Apple gives you a perfect iphone in this range.\\nReally in love with iPhone 11',\n",
       " \"Phone is awesome no doubt. But Camera & Display is not great. Performance is mind blowing.\\nBut the phone is heating too much when charging or when you regularly used. It's experience after using 1 week. It's heating extrem when I play PUBG for 30 minutes.\\nGo for iPhone 11 pro or 12. Otherwise go for Android phone you will get much better phone in less price.\",\n",
       " 'Did an upgrade from 6s plus to iphone 11.\\nAo far the experience is well and good. Felt smoother than 6s plus. The camera quality is superb. Battery backup is descent. Not a heavy user, and gets power more than a day. Go for it if you need an alrounder iphone in a competitve price.',\n",
       " 'Gifted my man on his 30th birthday 🎂 He loves it.. Him happy so i am more than happy 😍😘❤️🥰',\n",
       " 'I rate this product 5* as it has got amazing user experience with the best performing A13 bionic processor. The screen responds and graphics rendering is top notch. With casual gaming and internet browsing, the battery lasts for approx. 1 day. Camera is very good. You will fall in love with the portrait mode. You can call me a loyal Apple customer or whatever but I won’t stop praising the products and overall experience. That user experience matters and is worth every penny you pay.\\n\\nBelow ar...\\nREAD MORE',\n",
       " \"It was amazing experience for me. Honestly i am using iPhone first time so I don't have that much past experience about that. But after using 7 days this mobile i want to give some honest feedback.\\n1- Display 9 out of 10\\n2- Camera 9.5 out of 10\\n3- Battery 7 out of 10\\n4- Performance 9.5 out of 10\\n5- Features & Functions 10 out of 10\\n6- Outer looks and colour 10 out of 10\\nRest i think i will understand after using this for few months.\\nI will highly recommend you guys if you have budget then you...\\nREAD MORE\"]"
      ]
     },
     "execution_count": 461,
     "metadata": {},
     "output_type": "execute_result"
    }
   ],
   "source": [
    "full_review7 = []\n",
    "for i in fReview_tag7:\n",
    "    freview = i.text\n",
    "    full_review7.append(freview)\n",
    "full_review7[0:10]"
   ]
  },
  {
   "cell_type": "code",
   "execution_count": 462,
   "id": "6c3d7281",
   "metadata": {},
   "outputs": [
    {
     "name": "stderr",
     "output_type": "stream",
     "text": [
      "<ipython-input-462-f6f2d02da830>:1: DeprecationWarning: find_element_by_* commands are deprecated. Please use find_element() instead\n",
      "  Next_page9 = driver.find_element_by_xpath('/html/body/div/div/div[3]/div/div/div[2]/div[13]/div/div/nav/a[12]/span').click()\n"
     ]
    }
   ],
   "source": [
    "Next_page9 = driver.find_element_by_xpath('/html/body/div/div/div[3]/div/div/div[2]/div[13]/div/div/nav/a[12]/span').click()"
   ]
  },
  {
   "cell_type": "code",
   "execution_count": 463,
   "id": "cc7b9718",
   "metadata": {},
   "outputs": [
    {
     "name": "stderr",
     "output_type": "stream",
     "text": [
      "<ipython-input-463-8414c20b2cc9>:1: DeprecationWarning: find_elements_by_* commands are deprecated. Please use find_elements() instead\n",
      "  rating_tag8 = driver.find_elements_by_xpath(\"//div[@class='_3LWZlK _1BLPMq']\")\n"
     ]
    },
    {
     "data": {
      "text/plain": [
       "[<selenium.webdriver.remote.webelement.WebElement (session=\"8798cbf4eaf1e47b30254f455d36bf95\", element=\"cc63a3de-b317-4b12-87bf-8876178bb9aa\")>,\n",
       " <selenium.webdriver.remote.webelement.WebElement (session=\"8798cbf4eaf1e47b30254f455d36bf95\", element=\"494329cd-0ed5-4041-900e-286e14ac9a49\")>,\n",
       " <selenium.webdriver.remote.webelement.WebElement (session=\"8798cbf4eaf1e47b30254f455d36bf95\", element=\"6bf872a0-037b-44d9-b7b4-6d391f0f5513\")>,\n",
       " <selenium.webdriver.remote.webelement.WebElement (session=\"8798cbf4eaf1e47b30254f455d36bf95\", element=\"22f791f3-69e9-4655-a7ee-6de2cecbad45\")>,\n",
       " <selenium.webdriver.remote.webelement.WebElement (session=\"8798cbf4eaf1e47b30254f455d36bf95\", element=\"78da8d72-1bff-4c12-b856-2fbc507743b5\")>,\n",
       " <selenium.webdriver.remote.webelement.WebElement (session=\"8798cbf4eaf1e47b30254f455d36bf95\", element=\"7eaf7cd9-6589-46ad-a623-0debd9453375\")>,\n",
       " <selenium.webdriver.remote.webelement.WebElement (session=\"8798cbf4eaf1e47b30254f455d36bf95\", element=\"7f8e3b23-24bd-4535-a27d-53423b9404f0\")>,\n",
       " <selenium.webdriver.remote.webelement.WebElement (session=\"8798cbf4eaf1e47b30254f455d36bf95\", element=\"c348962f-fe8d-4544-a237-7095a1c9cfc2\")>,\n",
       " <selenium.webdriver.remote.webelement.WebElement (session=\"8798cbf4eaf1e47b30254f455d36bf95\", element=\"11e788c7-d5fb-4374-b144-20485cfc36aa\")>,\n",
       " <selenium.webdriver.remote.webelement.WebElement (session=\"8798cbf4eaf1e47b30254f455d36bf95\", element=\"8214c983-ca99-4af7-8e29-09b9c2a76a40\")>]"
      ]
     },
     "execution_count": 463,
     "metadata": {},
     "output_type": "execute_result"
    }
   ],
   "source": [
    "rating_tag8 = driver.find_elements_by_xpath(\"//div[@class='_3LWZlK _1BLPMq']\")\n",
    "rating_tag8[0:10]"
   ]
  },
  {
   "cell_type": "code",
   "execution_count": 464,
   "id": "d3e2e04b",
   "metadata": {},
   "outputs": [
    {
     "data": {
      "text/plain": [
       "['4', '5', '5', '5', '5', '5', '5', '5', '5', '5']"
      ]
     },
     "execution_count": 464,
     "metadata": {},
     "output_type": "execute_result"
    }
   ],
   "source": [
    "Product_rating8 = []\n",
    "for i in rating_tag8:\n",
    "    rating = i.text\n",
    "    Product_rating8.append(rating)\n",
    "Product_rating8[0:10]"
   ]
  },
  {
   "cell_type": "code",
   "execution_count": 465,
   "id": "2823d66b",
   "metadata": {},
   "outputs": [
    {
     "name": "stderr",
     "output_type": "stream",
     "text": [
      "<ipython-input-465-852a434e0610>:1: DeprecationWarning: find_elements_by_* commands are deprecated. Please use find_elements() instead\n",
      "  Review_tag8 = driver.find_elements_by_xpath(\"//p[@class='_2-N8zT']\")\n"
     ]
    },
    {
     "data": {
      "text/plain": [
       "[<selenium.webdriver.remote.webelement.WebElement (session=\"8798cbf4eaf1e47b30254f455d36bf95\", element=\"19363c1e-b5a4-40ab-8d65-7645a548c7bf\")>,\n",
       " <selenium.webdriver.remote.webelement.WebElement (session=\"8798cbf4eaf1e47b30254f455d36bf95\", element=\"d2864ec6-5011-4008-ae5b-ae1bc074a972\")>,\n",
       " <selenium.webdriver.remote.webelement.WebElement (session=\"8798cbf4eaf1e47b30254f455d36bf95\", element=\"4fe1e788-403b-43fa-8f19-843b8e2a5379\")>,\n",
       " <selenium.webdriver.remote.webelement.WebElement (session=\"8798cbf4eaf1e47b30254f455d36bf95\", element=\"965f3689-a42e-42cb-9c7b-712637745793\")>,\n",
       " <selenium.webdriver.remote.webelement.WebElement (session=\"8798cbf4eaf1e47b30254f455d36bf95\", element=\"50d56354-bb68-4c75-b73d-c8393cb905cf\")>,\n",
       " <selenium.webdriver.remote.webelement.WebElement (session=\"8798cbf4eaf1e47b30254f455d36bf95\", element=\"eeea873b-2d0c-489a-a942-14f8e5effdf1\")>,\n",
       " <selenium.webdriver.remote.webelement.WebElement (session=\"8798cbf4eaf1e47b30254f455d36bf95\", element=\"c24fe8de-9156-4c17-b368-b0f710103fe2\")>,\n",
       " <selenium.webdriver.remote.webelement.WebElement (session=\"8798cbf4eaf1e47b30254f455d36bf95\", element=\"e26258ef-995c-42f0-93d4-f9cd95c2b9f7\")>,\n",
       " <selenium.webdriver.remote.webelement.WebElement (session=\"8798cbf4eaf1e47b30254f455d36bf95\", element=\"f956db91-96d4-4890-81e8-be0026702a01\")>,\n",
       " <selenium.webdriver.remote.webelement.WebElement (session=\"8798cbf4eaf1e47b30254f455d36bf95\", element=\"c72632bb-e671-48f5-97c7-2911aa49474d\")>]"
      ]
     },
     "execution_count": 465,
     "metadata": {},
     "output_type": "execute_result"
    }
   ],
   "source": [
    "Review_tag8 = driver.find_elements_by_xpath(\"//p[@class='_2-N8zT']\")\n",
    "Review_tag8[0:10]"
   ]
  },
  {
   "cell_type": "code",
   "execution_count": 466,
   "id": "9ac076ff",
   "metadata": {},
   "outputs": [
    {
     "data": {
      "text/plain": [
       "['Nice product',\n",
       " 'Mind-blowing purchase',\n",
       " 'Terrific',\n",
       " 'Excellent',\n",
       " 'Mind-blowing purchase',\n",
       " 'Highly recommended',\n",
       " 'Wonderful',\n",
       " 'Fabulous!',\n",
       " 'Brilliant',\n",
       " 'Worth every penny']"
      ]
     },
     "execution_count": 466,
     "metadata": {},
     "output_type": "execute_result"
    }
   ],
   "source": [
    "Review_summary8 = []\n",
    "for i in Review_tag8:\n",
    "    summary=i.text\n",
    "    Review_summary8.append(summary)\n",
    "Review_summary8[0:10]"
   ]
  },
  {
   "cell_type": "code",
   "execution_count": 467,
   "id": "feb71f86",
   "metadata": {},
   "outputs": [
    {
     "name": "stderr",
     "output_type": "stream",
     "text": [
      "<ipython-input-467-45c185d96548>:1: DeprecationWarning: find_elements_by_* commands are deprecated. Please use find_elements() instead\n",
      "  fReview_tag8 = driver.find_elements_by_xpath(\"//div[@class='t-ZTKy']\")\n"
     ]
    },
    {
     "data": {
      "text/plain": [
       "[<selenium.webdriver.remote.webelement.WebElement (session=\"8798cbf4eaf1e47b30254f455d36bf95\", element=\"60e7e4b3-2274-42c7-8bd1-f1ee99cdbc0d\")>,\n",
       " <selenium.webdriver.remote.webelement.WebElement (session=\"8798cbf4eaf1e47b30254f455d36bf95\", element=\"e5d1d1e6-806f-4bed-8722-9591b0f88ec2\")>,\n",
       " <selenium.webdriver.remote.webelement.WebElement (session=\"8798cbf4eaf1e47b30254f455d36bf95\", element=\"1b3d2701-5f81-4a7e-9d76-36f030cb8b8f\")>,\n",
       " <selenium.webdriver.remote.webelement.WebElement (session=\"8798cbf4eaf1e47b30254f455d36bf95\", element=\"f8616caa-782c-445f-b6bd-3685cdc214bd\")>,\n",
       " <selenium.webdriver.remote.webelement.WebElement (session=\"8798cbf4eaf1e47b30254f455d36bf95\", element=\"43126ab7-79d7-4599-b4b6-2da0d7851f60\")>,\n",
       " <selenium.webdriver.remote.webelement.WebElement (session=\"8798cbf4eaf1e47b30254f455d36bf95\", element=\"347ee41c-7340-4511-9809-5431a5a1f668\")>,\n",
       " <selenium.webdriver.remote.webelement.WebElement (session=\"8798cbf4eaf1e47b30254f455d36bf95\", element=\"cce66eeb-154d-451f-90fb-b6a89e635ea1\")>,\n",
       " <selenium.webdriver.remote.webelement.WebElement (session=\"8798cbf4eaf1e47b30254f455d36bf95\", element=\"12980c81-7df1-49e7-89b9-f01b4e10d960\")>,\n",
       " <selenium.webdriver.remote.webelement.WebElement (session=\"8798cbf4eaf1e47b30254f455d36bf95\", element=\"262fd5ed-d70f-4eee-98fe-a21a7da1cb7e\")>,\n",
       " <selenium.webdriver.remote.webelement.WebElement (session=\"8798cbf4eaf1e47b30254f455d36bf95\", element=\"499880d4-a6aa-431e-9857-b15cd8f9db73\")>]"
      ]
     },
     "execution_count": 467,
     "metadata": {},
     "output_type": "execute_result"
    }
   ],
   "source": [
    "fReview_tag8 = driver.find_elements_by_xpath(\"//div[@class='t-ZTKy']\")\n",
    "fReview_tag8[0:10]"
   ]
  },
  {
   "cell_type": "code",
   "execution_count": 468,
   "id": "7ff9371a",
   "metadata": {},
   "outputs": [
    {
     "data": {
      "text/plain": [
       "[\"If you are looking for a premium phone under 55k, this is the one for you.Got the iPhone 11 during the Republic day sale. Performance is top notch in this price range. Camera's do a perfect job in taking good quality photos and videos. Battery backup too is satisfactory. Writing this review after using for a week. Any further observations would be updated.\",\n",
       " 'awesome Phone Smooth Touch Too good Sexyy looks one word Awesome',\n",
       " 'I bought iPhone 11 On March 2021, And I am Writing this review after using the phone for 4 Months. I would Say Everything is fine, Top Performance, Nice Camera as Anyone would Expect from any series of iPhone but when the Question comes to Battery it is complicated. The Battery is fully optimised and it comes 3110 mAh capacity but the problem is with the charger. Honestly Apple Removed charger from in Box items in the name of Environment and they are also forcing us to buy any 20W PD 3rd part...\\nREAD MORE',\n",
       " \"Just go for it.\\nThis phone is really amazing. I ordered it for my wife and we click photos on this thing which are better than dslr. I own OnePlus 6t but it's camera sucks. iPhone is really amazing when it comes to camera. It's worth spending 50k on this. Cons- only display is lcd. While using u don't feel it but if u compare with other phone then u can see difference quite easily.\\nChanging from Android to iphone is bit difficult coz most of things u don't know but I liked it. Some of the a...\\nREAD MORE\",\n",
       " 'Absolutely powerful gadget. Loved it’s look! Soo glassy and classy. I would definitely recommend this model of Apple. Only disappointed with the 5W charger, one should purchase an 18W adapter for fast charging. Though battery backup is great. Bought it in September 2020, reviewing after so long so I’m gonna put the genuine review here.✅',\n",
       " 'Thanks Flipkart For this amazing deal! I had a dream of owning a iphone since i had known about.\\nIm very happy with my purchase & it is totally worth it.\\nAmazing experience all over !!\\n\\nAnyone who’s thinking of buying it in 2021, i would simply say go for it without any second thoughts ❤️',\n",
       " 'Super and marvellous phone look very cute and nice sound. I love this phone i think white is good colur.Excellent camer 5*😍😘♥️♥️',\n",
       " 'Everything is perfect pictures come out so clearly and at first I wasn’t sure when I got it then when I started to use it and get the hang of it it was amazing!! I can’t wait to see what the next future phones will be like. The screen display on this bad boy are unbelievable they are so clear and never fail me. The performance is super cool there is a lot of cool features as well I like this phone because I feel that it is easy to use and one of my favorite things about this phone is the Face...\\nREAD MORE',\n",
       " 'A wort full value for money decision it’s . Simply go for it in 2021 its still a good decision . Awesome camera , Super smothered performance, Heck of build quality. And Most important it protects your privacy.',\n",
       " 'Here is the thing\\n\\nThe only reason why you should buy this phone is for the camera, iOS, and if you have headaches looking at AMOLED display.\\n\\nI’m not an avid gamer but watch a lot of movies on smartphone. However, my migraine attacks increased considerably after using AMOLED Smartphone. That’s why I made a calculated decision to buy iPhone 11. It has the best LCD display and the blacks, though not as natural as an AMOLED, is better than some of the other smartphones.\\n\\nAdding to this the ste...\\nREAD MORE']"
      ]
     },
     "execution_count": 468,
     "metadata": {},
     "output_type": "execute_result"
    }
   ],
   "source": [
    "full_review8 = []\n",
    "for i in fReview_tag8:\n",
    "    freview = i.text\n",
    "    full_review8.append(freview)\n",
    "full_review8[0:10]"
   ]
  },
  {
   "cell_type": "code",
   "execution_count": 469,
   "id": "8c2a8b8f",
   "metadata": {},
   "outputs": [
    {
     "name": "stderr",
     "output_type": "stream",
     "text": [
      "<ipython-input-469-9e6fb6314a70>:1: DeprecationWarning: find_element_by_* commands are deprecated. Please use find_element() instead\n",
      "  Next_page10 = driver.find_element_by_xpath('/html/body/div/div/div[3]/div/div/div[2]/div[13]/div/div/nav/a[12]/span').click()\n"
     ]
    }
   ],
   "source": [
    "Next_page10 = driver.find_element_by_xpath('/html/body/div/div/div[3]/div/div/div[2]/div[13]/div/div/nav/a[12]/span').click()"
   ]
  },
  {
   "cell_type": "code",
   "execution_count": 470,
   "id": "d71baf9f",
   "metadata": {},
   "outputs": [
    {
     "name": "stderr",
     "output_type": "stream",
     "text": [
      "<ipython-input-470-4ac60118a30e>:1: DeprecationWarning: find_elements_by_* commands are deprecated. Please use find_elements() instead\n",
      "  rating_tag9 = driver.find_elements_by_xpath(\"//div[@class='_3LWZlK _1BLPMq']\")\n"
     ]
    },
    {
     "data": {
      "text/plain": [
       "[<selenium.webdriver.remote.webelement.WebElement (session=\"8798cbf4eaf1e47b30254f455d36bf95\", element=\"ab0e4575-cfcd-4bfc-adc8-4f6767d9ad36\")>,\n",
       " <selenium.webdriver.remote.webelement.WebElement (session=\"8798cbf4eaf1e47b30254f455d36bf95\", element=\"3a9b123c-db79-4d76-a97d-88d556221af6\")>,\n",
       " <selenium.webdriver.remote.webelement.WebElement (session=\"8798cbf4eaf1e47b30254f455d36bf95\", element=\"1674c2c5-5752-4fc4-94ef-96d20b804f86\")>,\n",
       " <selenium.webdriver.remote.webelement.WebElement (session=\"8798cbf4eaf1e47b30254f455d36bf95\", element=\"f669e995-cf13-43d9-9263-e8292edcdfc8\")>,\n",
       " <selenium.webdriver.remote.webelement.WebElement (session=\"8798cbf4eaf1e47b30254f455d36bf95\", element=\"26adbe86-3090-4431-9ff1-374b8b433b6f\")>,\n",
       " <selenium.webdriver.remote.webelement.WebElement (session=\"8798cbf4eaf1e47b30254f455d36bf95\", element=\"4dd82c8f-a88a-4ae8-8cf6-0a2c26e22a1c\")>,\n",
       " <selenium.webdriver.remote.webelement.WebElement (session=\"8798cbf4eaf1e47b30254f455d36bf95\", element=\"7d6f386a-62d0-4825-9b49-a6acfca3e906\")>,\n",
       " <selenium.webdriver.remote.webelement.WebElement (session=\"8798cbf4eaf1e47b30254f455d36bf95\", element=\"099ad99e-68b3-46ff-a3e2-eaf61daaabee\")>,\n",
       " <selenium.webdriver.remote.webelement.WebElement (session=\"8798cbf4eaf1e47b30254f455d36bf95\", element=\"8ea25ffd-08e3-4ca7-9461-a5cc5bd291fa\")>,\n",
       " <selenium.webdriver.remote.webelement.WebElement (session=\"8798cbf4eaf1e47b30254f455d36bf95\", element=\"e6d663c3-5a63-45c3-bf32-a4137e785374\")>]"
      ]
     },
     "execution_count": 470,
     "metadata": {},
     "output_type": "execute_result"
    }
   ],
   "source": [
    "rating_tag9 = driver.find_elements_by_xpath(\"//div[@class='_3LWZlK _1BLPMq']\")\n",
    "rating_tag9[0:10]"
   ]
  },
  {
   "cell_type": "code",
   "execution_count": 471,
   "id": "bde5591c",
   "metadata": {},
   "outputs": [
    {
     "data": {
      "text/plain": [
       "['5', '4', '5', '5', '5', '5', '5', '5', '5', '3']"
      ]
     },
     "execution_count": 471,
     "metadata": {},
     "output_type": "execute_result"
    }
   ],
   "source": [
    "Product_rating9 = []\n",
    "for i in rating_tag9:\n",
    "    rating = i.text\n",
    "    Product_rating9.append(rating)\n",
    "Product_rating9[0:10]"
   ]
  },
  {
   "cell_type": "code",
   "execution_count": 472,
   "id": "48d24310",
   "metadata": {},
   "outputs": [
    {
     "name": "stderr",
     "output_type": "stream",
     "text": [
      "<ipython-input-472-7914164cdbd7>:1: DeprecationWarning: find_elements_by_* commands are deprecated. Please use find_elements() instead\n",
      "  Review_tag9 = driver.find_elements_by_xpath(\"//p[@class='_2-N8zT']\")\n"
     ]
    },
    {
     "data": {
      "text/plain": [
       "[<selenium.webdriver.remote.webelement.WebElement (session=\"8798cbf4eaf1e47b30254f455d36bf95\", element=\"9c01d34d-6faf-4eb1-b5c5-767f4fd801b9\")>,\n",
       " <selenium.webdriver.remote.webelement.WebElement (session=\"8798cbf4eaf1e47b30254f455d36bf95\", element=\"260f3fd4-5c62-4506-a916-8a582516d9d0\")>,\n",
       " <selenium.webdriver.remote.webelement.WebElement (session=\"8798cbf4eaf1e47b30254f455d36bf95\", element=\"7bdfa76a-3488-4ca3-b79a-68fdce4deed9\")>,\n",
       " <selenium.webdriver.remote.webelement.WebElement (session=\"8798cbf4eaf1e47b30254f455d36bf95\", element=\"ef44e4b8-3822-4549-bb3d-507c299b4849\")>,\n",
       " <selenium.webdriver.remote.webelement.WebElement (session=\"8798cbf4eaf1e47b30254f455d36bf95\", element=\"8f2c285c-381d-4736-8dc4-be8b2f365d9f\")>,\n",
       " <selenium.webdriver.remote.webelement.WebElement (session=\"8798cbf4eaf1e47b30254f455d36bf95\", element=\"9d5f9b6c-ea6a-4b68-9660-bd7c02b03dcd\")>,\n",
       " <selenium.webdriver.remote.webelement.WebElement (session=\"8798cbf4eaf1e47b30254f455d36bf95\", element=\"b6d65317-d772-4c23-b63b-7b1562f9e194\")>,\n",
       " <selenium.webdriver.remote.webelement.WebElement (session=\"8798cbf4eaf1e47b30254f455d36bf95\", element=\"fcd8fd51-0348-490b-88ae-e1cdc3b26f92\")>,\n",
       " <selenium.webdriver.remote.webelement.WebElement (session=\"8798cbf4eaf1e47b30254f455d36bf95\", element=\"62e603da-3f4f-41e3-8423-36bb88bc443c\")>,\n",
       " <selenium.webdriver.remote.webelement.WebElement (session=\"8798cbf4eaf1e47b30254f455d36bf95\", element=\"78a0ed77-fb4b-4063-a013-559cb5387ccd\")>]"
      ]
     },
     "execution_count": 472,
     "metadata": {},
     "output_type": "execute_result"
    }
   ],
   "source": [
    "Review_tag9 = driver.find_elements_by_xpath(\"//p[@class='_2-N8zT']\")\n",
    "Review_tag9[0:10]"
   ]
  },
  {
   "cell_type": "code",
   "execution_count": 473,
   "id": "fc2a64bd",
   "metadata": {},
   "outputs": [
    {
     "data": {
      "text/plain": [
       "['Worth every penny',\n",
       " 'Pretty good',\n",
       " 'Fabulous!',\n",
       " 'Mind-blowing purchase',\n",
       " 'Excellent',\n",
       " 'Super!',\n",
       " 'Just wow!',\n",
       " 'Terrific purchase',\n",
       " 'Awesome',\n",
       " 'Decent product']"
      ]
     },
     "execution_count": 473,
     "metadata": {},
     "output_type": "execute_result"
    }
   ],
   "source": [
    "Review_summary9 = []\n",
    "for i in Review_tag9:\n",
    "    summary=i.text\n",
    "    Review_summary9.append(summary)\n",
    "Review_summary9[0:10]"
   ]
  },
  {
   "cell_type": "code",
   "execution_count": 475,
   "id": "1584eda8",
   "metadata": {},
   "outputs": [
    {
     "name": "stderr",
     "output_type": "stream",
     "text": [
      "<ipython-input-475-c4be37caea96>:1: DeprecationWarning: find_elements_by_* commands are deprecated. Please use find_elements() instead\n",
      "  fReview_tag9 = driver.find_elements_by_xpath(\"//div[@class='t-ZTKy']\")\n"
     ]
    },
    {
     "data": {
      "text/plain": [
       "[<selenium.webdriver.remote.webelement.WebElement (session=\"8798cbf4eaf1e47b30254f455d36bf95\", element=\"0d4153f9-99d3-4cac-89ee-cd3a9966d05e\")>,\n",
       " <selenium.webdriver.remote.webelement.WebElement (session=\"8798cbf4eaf1e47b30254f455d36bf95\", element=\"fc7ec2bf-a3f8-4bc6-8bec-996b24371ede\")>,\n",
       " <selenium.webdriver.remote.webelement.WebElement (session=\"8798cbf4eaf1e47b30254f455d36bf95\", element=\"c0ebd133-1e33-4145-9abc-60b9dcb407b6\")>,\n",
       " <selenium.webdriver.remote.webelement.WebElement (session=\"8798cbf4eaf1e47b30254f455d36bf95\", element=\"1af25c12-6145-4cbd-afdc-fec2453b7117\")>,\n",
       " <selenium.webdriver.remote.webelement.WebElement (session=\"8798cbf4eaf1e47b30254f455d36bf95\", element=\"2c9130f3-2ace-4067-a26d-43a94fd4a34c\")>,\n",
       " <selenium.webdriver.remote.webelement.WebElement (session=\"8798cbf4eaf1e47b30254f455d36bf95\", element=\"07236201-0394-40ab-b359-1f58a6a027cf\")>,\n",
       " <selenium.webdriver.remote.webelement.WebElement (session=\"8798cbf4eaf1e47b30254f455d36bf95\", element=\"a0a0bd53-2197-4cd2-b369-335a994b0380\")>,\n",
       " <selenium.webdriver.remote.webelement.WebElement (session=\"8798cbf4eaf1e47b30254f455d36bf95\", element=\"1e611d17-76a9-4fc7-9b70-e4ecb52a4d5f\")>,\n",
       " <selenium.webdriver.remote.webelement.WebElement (session=\"8798cbf4eaf1e47b30254f455d36bf95\", element=\"b723efd8-5371-4587-be34-30a37b5e4056\")>,\n",
       " <selenium.webdriver.remote.webelement.WebElement (session=\"8798cbf4eaf1e47b30254f455d36bf95\", element=\"571e69d1-8ab4-4084-bce8-4c43b838b07a\")>]"
      ]
     },
     "execution_count": 475,
     "metadata": {},
     "output_type": "execute_result"
    }
   ],
   "source": [
    "fReview_tag9 = driver.find_elements_by_xpath(\"//div[@class='t-ZTKy']\")\n",
    "fReview_tag9[0:10]"
   ]
  },
  {
   "cell_type": "code",
   "execution_count": 476,
   "id": "c8cdeb09",
   "metadata": {},
   "outputs": [
    {
     "data": {
      "text/plain": [
       "['Undoubtedly Iphone 11 is the most successful model till now and its performance is extraordinary and the security features are very impressive, display is more vibrant sound quality Camera Quality 5*****, but Iphone should add accessories too and act like scrooge.',\n",
       " \"I've used this phone for over a month now and here are my takeaways.\\nI would like to first talk about the best things about this phone and then the cons of it.\\n\\nPros:\\nThis phone is a performance beast. It handles large games and applications effortlessly and you won't find any stutters or lags while playing graphic intensive games like pubg, cod , mortal kombat and asphalt.\\n\\nThis phone has only 4gb ram and yet the ram management is amazing, it can keep 3 heavy games in memory without reload...\\nREAD MORE\",\n",
       " 'I purchased the iPhone 11 a month back. I must say Apple has impressed me yet again . I have been an Apple user for past 5 years . The phone is power packed with amazing features . What impressed me the most was the battery backup the phone offers . Battery can easily run upto 1.5 days in single charge with moderate to\\nHeavy usage . If you’re looking for a value for money device , I don’t see any other phone in the price range which can match the iPhone 11 .\\nOne thing I didn’t like was that ...\\nREAD MORE',\n",
       " 'Excellent camera 📸 And Display touching very Nice And Smooth and very improvement against\\nI phone 11 and new processor is very fast',\n",
       " 'A perfect phone and a good battery super camera and the sound is dynamic overall the phone is perfect for upgrading from lower iPhone model to iPhone 11',\n",
       " 'This is my first ever iPhone.\\nAnd I truly don’t regret switching to IOS from my Android.\\n\\nIt is easily an alternative to a DSLR camera.\\nIf you’re obsessed with photos and videos, just don’t think twice or don’t compare to other androids(Samsung S10 lite or OnePlus 8/8T), as it’s far better from them in every field.\\nComparing will only make you confused.\\n\\nI am getting an average Screen on Time of around 10 hours with 30 percent left. I haven’t let my device discharged below 30 % as it aff...\\nREAD MORE',\n",
       " 'The ultimate performance\\nCamera is superb\\nThe battery backup also very good i never saw iphone gives this much of battery backup\\nIf any one wana buy iphone 11 definitely i will recommend this mobile\\nIt has the better battery and powerfull processer peak performance glorious camera and the display also 100% high quality lcd display if u had money for for 12 if u dont wana invest much money on that then go for iphone 11 it has maximum same specs only main difference between the 12 and 11 is...\\nREAD MORE',\n",
       " 'I use a Note10+ and have been using both iOS and Android devices.\\n\\nCamera has really good features and portraits are super good, better than Samsung flagship. Overall camera setup can still be enhanced and hopeful for better upgrades on software in next release\\n\\nOperating system is quite a breeze and user experience of daily usage is very high as compared to Android. I moved to iOS very swiftly in 2 days for all my office work from Note10+\\n\\nBattery holds up quite well with 4 hrs of call and ...\\nREAD MORE',\n",
       " 'The phone is completely good\\nAs far as camera Apple is king of it\\nAnd its a beast in performance\\nAnd the battery is pretty good too',\n",
       " 'Everything u ll like it when u use this iPhone. Simple changes only not many to lower models but it’s nice to use. Little heavy compared to previous models like 7,8']"
      ]
     },
     "execution_count": 476,
     "metadata": {},
     "output_type": "execute_result"
    }
   ],
   "source": [
    "full_review9 = []\n",
    "for i in fReview_tag9:\n",
    "    freview = i.text\n",
    "    full_review9.append(freview)\n",
    "full_review9[0:10]"
   ]
  },
  {
   "cell_type": "markdown",
   "id": "320f7e7a",
   "metadata": {},
   "source": [
    "Q6: Scrape data for first 100 sneakers you find when you visit flipkart.com and search for “sneakers” in the\n",
    "search field.\n",
    "You have to scrape 4 attributes of each sneaker:\n",
    "\n",
    "1. Brand\n",
    "\n",
    "2. Product Description\n",
    "\n",
    "3. Price"
   ]
  },
  {
   "cell_type": "code",
   "execution_count": 477,
   "id": "090bde0a",
   "metadata": {},
   "outputs": [
    {
     "name": "stderr",
     "output_type": "stream",
     "text": [
      "<ipython-input-477-7cb550b8266b>:2: DeprecationWarning: executable_path has been deprecated, please pass in a Service object\n",
      "  driver = webdriver.Chrome(PATH)\n"
     ]
    }
   ],
   "source": [
    "PATH = \"C:\\Program Files (x86)\\chromedriver.exe\"\n",
    "driver = webdriver.Chrome(PATH)"
   ]
  },
  {
   "cell_type": "code",
   "execution_count": 478,
   "id": "62eb7efc",
   "metadata": {},
   "outputs": [],
   "source": [
    "driver.get('https://www.flipkart.com')"
   ]
  },
  {
   "cell_type": "code",
   "execution_count": 479,
   "id": "7381a42d",
   "metadata": {},
   "outputs": [
    {
     "name": "stderr",
     "output_type": "stream",
     "text": [
      "<ipython-input-479-bac885dc4d2c>:1: DeprecationWarning: find_element_by_* commands are deprecated. Please use find_element() instead\n",
      "  search_sneakers = driver.find_element_by_xpath(\"//input[@class='_3704LK']\")\n"
     ]
    }
   ],
   "source": [
    "search_sneakers = driver.find_element_by_xpath(\"//input[@class='_3704LK']\")\n",
    "search_sneakers.send_keys('sneakers')"
   ]
  },
  {
   "cell_type": "code",
   "execution_count": 480,
   "id": "908931dc",
   "metadata": {},
   "outputs": [
    {
     "name": "stderr",
     "output_type": "stream",
     "text": [
      "<ipython-input-480-e4b30fdbe6c3>:1: DeprecationWarning: find_element_by_* commands are deprecated. Please use find_element() instead\n",
      "  search_button = driver.find_element_by_class_name('L0Z3Pu')\n"
     ]
    }
   ],
   "source": [
    "search_button = driver.find_element_by_class_name('L0Z3Pu')\n",
    "search_button.click()"
   ]
  },
  {
   "cell_type": "code",
   "execution_count": 501,
   "id": "ef2d6a1f",
   "metadata": {},
   "outputs": [
    {
     "name": "stderr",
     "output_type": "stream",
     "text": [
      "<ipython-input-501-3b5b81548dba>:1: DeprecationWarning: find_elements_by_* commands are deprecated. Please use find_elements() instead\n",
      "  sBrand_tag = driver.find_elements_by_xpath(\"//div[@class='_2WkVRV']\")\n"
     ]
    },
    {
     "data": {
      "text/plain": [
       "[<selenium.webdriver.remote.webelement.WebElement (session=\"162200fa3b7f272414e163f9a003274e\", element=\"5391983d-ef3d-4096-a57b-007f3804122e\")>,\n",
       " <selenium.webdriver.remote.webelement.WebElement (session=\"162200fa3b7f272414e163f9a003274e\", element=\"1328849f-59db-4a93-a276-5fc0bd432dca\")>,\n",
       " <selenium.webdriver.remote.webelement.WebElement (session=\"162200fa3b7f272414e163f9a003274e\", element=\"7c54d345-689f-42de-93eb-a2152eac52b3\")>,\n",
       " <selenium.webdriver.remote.webelement.WebElement (session=\"162200fa3b7f272414e163f9a003274e\", element=\"e3dd65b3-627c-4fe0-a5c3-99378d232f25\")>,\n",
       " <selenium.webdriver.remote.webelement.WebElement (session=\"162200fa3b7f272414e163f9a003274e\", element=\"7eed2d85-c59f-4938-a59a-aa4ddc90c872\")>,\n",
       " <selenium.webdriver.remote.webelement.WebElement (session=\"162200fa3b7f272414e163f9a003274e\", element=\"07e63d80-d69c-4daa-a5e2-bb9f63b7f4f1\")>,\n",
       " <selenium.webdriver.remote.webelement.WebElement (session=\"162200fa3b7f272414e163f9a003274e\", element=\"c42a98d4-37fb-43e6-91dc-53f71ff2780c\")>,\n",
       " <selenium.webdriver.remote.webelement.WebElement (session=\"162200fa3b7f272414e163f9a003274e\", element=\"dc60c129-edb1-4021-96b0-97b2a02b373f\")>,\n",
       " <selenium.webdriver.remote.webelement.WebElement (session=\"162200fa3b7f272414e163f9a003274e\", element=\"60e19a67-dd67-4425-96b6-e3149ac72299\")>,\n",
       " <selenium.webdriver.remote.webelement.WebElement (session=\"162200fa3b7f272414e163f9a003274e\", element=\"e9d4c9b6-af8d-4615-97c0-cde1d6c21efe\")>,\n",
       " <selenium.webdriver.remote.webelement.WebElement (session=\"162200fa3b7f272414e163f9a003274e\", element=\"7d450c00-ce3f-41b5-8c0e-efbd47e33edd\")>,\n",
       " <selenium.webdriver.remote.webelement.WebElement (session=\"162200fa3b7f272414e163f9a003274e\", element=\"19f92ff5-f587-4586-b35f-ee74533eccde\")>,\n",
       " <selenium.webdriver.remote.webelement.WebElement (session=\"162200fa3b7f272414e163f9a003274e\", element=\"64ca0fc2-c04f-43a8-baaa-1f13a73356f3\")>,\n",
       " <selenium.webdriver.remote.webelement.WebElement (session=\"162200fa3b7f272414e163f9a003274e\", element=\"94302818-923e-4829-ac89-dbe6ec26f2a5\")>,\n",
       " <selenium.webdriver.remote.webelement.WebElement (session=\"162200fa3b7f272414e163f9a003274e\", element=\"22c9f7eb-be23-457e-a83c-c7df8e351eac\")>,\n",
       " <selenium.webdriver.remote.webelement.WebElement (session=\"162200fa3b7f272414e163f9a003274e\", element=\"0845c134-ace9-4d56-87c0-ec92322970d9\")>,\n",
       " <selenium.webdriver.remote.webelement.WebElement (session=\"162200fa3b7f272414e163f9a003274e\", element=\"7bc028b7-d2ea-4fa2-ba0d-80114e434cb6\")>,\n",
       " <selenium.webdriver.remote.webelement.WebElement (session=\"162200fa3b7f272414e163f9a003274e\", element=\"1e8f47cd-9067-47ac-9e91-d7390c6a8bf5\")>,\n",
       " <selenium.webdriver.remote.webelement.WebElement (session=\"162200fa3b7f272414e163f9a003274e\", element=\"78abf7e8-0fc8-4fd3-a535-7a55eaccde44\")>,\n",
       " <selenium.webdriver.remote.webelement.WebElement (session=\"162200fa3b7f272414e163f9a003274e\", element=\"1945022d-987d-4f05-8f02-ccc56feca9d3\")>,\n",
       " <selenium.webdriver.remote.webelement.WebElement (session=\"162200fa3b7f272414e163f9a003274e\", element=\"48f8e5f5-28f0-4ffc-beab-3e219ba106c7\")>,\n",
       " <selenium.webdriver.remote.webelement.WebElement (session=\"162200fa3b7f272414e163f9a003274e\", element=\"2867b65c-76ec-416d-9e4e-705f23c84012\")>,\n",
       " <selenium.webdriver.remote.webelement.WebElement (session=\"162200fa3b7f272414e163f9a003274e\", element=\"a4af77ae-fd47-48e4-954e-1e3799bff956\")>,\n",
       " <selenium.webdriver.remote.webelement.WebElement (session=\"162200fa3b7f272414e163f9a003274e\", element=\"b1cd3097-0494-47a0-894f-2daab3ddd210\")>,\n",
       " <selenium.webdriver.remote.webelement.WebElement (session=\"162200fa3b7f272414e163f9a003274e\", element=\"5ca1520c-491a-47b7-a878-686ca70ab712\")>,\n",
       " <selenium.webdriver.remote.webelement.WebElement (session=\"162200fa3b7f272414e163f9a003274e\", element=\"cd7132aa-0b29-45f0-b457-ab82afb17b4b\")>,\n",
       " <selenium.webdriver.remote.webelement.WebElement (session=\"162200fa3b7f272414e163f9a003274e\", element=\"7997c2b1-3ff4-4567-912d-658ed24e223a\")>,\n",
       " <selenium.webdriver.remote.webelement.WebElement (session=\"162200fa3b7f272414e163f9a003274e\", element=\"998e0174-7bf0-49ce-850c-6d3da26c5cb9\")>,\n",
       " <selenium.webdriver.remote.webelement.WebElement (session=\"162200fa3b7f272414e163f9a003274e\", element=\"7f4f4110-9dfe-472b-99c7-0d7ac6b8514f\")>,\n",
       " <selenium.webdriver.remote.webelement.WebElement (session=\"162200fa3b7f272414e163f9a003274e\", element=\"2a53b877-980c-406a-afe1-e3cdb785d47c\")>,\n",
       " <selenium.webdriver.remote.webelement.WebElement (session=\"162200fa3b7f272414e163f9a003274e\", element=\"3640de47-48e9-425e-82ef-f22bb2eeb3c8\")>,\n",
       " <selenium.webdriver.remote.webelement.WebElement (session=\"162200fa3b7f272414e163f9a003274e\", element=\"ed85943b-a7e7-4ed4-a9c8-ee28ca062dc0\")>,\n",
       " <selenium.webdriver.remote.webelement.WebElement (session=\"162200fa3b7f272414e163f9a003274e\", element=\"809d2a54-8b58-4b76-b655-3fcd6848afe4\")>,\n",
       " <selenium.webdriver.remote.webelement.WebElement (session=\"162200fa3b7f272414e163f9a003274e\", element=\"9488fbde-f9cd-40c0-b03e-3c43a58e2f38\")>,\n",
       " <selenium.webdriver.remote.webelement.WebElement (session=\"162200fa3b7f272414e163f9a003274e\", element=\"a08b2c1b-7761-453c-8dd1-fe37ed8bf969\")>,\n",
       " <selenium.webdriver.remote.webelement.WebElement (session=\"162200fa3b7f272414e163f9a003274e\", element=\"32d5cd5d-03c5-4d89-b540-186d5bb17ee1\")>,\n",
       " <selenium.webdriver.remote.webelement.WebElement (session=\"162200fa3b7f272414e163f9a003274e\", element=\"a7d48f63-556c-44d1-a560-ea5649f933aa\")>,\n",
       " <selenium.webdriver.remote.webelement.WebElement (session=\"162200fa3b7f272414e163f9a003274e\", element=\"7b093639-840f-4223-968f-089b4dc6706c\")>,\n",
       " <selenium.webdriver.remote.webelement.WebElement (session=\"162200fa3b7f272414e163f9a003274e\", element=\"5c5fce22-5247-4636-abe0-c8411aa5cc54\")>,\n",
       " <selenium.webdriver.remote.webelement.WebElement (session=\"162200fa3b7f272414e163f9a003274e\", element=\"5385780e-7144-4125-8271-a1d0bae7b80c\")>]"
      ]
     },
     "execution_count": 501,
     "metadata": {},
     "output_type": "execute_result"
    }
   ],
   "source": [
    "sBrand_tag = driver.find_elements_by_xpath(\"//div[@class='_2WkVRV']\")\n",
    "sBrand_tag[0:40]"
   ]
  },
  {
   "cell_type": "code",
   "execution_count": 502,
   "id": "a111363f",
   "metadata": {},
   "outputs": [
    {
     "data": {
      "text/plain": [
       "['PUMA',\n",
       " 'Walkstyle',\n",
       " 'ASTEROID',\n",
       " 'Chevit',\n",
       " 'URBANBOX',\n",
       " 'Numenzo',\n",
       " 'Magnolia',\n",
       " 'SAN FRISSCO',\n",
       " 'Numenzo',\n",
       " 'ASTEROID',\n",
       " 'Chevit',\n",
       " 'SAN FRISSCO',\n",
       " 'Kraasa',\n",
       " 'Robbie jones',\n",
       " 'SPARX',\n",
       " 'SAN FRISSCO',\n",
       " 'FOOTGRAB',\n",
       " 'D-SNEAKERZ',\n",
       " 'SCATCHITE',\n",
       " 'YUVRATO BAXI',\n",
       " 'Numenzo',\n",
       " 'BRUTON',\n",
       " 'Chevit',\n",
       " 'YUVRATO BAXI',\n",
       " 'BRUTON',\n",
       " 'Kraasa',\n",
       " 'BRUTON',\n",
       " 'SAN FRISSCO',\n",
       " 'Shoes Bank',\n",
       " 'India hub',\n",
       " 'T-ROCK',\n",
       " 'YUVRATO BAXI',\n",
       " 'Robbie jones',\n",
       " 'Arohi',\n",
       " 'BIRDE',\n",
       " 'Midsole',\n",
       " 'Robbie jones',\n",
       " 'Robbie jones',\n",
       " 'SPARX',\n",
       " 'VOILA']"
      ]
     },
     "execution_count": 502,
     "metadata": {},
     "output_type": "execute_result"
    }
   ],
   "source": [
    "sneaker_brand = []\n",
    "for i in sBrand_tag:\n",
    "    sneaker = i.text\n",
    "    sneaker_brand.append(sneaker)\n",
    "sneaker_brand[0:40]"
   ]
  },
  {
   "cell_type": "code",
   "execution_count": 503,
   "id": "cbc27ee9",
   "metadata": {},
   "outputs": [
    {
     "name": "stderr",
     "output_type": "stream",
     "text": [
      "<ipython-input-503-2b601284a49b>:1: DeprecationWarning: find_elements_by_* commands are deprecated. Please use find_elements() instead\n",
      "  sDesc_tag = driver.find_elements_by_xpath(\"//a[@class='IRpwTa']\")\n"
     ]
    },
    {
     "data": {
      "text/plain": [
       "[<selenium.webdriver.remote.webelement.WebElement (session=\"162200fa3b7f272414e163f9a003274e\", element=\"cf335542-7aca-4e06-bd21-1a29d8e9c069\")>,\n",
       " <selenium.webdriver.remote.webelement.WebElement (session=\"162200fa3b7f272414e163f9a003274e\", element=\"df398f5d-2ee5-4c6d-87aa-a67aad88d5f0\")>,\n",
       " <selenium.webdriver.remote.webelement.WebElement (session=\"162200fa3b7f272414e163f9a003274e\", element=\"2a994673-695b-41c5-a037-ac22efa2014b\")>,\n",
       " <selenium.webdriver.remote.webelement.WebElement (session=\"162200fa3b7f272414e163f9a003274e\", element=\"1440507a-4b49-494a-a653-be88efe01586\")>,\n",
       " <selenium.webdriver.remote.webelement.WebElement (session=\"162200fa3b7f272414e163f9a003274e\", element=\"7a2899fa-89c7-47b4-9a99-98caf2b2a24b\")>,\n",
       " <selenium.webdriver.remote.webelement.WebElement (session=\"162200fa3b7f272414e163f9a003274e\", element=\"009d0692-5d7a-4b8f-ac51-deb50a215efc\")>,\n",
       " <selenium.webdriver.remote.webelement.WebElement (session=\"162200fa3b7f272414e163f9a003274e\", element=\"fd8f6ca7-ee10-477b-8229-5c612751af0a\")>,\n",
       " <selenium.webdriver.remote.webelement.WebElement (session=\"162200fa3b7f272414e163f9a003274e\", element=\"1970a69c-1a02-4a42-8645-8577c801e44f\")>,\n",
       " <selenium.webdriver.remote.webelement.WebElement (session=\"162200fa3b7f272414e163f9a003274e\", element=\"417aba6b-02bc-41f8-94d7-8815294b36d2\")>,\n",
       " <selenium.webdriver.remote.webelement.WebElement (session=\"162200fa3b7f272414e163f9a003274e\", element=\"c60c648c-ee92-4cb2-85cb-10c522959633\")>,\n",
       " <selenium.webdriver.remote.webelement.WebElement (session=\"162200fa3b7f272414e163f9a003274e\", element=\"48a034be-2b40-47bc-9b86-06016cb1b2a7\")>,\n",
       " <selenium.webdriver.remote.webelement.WebElement (session=\"162200fa3b7f272414e163f9a003274e\", element=\"8278ad6f-dc96-4dd3-a59c-ed29d4b6fa69\")>,\n",
       " <selenium.webdriver.remote.webelement.WebElement (session=\"162200fa3b7f272414e163f9a003274e\", element=\"449167ee-e9e9-448a-9444-c21259b2ca8d\")>,\n",
       " <selenium.webdriver.remote.webelement.WebElement (session=\"162200fa3b7f272414e163f9a003274e\", element=\"ce44ce60-90c6-49f4-815b-74599ecfb6ca\")>,\n",
       " <selenium.webdriver.remote.webelement.WebElement (session=\"162200fa3b7f272414e163f9a003274e\", element=\"da95e21f-10d9-47b0-a7ea-f199640877fc\")>,\n",
       " <selenium.webdriver.remote.webelement.WebElement (session=\"162200fa3b7f272414e163f9a003274e\", element=\"e6126911-3456-46d4-87ac-799c155e133a\")>,\n",
       " <selenium.webdriver.remote.webelement.WebElement (session=\"162200fa3b7f272414e163f9a003274e\", element=\"7da6352f-a9f1-4188-b1d6-406f9fd488b2\")>,\n",
       " <selenium.webdriver.remote.webelement.WebElement (session=\"162200fa3b7f272414e163f9a003274e\", element=\"2cf7dfbf-2dd1-443c-965d-8b3929fcbca1\")>,\n",
       " <selenium.webdriver.remote.webelement.WebElement (session=\"162200fa3b7f272414e163f9a003274e\", element=\"9fb646d5-1b5e-4e40-a80f-a9d6a1c4b69a\")>,\n",
       " <selenium.webdriver.remote.webelement.WebElement (session=\"162200fa3b7f272414e163f9a003274e\", element=\"998cbe03-79a7-4215-b8c7-c049cd068935\")>,\n",
       " <selenium.webdriver.remote.webelement.WebElement (session=\"162200fa3b7f272414e163f9a003274e\", element=\"7948a7e1-7029-44c9-b739-ee735b4aad55\")>,\n",
       " <selenium.webdriver.remote.webelement.WebElement (session=\"162200fa3b7f272414e163f9a003274e\", element=\"0175b747-522a-4f12-b400-6933a15ab474\")>,\n",
       " <selenium.webdriver.remote.webelement.WebElement (session=\"162200fa3b7f272414e163f9a003274e\", element=\"5af105d4-f087-4c61-adbd-d9f47836556d\")>,\n",
       " <selenium.webdriver.remote.webelement.WebElement (session=\"162200fa3b7f272414e163f9a003274e\", element=\"6ed64ce4-2c5f-4a70-a4f4-d9a33ea3b99a\")>,\n",
       " <selenium.webdriver.remote.webelement.WebElement (session=\"162200fa3b7f272414e163f9a003274e\", element=\"87dcefa0-b1b5-4a48-a3ab-f7f8e1d3f66d\")>,\n",
       " <selenium.webdriver.remote.webelement.WebElement (session=\"162200fa3b7f272414e163f9a003274e\", element=\"b06af19f-26b2-41e7-bce9-74e611888b44\")>,\n",
       " <selenium.webdriver.remote.webelement.WebElement (session=\"162200fa3b7f272414e163f9a003274e\", element=\"c410fd91-f1ae-4faa-909d-2cbbf62d27b9\")>,\n",
       " <selenium.webdriver.remote.webelement.WebElement (session=\"162200fa3b7f272414e163f9a003274e\", element=\"e0a9dd9b-6895-4494-9fb9-0a6e1620347c\")>,\n",
       " <selenium.webdriver.remote.webelement.WebElement (session=\"162200fa3b7f272414e163f9a003274e\", element=\"20f95966-012e-401e-933d-aeb0f84447c9\")>,\n",
       " <selenium.webdriver.remote.webelement.WebElement (session=\"162200fa3b7f272414e163f9a003274e\", element=\"b69bb078-6278-480f-a3b4-432805690c43\")>,\n",
       " <selenium.webdriver.remote.webelement.WebElement (session=\"162200fa3b7f272414e163f9a003274e\", element=\"6c71337e-7e4d-41a4-af0f-c235de82cf0f\")>,\n",
       " <selenium.webdriver.remote.webelement.WebElement (session=\"162200fa3b7f272414e163f9a003274e\", element=\"90e15644-ab89-4f20-ab09-1eb0821d09d2\")>,\n",
       " <selenium.webdriver.remote.webelement.WebElement (session=\"162200fa3b7f272414e163f9a003274e\", element=\"4a710a56-2163-4792-9e96-8a6f84980842\")>,\n",
       " <selenium.webdriver.remote.webelement.WebElement (session=\"162200fa3b7f272414e163f9a003274e\", element=\"48b9fb39-d7a5-471a-af56-60f70f30ce57\")>]"
      ]
     },
     "execution_count": 503,
     "metadata": {},
     "output_type": "execute_result"
    }
   ],
   "source": [
    "sDesc_tag = driver.find_elements_by_xpath(\"//a[@class='IRpwTa']\")\n",
    "sDesc_tag[0:40]"
   ]
  },
  {
   "cell_type": "code",
   "execution_count": 504,
   "id": "ccddac51",
   "metadata": {},
   "outputs": [
    {
     "data": {
      "text/plain": [
       "['Scuderia Ferrari Drift Cat 8 Sneakers For Men',\n",
       " 'Sneakers For Men',\n",
       " \"Original Luxury Branded Fashionable Men's Casual Walkin...\",\n",
       " 'Super Stylish & Trendy Combo Pack of 02 Pairs Sneakers ...',\n",
       " '411 Casual Sneakers For Men',\n",
       " 'Sneakers For Men',\n",
       " 'White Sneaker For Men Sneakers For Men',\n",
       " \"Original Luxury Branded Fashionable Men's Casual Walkin...\",\n",
       " 'Perfect & Affordable Combo Pack of 02 Pairs Sneakers Ou...',\n",
       " 'Shark-41 Sneakers For Men',\n",
       " 'Casual Sneakers Shoes For Men Sneakers For Men',\n",
       " 'Men White Sneakers Sneakers For Men',\n",
       " 'White Boots || High Tops || Sneakers For Men',\n",
       " \"Casual , Partywear Sneakers Shoes For Men's And Boys Wh...\",\n",
       " 'Sneakers Sneakers For Men',\n",
       " 'Latest Imported Synthetic Upper Material Casual White S...',\n",
       " 'Numenzo Black Sneaker For Men Sneakers For Men',\n",
       " 'Modern Trendy Shoes Sneakers For Men',\n",
       " 'Unique & Perfect Collection Combo Pack of 02 Shoes for ...',\n",
       " \"Men's Suede Material British Brogues Casual Sneakers Fo...\",\n",
       " 'Combo Pack Of 2 Latest Stylish Casual Shoes for Men Lac...',\n",
       " 'Series 7 Sneakers For Men',\n",
       " 'Combo Pack Of 4 Casual Shoes Loafer Shoes Sneakers For ...',\n",
       " \"White Sneaker For Men's/Boy's Sneakers For Men\",\n",
       " 'Synthetic Leather Casual Partywear Wedding Sneakers Sho...',\n",
       " \"Men's British Brogues Sneakers For Daily Wear Sneakers ...\",\n",
       " 'Sneakers For Men',\n",
       " 'Sneakers For Men',\n",
       " 'Sports Running Shoes Sneakers For Men',\n",
       " 'Sport Lace-up Sneaker Sneakers For Men',\n",
       " 'Sneakers For Men',\n",
       " 'Sneakers For Men',\n",
       " 'Canvas Casual Partywear Outdoor Sneakers Shoes For Mens...',\n",
       " 'Denim Low Ankle Sneakers For Men']"
      ]
     },
     "execution_count": 504,
     "metadata": {},
     "output_type": "execute_result"
    }
   ],
   "source": [
    "sneakers_desc = []\n",
    "for i in sDesc_tag:\n",
    "    desc = i.text\n",
    "    sneakers_desc.append(desc)\n",
    "sneakers_desc[0:40]"
   ]
  },
  {
   "cell_type": "code",
   "execution_count": 505,
   "id": "efbf781d",
   "metadata": {},
   "outputs": [
    {
     "name": "stderr",
     "output_type": "stream",
     "text": [
      "<ipython-input-505-2624507e94f1>:1: DeprecationWarning: find_elements_by_* commands are deprecated. Please use find_elements() instead\n",
      "  sPrice_tag = driver.find_elements_by_xpath(\"//div[@class='_30jeq3']\")\n"
     ]
    },
    {
     "data": {
      "text/plain": [
       "[<selenium.webdriver.remote.webelement.WebElement (session=\"162200fa3b7f272414e163f9a003274e\", element=\"36b4c926-7048-488c-b147-2010f0f61df8\")>,\n",
       " <selenium.webdriver.remote.webelement.WebElement (session=\"162200fa3b7f272414e163f9a003274e\", element=\"4590d987-6f68-404c-8eee-1195ff609d80\")>,\n",
       " <selenium.webdriver.remote.webelement.WebElement (session=\"162200fa3b7f272414e163f9a003274e\", element=\"49c32633-3dc8-415e-b211-bcecb68ec270\")>,\n",
       " <selenium.webdriver.remote.webelement.WebElement (session=\"162200fa3b7f272414e163f9a003274e\", element=\"f4734259-18b9-400d-83f5-9b62977c9df2\")>,\n",
       " <selenium.webdriver.remote.webelement.WebElement (session=\"162200fa3b7f272414e163f9a003274e\", element=\"3233d4fd-cb07-4ccf-a63b-0cf4af702806\")>,\n",
       " <selenium.webdriver.remote.webelement.WebElement (session=\"162200fa3b7f272414e163f9a003274e\", element=\"6a060ecb-c4b8-404e-be12-6b7341ec08b1\")>,\n",
       " <selenium.webdriver.remote.webelement.WebElement (session=\"162200fa3b7f272414e163f9a003274e\", element=\"46cd7dad-da2d-4399-ad31-76917605b6ef\")>,\n",
       " <selenium.webdriver.remote.webelement.WebElement (session=\"162200fa3b7f272414e163f9a003274e\", element=\"eaeac652-339f-4350-bf58-0888c427590d\")>,\n",
       " <selenium.webdriver.remote.webelement.WebElement (session=\"162200fa3b7f272414e163f9a003274e\", element=\"a750fbae-588a-4bc8-97f0-8f4c59e27d4c\")>,\n",
       " <selenium.webdriver.remote.webelement.WebElement (session=\"162200fa3b7f272414e163f9a003274e\", element=\"893fb66e-3591-407b-9f93-179fae687a32\")>,\n",
       " <selenium.webdriver.remote.webelement.WebElement (session=\"162200fa3b7f272414e163f9a003274e\", element=\"7be50319-8084-49de-accf-909c8502944a\")>,\n",
       " <selenium.webdriver.remote.webelement.WebElement (session=\"162200fa3b7f272414e163f9a003274e\", element=\"83419c49-0318-41d2-bb79-1d2f42005234\")>,\n",
       " <selenium.webdriver.remote.webelement.WebElement (session=\"162200fa3b7f272414e163f9a003274e\", element=\"dc160549-8c7a-44a4-ad66-7cced4833efd\")>,\n",
       " <selenium.webdriver.remote.webelement.WebElement (session=\"162200fa3b7f272414e163f9a003274e\", element=\"e8b104d9-6d0e-4e44-b6a9-ebd6c02bfc51\")>,\n",
       " <selenium.webdriver.remote.webelement.WebElement (session=\"162200fa3b7f272414e163f9a003274e\", element=\"01cf072d-6afc-438d-b906-02941ffe6030\")>,\n",
       " <selenium.webdriver.remote.webelement.WebElement (session=\"162200fa3b7f272414e163f9a003274e\", element=\"9b310497-ebd1-4150-abd7-dc9c52e02f7d\")>,\n",
       " <selenium.webdriver.remote.webelement.WebElement (session=\"162200fa3b7f272414e163f9a003274e\", element=\"dc00d46d-52c8-4c7c-a130-5ab1ff9d9dac\")>,\n",
       " <selenium.webdriver.remote.webelement.WebElement (session=\"162200fa3b7f272414e163f9a003274e\", element=\"bce935bc-58db-4b03-9806-6a487fb63566\")>,\n",
       " <selenium.webdriver.remote.webelement.WebElement (session=\"162200fa3b7f272414e163f9a003274e\", element=\"be3be91d-a4a6-4e25-af8e-27564b8198b2\")>,\n",
       " <selenium.webdriver.remote.webelement.WebElement (session=\"162200fa3b7f272414e163f9a003274e\", element=\"3a659ccd-3856-4a6d-80ef-abaf7eafde77\")>,\n",
       " <selenium.webdriver.remote.webelement.WebElement (session=\"162200fa3b7f272414e163f9a003274e\", element=\"66b9f929-0b6a-4300-8128-e8497b18b9d9\")>,\n",
       " <selenium.webdriver.remote.webelement.WebElement (session=\"162200fa3b7f272414e163f9a003274e\", element=\"84bd2c0f-f1c8-41f9-a7e1-69e8b5564066\")>,\n",
       " <selenium.webdriver.remote.webelement.WebElement (session=\"162200fa3b7f272414e163f9a003274e\", element=\"4872327c-0c1e-40d8-8808-5324c57ad6d8\")>,\n",
       " <selenium.webdriver.remote.webelement.WebElement (session=\"162200fa3b7f272414e163f9a003274e\", element=\"5523e319-e8b1-42f1-bf06-5ad377d2f232\")>,\n",
       " <selenium.webdriver.remote.webelement.WebElement (session=\"162200fa3b7f272414e163f9a003274e\", element=\"574c814f-9960-4d23-a209-c73ffe4a90e1\")>,\n",
       " <selenium.webdriver.remote.webelement.WebElement (session=\"162200fa3b7f272414e163f9a003274e\", element=\"0f3364b9-82c4-42b8-969a-df3dcea99393\")>,\n",
       " <selenium.webdriver.remote.webelement.WebElement (session=\"162200fa3b7f272414e163f9a003274e\", element=\"fd6c75eb-d5ab-4b00-8db7-ab51cfdfc179\")>,\n",
       " <selenium.webdriver.remote.webelement.WebElement (session=\"162200fa3b7f272414e163f9a003274e\", element=\"63af1dc1-21a3-426c-9982-2827fb8ce299\")>,\n",
       " <selenium.webdriver.remote.webelement.WebElement (session=\"162200fa3b7f272414e163f9a003274e\", element=\"47c856db-a766-4f12-a9f7-23be988a4ac8\")>,\n",
       " <selenium.webdriver.remote.webelement.WebElement (session=\"162200fa3b7f272414e163f9a003274e\", element=\"e89f968e-7b9c-48d3-8a19-caf8d65ad111\")>,\n",
       " <selenium.webdriver.remote.webelement.WebElement (session=\"162200fa3b7f272414e163f9a003274e\", element=\"941ea2ae-aabe-44fd-8fde-a3e3b47b2cae\")>,\n",
       " <selenium.webdriver.remote.webelement.WebElement (session=\"162200fa3b7f272414e163f9a003274e\", element=\"156d1ede-a9ea-4964-92b9-8e569b2fc37c\")>,\n",
       " <selenium.webdriver.remote.webelement.WebElement (session=\"162200fa3b7f272414e163f9a003274e\", element=\"1b5d7366-a316-4fa7-9bba-440ed4e154c1\")>,\n",
       " <selenium.webdriver.remote.webelement.WebElement (session=\"162200fa3b7f272414e163f9a003274e\", element=\"eb328908-50d0-47ff-921e-3dae4461bedf\")>,\n",
       " <selenium.webdriver.remote.webelement.WebElement (session=\"162200fa3b7f272414e163f9a003274e\", element=\"88ed3cb3-d9cb-4b5e-94f5-246578b0f118\")>,\n",
       " <selenium.webdriver.remote.webelement.WebElement (session=\"162200fa3b7f272414e163f9a003274e\", element=\"88722e98-d573-447c-a834-0e1ba66df476\")>,\n",
       " <selenium.webdriver.remote.webelement.WebElement (session=\"162200fa3b7f272414e163f9a003274e\", element=\"bb96feb0-bea2-4a2c-8331-8f100eeb9722\")>,\n",
       " <selenium.webdriver.remote.webelement.WebElement (session=\"162200fa3b7f272414e163f9a003274e\", element=\"b686b78a-4613-4b9f-94f0-5d213e1f654e\")>,\n",
       " <selenium.webdriver.remote.webelement.WebElement (session=\"162200fa3b7f272414e163f9a003274e\", element=\"f2daf9ef-ef93-4a33-ba2f-3fb3c0cf1143\")>,\n",
       " <selenium.webdriver.remote.webelement.WebElement (session=\"162200fa3b7f272414e163f9a003274e\", element=\"bee86378-195a-4f92-9846-191a448038c6\")>]"
      ]
     },
     "execution_count": 505,
     "metadata": {},
     "output_type": "execute_result"
    }
   ],
   "source": [
    "sPrice_tag = driver.find_elements_by_xpath(\"//div[@class='_30jeq3']\")\n",
    "sPrice_tag[0:40]"
   ]
  },
  {
   "cell_type": "code",
   "execution_count": 506,
   "id": "79d6955b",
   "metadata": {},
   "outputs": [
    {
     "data": {
      "text/plain": [
       "['₹3,919',\n",
       " '₹616',\n",
       " '₹499',\n",
       " '₹699',\n",
       " '₹220',\n",
       " '₹499',\n",
       " '₹398',\n",
       " '₹1,898',\n",
       " '₹479',\n",
       " '₹499',\n",
       " '₹599',\n",
       " '₹1,698',\n",
       " '₹499',\n",
       " '₹399',\n",
       " '₹633',\n",
       " '₹1,898',\n",
       " '₹549',\n",
       " '₹348',\n",
       " '₹398',\n",
       " '₹1,099',\n",
       " '₹499',\n",
       " '₹359',\n",
       " '₹599',\n",
       " '₹1,499',\n",
       " '₹592',\n",
       " '₹499',\n",
       " '₹588',\n",
       " '₹1,898',\n",
       " '₹345',\n",
       " '₹449',\n",
       " '₹379',\n",
       " '₹1,499',\n",
       " '₹499',\n",
       " '₹458',\n",
       " '₹299',\n",
       " '₹549',\n",
       " '₹499',\n",
       " '₹499',\n",
       " '₹689',\n",
       " '₹598']"
      ]
     },
     "execution_count": 506,
     "metadata": {},
     "output_type": "execute_result"
    }
   ],
   "source": [
    "sneakers_price = []\n",
    "for i in sPrice_tag:\n",
    "    price = i.text\n",
    "    sneakers_price.append(price)\n",
    "sneakers_price[0:40]"
   ]
  },
  {
   "cell_type": "code",
   "execution_count": 507,
   "id": "2174b395",
   "metadata": {},
   "outputs": [
    {
     "name": "stderr",
     "output_type": "stream",
     "text": [
      "<ipython-input-507-f1c7b5782e2f>:1: DeprecationWarning: find_element_by_* commands are deprecated. Please use find_element() instead\n",
      "  Next_page2 = driver.find_element_by_xpath('/html/body/div[1]/div/div[3]/div[1]/div[2]/div[12]/div/div/nav/a[11]').click()\n"
     ]
    }
   ],
   "source": [
    "Next_page2 = driver.find_element_by_xpath('/html/body/div[1]/div/div[3]/div[1]/div[2]/div[12]/div/div/nav/a[11]').click()"
   ]
  },
  {
   "cell_type": "code",
   "execution_count": 508,
   "id": "f75bda9c",
   "metadata": {},
   "outputs": [
    {
     "name": "stderr",
     "output_type": "stream",
     "text": [
      "<ipython-input-508-3ce4ffa69633>:1: DeprecationWarning: find_elements_by_* commands are deprecated. Please use find_elements() instead\n",
      "  sBrand_tag2 = driver.find_elements_by_xpath(\"//div[@class='_2WkVRV']\")\n"
     ]
    },
    {
     "data": {
      "text/plain": [
       "[<selenium.webdriver.remote.webelement.WebElement (session=\"162200fa3b7f272414e163f9a003274e\", element=\"bf056444-1557-46b1-9abe-4895853f5d83\")>,\n",
       " <selenium.webdriver.remote.webelement.WebElement (session=\"162200fa3b7f272414e163f9a003274e\", element=\"a8285608-8183-4aaf-a63a-f9d9bc1ffbeb\")>,\n",
       " <selenium.webdriver.remote.webelement.WebElement (session=\"162200fa3b7f272414e163f9a003274e\", element=\"204ae7d5-cb2d-46c2-a82d-0a6a7c0afd73\")>,\n",
       " <selenium.webdriver.remote.webelement.WebElement (session=\"162200fa3b7f272414e163f9a003274e\", element=\"e41a1270-9ab1-41c7-8459-617b60ae9acb\")>,\n",
       " <selenium.webdriver.remote.webelement.WebElement (session=\"162200fa3b7f272414e163f9a003274e\", element=\"f854c83a-c120-4574-8c54-0b01628aa7f7\")>,\n",
       " <selenium.webdriver.remote.webelement.WebElement (session=\"162200fa3b7f272414e163f9a003274e\", element=\"7bd98120-ded6-4987-8344-4a9ff629f7a9\")>,\n",
       " <selenium.webdriver.remote.webelement.WebElement (session=\"162200fa3b7f272414e163f9a003274e\", element=\"7ed153fa-909e-475c-8005-6a9952e2f18f\")>,\n",
       " <selenium.webdriver.remote.webelement.WebElement (session=\"162200fa3b7f272414e163f9a003274e\", element=\"f28b085a-8903-4ee7-abe4-d0b2a44c04d7\")>,\n",
       " <selenium.webdriver.remote.webelement.WebElement (session=\"162200fa3b7f272414e163f9a003274e\", element=\"51a7b8dc-378c-449f-8768-0f9aa1a64313\")>,\n",
       " <selenium.webdriver.remote.webelement.WebElement (session=\"162200fa3b7f272414e163f9a003274e\", element=\"bad1f382-91c7-4a75-b354-ac30eea03ba3\")>,\n",
       " <selenium.webdriver.remote.webelement.WebElement (session=\"162200fa3b7f272414e163f9a003274e\", element=\"44016b23-ee6d-4b1e-a98c-37262dd45e07\")>,\n",
       " <selenium.webdriver.remote.webelement.WebElement (session=\"162200fa3b7f272414e163f9a003274e\", element=\"b1e0fdef-a27d-4435-b768-cd43e7563924\")>,\n",
       " <selenium.webdriver.remote.webelement.WebElement (session=\"162200fa3b7f272414e163f9a003274e\", element=\"88a88507-d9e1-43cc-9bd6-782d4f850839\")>,\n",
       " <selenium.webdriver.remote.webelement.WebElement (session=\"162200fa3b7f272414e163f9a003274e\", element=\"0e081d07-bbfd-40b5-8c66-5ffebaba82b8\")>,\n",
       " <selenium.webdriver.remote.webelement.WebElement (session=\"162200fa3b7f272414e163f9a003274e\", element=\"71f55e45-a34f-4042-9f05-efca63be7cad\")>,\n",
       " <selenium.webdriver.remote.webelement.WebElement (session=\"162200fa3b7f272414e163f9a003274e\", element=\"706339ae-cc62-4eb3-8963-4de154aceccf\")>,\n",
       " <selenium.webdriver.remote.webelement.WebElement (session=\"162200fa3b7f272414e163f9a003274e\", element=\"0dc3bb8b-b3bf-4c21-8a6c-344dedeea364\")>,\n",
       " <selenium.webdriver.remote.webelement.WebElement (session=\"162200fa3b7f272414e163f9a003274e\", element=\"7e672bf9-6110-4a26-bd77-81ef054e07c6\")>,\n",
       " <selenium.webdriver.remote.webelement.WebElement (session=\"162200fa3b7f272414e163f9a003274e\", element=\"13b30356-c581-480e-8802-63fc2874a240\")>,\n",
       " <selenium.webdriver.remote.webelement.WebElement (session=\"162200fa3b7f272414e163f9a003274e\", element=\"0a9f1022-d899-4890-ad9c-6ae4c0d9d634\")>,\n",
       " <selenium.webdriver.remote.webelement.WebElement (session=\"162200fa3b7f272414e163f9a003274e\", element=\"0cf317b2-e153-4401-9b4c-2d08b3954a9f\")>,\n",
       " <selenium.webdriver.remote.webelement.WebElement (session=\"162200fa3b7f272414e163f9a003274e\", element=\"9720a961-ebe1-46fc-b24e-316c02dcd70e\")>,\n",
       " <selenium.webdriver.remote.webelement.WebElement (session=\"162200fa3b7f272414e163f9a003274e\", element=\"8f6dca2d-1668-471f-b8ca-a2ac1edd43d1\")>,\n",
       " <selenium.webdriver.remote.webelement.WebElement (session=\"162200fa3b7f272414e163f9a003274e\", element=\"144d324a-c511-4426-8167-7353070e0409\")>,\n",
       " <selenium.webdriver.remote.webelement.WebElement (session=\"162200fa3b7f272414e163f9a003274e\", element=\"16ac2c76-626a-44cc-851d-a85376120f4a\")>,\n",
       " <selenium.webdriver.remote.webelement.WebElement (session=\"162200fa3b7f272414e163f9a003274e\", element=\"ab7fa104-3939-4a3a-a8ae-2d5c383a55ee\")>,\n",
       " <selenium.webdriver.remote.webelement.WebElement (session=\"162200fa3b7f272414e163f9a003274e\", element=\"2afc6e51-37e9-4fa3-8fe0-0e60fb40102d\")>,\n",
       " <selenium.webdriver.remote.webelement.WebElement (session=\"162200fa3b7f272414e163f9a003274e\", element=\"10fdaee5-4a99-4870-b88d-a6b9757de811\")>,\n",
       " <selenium.webdriver.remote.webelement.WebElement (session=\"162200fa3b7f272414e163f9a003274e\", element=\"1854b412-dcf0-4017-87f1-35ad4000b898\")>,\n",
       " <selenium.webdriver.remote.webelement.WebElement (session=\"162200fa3b7f272414e163f9a003274e\", element=\"b164b371-e504-4b45-8868-fc899fcbe95c\")>,\n",
       " <selenium.webdriver.remote.webelement.WebElement (session=\"162200fa3b7f272414e163f9a003274e\", element=\"d20c93ab-6811-4b7e-81dd-608300527c69\")>,\n",
       " <selenium.webdriver.remote.webelement.WebElement (session=\"162200fa3b7f272414e163f9a003274e\", element=\"ad6a1504-ef08-45ef-9cb5-62d0fada30f4\")>,\n",
       " <selenium.webdriver.remote.webelement.WebElement (session=\"162200fa3b7f272414e163f9a003274e\", element=\"87c64b6c-421e-449b-97a2-4075d9d7e1d4\")>,\n",
       " <selenium.webdriver.remote.webelement.WebElement (session=\"162200fa3b7f272414e163f9a003274e\", element=\"5c2bd027-db4d-443f-80ca-39cd811ccd7f\")>,\n",
       " <selenium.webdriver.remote.webelement.WebElement (session=\"162200fa3b7f272414e163f9a003274e\", element=\"bf57a365-808a-4745-b6eb-33de96db0cda\")>,\n",
       " <selenium.webdriver.remote.webelement.WebElement (session=\"162200fa3b7f272414e163f9a003274e\", element=\"c654ffdf-ce17-411a-8cda-5619420d411e\")>,\n",
       " <selenium.webdriver.remote.webelement.WebElement (session=\"162200fa3b7f272414e163f9a003274e\", element=\"cbe737cd-e098-468d-b35d-581c4be90ec3\")>,\n",
       " <selenium.webdriver.remote.webelement.WebElement (session=\"162200fa3b7f272414e163f9a003274e\", element=\"0012d075-78ea-4b44-b469-fe53aabb1e12\")>,\n",
       " <selenium.webdriver.remote.webelement.WebElement (session=\"162200fa3b7f272414e163f9a003274e\", element=\"aed4e204-0a69-402b-a712-86f03b091855\")>,\n",
       " <selenium.webdriver.remote.webelement.WebElement (session=\"162200fa3b7f272414e163f9a003274e\", element=\"a458637e-c79b-4ba5-9554-b15c8beb80bd\")>]"
      ]
     },
     "execution_count": 508,
     "metadata": {},
     "output_type": "execute_result"
    }
   ],
   "source": [
    "sBrand_tag2 = driver.find_elements_by_xpath(\"//div[@class='_2WkVRV']\")\n",
    "sBrand_tag2[0:40]"
   ]
  },
  {
   "cell_type": "code",
   "execution_count": 509,
   "id": "c2ab9f51",
   "metadata": {},
   "outputs": [
    {
     "data": {
      "text/plain": [
       "['ASIAN',\n",
       " 'believe',\n",
       " 'India hub',\n",
       " 'PUMA',\n",
       " 'hzisbo',\n",
       " 'Wlinzak',\n",
       " 'RODDICK SHOES',\n",
       " 'RED CHIEF',\n",
       " 'Robbie jones',\n",
       " 'OUTALYFE',\n",
       " 'luxury fashion',\n",
       " 'PUMA',\n",
       " 'Absolute comfort',\n",
       " 'SPARX',\n",
       " 'Clymb',\n",
       " 'LIBERTY',\n",
       " 'Airland',\n",
       " 'FEWROK',\n",
       " 'PUMA',\n",
       " 'RED CHIEF',\n",
       " 'Chevit',\n",
       " 'ESSENCE',\n",
       " 'Robbie jones',\n",
       " 'CAYZER',\n",
       " 'BRUTON',\n",
       " 'India hub',\n",
       " 'Chevit',\n",
       " \"Khadim's\",\n",
       " 'SneakerVilla',\n",
       " 'VORII',\n",
       " 'RODDICK SHOES',\n",
       " \"Khadim's\",\n",
       " 'SPARX',\n",
       " 'D-SNEAKERZ',\n",
       " 'Edoeviv',\n",
       " \"Khadim's\",\n",
       " 'HOTSTYLE',\n",
       " 'Labbin',\n",
       " 'RODDICK SHOES',\n",
       " 'West Code']"
      ]
     },
     "execution_count": 509,
     "metadata": {},
     "output_type": "execute_result"
    }
   ],
   "source": [
    "sneaker_brand2 = []\n",
    "for i in sBrand_tag2:\n",
    "    sneaker = i.text\n",
    "    sneaker_brand2.append(sneaker)\n",
    "sneaker_brand2[0:40]"
   ]
  },
  {
   "cell_type": "code",
   "execution_count": 510,
   "id": "1fb0c828",
   "metadata": {},
   "outputs": [
    {
     "name": "stderr",
     "output_type": "stream",
     "text": [
      "<ipython-input-510-73f6c6fcd50a>:1: DeprecationWarning: find_elements_by_* commands are deprecated. Please use find_elements() instead\n",
      "  sDesc_tag2 = driver.find_elements_by_xpath(\"//a[@class='IRpwTa']\")\n"
     ]
    },
    {
     "data": {
      "text/plain": [
       "[<selenium.webdriver.remote.webelement.WebElement (session=\"162200fa3b7f272414e163f9a003274e\", element=\"05ba0414-85e7-458c-9385-7f5dce2b54bb\")>,\n",
       " <selenium.webdriver.remote.webelement.WebElement (session=\"162200fa3b7f272414e163f9a003274e\", element=\"e1dd87cc-1b40-46ac-8f56-a689302f8e1b\")>,\n",
       " <selenium.webdriver.remote.webelement.WebElement (session=\"162200fa3b7f272414e163f9a003274e\", element=\"73ca5eb5-65c0-46b3-a5aa-7bd9319aa79f\")>,\n",
       " <selenium.webdriver.remote.webelement.WebElement (session=\"162200fa3b7f272414e163f9a003274e\", element=\"e67a97ec-45a8-45fc-ad83-f57c92630bde\")>,\n",
       " <selenium.webdriver.remote.webelement.WebElement (session=\"162200fa3b7f272414e163f9a003274e\", element=\"5eeb0a07-c7d4-4971-a898-43a67bcd84df\")>,\n",
       " <selenium.webdriver.remote.webelement.WebElement (session=\"162200fa3b7f272414e163f9a003274e\", element=\"1b499c3b-b9c9-4249-b380-6bceca65d43a\")>,\n",
       " <selenium.webdriver.remote.webelement.WebElement (session=\"162200fa3b7f272414e163f9a003274e\", element=\"6c016c29-025e-4ace-8d59-e02418a54246\")>,\n",
       " <selenium.webdriver.remote.webelement.WebElement (session=\"162200fa3b7f272414e163f9a003274e\", element=\"0fe3dcaa-0ade-4ec8-8e8a-39f3b9f9cb85\")>,\n",
       " <selenium.webdriver.remote.webelement.WebElement (session=\"162200fa3b7f272414e163f9a003274e\", element=\"15a11206-8253-4b30-8111-cd7ea1bbbfd1\")>,\n",
       " <selenium.webdriver.remote.webelement.WebElement (session=\"162200fa3b7f272414e163f9a003274e\", element=\"23f3ba31-b3ba-435b-b387-38dd471467ee\")>,\n",
       " <selenium.webdriver.remote.webelement.WebElement (session=\"162200fa3b7f272414e163f9a003274e\", element=\"c712c1f0-e925-4bd1-bfa2-afc52b53f9a7\")>,\n",
       " <selenium.webdriver.remote.webelement.WebElement (session=\"162200fa3b7f272414e163f9a003274e\", element=\"a1734c37-ad8e-43a2-a3dc-086c1c10a5e2\")>,\n",
       " <selenium.webdriver.remote.webelement.WebElement (session=\"162200fa3b7f272414e163f9a003274e\", element=\"06f8e1dc-3dd6-44ba-81b7-9086b3ed6b64\")>,\n",
       " <selenium.webdriver.remote.webelement.WebElement (session=\"162200fa3b7f272414e163f9a003274e\", element=\"f764c722-4769-45f0-baa6-da814242a927\")>,\n",
       " <selenium.webdriver.remote.webelement.WebElement (session=\"162200fa3b7f272414e163f9a003274e\", element=\"2d1134f6-4b8d-40da-a275-b587fdeee63f\")>,\n",
       " <selenium.webdriver.remote.webelement.WebElement (session=\"162200fa3b7f272414e163f9a003274e\", element=\"f1c6e7b8-8f9a-4a96-b662-8c0c88c0a714\")>,\n",
       " <selenium.webdriver.remote.webelement.WebElement (session=\"162200fa3b7f272414e163f9a003274e\", element=\"87928f96-0234-4dba-96fe-590ae75ccb31\")>,\n",
       " <selenium.webdriver.remote.webelement.WebElement (session=\"162200fa3b7f272414e163f9a003274e\", element=\"621e2cad-fc58-4f91-8c92-9d17bccb94a0\")>,\n",
       " <selenium.webdriver.remote.webelement.WebElement (session=\"162200fa3b7f272414e163f9a003274e\", element=\"4d60289d-bdff-43cc-a843-cbbc6d17be44\")>,\n",
       " <selenium.webdriver.remote.webelement.WebElement (session=\"162200fa3b7f272414e163f9a003274e\", element=\"6269ca98-ecac-48cc-a7ae-3de3cf3c04db\")>,\n",
       " <selenium.webdriver.remote.webelement.WebElement (session=\"162200fa3b7f272414e163f9a003274e\", element=\"61b430c4-09a2-435c-afb0-ceaba07f673b\")>,\n",
       " <selenium.webdriver.remote.webelement.WebElement (session=\"162200fa3b7f272414e163f9a003274e\", element=\"1ef05110-8f9c-4709-8a56-b021d39080ef\")>,\n",
       " <selenium.webdriver.remote.webelement.WebElement (session=\"162200fa3b7f272414e163f9a003274e\", element=\"78db0c79-7ca4-46ed-8453-301c6f997861\")>,\n",
       " <selenium.webdriver.remote.webelement.WebElement (session=\"162200fa3b7f272414e163f9a003274e\", element=\"6f53c920-7677-4af0-b626-04ace9cac845\")>,\n",
       " <selenium.webdriver.remote.webelement.WebElement (session=\"162200fa3b7f272414e163f9a003274e\", element=\"ec36c184-e133-47ab-b5cf-fa54553b2a86\")>,\n",
       " <selenium.webdriver.remote.webelement.WebElement (session=\"162200fa3b7f272414e163f9a003274e\", element=\"1ff623dc-a4c0-4143-b6bd-6d9da2f5cf9e\")>,\n",
       " <selenium.webdriver.remote.webelement.WebElement (session=\"162200fa3b7f272414e163f9a003274e\", element=\"aee9d7ea-966b-4d32-bc1a-083c27020bc3\")>,\n",
       " <selenium.webdriver.remote.webelement.WebElement (session=\"162200fa3b7f272414e163f9a003274e\", element=\"9ca9063c-9993-497d-814c-9aaf7f754d0a\")>,\n",
       " <selenium.webdriver.remote.webelement.WebElement (session=\"162200fa3b7f272414e163f9a003274e\", element=\"877647f0-6f15-450d-9e0e-549805606b95\")>,\n",
       " <selenium.webdriver.remote.webelement.WebElement (session=\"162200fa3b7f272414e163f9a003274e\", element=\"564365f9-f0db-4627-9f45-52caa2f6428d\")>,\n",
       " <selenium.webdriver.remote.webelement.WebElement (session=\"162200fa3b7f272414e163f9a003274e\", element=\"1c7c1689-6247-4632-86a6-a09278c5e2e5\")>]"
      ]
     },
     "execution_count": 510,
     "metadata": {},
     "output_type": "execute_result"
    }
   ],
   "source": [
    "sDesc_tag2 = driver.find_elements_by_xpath(\"//a[@class='IRpwTa']\")\n",
    "sDesc_tag2[0:40]"
   ]
  },
  {
   "cell_type": "code",
   "execution_count": 511,
   "id": "6d76f570",
   "metadata": {},
   "outputs": [
    {
     "data": {
      "text/plain": [
       "['Skypy-31 Walking Shoes,Training Shoes,Sneakers,Loafers,...',\n",
       " 'Sneakers for men(black_6) Sneakers For Men',\n",
       " 'Fashionable sneaker casual shoes Sneakers For Men',\n",
       " 'Maximus Slip On IDP Sneakers For Men',\n",
       " 'Sneakers For Men',\n",
       " 'Fashion Outdoor Canvas Casual Light Weight Lace-up Even...',\n",
       " 'RC3483 002 Casual For Men',\n",
       " 'Sneakers For Men',\n",
       " 'Latest collection, Casual Party Wear Comfortable, Flexi...',\n",
       " 'Luxury Fashionable casual sneaker shoes Sneakers For Me...',\n",
       " 'Puma Smash Vulc Sneakers For Men',\n",
       " 'SM-675 Sneakers For Men',\n",
       " 'Mesh Sports/Walking Shoes/Outdoor Ultra Lightweight Run...',\n",
       " 'sneaker men red 1258 - 6 Sneakers For Men',\n",
       " 'Puma Wired Cage Sneakers For Men',\n",
       " 'RC3483 022 Sneakers For Men',\n",
       " 'Smart Casuals Canvas Shoes Combo pack of 2 Sneakers For...',\n",
       " 'Sneakers For Men',\n",
       " 'Casual Sneakers Green Shoes For Men And Boys Sneakers F...',\n",
       " 'Combo Pack of 2 Sports Running LightWeight Shoes Sneake...',\n",
       " 'Sneakers For Men',\n",
       " 'Affordable Combo Pack of 03 Pairs Sneakers Outdoor Loaf...',\n",
       " '51911751990 Sneakers For Men',\n",
       " 'Fashion Outdoor Canvas Casual Light Weight Lace-up Even...',\n",
       " 'Sneakers For Men',\n",
       " 'SM-322 Sneakers For Men',\n",
       " \"Casual , Partywear Sneakers Shoes For Men's And Boys Wh...\",\n",
       " \"Luxury Branded Fashionable Men's Casual Walking Partywe...\",\n",
       " 'Sneakers For Men',\n",
       " 'Casual Sneakers White Shoes For Men And Boys Sneakers F...',\n",
       " 'Fashion Outdoor Canvas Casual Light Weight Lace-up Even...']"
      ]
     },
     "execution_count": 511,
     "metadata": {},
     "output_type": "execute_result"
    }
   ],
   "source": [
    "sneakers_desc2 = []\n",
    "for i in sDesc_tag2:\n",
    "    desc = i.text\n",
    "    sneakers_desc2.append(desc)\n",
    "sneakers_desc2[0:40]"
   ]
  },
  {
   "cell_type": "code",
   "execution_count": 512,
   "id": "ca1ad1e4",
   "metadata": {},
   "outputs": [
    {
     "name": "stderr",
     "output_type": "stream",
     "text": [
      "<ipython-input-512-5af8aae9d699>:1: DeprecationWarning: find_elements_by_* commands are deprecated. Please use find_elements() instead\n",
      "  sPrice_tag2 = driver.find_elements_by_xpath(\"//div[@class='_30jeq3']\")\n"
     ]
    },
    {
     "data": {
      "text/plain": [
       "[<selenium.webdriver.remote.webelement.WebElement (session=\"162200fa3b7f272414e163f9a003274e\", element=\"e9b1e5d7-9413-4c2a-8b30-cdfdfca29e70\")>,\n",
       " <selenium.webdriver.remote.webelement.WebElement (session=\"162200fa3b7f272414e163f9a003274e\", element=\"748bcd4c-596d-494d-86d9-90592cdc6891\")>,\n",
       " <selenium.webdriver.remote.webelement.WebElement (session=\"162200fa3b7f272414e163f9a003274e\", element=\"0d907fd9-fda3-4ad5-a9b9-f59e98ecf93f\")>,\n",
       " <selenium.webdriver.remote.webelement.WebElement (session=\"162200fa3b7f272414e163f9a003274e\", element=\"47912d9e-b57d-4024-a414-0c3df454914b\")>,\n",
       " <selenium.webdriver.remote.webelement.WebElement (session=\"162200fa3b7f272414e163f9a003274e\", element=\"44602c84-3eae-4175-966f-8679307212fc\")>,\n",
       " <selenium.webdriver.remote.webelement.WebElement (session=\"162200fa3b7f272414e163f9a003274e\", element=\"ff2c5c6d-ea09-4c4a-bfbf-47e640960e1d\")>,\n",
       " <selenium.webdriver.remote.webelement.WebElement (session=\"162200fa3b7f272414e163f9a003274e\", element=\"dd91b88d-9c01-4b51-8568-9b0d99946f53\")>,\n",
       " <selenium.webdriver.remote.webelement.WebElement (session=\"162200fa3b7f272414e163f9a003274e\", element=\"a851cc2b-a437-456f-850f-3c8830a3cf2b\")>,\n",
       " <selenium.webdriver.remote.webelement.WebElement (session=\"162200fa3b7f272414e163f9a003274e\", element=\"dfe9a89d-cc0a-40d2-993f-1d5dc2fbeb49\")>,\n",
       " <selenium.webdriver.remote.webelement.WebElement (session=\"162200fa3b7f272414e163f9a003274e\", element=\"e6fd55ab-decc-4027-85af-303f4c009f81\")>,\n",
       " <selenium.webdriver.remote.webelement.WebElement (session=\"162200fa3b7f272414e163f9a003274e\", element=\"a93e0116-74e8-4462-9880-afab6ceae382\")>,\n",
       " <selenium.webdriver.remote.webelement.WebElement (session=\"162200fa3b7f272414e163f9a003274e\", element=\"eb901781-39d8-4c18-87e3-ca7d3db21b28\")>,\n",
       " <selenium.webdriver.remote.webelement.WebElement (session=\"162200fa3b7f272414e163f9a003274e\", element=\"5480b58b-7224-426b-9af8-c32c988270c1\")>,\n",
       " <selenium.webdriver.remote.webelement.WebElement (session=\"162200fa3b7f272414e163f9a003274e\", element=\"2168bbca-6410-4fdf-8e0f-847b7e5e4c10\")>,\n",
       " <selenium.webdriver.remote.webelement.WebElement (session=\"162200fa3b7f272414e163f9a003274e\", element=\"40e6650a-c7f8-4f32-8c79-540d155bfcbe\")>,\n",
       " <selenium.webdriver.remote.webelement.WebElement (session=\"162200fa3b7f272414e163f9a003274e\", element=\"ee349f89-008e-403a-8ffc-a2e9d264fea5\")>,\n",
       " <selenium.webdriver.remote.webelement.WebElement (session=\"162200fa3b7f272414e163f9a003274e\", element=\"82677fe9-28eb-46b5-9303-177eecf5f354\")>,\n",
       " <selenium.webdriver.remote.webelement.WebElement (session=\"162200fa3b7f272414e163f9a003274e\", element=\"5c106b30-71be-4673-88f4-29e14c68140d\")>,\n",
       " <selenium.webdriver.remote.webelement.WebElement (session=\"162200fa3b7f272414e163f9a003274e\", element=\"a639e585-4fc6-4a8f-9512-74e155b07c73\")>,\n",
       " <selenium.webdriver.remote.webelement.WebElement (session=\"162200fa3b7f272414e163f9a003274e\", element=\"b6d8ebe8-881a-4f75-8c3f-8a9001cd120e\")>,\n",
       " <selenium.webdriver.remote.webelement.WebElement (session=\"162200fa3b7f272414e163f9a003274e\", element=\"935b7b8b-5a46-48bf-bb75-0708658332f2\")>,\n",
       " <selenium.webdriver.remote.webelement.WebElement (session=\"162200fa3b7f272414e163f9a003274e\", element=\"6d14c086-0ccd-4024-bd14-9ed84ddadf6d\")>,\n",
       " <selenium.webdriver.remote.webelement.WebElement (session=\"162200fa3b7f272414e163f9a003274e\", element=\"786a00c9-fce8-4b9d-8864-93cdbbaf3bd5\")>,\n",
       " <selenium.webdriver.remote.webelement.WebElement (session=\"162200fa3b7f272414e163f9a003274e\", element=\"5bf045d8-f777-4bf0-952d-34ca5a7e1d3e\")>,\n",
       " <selenium.webdriver.remote.webelement.WebElement (session=\"162200fa3b7f272414e163f9a003274e\", element=\"91ae5dc8-a53e-42ce-878b-2a3e69c5ab43\")>,\n",
       " <selenium.webdriver.remote.webelement.WebElement (session=\"162200fa3b7f272414e163f9a003274e\", element=\"117d8582-0bbf-42ab-bafa-74314e996e6e\")>,\n",
       " <selenium.webdriver.remote.webelement.WebElement (session=\"162200fa3b7f272414e163f9a003274e\", element=\"76edc8b0-a29e-4a6a-8d09-eac16db140c1\")>,\n",
       " <selenium.webdriver.remote.webelement.WebElement (session=\"162200fa3b7f272414e163f9a003274e\", element=\"c0857098-ed07-4de1-a09b-c758dff5c946\")>,\n",
       " <selenium.webdriver.remote.webelement.WebElement (session=\"162200fa3b7f272414e163f9a003274e\", element=\"bb7e4627-d500-413f-9c20-5d72ae6d3469\")>,\n",
       " <selenium.webdriver.remote.webelement.WebElement (session=\"162200fa3b7f272414e163f9a003274e\", element=\"999f8cf4-af3b-42fe-b81c-ba24dc9d61f5\")>,\n",
       " <selenium.webdriver.remote.webelement.WebElement (session=\"162200fa3b7f272414e163f9a003274e\", element=\"d2c038e5-d168-45f2-bc38-c3da2a5b2c8e\")>,\n",
       " <selenium.webdriver.remote.webelement.WebElement (session=\"162200fa3b7f272414e163f9a003274e\", element=\"61292e16-3a27-4d5c-9831-65fc8fafdc02\")>,\n",
       " <selenium.webdriver.remote.webelement.WebElement (session=\"162200fa3b7f272414e163f9a003274e\", element=\"6e585dfa-ac72-4351-bb17-3e8ddf5a2046\")>,\n",
       " <selenium.webdriver.remote.webelement.WebElement (session=\"162200fa3b7f272414e163f9a003274e\", element=\"95cf6221-2fca-4736-a464-e3b91fb7aeaf\")>,\n",
       " <selenium.webdriver.remote.webelement.WebElement (session=\"162200fa3b7f272414e163f9a003274e\", element=\"1b7afc11-8246-4ed3-b94c-9c9c9a9f1d01\")>,\n",
       " <selenium.webdriver.remote.webelement.WebElement (session=\"162200fa3b7f272414e163f9a003274e\", element=\"d7ad34ca-e598-4076-aea0-2d69d7b98464\")>,\n",
       " <selenium.webdriver.remote.webelement.WebElement (session=\"162200fa3b7f272414e163f9a003274e\", element=\"52bf19a5-53a4-44b4-999b-9bd974e622c1\")>,\n",
       " <selenium.webdriver.remote.webelement.WebElement (session=\"162200fa3b7f272414e163f9a003274e\", element=\"f1c60ef2-f7e0-484c-81d5-291273eab6ce\")>,\n",
       " <selenium.webdriver.remote.webelement.WebElement (session=\"162200fa3b7f272414e163f9a003274e\", element=\"0f0fed90-4e40-4832-8203-c8049cf42708\")>,\n",
       " <selenium.webdriver.remote.webelement.WebElement (session=\"162200fa3b7f272414e163f9a003274e\", element=\"0cbaf410-e160-4b55-99e3-ee54e437cfae\")>]"
      ]
     },
     "execution_count": 512,
     "metadata": {},
     "output_type": "execute_result"
    }
   ],
   "source": [
    "sPrice_tag2 = driver.find_elements_by_xpath(\"//div[@class='_30jeq3']\")\n",
    "sPrice_tag2[0:40]"
   ]
  },
  {
   "cell_type": "code",
   "execution_count": 513,
   "id": "5fa2138a",
   "metadata": {},
   "outputs": [
    {
     "data": {
      "text/plain": [
       "['₹399',\n",
       " '₹499',\n",
       " '₹448',\n",
       " '₹1,619',\n",
       " '₹479',\n",
       " '₹399',\n",
       " '₹499',\n",
       " '₹1,797',\n",
       " '₹499',\n",
       " '₹414',\n",
       " '₹449',\n",
       " '₹2,207',\n",
       " '₹166',\n",
       " '₹799',\n",
       " '₹259',\n",
       " '₹799',\n",
       " '₹197',\n",
       " '₹399',\n",
       " '₹1,719',\n",
       " '₹1,797',\n",
       " '₹399',\n",
       " '₹449',\n",
       " '₹499',\n",
       " '₹399',\n",
       " '₹474',\n",
       " '₹499',\n",
       " '₹799',\n",
       " '₹679',\n",
       " '₹549',\n",
       " '₹469',\n",
       " '₹499',\n",
       " '₹1,039',\n",
       " '₹882',\n",
       " '₹384',\n",
       " '₹499',\n",
       " '₹974',\n",
       " '₹199',\n",
       " '₹399',\n",
       " '₹499',\n",
       " '₹1,226']"
      ]
     },
     "execution_count": 513,
     "metadata": {},
     "output_type": "execute_result"
    }
   ],
   "source": [
    "sneakers_price2 = []\n",
    "for i in sPrice_tag2:\n",
    "    price = i.text\n",
    "    sneakers_price2.append(price)\n",
    "sneakers_price2[0:40]"
   ]
  },
  {
   "cell_type": "code",
   "execution_count": 515,
   "id": "76abcdb7",
   "metadata": {},
   "outputs": [
    {
     "name": "stderr",
     "output_type": "stream",
     "text": [
      "<ipython-input-515-af703cf1813e>:1: DeprecationWarning: find_element_by_* commands are deprecated. Please use find_element() instead\n",
      "  Next_page3 = driver.find_element_by_xpath('/html/body/div[1]/div/div[3]/div[1]/div[2]/div[12]/div/div/nav/a[12]/span').click()\n"
     ]
    }
   ],
   "source": [
    "Next_page3 = driver.find_element_by_xpath('/html/body/div[1]/div/div[3]/div[1]/div[2]/div[12]/div/div/nav/a[12]/span').click()"
   ]
  },
  {
   "cell_type": "code",
   "execution_count": 518,
   "id": "7b6e970d",
   "metadata": {},
   "outputs": [
    {
     "name": "stderr",
     "output_type": "stream",
     "text": [
      "<ipython-input-518-0eb00c9cdf8d>:1: DeprecationWarning: find_elements_by_* commands are deprecated. Please use find_elements() instead\n",
      "  sBrand_tag3 = driver.find_elements_by_xpath(\"//div[@class='_2WkVRV']\")\n"
     ]
    },
    {
     "data": {
      "text/plain": [
       "[<selenium.webdriver.remote.webelement.WebElement (session=\"162200fa3b7f272414e163f9a003274e\", element=\"6103b352-52d2-4bb7-9788-625fbd7e56c2\")>,\n",
       " <selenium.webdriver.remote.webelement.WebElement (session=\"162200fa3b7f272414e163f9a003274e\", element=\"81e46b8c-f01f-44d3-b46d-5283e4560208\")>,\n",
       " <selenium.webdriver.remote.webelement.WebElement (session=\"162200fa3b7f272414e163f9a003274e\", element=\"15736774-19af-41aa-b3fa-27e72f9ef8fc\")>,\n",
       " <selenium.webdriver.remote.webelement.WebElement (session=\"162200fa3b7f272414e163f9a003274e\", element=\"52d9adf0-c109-4e9d-8bb4-df1ea8b5e84e\")>,\n",
       " <selenium.webdriver.remote.webelement.WebElement (session=\"162200fa3b7f272414e163f9a003274e\", element=\"2e99b43e-dfad-4a97-9082-48a884196d2b\")>,\n",
       " <selenium.webdriver.remote.webelement.WebElement (session=\"162200fa3b7f272414e163f9a003274e\", element=\"957db094-19a8-4e3b-ab62-ab93d932704b\")>,\n",
       " <selenium.webdriver.remote.webelement.WebElement (session=\"162200fa3b7f272414e163f9a003274e\", element=\"c1d5ec2c-02f6-483c-b948-9d758dd25e34\")>,\n",
       " <selenium.webdriver.remote.webelement.WebElement (session=\"162200fa3b7f272414e163f9a003274e\", element=\"93d1f425-08cd-488f-9b11-af6349b446c4\")>,\n",
       " <selenium.webdriver.remote.webelement.WebElement (session=\"162200fa3b7f272414e163f9a003274e\", element=\"f2af7d0d-8048-4552-bf45-f816ce0d3e32\")>,\n",
       " <selenium.webdriver.remote.webelement.WebElement (session=\"162200fa3b7f272414e163f9a003274e\", element=\"c5483615-fc57-4c08-b093-9e08025336fd\")>,\n",
       " <selenium.webdriver.remote.webelement.WebElement (session=\"162200fa3b7f272414e163f9a003274e\", element=\"0cc2863f-dd07-40cb-8898-07dc552884f2\")>,\n",
       " <selenium.webdriver.remote.webelement.WebElement (session=\"162200fa3b7f272414e163f9a003274e\", element=\"a8859e4f-81bf-48b3-83c3-4d8798d7ba45\")>,\n",
       " <selenium.webdriver.remote.webelement.WebElement (session=\"162200fa3b7f272414e163f9a003274e\", element=\"103cee29-c02f-48d0-8286-35c670b4d50d\")>,\n",
       " <selenium.webdriver.remote.webelement.WebElement (session=\"162200fa3b7f272414e163f9a003274e\", element=\"cffb6188-7ddb-45c2-932f-9468d8da74df\")>,\n",
       " <selenium.webdriver.remote.webelement.WebElement (session=\"162200fa3b7f272414e163f9a003274e\", element=\"56a0c33e-de26-40fe-b1e9-145df4005ae7\")>,\n",
       " <selenium.webdriver.remote.webelement.WebElement (session=\"162200fa3b7f272414e163f9a003274e\", element=\"31e4a5e1-bbcf-4777-8475-00f792d0e7dd\")>,\n",
       " <selenium.webdriver.remote.webelement.WebElement (session=\"162200fa3b7f272414e163f9a003274e\", element=\"d630c419-2551-48ba-9fe9-0a1644fab022\")>,\n",
       " <selenium.webdriver.remote.webelement.WebElement (session=\"162200fa3b7f272414e163f9a003274e\", element=\"2b693691-a8f9-42c2-aeb5-d9566424f934\")>,\n",
       " <selenium.webdriver.remote.webelement.WebElement (session=\"162200fa3b7f272414e163f9a003274e\", element=\"026ea481-6636-4982-bcf8-0e358bb89469\")>,\n",
       " <selenium.webdriver.remote.webelement.WebElement (session=\"162200fa3b7f272414e163f9a003274e\", element=\"44cf0ef5-c598-43bf-80e3-b6549313ccdd\")>]"
      ]
     },
     "execution_count": 518,
     "metadata": {},
     "output_type": "execute_result"
    }
   ],
   "source": [
    "sBrand_tag3 = driver.find_elements_by_xpath(\"//div[@class='_2WkVRV']\")\n",
    "sBrand_tag3[0:20]"
   ]
  },
  {
   "cell_type": "code",
   "execution_count": 519,
   "id": "7452fec6",
   "metadata": {},
   "outputs": [
    {
     "data": {
      "text/plain": [
       "['India hub',\n",
       " 'URBANBOX',\n",
       " 'HOC',\n",
       " 'PUMA',\n",
       " 'SPADE CLUB',\n",
       " 'Kreverse',\n",
       " 'Numenzo',\n",
       " 'SPARX',\n",
       " 'EZBRA',\n",
       " 'BIRDE',\n",
       " 'PEXLO',\n",
       " 'ESSENCE',\n",
       " 'ASIAN',\n",
       " 'Echor',\n",
       " 'ESSENCE',\n",
       " 'STRANGER BROTHERS',\n",
       " 'SPARX',\n",
       " 'Echor',\n",
       " 'mannu',\n",
       " 'BOOYO']"
      ]
     },
     "execution_count": 519,
     "metadata": {},
     "output_type": "execute_result"
    }
   ],
   "source": [
    "sneaker_brand3 = []\n",
    "for i in sBrand_tag3:\n",
    "    sneaker = i.text\n",
    "    sneaker_brand3.append(sneaker)\n",
    "sneaker_brand3[0:20]"
   ]
  },
  {
   "cell_type": "code",
   "execution_count": 529,
   "id": "24579b50",
   "metadata": {},
   "outputs": [
    {
     "name": "stderr",
     "output_type": "stream",
     "text": [
      "<ipython-input-529-713924c7c7d9>:1: DeprecationWarning: find_elements_by_* commands are deprecated. Please use find_elements() instead\n",
      "  sDesc_tag3 = driver.find_elements_by_class_name(\"IRpwTa\")\n"
     ]
    },
    {
     "data": {
      "text/plain": [
       "[<selenium.webdriver.remote.webelement.WebElement (session=\"162200fa3b7f272414e163f9a003274e\", element=\"1be42f41-5482-45d4-a4e5-5c4322a1e44c\")>,\n",
       " <selenium.webdriver.remote.webelement.WebElement (session=\"162200fa3b7f272414e163f9a003274e\", element=\"8dcfd56d-febe-4d94-9ff8-8caa5a18d320\")>,\n",
       " <selenium.webdriver.remote.webelement.WebElement (session=\"162200fa3b7f272414e163f9a003274e\", element=\"0d3f6612-9c17-4573-b676-6166c668b316\")>,\n",
       " <selenium.webdriver.remote.webelement.WebElement (session=\"162200fa3b7f272414e163f9a003274e\", element=\"fb321a0e-792f-4cd4-8240-9eb83360dbf5\")>,\n",
       " <selenium.webdriver.remote.webelement.WebElement (session=\"162200fa3b7f272414e163f9a003274e\", element=\"3129a391-1331-44d9-a049-5ac97cd3b9c3\")>,\n",
       " <selenium.webdriver.remote.webelement.WebElement (session=\"162200fa3b7f272414e163f9a003274e\", element=\"8c67f22c-29d2-48bd-b76e-54e7c01a00d5\")>,\n",
       " <selenium.webdriver.remote.webelement.WebElement (session=\"162200fa3b7f272414e163f9a003274e\", element=\"857c0c5e-a816-42d4-b266-837e0d7d56c2\")>,\n",
       " <selenium.webdriver.remote.webelement.WebElement (session=\"162200fa3b7f272414e163f9a003274e\", element=\"5f697555-a9c5-4774-ac0d-b8de73a63cf8\")>,\n",
       " <selenium.webdriver.remote.webelement.WebElement (session=\"162200fa3b7f272414e163f9a003274e\", element=\"49b31b59-84ff-4cce-ae89-436909488984\")>,\n",
       " <selenium.webdriver.remote.webelement.WebElement (session=\"162200fa3b7f272414e163f9a003274e\", element=\"c8b95174-841c-4e24-9182-cfa8311dbda9\")>,\n",
       " <selenium.webdriver.remote.webelement.WebElement (session=\"162200fa3b7f272414e163f9a003274e\", element=\"522d1cea-2b07-4816-baf9-8d7b44b39ddc\")>,\n",
       " <selenium.webdriver.remote.webelement.WebElement (session=\"162200fa3b7f272414e163f9a003274e\", element=\"f4aa7e73-c7b4-4251-84bf-8fb598874c0b\")>,\n",
       " <selenium.webdriver.remote.webelement.WebElement (session=\"162200fa3b7f272414e163f9a003274e\", element=\"373ac202-348c-4c5f-8a69-0348043db33e\")>,\n",
       " <selenium.webdriver.remote.webelement.WebElement (session=\"162200fa3b7f272414e163f9a003274e\", element=\"7c34724a-1487-43ed-bb7c-3f4f3c07a4b9\")>,\n",
       " <selenium.webdriver.remote.webelement.WebElement (session=\"162200fa3b7f272414e163f9a003274e\", element=\"b5e96247-6cc5-465a-a397-1a8638f1fe22\")>,\n",
       " <selenium.webdriver.remote.webelement.WebElement (session=\"162200fa3b7f272414e163f9a003274e\", element=\"06da3c6a-84ef-4d58-9639-cef05c526168\")>,\n",
       " <selenium.webdriver.remote.webelement.WebElement (session=\"162200fa3b7f272414e163f9a003274e\", element=\"9f434d1c-0c7e-4286-be20-2bdf51c27482\")>,\n",
       " <selenium.webdriver.remote.webelement.WebElement (session=\"162200fa3b7f272414e163f9a003274e\", element=\"ab62eb6a-fb9e-4c0f-a586-84de4f69d3d9\")>,\n",
       " <selenium.webdriver.remote.webelement.WebElement (session=\"162200fa3b7f272414e163f9a003274e\", element=\"4de83af8-61f2-4659-8fd8-08570cfab0a8\")>,\n",
       " <selenium.webdriver.remote.webelement.WebElement (session=\"162200fa3b7f272414e163f9a003274e\", element=\"438a7bb0-033d-4c76-b3d4-7cab4b93757d\")>]"
      ]
     },
     "execution_count": 529,
     "metadata": {},
     "output_type": "execute_result"
    }
   ],
   "source": [
    "sDesc_tag3 = driver.find_elements_by_class_name(\"IRpwTa\")\n",
    "sDesc_tag3[0:20]"
   ]
  },
  {
   "cell_type": "code",
   "execution_count": 530,
   "id": "0d5b8b18",
   "metadata": {},
   "outputs": [
    {
     "data": {
      "text/plain": [
       "['Sneakers For Men',\n",
       " 'STYLISH-WHITE-9 Sneakers For Men',\n",
       " 'Luxury Fashionable Breathable Casual Sneakers Shoes For...',\n",
       " 'Plank Eng Knit Slipon IDP Sneakers For Men',\n",
       " 'Sneakers For Men',\n",
       " 'Sneakers For Men',\n",
       " 'Sneakers For Men',\n",
       " 'SM-322 Sneakers For Men',\n",
       " 'Sneakers For Men',\n",
       " 'Birde Trendy Casual Shoes Sneakers For Men',\n",
       " 'Lightweight Combo Pack of 02 Pair Casual Sneaker Canvas...',\n",
       " 'Trendy Sneakers For Men',\n",
       " 'Skypy-31 Walking Shoes,Training Shoes,Sneakers,Loafers,...',\n",
       " \"Men's Sneakers Walking Shoes - Lightweight Classic Whit...\",\n",
       " 'New Trendy Sneakers For Men',\n",
       " 'Sneakers For Men',\n",
       " 'SM-482 Sneakers For Men',\n",
       " \"Men's Sneakers Fashion Lightweight Running Shoes Tennis...\",\n",
       " 'High-end PU Sneakers Fashion CasualSports comfortable B...',\n",
       " \"Original Luxury Branded Fashionable men's Casual Walkin...\"]"
      ]
     },
     "execution_count": 530,
     "metadata": {},
     "output_type": "execute_result"
    }
   ],
   "source": [
    "sneakers_desc3 = []\n",
    "for i in sDesc_tag3:\n",
    "    desc = i.text\n",
    "    sneakers_desc3.append(desc)\n",
    "sneakers_desc3[0:20]"
   ]
  },
  {
   "cell_type": "code",
   "execution_count": 532,
   "id": "364d67b2",
   "metadata": {},
   "outputs": [
    {
     "name": "stderr",
     "output_type": "stream",
     "text": [
      "<ipython-input-532-147524de22dd>:1: DeprecationWarning: find_elements_by_* commands are deprecated. Please use find_elements() instead\n",
      "  sPrice_tag3 = driver.find_elements_by_xpath(\"//div[@class='_30jeq3']\")\n"
     ]
    },
    {
     "data": {
      "text/plain": [
       "[<selenium.webdriver.remote.webelement.WebElement (session=\"162200fa3b7f272414e163f9a003274e\", element=\"0296c0d5-bee2-4fe1-bb49-5bc0665217ca\")>,\n",
       " <selenium.webdriver.remote.webelement.WebElement (session=\"162200fa3b7f272414e163f9a003274e\", element=\"4b4f33e8-69af-4035-a4b4-b69358ce39bc\")>,\n",
       " <selenium.webdriver.remote.webelement.WebElement (session=\"162200fa3b7f272414e163f9a003274e\", element=\"b166cb82-2dc0-460e-9fe5-beb28f46c2b4\")>,\n",
       " <selenium.webdriver.remote.webelement.WebElement (session=\"162200fa3b7f272414e163f9a003274e\", element=\"8cac44e6-9e2c-46aa-b28f-9a1d2aa7ecc7\")>,\n",
       " <selenium.webdriver.remote.webelement.WebElement (session=\"162200fa3b7f272414e163f9a003274e\", element=\"18ffcd0f-8d95-4bbd-90e1-0d8e44eba062\")>,\n",
       " <selenium.webdriver.remote.webelement.WebElement (session=\"162200fa3b7f272414e163f9a003274e\", element=\"fe4af102-0587-44a0-883b-55b3cf22b2af\")>,\n",
       " <selenium.webdriver.remote.webelement.WebElement (session=\"162200fa3b7f272414e163f9a003274e\", element=\"c55411f0-1aa4-40f5-b571-49f8ab684505\")>,\n",
       " <selenium.webdriver.remote.webelement.WebElement (session=\"162200fa3b7f272414e163f9a003274e\", element=\"4dcd9b47-d695-467e-93fc-84cb136180e7\")>,\n",
       " <selenium.webdriver.remote.webelement.WebElement (session=\"162200fa3b7f272414e163f9a003274e\", element=\"d241df55-9f15-4b04-b511-69f25989774e\")>,\n",
       " <selenium.webdriver.remote.webelement.WebElement (session=\"162200fa3b7f272414e163f9a003274e\", element=\"6e46a3e8-d63e-4d24-81f7-97d5bbb470b1\")>,\n",
       " <selenium.webdriver.remote.webelement.WebElement (session=\"162200fa3b7f272414e163f9a003274e\", element=\"f4b17f22-58dc-4e32-b563-be3783273de5\")>,\n",
       " <selenium.webdriver.remote.webelement.WebElement (session=\"162200fa3b7f272414e163f9a003274e\", element=\"b21ddfac-ed02-4c1e-a6ec-d5c36ddcc58d\")>,\n",
       " <selenium.webdriver.remote.webelement.WebElement (session=\"162200fa3b7f272414e163f9a003274e\", element=\"f9a1b51a-b7a2-4edd-8f29-01ea989cde5d\")>,\n",
       " <selenium.webdriver.remote.webelement.WebElement (session=\"162200fa3b7f272414e163f9a003274e\", element=\"782d29bb-0dbf-40f9-b99c-aa30cf20013e\")>,\n",
       " <selenium.webdriver.remote.webelement.WebElement (session=\"162200fa3b7f272414e163f9a003274e\", element=\"3d880d10-1f83-4198-94d8-16d6c3cc2e45\")>,\n",
       " <selenium.webdriver.remote.webelement.WebElement (session=\"162200fa3b7f272414e163f9a003274e\", element=\"6805e396-d51e-46c3-ba0e-1d91e54ec066\")>,\n",
       " <selenium.webdriver.remote.webelement.WebElement (session=\"162200fa3b7f272414e163f9a003274e\", element=\"4499fb14-4120-4a12-93b8-2cd7925898a3\")>,\n",
       " <selenium.webdriver.remote.webelement.WebElement (session=\"162200fa3b7f272414e163f9a003274e\", element=\"fcb992bf-e973-4e06-b738-a0a4433a8a73\")>,\n",
       " <selenium.webdriver.remote.webelement.WebElement (session=\"162200fa3b7f272414e163f9a003274e\", element=\"889e47e5-740a-42d7-ad43-c2df12b791b8\")>,\n",
       " <selenium.webdriver.remote.webelement.WebElement (session=\"162200fa3b7f272414e163f9a003274e\", element=\"22e245c9-f368-4b88-ae15-648dda9d5abc\")>]"
      ]
     },
     "execution_count": 532,
     "metadata": {},
     "output_type": "execute_result"
    }
   ],
   "source": [
    "sPrice_tag3 = driver.find_elements_by_xpath(\"//div[@class='_30jeq3']\")\n",
    "sPrice_tag3[0:20]"
   ]
  },
  {
   "cell_type": "code",
   "execution_count": 533,
   "id": "dd261c6e",
   "metadata": {},
   "outputs": [
    {
     "data": {
      "text/plain": [
       "['₹499',\n",
       " '₹166',\n",
       " '₹449',\n",
       " '₹2,359',\n",
       " '₹699',\n",
       " '₹245',\n",
       " '₹499',\n",
       " '₹799',\n",
       " '₹343',\n",
       " '₹299',\n",
       " '₹630',\n",
       " '₹449',\n",
       " '₹399',\n",
       " '₹445',\n",
       " '₹497',\n",
       " '₹421',\n",
       " '₹990',\n",
       " '₹499',\n",
       " '₹429',\n",
       " '₹449']"
      ]
     },
     "execution_count": 533,
     "metadata": {},
     "output_type": "execute_result"
    }
   ],
   "source": [
    "sneakers_price3 = []\n",
    "for i in sPrice_tag3:\n",
    "    price = i.text\n",
    "    sneakers_price3.append(price)\n",
    "sneakers_price3[0:20]"
   ]
  },
  {
   "cell_type": "markdown",
   "id": "2aa5e6b6",
   "metadata": {},
   "source": [
    "Q7: Go to the link - https://www.myntra.com/shoes\n",
    "Set Price filter to “Rs. 6649 to Rs. 13099” , Color filter to “Black”, as shown in the below image.\n",
    "\n",
    "And then scrape First 100 shoes data you get. The data should include “Brand” of the shoes , Short Shoe\n",
    "description, price of the shoe as shown in the below image.\n",
    "\n",
    "Note: Applying the filter and scraping the data, everything should be done through code only and there\n",
    "should not be any manual step."
   ]
  },
  {
   "cell_type": "code",
   "execution_count": 3,
   "id": "c9218068",
   "metadata": {},
   "outputs": [
    {
     "name": "stderr",
     "output_type": "stream",
     "text": [
      "<ipython-input-3-7cb550b8266b>:2: DeprecationWarning: executable_path has been deprecated, please pass in a Service object\n",
      "  driver = webdriver.Chrome(PATH)\n"
     ]
    }
   ],
   "source": [
    "PATH = \"C:\\Program Files (x86)\\chromedriver.exe\"\n",
    "driver = webdriver.Chrome(PATH)"
   ]
  },
  {
   "cell_type": "code",
   "execution_count": 4,
   "id": "7b4a1268",
   "metadata": {},
   "outputs": [],
   "source": [
    "driver.get('https://www.myntra.com/shoes')"
   ]
  },
  {
   "cell_type": "code",
   "execution_count": 5,
   "id": "45ec5fd0",
   "metadata": {},
   "outputs": [
    {
     "name": "stderr",
     "output_type": "stream",
     "text": [
      "<ipython-input-5-038aa265a14c>:1: DeprecationWarning: find_element_by_* commands are deprecated. Please use find_element() instead\n",
      "  colorFilter = driver.find_element_by_xpath('/html/body/div[2]/div/div[1]/main/div[3]/div[1]/section/div/div[6]/ul/li[1]/label/div')\n"
     ]
    }
   ],
   "source": [
    "colorFilter = driver.find_element_by_xpath('/html/body/div[2]/div/div[1]/main/div[3]/div[1]/section/div/div[6]/ul/li[1]/label/div')\n",
    "colorFilter.click()"
   ]
  },
  {
   "cell_type": "code",
   "execution_count": 6,
   "id": "488892be",
   "metadata": {},
   "outputs": [
    {
     "name": "stderr",
     "output_type": "stream",
     "text": [
      "<ipython-input-6-de180d5ee99d>:1: DeprecationWarning: find_element_by_* commands are deprecated. Please use find_element() instead\n",
      "  priceFilter = driver.find_element_by_xpath('/html/body/div[2]/div/div[1]/main/div[3]/div[1]/section/div/div[5]/ul/li[2]/label/div')\n"
     ]
    }
   ],
   "source": [
    "priceFilter = driver.find_element_by_xpath('/html/body/div[2]/div/div[1]/main/div[3]/div[1]/section/div/div[5]/ul/li[2]/label/div')\n",
    "priceFilter.click()"
   ]
  },
  {
   "cell_type": "code",
   "execution_count": 7,
   "id": "fe93f9b1",
   "metadata": {},
   "outputs": [
    {
     "name": "stderr",
     "output_type": "stream",
     "text": [
      "<ipython-input-7-c30a524af618>:1: DeprecationWarning: find_elements_by_* commands are deprecated. Please use find_elements() instead\n",
      "  brandShoeTag = driver.find_elements_by_xpath(\"//h3[@class='product-brand']\")\n"
     ]
    },
    {
     "data": {
      "text/plain": [
       "[<selenium.webdriver.remote.webelement.WebElement (session=\"06b90b5db9ec7516267142acfea745e9\", element=\"a48c83ab-2506-49b9-b2d8-22468e1bc0d8\")>,\n",
       " <selenium.webdriver.remote.webelement.WebElement (session=\"06b90b5db9ec7516267142acfea745e9\", element=\"cb162e06-cf44-4ae3-8db9-7597b232a0c8\")>,\n",
       " <selenium.webdriver.remote.webelement.WebElement (session=\"06b90b5db9ec7516267142acfea745e9\", element=\"948cfdc4-7184-4826-89b2-3b2dc73ddff2\")>,\n",
       " <selenium.webdriver.remote.webelement.WebElement (session=\"06b90b5db9ec7516267142acfea745e9\", element=\"574e035f-0e9f-4ee5-abbe-92621c2f8648\")>,\n",
       " <selenium.webdriver.remote.webelement.WebElement (session=\"06b90b5db9ec7516267142acfea745e9\", element=\"acce8270-713b-40a4-bb9c-601643ad7a02\")>,\n",
       " <selenium.webdriver.remote.webelement.WebElement (session=\"06b90b5db9ec7516267142acfea745e9\", element=\"fbf6c560-b24f-4fa3-8d33-eb30fd4e5f84\")>,\n",
       " <selenium.webdriver.remote.webelement.WebElement (session=\"06b90b5db9ec7516267142acfea745e9\", element=\"4d4bc434-79a8-4206-a059-62651de33ce8\")>,\n",
       " <selenium.webdriver.remote.webelement.WebElement (session=\"06b90b5db9ec7516267142acfea745e9\", element=\"a60acac9-db00-4518-8389-c1539143e011\")>,\n",
       " <selenium.webdriver.remote.webelement.WebElement (session=\"06b90b5db9ec7516267142acfea745e9\", element=\"91bd2b63-ac3a-4f4e-9159-dff47a447e59\")>,\n",
       " <selenium.webdriver.remote.webelement.WebElement (session=\"06b90b5db9ec7516267142acfea745e9\", element=\"5032242b-7aea-4175-96da-4abc086a7a10\")>,\n",
       " <selenium.webdriver.remote.webelement.WebElement (session=\"06b90b5db9ec7516267142acfea745e9\", element=\"565eb09b-418a-4a1e-bf89-29f1ddb149a1\")>,\n",
       " <selenium.webdriver.remote.webelement.WebElement (session=\"06b90b5db9ec7516267142acfea745e9\", element=\"af361118-1121-4f38-87d9-0beb01ad2214\")>,\n",
       " <selenium.webdriver.remote.webelement.WebElement (session=\"06b90b5db9ec7516267142acfea745e9\", element=\"5135e34c-41a7-4731-9c3c-b528cae83618\")>,\n",
       " <selenium.webdriver.remote.webelement.WebElement (session=\"06b90b5db9ec7516267142acfea745e9\", element=\"73090fe9-3497-4fb5-83a6-71a1bfe24a61\")>,\n",
       " <selenium.webdriver.remote.webelement.WebElement (session=\"06b90b5db9ec7516267142acfea745e9\", element=\"ea05f74e-b52a-4f4d-a0a7-eb6fd06a36f4\")>,\n",
       " <selenium.webdriver.remote.webelement.WebElement (session=\"06b90b5db9ec7516267142acfea745e9\", element=\"5a95dd16-dc40-4e11-adcd-58c8e22508de\")>,\n",
       " <selenium.webdriver.remote.webelement.WebElement (session=\"06b90b5db9ec7516267142acfea745e9\", element=\"e4607ef8-da2f-4094-ab2d-e07a3915497f\")>,\n",
       " <selenium.webdriver.remote.webelement.WebElement (session=\"06b90b5db9ec7516267142acfea745e9\", element=\"4d29ef76-f16d-4ed7-b995-32ae176c7832\")>,\n",
       " <selenium.webdriver.remote.webelement.WebElement (session=\"06b90b5db9ec7516267142acfea745e9\", element=\"14a6a27f-1b35-4f4f-a54c-e8d9f566a26a\")>,\n",
       " <selenium.webdriver.remote.webelement.WebElement (session=\"06b90b5db9ec7516267142acfea745e9\", element=\"3f4237de-71f0-48a0-87cc-2b355c923f4c\")>,\n",
       " <selenium.webdriver.remote.webelement.WebElement (session=\"06b90b5db9ec7516267142acfea745e9\", element=\"eedc6b00-eae0-4ed7-9c60-83ad90072965\")>,\n",
       " <selenium.webdriver.remote.webelement.WebElement (session=\"06b90b5db9ec7516267142acfea745e9\", element=\"031c776c-373d-4a78-a2c6-5577e649c2d1\")>,\n",
       " <selenium.webdriver.remote.webelement.WebElement (session=\"06b90b5db9ec7516267142acfea745e9\", element=\"b563925f-bb75-4e01-ba29-b464648dddc6\")>,\n",
       " <selenium.webdriver.remote.webelement.WebElement (session=\"06b90b5db9ec7516267142acfea745e9\", element=\"6eb906d6-07da-4210-93be-ccdaae9ec2c8\")>,\n",
       " <selenium.webdriver.remote.webelement.WebElement (session=\"06b90b5db9ec7516267142acfea745e9\", element=\"d9ddaf4f-2e5f-4f8b-aed8-8cb7172e0def\")>,\n",
       " <selenium.webdriver.remote.webelement.WebElement (session=\"06b90b5db9ec7516267142acfea745e9\", element=\"c8691772-aece-4a8b-bbce-5c93533daccf\")>,\n",
       " <selenium.webdriver.remote.webelement.WebElement (session=\"06b90b5db9ec7516267142acfea745e9\", element=\"a3daaa58-0035-4fae-a9ea-0282d65c5c62\")>,\n",
       " <selenium.webdriver.remote.webelement.WebElement (session=\"06b90b5db9ec7516267142acfea745e9\", element=\"d35a2f15-e7f4-4ecb-b202-85328821a070\")>,\n",
       " <selenium.webdriver.remote.webelement.WebElement (session=\"06b90b5db9ec7516267142acfea745e9\", element=\"76817758-34c5-4c36-8fb1-848b1643237e\")>,\n",
       " <selenium.webdriver.remote.webelement.WebElement (session=\"06b90b5db9ec7516267142acfea745e9\", element=\"7a92c55b-5dd8-4f77-a03e-5e52468b0206\")>,\n",
       " <selenium.webdriver.remote.webelement.WebElement (session=\"06b90b5db9ec7516267142acfea745e9\", element=\"a2d7602b-5e74-4049-8ed9-8b78501b5505\")>,\n",
       " <selenium.webdriver.remote.webelement.WebElement (session=\"06b90b5db9ec7516267142acfea745e9\", element=\"c9d588f6-1033-4779-bb05-2e638f604ed9\")>,\n",
       " <selenium.webdriver.remote.webelement.WebElement (session=\"06b90b5db9ec7516267142acfea745e9\", element=\"511ed491-08aa-4570-aaf9-9589bcfb8009\")>,\n",
       " <selenium.webdriver.remote.webelement.WebElement (session=\"06b90b5db9ec7516267142acfea745e9\", element=\"b9b5c831-184d-4edd-81e0-c89eeba4b2d7\")>,\n",
       " <selenium.webdriver.remote.webelement.WebElement (session=\"06b90b5db9ec7516267142acfea745e9\", element=\"98a8d643-b8b0-469c-9fbb-69cf94a762e0\")>,\n",
       " <selenium.webdriver.remote.webelement.WebElement (session=\"06b90b5db9ec7516267142acfea745e9\", element=\"74255b51-bcca-414c-ac09-418d3cc10e7f\")>,\n",
       " <selenium.webdriver.remote.webelement.WebElement (session=\"06b90b5db9ec7516267142acfea745e9\", element=\"04d84e6d-ce48-42e3-996f-de8b32e03456\")>,\n",
       " <selenium.webdriver.remote.webelement.WebElement (session=\"06b90b5db9ec7516267142acfea745e9\", element=\"d0f9b490-ee45-4717-a68b-c60285ac4345\")>,\n",
       " <selenium.webdriver.remote.webelement.WebElement (session=\"06b90b5db9ec7516267142acfea745e9\", element=\"27f98893-a689-40cb-a8e9-bba97aa4747b\")>,\n",
       " <selenium.webdriver.remote.webelement.WebElement (session=\"06b90b5db9ec7516267142acfea745e9\", element=\"cf323dc9-cfe8-45f8-b226-041bf37b4b6a\")>,\n",
       " <selenium.webdriver.remote.webelement.WebElement (session=\"06b90b5db9ec7516267142acfea745e9\", element=\"2dd84cc8-6dfb-4192-ba57-99eb266a4a39\")>,\n",
       " <selenium.webdriver.remote.webelement.WebElement (session=\"06b90b5db9ec7516267142acfea745e9\", element=\"4780296d-9ca4-4b48-ac3c-c98b3afa8dd0\")>,\n",
       " <selenium.webdriver.remote.webelement.WebElement (session=\"06b90b5db9ec7516267142acfea745e9\", element=\"1cbffe01-1983-45f9-b165-c18a0f6b3334\")>,\n",
       " <selenium.webdriver.remote.webelement.WebElement (session=\"06b90b5db9ec7516267142acfea745e9\", element=\"98756c96-e667-41d1-a55c-d3552cba46e0\")>,\n",
       " <selenium.webdriver.remote.webelement.WebElement (session=\"06b90b5db9ec7516267142acfea745e9\", element=\"f957f71d-075a-452f-ae82-27486023cd2d\")>,\n",
       " <selenium.webdriver.remote.webelement.WebElement (session=\"06b90b5db9ec7516267142acfea745e9\", element=\"af95a260-d906-4d56-9b11-ca27f8ccdf41\")>,\n",
       " <selenium.webdriver.remote.webelement.WebElement (session=\"06b90b5db9ec7516267142acfea745e9\", element=\"35db8ac5-ada6-423f-b7ce-45d54b8f92a4\")>,\n",
       " <selenium.webdriver.remote.webelement.WebElement (session=\"06b90b5db9ec7516267142acfea745e9\", element=\"f2430000-d6d8-43c4-b8db-1c2066792c4f\")>,\n",
       " <selenium.webdriver.remote.webelement.WebElement (session=\"06b90b5db9ec7516267142acfea745e9\", element=\"53378082-32cc-4938-a35d-6fc5e2504a23\")>,\n",
       " <selenium.webdriver.remote.webelement.WebElement (session=\"06b90b5db9ec7516267142acfea745e9\", element=\"6f02396c-e8b1-4bbf-bd3a-52f797480e1d\")>]"
      ]
     },
     "execution_count": 7,
     "metadata": {},
     "output_type": "execute_result"
    }
   ],
   "source": [
    "brandShoeTag = driver.find_elements_by_xpath(\"//h3[@class='product-brand']\")\n",
    "brandShoeTag[0:50]"
   ]
  },
  {
   "cell_type": "code",
   "execution_count": 8,
   "id": "d9c9c064",
   "metadata": {},
   "outputs": [
    {
     "data": {
      "text/plain": [
       "['Nike',\n",
       " 'Nike',\n",
       " 'Hush Puppies',\n",
       " 'Nike',\n",
       " 'Nike',\n",
       " 'Puma',\n",
       " 'Puma',\n",
       " 'Nike',\n",
       " 'Nike',\n",
       " 'Nike',\n",
       " 'Hush Puppies',\n",
       " 'Saint G',\n",
       " 'Hush Puppies',\n",
       " 'Puma',\n",
       " 'ASICS',\n",
       " 'PUMA Motorsport',\n",
       " 'PUMA Motorsport',\n",
       " 'UNDER ARMOUR',\n",
       " 'ASICS',\n",
       " 'Puma',\n",
       " 'Hush Puppies',\n",
       " 'Cole Haan',\n",
       " 'Bugatti',\n",
       " 'Bugatti',\n",
       " 'Puma',\n",
       " 'Calvin Klein',\n",
       " 'Calvin Klein',\n",
       " 'Puma',\n",
       " 'ASICS',\n",
       " 'Hush Puppies',\n",
       " 'Saint G',\n",
       " 'Puma',\n",
       " 'Puma',\n",
       " 'PUMA Hoops',\n",
       " 'Puma',\n",
       " 'UNDER ARMOUR',\n",
       " 'Geox',\n",
       " 'Puma',\n",
       " 'Tommy Hilfiger',\n",
       " 'Calvin Klein',\n",
       " 'Tommy Hilfiger',\n",
       " 'Pavers England',\n",
       " 'Calvin Klein',\n",
       " 'Puma',\n",
       " 'ASICS',\n",
       " 'Cole Haan',\n",
       " 'J.FONTINI',\n",
       " 'ASICS',\n",
       " 'Tommy Hilfiger',\n",
       " 'J.FONTINI']"
      ]
     },
     "execution_count": 8,
     "metadata": {},
     "output_type": "execute_result"
    }
   ],
   "source": [
    "Shoe_Brand = []\n",
    "for i in brandShoeTag:\n",
    "    brand = i.text\n",
    "    Shoe_Brand.append(brand)\n",
    "Shoe_Brand[0:50]"
   ]
  },
  {
   "cell_type": "code",
   "execution_count": 10,
   "id": "459e933f",
   "metadata": {},
   "outputs": [
    {
     "name": "stderr",
     "output_type": "stream",
     "text": [
      "<ipython-input-10-9b67ec4d8202>:1: DeprecationWarning: find_elements_by_* commands are deprecated. Please use find_elements() instead\n",
      "  prod_desc_tag = driver.find_elements_by_xpath(\"//h4[@class='product-product']\")\n"
     ]
    },
    {
     "data": {
      "text/plain": [
       "[<selenium.webdriver.remote.webelement.WebElement (session=\"06b90b5db9ec7516267142acfea745e9\", element=\"e3684aac-cb00-4943-97fd-cf5121d756ba\")>,\n",
       " <selenium.webdriver.remote.webelement.WebElement (session=\"06b90b5db9ec7516267142acfea745e9\", element=\"1d6085d6-05be-4bd7-ad18-889220b907c8\")>,\n",
       " <selenium.webdriver.remote.webelement.WebElement (session=\"06b90b5db9ec7516267142acfea745e9\", element=\"c5adba29-af52-4802-8324-d510808b63aa\")>,\n",
       " <selenium.webdriver.remote.webelement.WebElement (session=\"06b90b5db9ec7516267142acfea745e9\", element=\"9ebd29b0-a2e8-4667-8c76-d724075c0df2\")>,\n",
       " <selenium.webdriver.remote.webelement.WebElement (session=\"06b90b5db9ec7516267142acfea745e9\", element=\"de5ee032-845f-43d1-a67f-33664737ea8c\")>,\n",
       " <selenium.webdriver.remote.webelement.WebElement (session=\"06b90b5db9ec7516267142acfea745e9\", element=\"867e9e6c-55c0-4cdf-820a-0cad6bca4059\")>,\n",
       " <selenium.webdriver.remote.webelement.WebElement (session=\"06b90b5db9ec7516267142acfea745e9\", element=\"ccad29ea-a974-4cc5-99d8-12593bfc6bb8\")>,\n",
       " <selenium.webdriver.remote.webelement.WebElement (session=\"06b90b5db9ec7516267142acfea745e9\", element=\"08dfed3a-8743-4eb7-973d-22be4220d174\")>,\n",
       " <selenium.webdriver.remote.webelement.WebElement (session=\"06b90b5db9ec7516267142acfea745e9\", element=\"e49f7efd-6c71-466d-a623-4e8608f9245f\")>,\n",
       " <selenium.webdriver.remote.webelement.WebElement (session=\"06b90b5db9ec7516267142acfea745e9\", element=\"0697696e-c693-4a69-9d0e-7ba28688e6e9\")>,\n",
       " <selenium.webdriver.remote.webelement.WebElement (session=\"06b90b5db9ec7516267142acfea745e9\", element=\"bf0bec90-ed33-486a-a359-ba943e5d169f\")>,\n",
       " <selenium.webdriver.remote.webelement.WebElement (session=\"06b90b5db9ec7516267142acfea745e9\", element=\"d1abb409-f3a1-403c-9d70-0b910c240241\")>,\n",
       " <selenium.webdriver.remote.webelement.WebElement (session=\"06b90b5db9ec7516267142acfea745e9\", element=\"2c40f028-b55f-427c-976d-435281406044\")>,\n",
       " <selenium.webdriver.remote.webelement.WebElement (session=\"06b90b5db9ec7516267142acfea745e9\", element=\"e0389eb7-7991-47b4-bf06-98a288f28e97\")>,\n",
       " <selenium.webdriver.remote.webelement.WebElement (session=\"06b90b5db9ec7516267142acfea745e9\", element=\"231fa9b7-4c98-40a6-b509-30dad4511fe6\")>,\n",
       " <selenium.webdriver.remote.webelement.WebElement (session=\"06b90b5db9ec7516267142acfea745e9\", element=\"e440bb88-c9da-49f6-8995-c7c9ac73723d\")>,\n",
       " <selenium.webdriver.remote.webelement.WebElement (session=\"06b90b5db9ec7516267142acfea745e9\", element=\"1f0528bf-9bac-4476-b352-f5e7ee52392e\")>,\n",
       " <selenium.webdriver.remote.webelement.WebElement (session=\"06b90b5db9ec7516267142acfea745e9\", element=\"3b18d567-bd66-441f-a702-7b1c6c7452ff\")>,\n",
       " <selenium.webdriver.remote.webelement.WebElement (session=\"06b90b5db9ec7516267142acfea745e9\", element=\"109bf3c9-9758-4bbf-975b-b5256f424a1d\")>,\n",
       " <selenium.webdriver.remote.webelement.WebElement (session=\"06b90b5db9ec7516267142acfea745e9\", element=\"9b4b09d8-7e85-41cf-91b7-1aa2f771f476\")>,\n",
       " <selenium.webdriver.remote.webelement.WebElement (session=\"06b90b5db9ec7516267142acfea745e9\", element=\"45d41694-d316-4e5a-9b59-188afdce38b6\")>,\n",
       " <selenium.webdriver.remote.webelement.WebElement (session=\"06b90b5db9ec7516267142acfea745e9\", element=\"0183b7ed-e4f4-4861-8688-04f5a20dafb9\")>,\n",
       " <selenium.webdriver.remote.webelement.WebElement (session=\"06b90b5db9ec7516267142acfea745e9\", element=\"e12f96d9-9b2b-4a75-bdba-ca07788bdb79\")>,\n",
       " <selenium.webdriver.remote.webelement.WebElement (session=\"06b90b5db9ec7516267142acfea745e9\", element=\"c32a558e-6fae-4782-a360-dd8598db8f6a\")>,\n",
       " <selenium.webdriver.remote.webelement.WebElement (session=\"06b90b5db9ec7516267142acfea745e9\", element=\"465e2e92-7a53-48aa-98aa-d18d3af03084\")>,\n",
       " <selenium.webdriver.remote.webelement.WebElement (session=\"06b90b5db9ec7516267142acfea745e9\", element=\"35ce71aa-6a8a-46df-ad4e-dbc50723b706\")>,\n",
       " <selenium.webdriver.remote.webelement.WebElement (session=\"06b90b5db9ec7516267142acfea745e9\", element=\"5593d8b8-7c31-4303-a824-048590a102e0\")>,\n",
       " <selenium.webdriver.remote.webelement.WebElement (session=\"06b90b5db9ec7516267142acfea745e9\", element=\"14517ab3-082d-47b4-ab9d-e44ee67bfe20\")>,\n",
       " <selenium.webdriver.remote.webelement.WebElement (session=\"06b90b5db9ec7516267142acfea745e9\", element=\"e44db902-3308-4f9d-bcdb-0a0cfe7c9894\")>,\n",
       " <selenium.webdriver.remote.webelement.WebElement (session=\"06b90b5db9ec7516267142acfea745e9\", element=\"07944efd-a6ac-4063-80fd-d644c5f36cce\")>,\n",
       " <selenium.webdriver.remote.webelement.WebElement (session=\"06b90b5db9ec7516267142acfea745e9\", element=\"7210c916-d723-4996-8237-58b7c48bc3f7\")>,\n",
       " <selenium.webdriver.remote.webelement.WebElement (session=\"06b90b5db9ec7516267142acfea745e9\", element=\"f4c7c3e1-a8ab-4a2f-9a6c-a4b0039921b0\")>,\n",
       " <selenium.webdriver.remote.webelement.WebElement (session=\"06b90b5db9ec7516267142acfea745e9\", element=\"3ca150db-3ca7-49a6-8c6d-acc6f4ffb2a1\")>,\n",
       " <selenium.webdriver.remote.webelement.WebElement (session=\"06b90b5db9ec7516267142acfea745e9\", element=\"439b9ccd-4888-460a-858b-e590a01d69be\")>,\n",
       " <selenium.webdriver.remote.webelement.WebElement (session=\"06b90b5db9ec7516267142acfea745e9\", element=\"50724527-44b0-4972-94ad-4a5368b661d9\")>,\n",
       " <selenium.webdriver.remote.webelement.WebElement (session=\"06b90b5db9ec7516267142acfea745e9\", element=\"e0d8663e-47fa-4b60-bc0a-72a5228d53b2\")>,\n",
       " <selenium.webdriver.remote.webelement.WebElement (session=\"06b90b5db9ec7516267142acfea745e9\", element=\"2921cb72-b55d-4ce4-bdb6-a5315e88ba54\")>,\n",
       " <selenium.webdriver.remote.webelement.WebElement (session=\"06b90b5db9ec7516267142acfea745e9\", element=\"08162ffa-09d1-4b38-92ae-5aa10488de5c\")>,\n",
       " <selenium.webdriver.remote.webelement.WebElement (session=\"06b90b5db9ec7516267142acfea745e9\", element=\"bd72368f-7985-4479-b7ec-af68fcad7a77\")>,\n",
       " <selenium.webdriver.remote.webelement.WebElement (session=\"06b90b5db9ec7516267142acfea745e9\", element=\"e4f897db-d5f5-48d4-986b-3ea7bf897a2a\")>,\n",
       " <selenium.webdriver.remote.webelement.WebElement (session=\"06b90b5db9ec7516267142acfea745e9\", element=\"3355c8f7-4b89-4a2b-9df4-a4926941b4b1\")>,\n",
       " <selenium.webdriver.remote.webelement.WebElement (session=\"06b90b5db9ec7516267142acfea745e9\", element=\"8f7d0b7a-ce5e-4d03-82f4-d902ca18eabe\")>,\n",
       " <selenium.webdriver.remote.webelement.WebElement (session=\"06b90b5db9ec7516267142acfea745e9\", element=\"0fb8b484-9a49-4724-b237-56bdda64e9d6\")>,\n",
       " <selenium.webdriver.remote.webelement.WebElement (session=\"06b90b5db9ec7516267142acfea745e9\", element=\"b65bc4a4-f988-4477-90f3-e13cd58ce446\")>,\n",
       " <selenium.webdriver.remote.webelement.WebElement (session=\"06b90b5db9ec7516267142acfea745e9\", element=\"ff4877b3-f30a-435d-a48a-aa611db08060\")>,\n",
       " <selenium.webdriver.remote.webelement.WebElement (session=\"06b90b5db9ec7516267142acfea745e9\", element=\"c05faf5d-63aa-4385-8019-90f2469f8dd5\")>,\n",
       " <selenium.webdriver.remote.webelement.WebElement (session=\"06b90b5db9ec7516267142acfea745e9\", element=\"0d7dad4c-e306-4d9a-b462-ec8b18e510ea\")>,\n",
       " <selenium.webdriver.remote.webelement.WebElement (session=\"06b90b5db9ec7516267142acfea745e9\", element=\"a91a7dc4-4fcf-4d20-8192-e455cb8f3bc9\")>,\n",
       " <selenium.webdriver.remote.webelement.WebElement (session=\"06b90b5db9ec7516267142acfea745e9\", element=\"ab51ad60-8d8f-4da1-908c-f0554748160e\")>,\n",
       " <selenium.webdriver.remote.webelement.WebElement (session=\"06b90b5db9ec7516267142acfea745e9\", element=\"fb1934e1-bdb0-458c-bb9c-b04d44819c24\")>]"
      ]
     },
     "execution_count": 10,
     "metadata": {},
     "output_type": "execute_result"
    }
   ],
   "source": [
    "prod_desc_tag = driver.find_elements_by_xpath(\"//h4[@class='product-product']\")\n",
    "prod_desc_tag[0:50]"
   ]
  },
  {
   "cell_type": "code",
   "execution_count": 11,
   "id": "27ee83e5",
   "metadata": {},
   "outputs": [
    {
     "data": {
      "text/plain": [
       "['LEBRON WITNESS Basketball Shoe',\n",
       " 'AIR ZOOM PEGASUS Running Shoes',\n",
       " 'Men Solid Leather Formal Slip-Ons',\n",
       " 'Men Zoom Span 4 Running Shoes',\n",
       " 'Air Zoom Pegasus 38 Shield Run',\n",
       " 'Men Deviate Nitro Running Shoe',\n",
       " 'Men Velocity Nitro Running',\n",
       " 'Men FLIGHT LEGACY Sneakers',\n",
       " \"Men BlazerLow '77 Sneakers\",\n",
       " 'Men AIR PRESTO Sneakers',\n",
       " 'Men Formal Derbys',\n",
       " 'Men Mid-Top Chelsea Boots',\n",
       " 'Men Solid Leather Formal Slip-Ons',\n",
       " 'Unisex Mirage Remix Sneakers',\n",
       " 'Men Colourblocked PU Sneakers',\n",
       " 'Unisex FerrariRS-Fast Sneakers',\n",
       " 'Unisex BMW RS-Connect Sneakers',\n",
       " 'Women Charged Bandit 6 Running',\n",
       " 'Men Running Shoes',\n",
       " 'Men Liberate NITRO Running',\n",
       " 'Men Solid Leather Formal Derbys',\n",
       " 'Men Wingtip Oxford Sneakers',\n",
       " 'Men Black Walking Shoes',\n",
       " 'Men Walking Shoes',\n",
       " 'Men Running Shoes',\n",
       " 'Men Solid Low Top LTH Sneakers',\n",
       " 'Men UV MONO Leather Sneakers',\n",
       " 'Unisex Leather Trainers',\n",
       " 'Men Black Running Sports Shoes',\n",
       " 'Men Leather Slip-On Sneakers',\n",
       " 'Women Leather Heeled Boots',\n",
       " 'Men Football Shoes',\n",
       " 'Women Liberate NITRO Running',\n",
       " 'Unisex Clyde All-Pro Team',\n",
       " 'Women Magnify Nitro Shoes',\n",
       " 'Women Charged Vantage ClrShft',\n",
       " 'Men Leather Flat Boots',\n",
       " 'Women Velocity NITRO Runners',\n",
       " 'Women Leather Block Pumps',\n",
       " 'Men Mid-Top Runner Sneakers',\n",
       " 'Women Leather Pumps',\n",
       " 'Men Textured Leather Formal Derbys',\n",
       " 'Men Solid Leather Sneakers',\n",
       " 'FIRST MILE Forever XT Utility',\n",
       " 'Women NOVABLAST Road Running',\n",
       " 'Men GENERATION ZEROGRAND STITCHLITE',\n",
       " 'Men Black Leather Loafers',\n",
       " 'Skycourt Sneakers',\n",
       " 'Men Lightweight Sneakers',\n",
       " 'Men Textured Leather Loafers']"
      ]
     },
     "execution_count": 11,
     "metadata": {},
     "output_type": "execute_result"
    }
   ],
   "source": [
    "Product_desc = []\n",
    "for i in prod_desc_tag:\n",
    "    desc = i.text\n",
    "    Product_desc.append(desc)\n",
    "Product_desc[0:50]"
   ]
  },
  {
   "cell_type": "code",
   "execution_count": 14,
   "id": "02b5a049",
   "metadata": {},
   "outputs": [
    {
     "name": "stderr",
     "output_type": "stream",
     "text": [
      "<ipython-input-14-ef431b96650f>:1: DeprecationWarning: find_elements_by_* commands are deprecated. Please use find_elements() instead\n",
      "  prod_price_tag = driver.find_elements_by_xpath(\"//div[@class='product-price']\")\n"
     ]
    },
    {
     "data": {
      "text/plain": [
       "[<selenium.webdriver.remote.webelement.WebElement (session=\"06b90b5db9ec7516267142acfea745e9\", element=\"fc754ad6-1a6b-4c8d-b23f-d71e31f40f63\")>,\n",
       " <selenium.webdriver.remote.webelement.WebElement (session=\"06b90b5db9ec7516267142acfea745e9\", element=\"7a55adae-1324-4c1b-8092-981d3288c1c6\")>,\n",
       " <selenium.webdriver.remote.webelement.WebElement (session=\"06b90b5db9ec7516267142acfea745e9\", element=\"8aeabefa-955f-4883-8489-9c239a756592\")>,\n",
       " <selenium.webdriver.remote.webelement.WebElement (session=\"06b90b5db9ec7516267142acfea745e9\", element=\"d9639f33-2849-4592-a1b4-7e30fe835400\")>,\n",
       " <selenium.webdriver.remote.webelement.WebElement (session=\"06b90b5db9ec7516267142acfea745e9\", element=\"1ddee5d4-5a02-44ae-a4a1-332474c1bb86\")>,\n",
       " <selenium.webdriver.remote.webelement.WebElement (session=\"06b90b5db9ec7516267142acfea745e9\", element=\"b1957c73-188d-46ae-9f6c-3a7093d7c4b0\")>,\n",
       " <selenium.webdriver.remote.webelement.WebElement (session=\"06b90b5db9ec7516267142acfea745e9\", element=\"966271ea-92bd-47e5-a80f-6da7d296829d\")>,\n",
       " <selenium.webdriver.remote.webelement.WebElement (session=\"06b90b5db9ec7516267142acfea745e9\", element=\"5527e5d8-0875-4ab4-81d7-dd721fda14a1\")>,\n",
       " <selenium.webdriver.remote.webelement.WebElement (session=\"06b90b5db9ec7516267142acfea745e9\", element=\"ba01274f-2206-41d3-98a5-e2c013d9ae8a\")>,\n",
       " <selenium.webdriver.remote.webelement.WebElement (session=\"06b90b5db9ec7516267142acfea745e9\", element=\"0c3bacb2-fddd-4ca4-97b1-e28760918401\")>,\n",
       " <selenium.webdriver.remote.webelement.WebElement (session=\"06b90b5db9ec7516267142acfea745e9\", element=\"b046bae7-d39e-4947-8dd8-5e9079f63bb2\")>,\n",
       " <selenium.webdriver.remote.webelement.WebElement (session=\"06b90b5db9ec7516267142acfea745e9\", element=\"08f68963-1910-4585-95ae-b66836905318\")>,\n",
       " <selenium.webdriver.remote.webelement.WebElement (session=\"06b90b5db9ec7516267142acfea745e9\", element=\"df460fea-bd19-4ac4-928d-b3255decf157\")>,\n",
       " <selenium.webdriver.remote.webelement.WebElement (session=\"06b90b5db9ec7516267142acfea745e9\", element=\"9a1c26a9-6d14-4f98-bbcc-a304b7aa1e11\")>,\n",
       " <selenium.webdriver.remote.webelement.WebElement (session=\"06b90b5db9ec7516267142acfea745e9\", element=\"d0c22dd8-c891-4f8d-9037-22edbb8dd2f5\")>,\n",
       " <selenium.webdriver.remote.webelement.WebElement (session=\"06b90b5db9ec7516267142acfea745e9\", element=\"acadbb24-78ff-4c89-94d4-1918c5747785\")>,\n",
       " <selenium.webdriver.remote.webelement.WebElement (session=\"06b90b5db9ec7516267142acfea745e9\", element=\"339839c6-f479-4682-ac5f-254c7427c18d\")>,\n",
       " <selenium.webdriver.remote.webelement.WebElement (session=\"06b90b5db9ec7516267142acfea745e9\", element=\"ff0698f5-6810-4be8-b6f5-61376e9cdbe4\")>,\n",
       " <selenium.webdriver.remote.webelement.WebElement (session=\"06b90b5db9ec7516267142acfea745e9\", element=\"b6ef3e16-c360-449a-8f20-0748e87caf0b\")>,\n",
       " <selenium.webdriver.remote.webelement.WebElement (session=\"06b90b5db9ec7516267142acfea745e9\", element=\"99ca58aa-3ff4-4ae9-a91c-69f15c5f98c0\")>,\n",
       " <selenium.webdriver.remote.webelement.WebElement (session=\"06b90b5db9ec7516267142acfea745e9\", element=\"3a1dfd84-aa2b-4779-a1e1-0b2b7554c961\")>,\n",
       " <selenium.webdriver.remote.webelement.WebElement (session=\"06b90b5db9ec7516267142acfea745e9\", element=\"f3f4507e-04ad-45cd-99aa-59ae7e009bad\")>,\n",
       " <selenium.webdriver.remote.webelement.WebElement (session=\"06b90b5db9ec7516267142acfea745e9\", element=\"5b6870e2-efb4-49dc-a55c-dad5dfbbe3b9\")>,\n",
       " <selenium.webdriver.remote.webelement.WebElement (session=\"06b90b5db9ec7516267142acfea745e9\", element=\"f8038e73-ae06-4a2f-baac-e4cde84e5a7d\")>,\n",
       " <selenium.webdriver.remote.webelement.WebElement (session=\"06b90b5db9ec7516267142acfea745e9\", element=\"9763b4ea-89cd-4230-affa-4244500b3b00\")>,\n",
       " <selenium.webdriver.remote.webelement.WebElement (session=\"06b90b5db9ec7516267142acfea745e9\", element=\"dae5a91d-61d8-45c7-9872-7bfc4cc90a41\")>,\n",
       " <selenium.webdriver.remote.webelement.WebElement (session=\"06b90b5db9ec7516267142acfea745e9\", element=\"c74fffa9-ba1e-41e7-ace4-f71d4ef3e4f4\")>,\n",
       " <selenium.webdriver.remote.webelement.WebElement (session=\"06b90b5db9ec7516267142acfea745e9\", element=\"ce290c4f-9da7-43ad-bb48-b303d86803f7\")>,\n",
       " <selenium.webdriver.remote.webelement.WebElement (session=\"06b90b5db9ec7516267142acfea745e9\", element=\"825ee217-45cf-4dfb-abc6-eb70a5967b29\")>,\n",
       " <selenium.webdriver.remote.webelement.WebElement (session=\"06b90b5db9ec7516267142acfea745e9\", element=\"26cb69c6-31f6-49e2-a0d4-d93186c29482\")>,\n",
       " <selenium.webdriver.remote.webelement.WebElement (session=\"06b90b5db9ec7516267142acfea745e9\", element=\"331d2999-80bf-4e3c-bf59-cb8dad70a488\")>,\n",
       " <selenium.webdriver.remote.webelement.WebElement (session=\"06b90b5db9ec7516267142acfea745e9\", element=\"86c86dca-5da6-4e40-9221-c71358e389ff\")>,\n",
       " <selenium.webdriver.remote.webelement.WebElement (session=\"06b90b5db9ec7516267142acfea745e9\", element=\"2d8ce11c-0303-4a27-ac1b-12bcca0320c4\")>,\n",
       " <selenium.webdriver.remote.webelement.WebElement (session=\"06b90b5db9ec7516267142acfea745e9\", element=\"4088f51d-ce32-4cf0-a96f-6684c6d00f5e\")>,\n",
       " <selenium.webdriver.remote.webelement.WebElement (session=\"06b90b5db9ec7516267142acfea745e9\", element=\"a2a42a25-345d-4167-ac4c-3f9bcadc5224\")>,\n",
       " <selenium.webdriver.remote.webelement.WebElement (session=\"06b90b5db9ec7516267142acfea745e9\", element=\"16c7f489-74e2-490a-b395-43cedd223875\")>,\n",
       " <selenium.webdriver.remote.webelement.WebElement (session=\"06b90b5db9ec7516267142acfea745e9\", element=\"44aa7e49-ce3e-429b-b760-7209bafe5310\")>,\n",
       " <selenium.webdriver.remote.webelement.WebElement (session=\"06b90b5db9ec7516267142acfea745e9\", element=\"ef4533f1-d5e7-4801-9859-1b2bc685b0ee\")>,\n",
       " <selenium.webdriver.remote.webelement.WebElement (session=\"06b90b5db9ec7516267142acfea745e9\", element=\"51a561f4-4837-4d4d-833d-c1047ed2d1d3\")>,\n",
       " <selenium.webdriver.remote.webelement.WebElement (session=\"06b90b5db9ec7516267142acfea745e9\", element=\"6610c455-bd79-4995-b1f2-9b844bfbf340\")>,\n",
       " <selenium.webdriver.remote.webelement.WebElement (session=\"06b90b5db9ec7516267142acfea745e9\", element=\"3e9d9728-a385-4ffc-84b6-37c6ad19f949\")>,\n",
       " <selenium.webdriver.remote.webelement.WebElement (session=\"06b90b5db9ec7516267142acfea745e9\", element=\"9e6bb1ed-ad4c-436e-b057-f8b98e4937f4\")>,\n",
       " <selenium.webdriver.remote.webelement.WebElement (session=\"06b90b5db9ec7516267142acfea745e9\", element=\"2cc072e2-ec85-461f-aa69-d1bb3d294afa\")>,\n",
       " <selenium.webdriver.remote.webelement.WebElement (session=\"06b90b5db9ec7516267142acfea745e9\", element=\"3b3ec36e-a901-4f72-923f-a0a908fd13fc\")>,\n",
       " <selenium.webdriver.remote.webelement.WebElement (session=\"06b90b5db9ec7516267142acfea745e9\", element=\"b04b3a35-d33c-45da-8a8b-4ded4376b8eb\")>,\n",
       " <selenium.webdriver.remote.webelement.WebElement (session=\"06b90b5db9ec7516267142acfea745e9\", element=\"e63a84d8-3985-4317-af4b-21f43bb7fb10\")>,\n",
       " <selenium.webdriver.remote.webelement.WebElement (session=\"06b90b5db9ec7516267142acfea745e9\", element=\"3e6b0b5a-d988-4440-abe6-7a53a06ea046\")>,\n",
       " <selenium.webdriver.remote.webelement.WebElement (session=\"06b90b5db9ec7516267142acfea745e9\", element=\"5217b948-600b-490c-8d65-d4e8868129aa\")>,\n",
       " <selenium.webdriver.remote.webelement.WebElement (session=\"06b90b5db9ec7516267142acfea745e9\", element=\"f6003a9b-216a-43f1-b1f1-dce12391d1c2\")>,\n",
       " <selenium.webdriver.remote.webelement.WebElement (session=\"06b90b5db9ec7516267142acfea745e9\", element=\"2b728f3d-bab8-4753-b1f7-90ef004cc49c\")>]"
      ]
     },
     "execution_count": 14,
     "metadata": {},
     "output_type": "execute_result"
    }
   ],
   "source": [
    "prod_price_tag = driver.find_elements_by_xpath(\"//div[@class='product-price']\")\n",
    "prod_price_tag[0:50]"
   ]
  },
  {
   "cell_type": "code",
   "execution_count": 15,
   "id": "993c8341",
   "metadata": {},
   "outputs": [
    {
     "data": {
      "text/plain": [
       "['Rs. 8295',\n",
       " 'Rs. 9995',\n",
       " 'Rs. 8099Rs. 8999(10% OFF)',\n",
       " 'Rs. 7195',\n",
       " 'Rs. 11495',\n",
       " 'Rs. 12749Rs. 14999(15% OFF)',\n",
       " 'Rs. 9349Rs. 10999(15% OFF)',\n",
       " 'Rs. 7995',\n",
       " 'Rs. 7195',\n",
       " 'Rs. 11495',\n",
       " 'Rs. 8999Rs. 9999(10% OFF)',\n",
       " 'Rs. 10900',\n",
       " 'Rs. 8999Rs. 9999(10% OFF)',\n",
       " 'Rs. 7649Rs. 8999(15% OFF)',\n",
       " 'Rs. 9999',\n",
       " 'Rs. 8499Rs. 9999(15% OFF)',\n",
       " 'Rs. 8499Rs. 9999(15% OFF)',\n",
       " 'Rs. 8999',\n",
       " 'Rs. 7999',\n",
       " 'Rs. 8499Rs. 9999(15% OFF)',\n",
       " 'Rs. 8999Rs. 9999(10% OFF)',\n",
       " 'Rs. 10399Rs. 12999(20% OFF)',\n",
       " 'Rs. 8999',\n",
       " 'Rs. 8999',\n",
       " 'Rs. 9749Rs. 12999(25% OFF)',\n",
       " 'Rs. 8999',\n",
       " 'Rs. 8999',\n",
       " 'Rs. 8499Rs. 9999(15% OFF)',\n",
       " 'Rs. 7999',\n",
       " 'Rs. 7999Rs. 9999(20% OFF)',\n",
       " 'Rs. 13900',\n",
       " 'Rs. 11899Rs. 16999(30% OFF)',\n",
       " 'Rs. 8499Rs. 9999(15% OFF)',\n",
       " 'Rs. 8999',\n",
       " 'Rs. 10399Rs. 12999(20% OFF)',\n",
       " 'Rs. 7999',\n",
       " 'Rs. 11999',\n",
       " 'Rs. 9349Rs. 10999(15% OFF)',\n",
       " 'Rs. 7999',\n",
       " 'Rs. 10999',\n",
       " 'Rs. 7999',\n",
       " 'Rs. 7199Rs. 8999(20% OFF)',\n",
       " 'Rs. 9999',\n",
       " 'Rs. 7199Rs. 8999(20% OFF)',\n",
       " 'Rs. 10399Rs. 12999(20% OFF)',\n",
       " 'Rs. 9599Rs. 11999(20% OFF)',\n",
       " 'Rs. 8490',\n",
       " 'Rs. 7999',\n",
       " 'Rs. 7999',\n",
       " 'Rs. 7990']"
      ]
     },
     "execution_count": 15,
     "metadata": {},
     "output_type": "execute_result"
    }
   ],
   "source": [
    "Shoe_price = []\n",
    "for i in prod_price_tag:\n",
    "    price = i.text\n",
    "    Shoe_price.append(price)\n",
    "Shoe_price[0:50]"
   ]
  },
  {
   "cell_type": "code",
   "execution_count": 16,
   "id": "bf7fc6c2",
   "metadata": {},
   "outputs": [
    {
     "name": "stderr",
     "output_type": "stream",
     "text": [
      "<ipython-input-16-c5dbabc1e5b7>:1: DeprecationWarning: find_element_by_* commands are deprecated. Please use find_element() instead\n",
      "  Next_page2 = driver.find_element_by_xpath('/html/body/div[2]/div/div[1]/main/div[3]/div[2]/div/div[2]/section/div[2]/ul/li[12]/a').click()\n"
     ]
    }
   ],
   "source": [
    "Next_page2 = driver.find_element_by_xpath('/html/body/div[2]/div/div[1]/main/div[3]/div[2]/div/div[2]/section/div[2]/ul/li[12]/a').click()"
   ]
  },
  {
   "cell_type": "code",
   "execution_count": 17,
   "id": "91065008",
   "metadata": {},
   "outputs": [
    {
     "name": "stderr",
     "output_type": "stream",
     "text": [
      "<ipython-input-17-45f441291d2f>:1: DeprecationWarning: find_elements_by_* commands are deprecated. Please use find_elements() instead\n",
      "  brandShoeTag2 = driver.find_elements_by_xpath(\"//h3[@class='product-brand']\")\n"
     ]
    },
    {
     "data": {
      "text/plain": [
       "[<selenium.webdriver.remote.webelement.WebElement (session=\"06b90b5db9ec7516267142acfea745e9\", element=\"f2430000-d6d8-43c4-b8db-1c2066792c4f\")>,\n",
       " <selenium.webdriver.remote.webelement.WebElement (session=\"06b90b5db9ec7516267142acfea745e9\", element=\"55268c3b-eb86-4d31-9ec9-a63188203189\")>,\n",
       " <selenium.webdriver.remote.webelement.WebElement (session=\"06b90b5db9ec7516267142acfea745e9\", element=\"53378082-32cc-4938-a35d-6fc5e2504a23\")>,\n",
       " <selenium.webdriver.remote.webelement.WebElement (session=\"06b90b5db9ec7516267142acfea745e9\", element=\"6f02396c-e8b1-4bbf-bd3a-52f797480e1d\")>,\n",
       " <selenium.webdriver.remote.webelement.WebElement (session=\"06b90b5db9ec7516267142acfea745e9\", element=\"c0ee58a7-052f-4daa-9161-034bbbeabf4b\")>,\n",
       " <selenium.webdriver.remote.webelement.WebElement (session=\"06b90b5db9ec7516267142acfea745e9\", element=\"b320a7c1-a392-4b13-b39c-af54de8f3cd8\")>,\n",
       " <selenium.webdriver.remote.webelement.WebElement (session=\"06b90b5db9ec7516267142acfea745e9\", element=\"7bff251a-eda7-4797-b363-a6f04fa2a330\")>,\n",
       " <selenium.webdriver.remote.webelement.WebElement (session=\"06b90b5db9ec7516267142acfea745e9\", element=\"86be6ef9-209e-4b35-bf43-256232bb319b\")>,\n",
       " <selenium.webdriver.remote.webelement.WebElement (session=\"06b90b5db9ec7516267142acfea745e9\", element=\"70096007-a64f-4f48-b4f0-15a1c86f21a8\")>,\n",
       " <selenium.webdriver.remote.webelement.WebElement (session=\"06b90b5db9ec7516267142acfea745e9\", element=\"69f09ea2-784e-422e-bed2-220aec0628c2\")>,\n",
       " <selenium.webdriver.remote.webelement.WebElement (session=\"06b90b5db9ec7516267142acfea745e9\", element=\"4780296d-9ca4-4b48-ac3c-c98b3afa8dd0\")>,\n",
       " <selenium.webdriver.remote.webelement.WebElement (session=\"06b90b5db9ec7516267142acfea745e9\", element=\"47abded4-80e0-457c-a306-dffc95cee4fa\")>,\n",
       " <selenium.webdriver.remote.webelement.WebElement (session=\"06b90b5db9ec7516267142acfea745e9\", element=\"b54ab648-81c8-48b3-abd1-02dd13199776\")>,\n",
       " <selenium.webdriver.remote.webelement.WebElement (session=\"06b90b5db9ec7516267142acfea745e9\", element=\"aec0c90b-fe51-40da-8afa-33a42855aa7f\")>,\n",
       " <selenium.webdriver.remote.webelement.WebElement (session=\"06b90b5db9ec7516267142acfea745e9\", element=\"ff11c080-eda7-4e84-9928-8407d457626d\")>,\n",
       " <selenium.webdriver.remote.webelement.WebElement (session=\"06b90b5db9ec7516267142acfea745e9\", element=\"a066181b-699c-4682-becf-2c9913681578\")>,\n",
       " <selenium.webdriver.remote.webelement.WebElement (session=\"06b90b5db9ec7516267142acfea745e9\", element=\"9af304c9-a569-4ec9-98ca-30c3ca4edb47\")>,\n",
       " <selenium.webdriver.remote.webelement.WebElement (session=\"06b90b5db9ec7516267142acfea745e9\", element=\"beeac965-6c34-4c21-8d30-b4342f86c0f3\")>,\n",
       " <selenium.webdriver.remote.webelement.WebElement (session=\"06b90b5db9ec7516267142acfea745e9\", element=\"b4f8e12d-896a-4f49-97e9-889caea0c87b\")>,\n",
       " <selenium.webdriver.remote.webelement.WebElement (session=\"06b90b5db9ec7516267142acfea745e9\", element=\"33a7f9f8-3544-43d3-b141-24b24577fee1\")>,\n",
       " <selenium.webdriver.remote.webelement.WebElement (session=\"06b90b5db9ec7516267142acfea745e9\", element=\"d0f9b490-ee45-4717-a68b-c60285ac4345\")>,\n",
       " <selenium.webdriver.remote.webelement.WebElement (session=\"06b90b5db9ec7516267142acfea745e9\", element=\"cfae019d-4227-48d7-afb0-fa9a381623bd\")>,\n",
       " <selenium.webdriver.remote.webelement.WebElement (session=\"06b90b5db9ec7516267142acfea745e9\", element=\"86729fb0-8dc8-49ef-a269-659ca619a3be\")>,\n",
       " <selenium.webdriver.remote.webelement.WebElement (session=\"06b90b5db9ec7516267142acfea745e9\", element=\"050eb47e-4a19-4755-b75f-b025d8ed1910\")>,\n",
       " <selenium.webdriver.remote.webelement.WebElement (session=\"06b90b5db9ec7516267142acfea745e9\", element=\"e2e52d6c-206c-4132-8051-0149fa5c3095\")>,\n",
       " <selenium.webdriver.remote.webelement.WebElement (session=\"06b90b5db9ec7516267142acfea745e9\", element=\"591ef3f4-0fb5-4941-8173-2a6501df3faa\")>,\n",
       " <selenium.webdriver.remote.webelement.WebElement (session=\"06b90b5db9ec7516267142acfea745e9\", element=\"f37316b8-217c-4857-9b82-a05160726923\")>,\n",
       " <selenium.webdriver.remote.webelement.WebElement (session=\"06b90b5db9ec7516267142acfea745e9\", element=\"a2220668-e0d9-414c-a77b-24cf31cbfacd\")>,\n",
       " <selenium.webdriver.remote.webelement.WebElement (session=\"06b90b5db9ec7516267142acfea745e9\", element=\"f01545fb-e80a-4ec9-b44a-e02cd423e895\")>,\n",
       " <selenium.webdriver.remote.webelement.WebElement (session=\"06b90b5db9ec7516267142acfea745e9\", element=\"1b4cb2e3-fff3-4399-ac5c-b0fe9b03635a\")>,\n",
       " <selenium.webdriver.remote.webelement.WebElement (session=\"06b90b5db9ec7516267142acfea745e9\", element=\"c8fb83a8-856c-47eb-ad40-a68f361ce216\")>,\n",
       " <selenium.webdriver.remote.webelement.WebElement (session=\"06b90b5db9ec7516267142acfea745e9\", element=\"9f68478f-610f-4a68-8c6f-4bb3356be717\")>,\n",
       " <selenium.webdriver.remote.webelement.WebElement (session=\"06b90b5db9ec7516267142acfea745e9\", element=\"30fb3318-9a57-4666-b558-9123199036b4\")>,\n",
       " <selenium.webdriver.remote.webelement.WebElement (session=\"06b90b5db9ec7516267142acfea745e9\", element=\"363c381d-11f6-4bbc-ae9f-9dc2a4b813f0\")>,\n",
       " <selenium.webdriver.remote.webelement.WebElement (session=\"06b90b5db9ec7516267142acfea745e9\", element=\"8051a445-3635-43e4-a09a-23db43fc9a99\")>,\n",
       " <selenium.webdriver.remote.webelement.WebElement (session=\"06b90b5db9ec7516267142acfea745e9\", element=\"17fcc1ad-ec44-4ce2-941d-66c0ebfb708c\")>,\n",
       " <selenium.webdriver.remote.webelement.WebElement (session=\"06b90b5db9ec7516267142acfea745e9\", element=\"c44d638a-d54d-4e3e-80f3-1fd7d7b7679f\")>,\n",
       " <selenium.webdriver.remote.webelement.WebElement (session=\"06b90b5db9ec7516267142acfea745e9\", element=\"ae0cea5c-d149-4640-87d8-6152ae5c7fae\")>,\n",
       " <selenium.webdriver.remote.webelement.WebElement (session=\"06b90b5db9ec7516267142acfea745e9\", element=\"5bfd5487-c98e-41d7-bf45-a3ddaf4c957d\")>,\n",
       " <selenium.webdriver.remote.webelement.WebElement (session=\"06b90b5db9ec7516267142acfea745e9\", element=\"6c320f73-8217-49d5-8b74-b7e8d75dfa17\")>,\n",
       " <selenium.webdriver.remote.webelement.WebElement (session=\"06b90b5db9ec7516267142acfea745e9\", element=\"f34a5fdf-8d37-491b-86dc-2667b4495d12\")>,\n",
       " <selenium.webdriver.remote.webelement.WebElement (session=\"06b90b5db9ec7516267142acfea745e9\", element=\"cdfd5137-ae7e-431b-a3b5-51cf693963eb\")>,\n",
       " <selenium.webdriver.remote.webelement.WebElement (session=\"06b90b5db9ec7516267142acfea745e9\", element=\"c9e3efb2-7726-4613-b634-a30fab3134db\")>,\n",
       " <selenium.webdriver.remote.webelement.WebElement (session=\"06b90b5db9ec7516267142acfea745e9\", element=\"5e873c04-f27d-497b-a5b1-ae87e31b4990\")>,\n",
       " <selenium.webdriver.remote.webelement.WebElement (session=\"06b90b5db9ec7516267142acfea745e9\", element=\"7d29ae1d-b226-43d5-9c16-c419507dc346\")>,\n",
       " <selenium.webdriver.remote.webelement.WebElement (session=\"06b90b5db9ec7516267142acfea745e9\", element=\"82498e8b-d40b-413f-8df0-322cfb316cb2\")>,\n",
       " <selenium.webdriver.remote.webelement.WebElement (session=\"06b90b5db9ec7516267142acfea745e9\", element=\"035009cc-69a6-4f40-8e7f-6e7e5cf40f6a\")>,\n",
       " <selenium.webdriver.remote.webelement.WebElement (session=\"06b90b5db9ec7516267142acfea745e9\", element=\"67a419c3-a29c-4a86-8e0c-67faf67b8009\")>,\n",
       " <selenium.webdriver.remote.webelement.WebElement (session=\"06b90b5db9ec7516267142acfea745e9\", element=\"677ced66-25d6-4464-b14a-9d8219fd2d84\")>,\n",
       " <selenium.webdriver.remote.webelement.WebElement (session=\"06b90b5db9ec7516267142acfea745e9\", element=\"287cfed3-c445-4243-aa3f-41ffa2812400\")>]"
      ]
     },
     "execution_count": 17,
     "metadata": {},
     "output_type": "execute_result"
    }
   ],
   "source": [
    "brandShoeTag2 = driver.find_elements_by_xpath(\"//h3[@class='product-brand']\")\n",
    "brandShoeTag2[0:50]"
   ]
  },
  {
   "cell_type": "code",
   "execution_count": 19,
   "id": "f59c5c4a",
   "metadata": {},
   "outputs": [
    {
     "data": {
      "text/plain": [
       "['ASICS',\n",
       " 'ROSSO BRUNELLO',\n",
       " 'Tommy Hilfiger',\n",
       " 'J.FONTINI',\n",
       " 'Puma',\n",
       " 'DAVINCHI',\n",
       " 'Hush Puppies',\n",
       " 'Calvin Klein',\n",
       " 'Saint G',\n",
       " 'Hush Puppies',\n",
       " 'Pavers England',\n",
       " 'Calvin Klein',\n",
       " 'Saint G',\n",
       " 'Saint G',\n",
       " 'Saint G',\n",
       " 'Geox',\n",
       " 'ASICS',\n",
       " 'UNDER ARMOUR',\n",
       " 'Puma',\n",
       " 'UNDER ARMOUR',\n",
       " 'Puma',\n",
       " 'Geox',\n",
       " 'ASICS',\n",
       " 'Cole Haan',\n",
       " 'Geox',\n",
       " 'J.FONTINI',\n",
       " 'Hush Puppies',\n",
       " 'Geox',\n",
       " 'Ruosh',\n",
       " 'KLEAT',\n",
       " 'J.FONTINI',\n",
       " 'Bugatti',\n",
       " 'Puma',\n",
       " 'Ruosh',\n",
       " 'Geox',\n",
       " 'Puma',\n",
       " 'KLEAT',\n",
       " 'Bugatti',\n",
       " 'DAVINCHI',\n",
       " 'DAVINCHI',\n",
       " 'Calvin Klein',\n",
       " 'KLEAT',\n",
       " 'ECCO',\n",
       " 'Calvin Klein',\n",
       " 'Geox',\n",
       " 'Geox',\n",
       " 'Puma',\n",
       " 'DAVINCHI',\n",
       " 'Saint G',\n",
       " 'Saint G']"
      ]
     },
     "execution_count": 19,
     "metadata": {},
     "output_type": "execute_result"
    }
   ],
   "source": [
    "Shoe_Brand2 = []\n",
    "for i in brandShoeTag2:\n",
    "    brand = i.text\n",
    "    Shoe_Brand2.append(brand)\n",
    "Shoe_Brand2[0:50]"
   ]
  },
  {
   "cell_type": "code",
   "execution_count": 20,
   "id": "411306d7",
   "metadata": {},
   "outputs": [
    {
     "name": "stderr",
     "output_type": "stream",
     "text": [
      "<ipython-input-20-d820b4ee1bac>:1: DeprecationWarning: find_elements_by_* commands are deprecated. Please use find_elements() instead\n",
      "  prod_desc_tag2 = driver.find_elements_by_xpath(\"//h4[@class='product-product']\")\n"
     ]
    },
    {
     "data": {
      "text/plain": [
       "[<selenium.webdriver.remote.webelement.WebElement (session=\"06b90b5db9ec7516267142acfea745e9\", element=\"a91a7dc4-4fcf-4d20-8192-e455cb8f3bc9\")>,\n",
       " <selenium.webdriver.remote.webelement.WebElement (session=\"06b90b5db9ec7516267142acfea745e9\", element=\"5aceee95-16c2-45e0-a200-a144d80e7dc2\")>,\n",
       " <selenium.webdriver.remote.webelement.WebElement (session=\"06b90b5db9ec7516267142acfea745e9\", element=\"ab51ad60-8d8f-4da1-908c-f0554748160e\")>,\n",
       " <selenium.webdriver.remote.webelement.WebElement (session=\"06b90b5db9ec7516267142acfea745e9\", element=\"fb1934e1-bdb0-458c-bb9c-b04d44819c24\")>,\n",
       " <selenium.webdriver.remote.webelement.WebElement (session=\"06b90b5db9ec7516267142acfea745e9\", element=\"ee67a1d6-5872-4990-b175-a2e502cefd2e\")>,\n",
       " <selenium.webdriver.remote.webelement.WebElement (session=\"06b90b5db9ec7516267142acfea745e9\", element=\"d5f98185-20ed-413c-87f2-41f3ce949b08\")>,\n",
       " <selenium.webdriver.remote.webelement.WebElement (session=\"06b90b5db9ec7516267142acfea745e9\", element=\"8a98e92c-fc06-4a2b-87b6-904263056bf8\")>,\n",
       " <selenium.webdriver.remote.webelement.WebElement (session=\"06b90b5db9ec7516267142acfea745e9\", element=\"6b15b3ae-e730-4676-bbbf-b46cd619bda8\")>,\n",
       " <selenium.webdriver.remote.webelement.WebElement (session=\"06b90b5db9ec7516267142acfea745e9\", element=\"0816c635-ba4f-4b2d-a9ab-bc97a9ebd800\")>,\n",
       " <selenium.webdriver.remote.webelement.WebElement (session=\"06b90b5db9ec7516267142acfea745e9\", element=\"32576f41-4c85-44e5-8442-5bb1a1e0efcc\")>,\n",
       " <selenium.webdriver.remote.webelement.WebElement (session=\"06b90b5db9ec7516267142acfea745e9\", element=\"8f7d0b7a-ce5e-4d03-82f4-d902ca18eabe\")>,\n",
       " <selenium.webdriver.remote.webelement.WebElement (session=\"06b90b5db9ec7516267142acfea745e9\", element=\"ac9b75d9-c0f3-47c0-b2ad-c6732aaa57c7\")>,\n",
       " <selenium.webdriver.remote.webelement.WebElement (session=\"06b90b5db9ec7516267142acfea745e9\", element=\"ca1e3777-a373-4edb-9304-6e0356cda568\")>,\n",
       " <selenium.webdriver.remote.webelement.WebElement (session=\"06b90b5db9ec7516267142acfea745e9\", element=\"dfc23c9d-ee64-4b40-a855-ecdb9d7deab5\")>,\n",
       " <selenium.webdriver.remote.webelement.WebElement (session=\"06b90b5db9ec7516267142acfea745e9\", element=\"b4a46305-a8d2-4a6d-9167-4da1a0b6f226\")>,\n",
       " <selenium.webdriver.remote.webelement.WebElement (session=\"06b90b5db9ec7516267142acfea745e9\", element=\"9fbdeb82-47f0-48b5-941c-a7b3d2f71917\")>,\n",
       " <selenium.webdriver.remote.webelement.WebElement (session=\"06b90b5db9ec7516267142acfea745e9\", element=\"d060e01c-7930-408d-95c6-371d0a948447\")>,\n",
       " <selenium.webdriver.remote.webelement.WebElement (session=\"06b90b5db9ec7516267142acfea745e9\", element=\"0953dfd0-e353-4212-8a5a-2815efec4983\")>,\n",
       " <selenium.webdriver.remote.webelement.WebElement (session=\"06b90b5db9ec7516267142acfea745e9\", element=\"653a6034-d763-46d0-9ffe-6c00243bf5e8\")>,\n",
       " <selenium.webdriver.remote.webelement.WebElement (session=\"06b90b5db9ec7516267142acfea745e9\", element=\"c9d28bfc-d511-418d-add6-abfc767527a3\")>,\n",
       " <selenium.webdriver.remote.webelement.WebElement (session=\"06b90b5db9ec7516267142acfea745e9\", element=\"08162ffa-09d1-4b38-92ae-5aa10488de5c\")>,\n",
       " <selenium.webdriver.remote.webelement.WebElement (session=\"06b90b5db9ec7516267142acfea745e9\", element=\"97e51f8e-6eab-4f8f-a79d-4fe10d29162a\")>,\n",
       " <selenium.webdriver.remote.webelement.WebElement (session=\"06b90b5db9ec7516267142acfea745e9\", element=\"402a926b-e572-4998-a1e2-120b7b9e1b5a\")>,\n",
       " <selenium.webdriver.remote.webelement.WebElement (session=\"06b90b5db9ec7516267142acfea745e9\", element=\"59f1b9d1-2db4-476b-b397-804a336de4fa\")>,\n",
       " <selenium.webdriver.remote.webelement.WebElement (session=\"06b90b5db9ec7516267142acfea745e9\", element=\"c8e49617-110e-41bd-a1bc-b60ca4684ea4\")>,\n",
       " <selenium.webdriver.remote.webelement.WebElement (session=\"06b90b5db9ec7516267142acfea745e9\", element=\"2cd98e2b-8e36-4d4d-9902-494dd53a03eb\")>,\n",
       " <selenium.webdriver.remote.webelement.WebElement (session=\"06b90b5db9ec7516267142acfea745e9\", element=\"ba6648df-d840-4011-974f-e526111af206\")>,\n",
       " <selenium.webdriver.remote.webelement.WebElement (session=\"06b90b5db9ec7516267142acfea745e9\", element=\"41d033e8-f264-4d84-a1c2-6db8487a2fa4\")>,\n",
       " <selenium.webdriver.remote.webelement.WebElement (session=\"06b90b5db9ec7516267142acfea745e9\", element=\"281d1477-55b7-4d15-8bd6-c73c7fc1ddd8\")>,\n",
       " <selenium.webdriver.remote.webelement.WebElement (session=\"06b90b5db9ec7516267142acfea745e9\", element=\"1d35c3a9-b47c-44a3-b90b-9ea4f302acc6\")>,\n",
       " <selenium.webdriver.remote.webelement.WebElement (session=\"06b90b5db9ec7516267142acfea745e9\", element=\"441b58bc-c92a-4093-b0c2-1e0ac39d30d2\")>,\n",
       " <selenium.webdriver.remote.webelement.WebElement (session=\"06b90b5db9ec7516267142acfea745e9\", element=\"e45a7be9-9343-40f6-b261-81c5a59e6068\")>,\n",
       " <selenium.webdriver.remote.webelement.WebElement (session=\"06b90b5db9ec7516267142acfea745e9\", element=\"da324a34-bcdc-4990-9418-fdbf422eeb25\")>,\n",
       " <selenium.webdriver.remote.webelement.WebElement (session=\"06b90b5db9ec7516267142acfea745e9\", element=\"85c34cb5-211a-4842-bf34-4fee71238012\")>,\n",
       " <selenium.webdriver.remote.webelement.WebElement (session=\"06b90b5db9ec7516267142acfea745e9\", element=\"b9f69b3f-4761-4032-a24d-29af5540fb80\")>,\n",
       " <selenium.webdriver.remote.webelement.WebElement (session=\"06b90b5db9ec7516267142acfea745e9\", element=\"7b67fd25-8e69-4634-8b5b-f2076a4d8a2b\")>,\n",
       " <selenium.webdriver.remote.webelement.WebElement (session=\"06b90b5db9ec7516267142acfea745e9\", element=\"b1a839f7-bd1f-4a9f-8cc1-d076031d5476\")>,\n",
       " <selenium.webdriver.remote.webelement.WebElement (session=\"06b90b5db9ec7516267142acfea745e9\", element=\"9bb0efb9-4b4a-4e94-a6a2-56c468f2b1de\")>,\n",
       " <selenium.webdriver.remote.webelement.WebElement (session=\"06b90b5db9ec7516267142acfea745e9\", element=\"48bd5443-871c-4d45-95fb-5a19e8f48345\")>,\n",
       " <selenium.webdriver.remote.webelement.WebElement (session=\"06b90b5db9ec7516267142acfea745e9\", element=\"3729617a-d6d7-4d8b-815b-6b16a04a4602\")>,\n",
       " <selenium.webdriver.remote.webelement.WebElement (session=\"06b90b5db9ec7516267142acfea745e9\", element=\"2257ae49-266e-49a3-82d3-f2e04b31e24e\")>,\n",
       " <selenium.webdriver.remote.webelement.WebElement (session=\"06b90b5db9ec7516267142acfea745e9\", element=\"c482adcf-2036-4cc9-9b88-a459161fffe1\")>,\n",
       " <selenium.webdriver.remote.webelement.WebElement (session=\"06b90b5db9ec7516267142acfea745e9\", element=\"43c1150a-d7f3-44a5-bfaf-de1e1cc9c741\")>,\n",
       " <selenium.webdriver.remote.webelement.WebElement (session=\"06b90b5db9ec7516267142acfea745e9\", element=\"88f81ee5-c0ec-4dd2-8bee-cc058b0b1506\")>,\n",
       " <selenium.webdriver.remote.webelement.WebElement (session=\"06b90b5db9ec7516267142acfea745e9\", element=\"dcc835f3-9b0d-4a2b-a757-59e1e7d0ce61\")>,\n",
       " <selenium.webdriver.remote.webelement.WebElement (session=\"06b90b5db9ec7516267142acfea745e9\", element=\"b73e36f6-697b-496e-8076-7e7d5ca40a65\")>,\n",
       " <selenium.webdriver.remote.webelement.WebElement (session=\"06b90b5db9ec7516267142acfea745e9\", element=\"f4f8ab72-44ef-4126-856b-f0821e844501\")>,\n",
       " <selenium.webdriver.remote.webelement.WebElement (session=\"06b90b5db9ec7516267142acfea745e9\", element=\"2dcae0dd-e62d-4ec4-b2f8-601c24f18382\")>,\n",
       " <selenium.webdriver.remote.webelement.WebElement (session=\"06b90b5db9ec7516267142acfea745e9\", element=\"6485765d-0ad9-4922-843c-e04a9732836c\")>,\n",
       " <selenium.webdriver.remote.webelement.WebElement (session=\"06b90b5db9ec7516267142acfea745e9\", element=\"a865b1cd-8961-4bf8-bf35-9403286c24c3\")>]"
      ]
     },
     "execution_count": 20,
     "metadata": {},
     "output_type": "execute_result"
    }
   ],
   "source": [
    "prod_desc_tag2 = driver.find_elements_by_xpath(\"//h4[@class='product-product']\")\n",
    "prod_desc_tag2[0:50]"
   ]
  },
  {
   "cell_type": "code",
   "execution_count": 21,
   "id": "da620fda",
   "metadata": {},
   "outputs": [
    {
     "data": {
      "text/plain": [
       "['Skycourt Sneakers',\n",
       " 'Men Solid Leather Formal Monk Shoes',\n",
       " 'Men Lightweight Sneakers',\n",
       " 'Men Textured Leather Loafers',\n",
       " 'Women PRONOUNCE May Sneakers',\n",
       " 'Men Textured Formal Leather Loafers',\n",
       " 'Men Solid Formal Slip-Ons',\n",
       " 'Men Textured Leather Sneaker',\n",
       " 'Women Leather Heeled Boots',\n",
       " 'Men Solid Leather Formal Derbys',\n",
       " 'Men Textured Leather Formal Derbys',\n",
       " 'Men Solid Suede Sneakers',\n",
       " 'Women Leather Heeled Boots',\n",
       " 'Leather Block Heeled Boots',\n",
       " 'Leather Kitten Heeled Boots',\n",
       " 'Women Leather Heeled Loafers',\n",
       " 'Women Running Shoes',\n",
       " 'Women Charged Impulse Shft',\n",
       " 'Women Eternity NITRO Shoes',\n",
       " 'Women Charged Rogue 2.5ClrSft',\n",
       " 'Women Velocity NITRO Runners',\n",
       " 'Men Woven Design Sneakers',\n",
       " 'Men DS LIGHT X-FLY 4 Running',\n",
       " 'Men Lightweight Brogues',\n",
       " 'Men Leather Mid-Top Flat Boots',\n",
       " 'Men Textured Leather Loafers',\n",
       " 'Men Leather Derbys',\n",
       " 'Men Leather Formal Slip-Ons',\n",
       " 'Men Solid Leather Formal Oxfords',\n",
       " 'Men Woven Design Loafers',\n",
       " 'Men Solid Loafers',\n",
       " 'Men Solid Casual Sneakers',\n",
       " 'Men Magnify Nitro Running',\n",
       " 'Men Solid Leather Formal Monks',\n",
       " 'Men Solid Sneakers',\n",
       " 'Men Electrify Nitro Running',\n",
       " 'Men Woven Design Sneakers',\n",
       " 'Men Running Shoes',\n",
       " 'Solid Leather Formal Shoes',\n",
       " 'Men Formal Leather Slip-Ons',\n",
       " 'Men Mid-Top Runner Sneakers',\n",
       " 'Men Suede Flat Boots',\n",
       " 'Women Leather Sneakers',\n",
       " 'Men Textured Suede Sneakers',\n",
       " 'Women Leather Pumps',\n",
       " 'Women Leather Pumps',\n",
       " 'Unisex Mirage Sport Luxe Shoe',\n",
       " 'Solid Slip On Shoes',\n",
       " 'Women Leather Heeled Boots',\n",
       " 'Women Heeled Boots']"
      ]
     },
     "execution_count": 21,
     "metadata": {},
     "output_type": "execute_result"
    }
   ],
   "source": [
    "Product_desc2 = []\n",
    "for i in prod_desc_tag2:\n",
    "    desc = i.text\n",
    "    Product_desc2.append(desc)\n",
    "Product_desc2[0:50]"
   ]
  },
  {
   "cell_type": "code",
   "execution_count": 22,
   "id": "d2d1a795",
   "metadata": {},
   "outputs": [
    {
     "name": "stderr",
     "output_type": "stream",
     "text": [
      "<ipython-input-22-f2c6011b4204>:1: DeprecationWarning: find_elements_by_* commands are deprecated. Please use find_elements() instead\n",
      "  prod_price_tag2 = driver.find_elements_by_xpath(\"//div[@class='product-price']\")\n"
     ]
    },
    {
     "data": {
      "text/plain": [
       "[<selenium.webdriver.remote.webelement.WebElement (session=\"06b90b5db9ec7516267142acfea745e9\", element=\"5217b948-600b-490c-8d65-d4e8868129aa\")>,\n",
       " <selenium.webdriver.remote.webelement.WebElement (session=\"06b90b5db9ec7516267142acfea745e9\", element=\"91cd356c-6a79-4447-a739-d9d15f0e4f5a\")>,\n",
       " <selenium.webdriver.remote.webelement.WebElement (session=\"06b90b5db9ec7516267142acfea745e9\", element=\"f6003a9b-216a-43f1-b1f1-dce12391d1c2\")>,\n",
       " <selenium.webdriver.remote.webelement.WebElement (session=\"06b90b5db9ec7516267142acfea745e9\", element=\"2b728f3d-bab8-4753-b1f7-90ef004cc49c\")>,\n",
       " <selenium.webdriver.remote.webelement.WebElement (session=\"06b90b5db9ec7516267142acfea745e9\", element=\"31dff776-15bf-4485-9f87-6f2371f8bad9\")>,\n",
       " <selenium.webdriver.remote.webelement.WebElement (session=\"06b90b5db9ec7516267142acfea745e9\", element=\"ac13f18c-385a-40fc-ba21-e37d80bf2ba3\")>,\n",
       " <selenium.webdriver.remote.webelement.WebElement (session=\"06b90b5db9ec7516267142acfea745e9\", element=\"25c1356d-1df7-4ffc-b853-a3428b10b7ba\")>,\n",
       " <selenium.webdriver.remote.webelement.WebElement (session=\"06b90b5db9ec7516267142acfea745e9\", element=\"259c974f-0a0f-4659-8f36-85d5718be989\")>,\n",
       " <selenium.webdriver.remote.webelement.WebElement (session=\"06b90b5db9ec7516267142acfea745e9\", element=\"b990a52d-a74c-4729-8d12-a202ab7ca319\")>,\n",
       " <selenium.webdriver.remote.webelement.WebElement (session=\"06b90b5db9ec7516267142acfea745e9\", element=\"ffa8767e-9dbc-4351-86d4-f3f8e12ed317\")>,\n",
       " <selenium.webdriver.remote.webelement.WebElement (session=\"06b90b5db9ec7516267142acfea745e9\", element=\"9e6bb1ed-ad4c-436e-b057-f8b98e4937f4\")>,\n",
       " <selenium.webdriver.remote.webelement.WebElement (session=\"06b90b5db9ec7516267142acfea745e9\", element=\"501988f2-90cc-4966-92c3-19c393e2ccf9\")>,\n",
       " <selenium.webdriver.remote.webelement.WebElement (session=\"06b90b5db9ec7516267142acfea745e9\", element=\"845a0c97-2a60-425d-ba8f-adc665edfd3f\")>,\n",
       " <selenium.webdriver.remote.webelement.WebElement (session=\"06b90b5db9ec7516267142acfea745e9\", element=\"1b18cda0-9e59-4f39-9444-c83a1d8e1cc3\")>,\n",
       " <selenium.webdriver.remote.webelement.WebElement (session=\"06b90b5db9ec7516267142acfea745e9\", element=\"943ea543-3009-4470-a93e-39c2c0c6b08c\")>,\n",
       " <selenium.webdriver.remote.webelement.WebElement (session=\"06b90b5db9ec7516267142acfea745e9\", element=\"372ef547-1e19-40a2-a9fe-4f0c112cced6\")>,\n",
       " <selenium.webdriver.remote.webelement.WebElement (session=\"06b90b5db9ec7516267142acfea745e9\", element=\"71223560-9db6-4157-86f0-f4e43243acc1\")>,\n",
       " <selenium.webdriver.remote.webelement.WebElement (session=\"06b90b5db9ec7516267142acfea745e9\", element=\"1fb8fa96-02ff-49c8-a587-494dadc024b9\")>,\n",
       " <selenium.webdriver.remote.webelement.WebElement (session=\"06b90b5db9ec7516267142acfea745e9\", element=\"098a7b84-42c6-458c-bcb8-58e875d079e6\")>,\n",
       " <selenium.webdriver.remote.webelement.WebElement (session=\"06b90b5db9ec7516267142acfea745e9\", element=\"cb24817c-4bfb-45da-b1c3-5801d4d07860\")>,\n",
       " <selenium.webdriver.remote.webelement.WebElement (session=\"06b90b5db9ec7516267142acfea745e9\", element=\"ef4533f1-d5e7-4801-9859-1b2bc685b0ee\")>,\n",
       " <selenium.webdriver.remote.webelement.WebElement (session=\"06b90b5db9ec7516267142acfea745e9\", element=\"de1f63f4-368b-4642-b7a3-c3bd6194662c\")>,\n",
       " <selenium.webdriver.remote.webelement.WebElement (session=\"06b90b5db9ec7516267142acfea745e9\", element=\"8f4e1a48-b6d3-4061-abf8-a149f873fbbe\")>,\n",
       " <selenium.webdriver.remote.webelement.WebElement (session=\"06b90b5db9ec7516267142acfea745e9\", element=\"5921d23d-88d3-49bc-ac0a-09e34e1fe40e\")>,\n",
       " <selenium.webdriver.remote.webelement.WebElement (session=\"06b90b5db9ec7516267142acfea745e9\", element=\"96eee1fd-597d-44c0-9da4-bfd9edb2b5fc\")>,\n",
       " <selenium.webdriver.remote.webelement.WebElement (session=\"06b90b5db9ec7516267142acfea745e9\", element=\"9a1173af-20a5-4444-9b7f-96fae2989a5a\")>,\n",
       " <selenium.webdriver.remote.webelement.WebElement (session=\"06b90b5db9ec7516267142acfea745e9\", element=\"06487569-9e69-4c50-a94c-4ee356b824ea\")>,\n",
       " <selenium.webdriver.remote.webelement.WebElement (session=\"06b90b5db9ec7516267142acfea745e9\", element=\"2133166b-73e3-4e03-ab3f-3a858fcbda97\")>,\n",
       " <selenium.webdriver.remote.webelement.WebElement (session=\"06b90b5db9ec7516267142acfea745e9\", element=\"a5219fec-ac42-4c7d-ba89-fb124179b1d5\")>,\n",
       " <selenium.webdriver.remote.webelement.WebElement (session=\"06b90b5db9ec7516267142acfea745e9\", element=\"cc224715-f729-4d31-b2b5-90f5d6ac060e\")>,\n",
       " <selenium.webdriver.remote.webelement.WebElement (session=\"06b90b5db9ec7516267142acfea745e9\", element=\"7c070b5f-53a7-48a1-b688-17c4d84cfe27\")>,\n",
       " <selenium.webdriver.remote.webelement.WebElement (session=\"06b90b5db9ec7516267142acfea745e9\", element=\"d83c50b5-d226-445f-84b4-9fe365d97b74\")>,\n",
       " <selenium.webdriver.remote.webelement.WebElement (session=\"06b90b5db9ec7516267142acfea745e9\", element=\"7e6ce464-695a-47e9-930a-f3d35f183541\")>,\n",
       " <selenium.webdriver.remote.webelement.WebElement (session=\"06b90b5db9ec7516267142acfea745e9\", element=\"1faa2d73-0c65-455d-88c6-0f597cbb88cd\")>,\n",
       " <selenium.webdriver.remote.webelement.WebElement (session=\"06b90b5db9ec7516267142acfea745e9\", element=\"4bd49585-0997-44f4-a879-0b3f8a541168\")>,\n",
       " <selenium.webdriver.remote.webelement.WebElement (session=\"06b90b5db9ec7516267142acfea745e9\", element=\"74bcc224-c259-4251-a9f3-7e9f61a9b167\")>,\n",
       " <selenium.webdriver.remote.webelement.WebElement (session=\"06b90b5db9ec7516267142acfea745e9\", element=\"75020f6b-49fd-40a2-9dba-018e0f7a0897\")>,\n",
       " <selenium.webdriver.remote.webelement.WebElement (session=\"06b90b5db9ec7516267142acfea745e9\", element=\"93bf2469-70db-46d2-88d1-08802e93fb3e\")>,\n",
       " <selenium.webdriver.remote.webelement.WebElement (session=\"06b90b5db9ec7516267142acfea745e9\", element=\"82054783-2cae-4a43-ae04-b64cd81497b4\")>,\n",
       " <selenium.webdriver.remote.webelement.WebElement (session=\"06b90b5db9ec7516267142acfea745e9\", element=\"bf92c14a-8381-4c31-a00f-360b6c87570e\")>,\n",
       " <selenium.webdriver.remote.webelement.WebElement (session=\"06b90b5db9ec7516267142acfea745e9\", element=\"de696bd9-2f43-4072-9f80-00b7f86d3052\")>,\n",
       " <selenium.webdriver.remote.webelement.WebElement (session=\"06b90b5db9ec7516267142acfea745e9\", element=\"9ca877e2-01c5-4d18-a292-98a85ec5fc2c\")>,\n",
       " <selenium.webdriver.remote.webelement.WebElement (session=\"06b90b5db9ec7516267142acfea745e9\", element=\"ce9ce1cf-89b2-4233-a263-332954f4666d\")>,\n",
       " <selenium.webdriver.remote.webelement.WebElement (session=\"06b90b5db9ec7516267142acfea745e9\", element=\"4c6b6452-8815-4d41-a6db-bc6f87b08214\")>,\n",
       " <selenium.webdriver.remote.webelement.WebElement (session=\"06b90b5db9ec7516267142acfea745e9\", element=\"0029d60a-c1e8-41c4-b1f4-d233138851af\")>,\n",
       " <selenium.webdriver.remote.webelement.WebElement (session=\"06b90b5db9ec7516267142acfea745e9\", element=\"538122ef-1d88-4653-ba94-a051bfce9b6f\")>,\n",
       " <selenium.webdriver.remote.webelement.WebElement (session=\"06b90b5db9ec7516267142acfea745e9\", element=\"f65cee4a-9d88-413e-a038-f24b05940d02\")>,\n",
       " <selenium.webdriver.remote.webelement.WebElement (session=\"06b90b5db9ec7516267142acfea745e9\", element=\"c27156a4-26e1-44bc-ae82-94a74af5ce11\")>,\n",
       " <selenium.webdriver.remote.webelement.WebElement (session=\"06b90b5db9ec7516267142acfea745e9\", element=\"b9b8700e-9ed9-41c5-906e-7a8c7fe51ac0\")>,\n",
       " <selenium.webdriver.remote.webelement.WebElement (session=\"06b90b5db9ec7516267142acfea745e9\", element=\"aefe98cc-1b88-4cca-96f3-ee4a57930556\")>]"
      ]
     },
     "execution_count": 22,
     "metadata": {},
     "output_type": "execute_result"
    }
   ],
   "source": [
    "prod_price_tag2 = driver.find_elements_by_xpath(\"//div[@class='product-price']\")\n",
    "prod_price_tag2[0:50]"
   ]
  },
  {
   "cell_type": "code",
   "execution_count": 23,
   "id": "516023dd",
   "metadata": {},
   "outputs": [
    {
     "data": {
      "text/plain": [
       "['Rs. 7999',\n",
       " 'Rs. 12999',\n",
       " 'Rs. 7999',\n",
       " 'Rs. 7990',\n",
       " 'Rs. 8499Rs. 9999(15% OFF)',\n",
       " 'Rs. 8990',\n",
       " 'Rs. 8999Rs. 9999(Rs. 1000 OFF)',\n",
       " 'Rs. 9999',\n",
       " 'Rs. 11000',\n",
       " 'Rs. 7199Rs. 8999(20% OFF)',\n",
       " 'Rs. 7199Rs. 8999(20% OFF)',\n",
       " 'Rs. 7999',\n",
       " 'Rs. 9500',\n",
       " 'Rs. 8900',\n",
       " 'Rs. 8900',\n",
       " 'Rs. 8999',\n",
       " 'Rs. 7199Rs. 8999(20% OFF)',\n",
       " 'Rs. 7499',\n",
       " 'Rs. 11049Rs. 12999(15% OFF)',\n",
       " 'Rs. 7999',\n",
       " 'Rs. 9349Rs. 10999(15% OFF)',\n",
       " 'Rs. 10499',\n",
       " 'Rs. 7699Rs. 10999(30% OFF)',\n",
       " 'Rs. 12799Rs. 15999(20% OFF)',\n",
       " 'Rs. 12999',\n",
       " 'Rs. 7990',\n",
       " 'Rs. 7199Rs. 7999(10% OFF)',\n",
       " 'Rs. 8999',\n",
       " 'Rs. 10792Rs. 13490(20% OFF)',\n",
       " 'Rs. 7999',\n",
       " 'Rs. 8990',\n",
       " 'Rs. 7199Rs. 8999(20% OFF)',\n",
       " 'Rs. 10399Rs. 12999(Rs. 2600 OFF)',\n",
       " 'Rs. 8990',\n",
       " 'Rs. 11999',\n",
       " 'Rs. 7999Rs. 9999(Rs. 2000 OFF)',\n",
       " 'Rs. 7999',\n",
       " 'Rs. 9999',\n",
       " 'Rs. 7990',\n",
       " 'Rs. 8990',\n",
       " 'Rs. 10999',\n",
       " 'Rs. 8999',\n",
       " 'Rs. 9999',\n",
       " 'Rs. 7999',\n",
       " 'Rs. 9999',\n",
       " 'Rs. 7999',\n",
       " 'Rs. 7199Rs. 8999(Rs. 1800 OFF)',\n",
       " 'Rs. 7990',\n",
       " 'Rs. 8900',\n",
       " 'Rs. 9500']"
      ]
     },
     "execution_count": 23,
     "metadata": {},
     "output_type": "execute_result"
    }
   ],
   "source": [
    "Shoe_price2 = []\n",
    "for i in prod_price_tag2:\n",
    "    price = i.text\n",
    "    Shoe_price2.append(price)\n",
    "Shoe_price2[0:50]"
   ]
  },
  {
   "cell_type": "markdown",
   "id": "82f8c2f0",
   "metadata": {},
   "source": [
    "Q8: Go to webpage https://www.amazon.in/\n",
    "Enter “Laptop” in the search field and then click the search icon.\n",
    "Then set CPU Type filter to “Intel Core i7” and “Intel Core i9” as shown in the below image:\n",
    "\n",
    "After setting the filters scrape first 10 laptops data. You have to scrape 3 attributes for each laptop:\n",
    "\n",
    "1. Title\n",
    "\n",
    "2. Ratings\n",
    "\n",
    "3. Price "
   ]
  },
  {
   "cell_type": "code",
   "execution_count": 3,
   "id": "c4201920",
   "metadata": {},
   "outputs": [
    {
     "name": "stderr",
     "output_type": "stream",
     "text": [
      "<ipython-input-3-7cb550b8266b>:2: DeprecationWarning: executable_path has been deprecated, please pass in a Service object\n",
      "  driver = webdriver.Chrome(PATH)\n"
     ]
    }
   ],
   "source": [
    "PATH = \"C:\\Program Files (x86)\\chromedriver.exe\"\n",
    "driver = webdriver.Chrome(PATH)"
   ]
  },
  {
   "cell_type": "code",
   "execution_count": 4,
   "id": "f9190884",
   "metadata": {},
   "outputs": [],
   "source": [
    "driver.get('https://www.amazon.in/')"
   ]
  },
  {
   "cell_type": "code",
   "execution_count": 5,
   "id": "9bf926cf",
   "metadata": {},
   "outputs": [
    {
     "name": "stderr",
     "output_type": "stream",
     "text": [
      "<ipython-input-5-3fd99b88f8ec>:1: DeprecationWarning: find_element_by_* commands are deprecated. Please use find_element() instead\n",
      "  search_laptop = driver.find_element_by_id('twotabsearchtextbox')\n"
     ]
    }
   ],
   "source": [
    "search_laptop = driver.find_element_by_id('twotabsearchtextbox')\n",
    "search_laptop.send_keys(\"Laptop\")"
   ]
  },
  {
   "cell_type": "code",
   "execution_count": 6,
   "id": "cceb0058",
   "metadata": {},
   "outputs": [
    {
     "name": "stderr",
     "output_type": "stream",
     "text": [
      "<ipython-input-6-78e8a8fcadb8>:1: DeprecationWarning: find_element_by_* commands are deprecated. Please use find_element() instead\n",
      "  button_click = driver.find_element_by_xpath('/html/body/div[1]/header/div/div[1]/div[2]/div/form/div[3]/div/span/input')\n"
     ]
    }
   ],
   "source": [
    "button_click = driver.find_element_by_xpath('/html/body/div[1]/header/div/div[1]/div[2]/div/form/div[3]/div/span/input')\n",
    "button_click.click()"
   ]
  },
  {
   "cell_type": "code",
   "execution_count": 7,
   "id": "32a2f07e",
   "metadata": {},
   "outputs": [
    {
     "name": "stderr",
     "output_type": "stream",
     "text": [
      "<ipython-input-7-323a69044c95>:1: DeprecationWarning: find_element_by_* commands are deprecated. Please use find_element() instead\n",
      "  CPU_intelCorei7 = driver.find_element_by_xpath(\"//span[text()='Intel Core i7']\").click()\n"
     ]
    }
   ],
   "source": [
    "CPU_intelCorei7 = driver.find_element_by_xpath(\"//span[text()='Intel Core i7']\").click()"
   ]
  },
  {
   "cell_type": "code",
   "execution_count": 8,
   "id": "31703f7c",
   "metadata": {},
   "outputs": [
    {
     "name": "stderr",
     "output_type": "stream",
     "text": [
      "<ipython-input-8-7c7f886b76e8>:1: DeprecationWarning: find_elements_by_* commands are deprecated. Please use find_elements() instead\n",
      "  laptopTitle_tag = driver.find_elements_by_xpath(\"//span[@class='a-size-medium a-color-base a-text-normal']\")\n"
     ]
    },
    {
     "data": {
      "text/plain": [
       "[<selenium.webdriver.remote.webelement.WebElement (session=\"5229889b895dacee27cf4c4e3bb84f99\", element=\"aa8ba9bc-8eda-458f-9619-44ed6997bfb6\")>,\n",
       " <selenium.webdriver.remote.webelement.WebElement (session=\"5229889b895dacee27cf4c4e3bb84f99\", element=\"28bc8ff3-ebce-4fc8-a104-8b62c8ff1d42\")>,\n",
       " <selenium.webdriver.remote.webelement.WebElement (session=\"5229889b895dacee27cf4c4e3bb84f99\", element=\"3f7ccd00-e25f-4952-8270-b81cd7152ff1\")>,\n",
       " <selenium.webdriver.remote.webelement.WebElement (session=\"5229889b895dacee27cf4c4e3bb84f99\", element=\"df00d1d4-d21b-4794-b3da-3e656a023256\")>,\n",
       " <selenium.webdriver.remote.webelement.WebElement (session=\"5229889b895dacee27cf4c4e3bb84f99\", element=\"7a4e002f-120b-4a8a-b677-4b457c59f57f\")>,\n",
       " <selenium.webdriver.remote.webelement.WebElement (session=\"5229889b895dacee27cf4c4e3bb84f99\", element=\"0f4064db-7c78-41d1-92d5-94edd2321898\")>,\n",
       " <selenium.webdriver.remote.webelement.WebElement (session=\"5229889b895dacee27cf4c4e3bb84f99\", element=\"fcdaad02-9f64-4154-b55b-956a86598aa6\")>,\n",
       " <selenium.webdriver.remote.webelement.WebElement (session=\"5229889b895dacee27cf4c4e3bb84f99\", element=\"b130d0f2-df34-45b2-9f56-d93cc0865c87\")>,\n",
       " <selenium.webdriver.remote.webelement.WebElement (session=\"5229889b895dacee27cf4c4e3bb84f99\", element=\"57fd3700-c00e-4c5a-a4f6-4b2e0c71340d\")>,\n",
       " <selenium.webdriver.remote.webelement.WebElement (session=\"5229889b895dacee27cf4c4e3bb84f99\", element=\"80054e2f-08d0-4495-8f72-4fee79a92ef3\")>]"
      ]
     },
     "execution_count": 8,
     "metadata": {},
     "output_type": "execute_result"
    }
   ],
   "source": [
    "laptopTitle_tag = driver.find_elements_by_xpath(\"//span[@class='a-size-medium a-color-base a-text-normal']\")\n",
    "laptopTitle_tag[0:10]"
   ]
  },
  {
   "cell_type": "code",
   "execution_count": 9,
   "id": "5dac5a46",
   "metadata": {},
   "outputs": [
    {
     "data": {
      "text/plain": [
       "['Lenovo ThinkBook 13s Intel 11th Gen Core i7 13.3\"(33.78 cm) WQXGA IPS 300 nits 100% sRGB Dolby Vision Thin and Light Laptop (16GB/512GB SSD/Windows 10/MS Office/FPR/Mineral Grey/1.26 Kg), 20V9A05FIH',\n",
       " 'ASUS TUF Dash F15 (2021) 15.6-inch (39.62 cms) FHD 144Hz, Intel Core i7-11370H 11th Gen, RTX 3050 4GB Graphics, Gaming Laptop (16GB/512GB SSD/Windows 10/Gray/2 Kg), FX516PCZ-HN091T',\n",
       " 'ASUS TUF Gaming F17 (2021), 17.3-inch (43.94 cms) FHD 144Hz, Intel Core i7-11800H 11th Gen, GeForce RTX 3050 Ti 4GB Graphics, Gaming Laptop (16GB/1TB SSD/Windows 10/Eclipse Gray/2.6 Kg) FX766HE-HX022T',\n",
       " 'Acer Nitro 5 AN515-57 Gaming Laptop | Intel Core i7-11800H |NVIDIA GeForce RTX 3050 Ti Laptop Graphics |15.6\" FHD 144Hz IPS Display |16GB DDR4 |256GB SSD+1TB HDD |Killer Wi-Fi 6 |RGB Backlit Keyboard',\n",
       " 'HP Pavilion (2021) Intel 11th Gen Core i7 14 inches FHD Screen Thin & Light Laptop, 16 GB RAM, 1TB SSD, Iris Xe Graphics, Windows 10, MS Office, Backlit Keyboard, 1.41kg (14-dv0058TU)',\n",
       " 'Mi Notebook Horizon Edition 14 Intel Core i7-10510U 10th Gen Thin and Light Laptop(8GB/512GB SSD/Windows 10/Nvidia MX350 2GB Graphics/Grey/1.35Kg)(Without Webcam) XMA1904-AF',\n",
       " 'ASUS TUF Dash F15 (2021) 15.6-inch (39.62 cms) FHD 144Hz, Intel Core i7-11370H 11th Gen, RTX 3050 4GB Graphics, Gaming Laptop (16GB/512GB SSD/Windows 10/Gray/2 Kg), FX516PCZ-HN091T',\n",
       " 'Lenovo Legion 5 10th Gen Intel Core i7-10750H 15.6\" (39.63cm) FHD IPS Gaming Laptop (16GB/512GB SSD/Windows 10/NVIDIA GTX 1650 4GB/120Hz Refresh Display/Phantom Black/2.3Kg), 82AU00PNIN',\n",
       " 'Lenovo ThinkBook 15 Intel 11th Gen Core i7 15.6\"(39.62 cm)FHD IPS 300 nits Antiglare 100% sRGB Thin & Light Laptop(16GB/1TB HDD+128GB SSD/Windows 10/MS Office/3 Yr Onsite Warranty/1.7 Kg) 20VEA0HBIH',\n",
       " 'Dell 14 (2021) i7-1195G7 2in1 Touch Screen Laptop, 16GB, 512GB SSD, Win 10 + MS Office, 14.0\" (35.56 cms) FHD Display, Backlit KB, FPR + Active Pen, Platinum Silver (Inspiron 5410, D560596WIN9S)']"
      ]
     },
     "execution_count": 9,
     "metadata": {},
     "output_type": "execute_result"
    }
   ],
   "source": [
    "Laptop_title = []\n",
    "for i in laptopTitle_tag:\n",
    "    laptop = i.text\n",
    "    Laptop_title.append(laptop)\n",
    "Laptop_title[0:10]"
   ]
  },
  {
   "cell_type": "code",
   "execution_count": 31,
   "id": "ff511dbc",
   "metadata": {},
   "outputs": [
    {
     "name": "stderr",
     "output_type": "stream",
     "text": [
      "<ipython-input-31-7e3d7ffbd641>:1: DeprecationWarning: find_elements_by_* commands are deprecated. Please use find_elements() instead\n",
      "  laptopPrice_tag = driver.find_elements_by_xpath(\"//span[@class='a-price-whole']\")\n"
     ]
    },
    {
     "data": {
      "text/plain": [
       "[<selenium.webdriver.remote.webelement.WebElement (session=\"5229889b895dacee27cf4c4e3bb84f99\", element=\"08ee1518-8e7f-4ca1-80d8-d41a016f698d\")>,\n",
       " <selenium.webdriver.remote.webelement.WebElement (session=\"5229889b895dacee27cf4c4e3bb84f99\", element=\"d862c875-eec9-43a5-8c5d-6234729fb058\")>,\n",
       " <selenium.webdriver.remote.webelement.WebElement (session=\"5229889b895dacee27cf4c4e3bb84f99\", element=\"468344fc-88d2-4fb5-b807-0769e9567315\")>,\n",
       " <selenium.webdriver.remote.webelement.WebElement (session=\"5229889b895dacee27cf4c4e3bb84f99\", element=\"dd266a32-3852-4081-a11c-63f808e87200\")>,\n",
       " <selenium.webdriver.remote.webelement.WebElement (session=\"5229889b895dacee27cf4c4e3bb84f99\", element=\"aee2f163-f769-447f-bd9e-2d865a5e9bf7\")>,\n",
       " <selenium.webdriver.remote.webelement.WebElement (session=\"5229889b895dacee27cf4c4e3bb84f99\", element=\"60251a9d-31c3-45e5-a118-c2bb83390220\")>,\n",
       " <selenium.webdriver.remote.webelement.WebElement (session=\"5229889b895dacee27cf4c4e3bb84f99\", element=\"4e18a93f-89c5-4367-ad79-d5a7b3e8f222\")>,\n",
       " <selenium.webdriver.remote.webelement.WebElement (session=\"5229889b895dacee27cf4c4e3bb84f99\", element=\"3dabecd5-7973-4493-9864-17535e2f3b7f\")>,\n",
       " <selenium.webdriver.remote.webelement.WebElement (session=\"5229889b895dacee27cf4c4e3bb84f99\", element=\"2ba50d17-961c-45cf-88e3-a3071393cab5\")>,\n",
       " <selenium.webdriver.remote.webelement.WebElement (session=\"5229889b895dacee27cf4c4e3bb84f99\", element=\"19c3ab68-c05f-4d6b-90a9-e433fb8769a6\")>]"
      ]
     },
     "execution_count": 31,
     "metadata": {},
     "output_type": "execute_result"
    }
   ],
   "source": [
    "laptopPrice_tag = driver.find_elements_by_xpath(\"//span[@class='a-price-whole']\")\n",
    "laptopPrice_tag[0:10]"
   ]
  },
  {
   "cell_type": "code",
   "execution_count": 32,
   "id": "e686d797",
   "metadata": {},
   "outputs": [
    {
     "data": {
      "text/plain": [
       "['89,990',\n",
       " '93,990',\n",
       " '1,13,990',\n",
       " '85,990',\n",
       " '84,990',\n",
       " '56,990',\n",
       " '93,990',\n",
       " '1,05,000',\n",
       " '85,990',\n",
       " '88,490']"
      ]
     },
     "execution_count": 32,
     "metadata": {},
     "output_type": "execute_result"
    }
   ],
   "source": [
    "Laptop_price = []\n",
    "for i in laptopPrice_tag:\n",
    "    price = i.text\n",
    "    Laptop_price.append(price)\n",
    "Laptop_price[0:10]"
   ]
  },
  {
   "cell_type": "markdown",
   "id": "18aa10be",
   "metadata": {},
   "source": [
    "Q9: Write a python program to scrape data for first 10 job results for Data Scientist Designation in Noida\n",
    "location. You have to scrape company name, No. of days ago when job was posted, Rating of the company.\n",
    "This task will be done in following steps:\n",
    "\n",
    "1. First get the webpage https://www.ambitionbox.com/\n",
    "\n",
    "2. After reaching to the next webpage, In place of “Search by Designations, Companies, Skills” enter\n",
    "“Data Scientist” and click on search button. \n",
    "\n",
    "3. You will reach to the following web page click on location and in place of “Search location” enter\n",
    "“Noida” and select location “Noida”. \n",
    "\n",
    "4. Then scrape the data for the first 10 jobs results you get on the above shown page.\n",
    "5. Finally create a dataframe of the scraped data."
   ]
  },
  {
   "cell_type": "code",
   "execution_count": 114,
   "id": "63ab3292",
   "metadata": {},
   "outputs": [
    {
     "name": "stderr",
     "output_type": "stream",
     "text": [
      "<ipython-input-114-7cb550b8266b>:2: DeprecationWarning: executable_path has been deprecated, please pass in a Service object\n",
      "  driver = webdriver.Chrome(PATH)\n"
     ]
    }
   ],
   "source": [
    "PATH = \"C:\\Program Files (x86)\\chromedriver.exe\"\n",
    "driver = webdriver.Chrome(PATH)"
   ]
  },
  {
   "cell_type": "code",
   "execution_count": 39,
   "id": "e01dc9bf",
   "metadata": {},
   "outputs": [],
   "source": [
    "driver.get('https://www.ambitionbox.com/')"
   ]
  },
  {
   "cell_type": "code",
   "execution_count": 40,
   "id": "40eee40e",
   "metadata": {},
   "outputs": [
    {
     "name": "stderr",
     "output_type": "stream",
     "text": [
      "<ipython-input-40-3bce062f9f1e>:1: DeprecationWarning: find_element_by_* commands are deprecated. Please use find_element() instead\n",
      "  click_jobs = driver.find_element_by_xpath('/html/body/div[1]/nav/nav/a[6]').click()\n"
     ]
    }
   ],
   "source": [
    "click_jobs = driver.find_element_by_xpath('/html/body/div[1]/nav/nav/a[6]').click()"
   ]
  },
  {
   "cell_type": "code",
   "execution_count": 42,
   "id": "a5daec76",
   "metadata": {},
   "outputs": [
    {
     "name": "stderr",
     "output_type": "stream",
     "text": [
      "<ipython-input-42-c8d2f3842b6c>:1: DeprecationWarning: find_element_by_* commands are deprecated. Please use find_element() instead\n",
      "  searchDataScientist = driver.find_element_by_xpath(\"//input[@class = 'input tt-input']\")\n"
     ]
    }
   ],
   "source": [
    "searchDataScientist = driver.find_element_by_xpath(\"//input[@class = 'input tt-input']\")\n",
    "searchDataScientist.send_keys('Data Scientist')"
   ]
  },
  {
   "cell_type": "code",
   "execution_count": 43,
   "id": "9b8be89b",
   "metadata": {},
   "outputs": [
    {
     "name": "stderr",
     "output_type": "stream",
     "text": [
      "<ipython-input-43-6a50e4c6b6e1>:1: DeprecationWarning: find_element_by_* commands are deprecated. Please use find_element() instead\n",
      "  click_butn = driver.find_element_by_xpath('/html/body/div/div/div/div[2]/div/div/div/div/button/span').click()\n"
     ]
    }
   ],
   "source": [
    "click_butn = driver.find_element_by_xpath('/html/body/div/div/div/div[2]/div/div/div/div/button/span').click()"
   ]
  },
  {
   "cell_type": "code",
   "execution_count": 44,
   "id": "8b603794",
   "metadata": {},
   "outputs": [
    {
     "name": "stderr",
     "output_type": "stream",
     "text": [
      "<ipython-input-44-4127b5312709>:1: DeprecationWarning: find_element_by_* commands are deprecated. Please use find_element() instead\n",
      "  click_location = driver.find_element_by_xpath('/html/body/div/div/div/div[2]/div[2]/div[1]/div/div/div/div[2]/div[1]').click()\n"
     ]
    }
   ],
   "source": [
    "click_location = driver.find_element_by_xpath('/html/body/div/div/div/div[2]/div[2]/div[1]/div/div/div/div[2]/div[1]').click()"
   ]
  },
  {
   "cell_type": "code",
   "execution_count": 45,
   "id": "45fb99ea",
   "metadata": {},
   "outputs": [
    {
     "name": "stderr",
     "output_type": "stream",
     "text": [
      "<ipython-input-45-53db7124d841>:1: DeprecationWarning: find_element_by_* commands are deprecated. Please use find_element() instead\n",
      "  enter_noida = driver.find_element_by_xpath('/html/body/div/div/div/div[2]/div[2]/div[1]/div/div/div/div[2]/div[2]/div/div[2]/input')\n"
     ]
    }
   ],
   "source": [
    "enter_noida = driver.find_element_by_xpath('/html/body/div/div/div/div[2]/div[2]/div[1]/div/div/div/div[2]/div[2]/div/div[2]/input')\n",
    "enter_noida.send_keys('Noida')"
   ]
  },
  {
   "cell_type": "code",
   "execution_count": 46,
   "id": "358f5cee",
   "metadata": {},
   "outputs": [
    {
     "name": "stderr",
     "output_type": "stream",
     "text": [
      "<ipython-input-46-f05ca788c9ac>:1: DeprecationWarning: find_element_by_* commands are deprecated. Please use find_element() instead\n",
      "  select_noida = driver.find_element_by_xpath('/html/body/div/div/div/div[2]/div[2]/div[1]/div/div/div/div[2]/div[2]/div/div[3]/div/div/div[1]/label').click()\n"
     ]
    }
   ],
   "source": [
    "select_noida = driver.find_element_by_xpath('/html/body/div/div/div/div[2]/div[2]/div[1]/div/div/div/div[2]/div[2]/div/div[3]/div/div/div[1]/label').click()"
   ]
  },
  {
   "cell_type": "code",
   "execution_count": 47,
   "id": "6ae6c3b1",
   "metadata": {},
   "outputs": [
    {
     "name": "stderr",
     "output_type": "stream",
     "text": [
      "<ipython-input-47-ee97c6f88e3b>:1: DeprecationWarning: find_elements_by_* commands are deprecated. Please use find_elements() instead\n",
      "  company_tag = driver.find_elements_by_xpath(\"//p[@class = 'company body-medium']\")\n"
     ]
    },
    {
     "data": {
      "text/plain": [
       "[<selenium.webdriver.remote.webelement.WebElement (session=\"7248d6218ea020b7072f8143aa40ae77\", element=\"8d0e2297-bb93-4546-9cf0-c80063f13177\")>,\n",
       " <selenium.webdriver.remote.webelement.WebElement (session=\"7248d6218ea020b7072f8143aa40ae77\", element=\"0d1c6a22-ef01-4940-bb8a-dc62dd3451a5\")>,\n",
       " <selenium.webdriver.remote.webelement.WebElement (session=\"7248d6218ea020b7072f8143aa40ae77\", element=\"2ebcaa22-1df6-438a-81ab-98c47c759532\")>,\n",
       " <selenium.webdriver.remote.webelement.WebElement (session=\"7248d6218ea020b7072f8143aa40ae77\", element=\"b43e04da-12a7-450f-a3d9-5bdb0974ea52\")>,\n",
       " <selenium.webdriver.remote.webelement.WebElement (session=\"7248d6218ea020b7072f8143aa40ae77\", element=\"44eac47f-8b7a-42c5-8576-55bcc281f314\")>,\n",
       " <selenium.webdriver.remote.webelement.WebElement (session=\"7248d6218ea020b7072f8143aa40ae77\", element=\"57343ce9-57dc-443b-9a87-ef7208206fe0\")>,\n",
       " <selenium.webdriver.remote.webelement.WebElement (session=\"7248d6218ea020b7072f8143aa40ae77\", element=\"344b5f3e-c330-4c3c-bfe4-93b429bb1a7e\")>,\n",
       " <selenium.webdriver.remote.webelement.WebElement (session=\"7248d6218ea020b7072f8143aa40ae77\", element=\"bbdb5304-d7e7-4b28-9704-e9cdfd2ed65e\")>,\n",
       " <selenium.webdriver.remote.webelement.WebElement (session=\"7248d6218ea020b7072f8143aa40ae77\", element=\"3e6f03ca-ca3c-4011-8b92-64bad74553ba\")>,\n",
       " <selenium.webdriver.remote.webelement.WebElement (session=\"7248d6218ea020b7072f8143aa40ae77\", element=\"523365db-6adb-46e5-81ca-437388a8980e\")>]"
      ]
     },
     "execution_count": 47,
     "metadata": {},
     "output_type": "execute_result"
    }
   ],
   "source": [
    "company_tag = driver.find_elements_by_xpath(\"//p[@class = 'company body-medium']\")\n",
    "company_tag[0:10]"
   ]
  },
  {
   "cell_type": "code",
   "execution_count": 58,
   "id": "ba2ade8d",
   "metadata": {},
   "outputs": [
    {
     "data": {
      "text/plain": [
       "['Optum Global Solutions (India) Private Limited',\n",
       " 'Ameriprise Financial',\n",
       " 'Optum Global Solutions (India) Private Limited',\n",
       " 'Steria India Ltd',\n",
       " 'Steria India Ltd',\n",
       " 'HCL Technologies Limited',\n",
       " 'Zyoin',\n",
       " 'GI Group',\n",
       " 'GI Group',\n",
       " 'IBM India Pvt. Limited']"
      ]
     },
     "execution_count": 58,
     "metadata": {},
     "output_type": "execute_result"
    }
   ],
   "source": [
    "company_name = []\n",
    "for i in company_tag:\n",
    "    company = i.text\n",
    "    company_name.append(company)\n",
    "company_name[0:10]"
   ]
  },
  {
   "cell_type": "code",
   "execution_count": 60,
   "id": "b7202620",
   "metadata": {},
   "outputs": [
    {
     "name": "stderr",
     "output_type": "stream",
     "text": [
      "<ipython-input-60-438782e754a1>:1: DeprecationWarning: find_elements_by_* commands are deprecated. Please use find_elements() instead\n",
      "  posted_tag = driver.find_elements_by_xpath(\"//span[@class='body-small-l']\")\n"
     ]
    },
    {
     "data": {
      "text/plain": [
       "[<selenium.webdriver.remote.webelement.WebElement (session=\"7248d6218ea020b7072f8143aa40ae77\", element=\"6866a741-e92c-4ef6-95a4-a85d3152e759\")>,\n",
       " <selenium.webdriver.remote.webelement.WebElement (session=\"7248d6218ea020b7072f8143aa40ae77\", element=\"41fee535-f52c-4cdb-b52f-cc4b1974861d\")>,\n",
       " <selenium.webdriver.remote.webelement.WebElement (session=\"7248d6218ea020b7072f8143aa40ae77\", element=\"da88d38d-d0df-4e07-a1ee-e76a4969bfd1\")>,\n",
       " <selenium.webdriver.remote.webelement.WebElement (session=\"7248d6218ea020b7072f8143aa40ae77\", element=\"685574a4-0eaf-4f7b-95f7-22708cf73930\")>,\n",
       " <selenium.webdriver.remote.webelement.WebElement (session=\"7248d6218ea020b7072f8143aa40ae77\", element=\"f1fd1b4e-7b30-492c-849b-8f6090a3f7a3\")>,\n",
       " <selenium.webdriver.remote.webelement.WebElement (session=\"7248d6218ea020b7072f8143aa40ae77\", element=\"57bb78b7-00c4-4478-b2d7-da9d9a54c54b\")>,\n",
       " <selenium.webdriver.remote.webelement.WebElement (session=\"7248d6218ea020b7072f8143aa40ae77\", element=\"51a668a9-9d4e-4087-89ef-a595a0ba53b9\")>,\n",
       " <selenium.webdriver.remote.webelement.WebElement (session=\"7248d6218ea020b7072f8143aa40ae77\", element=\"441d859e-96a4-45d2-bc77-eb7105aefacb\")>,\n",
       " <selenium.webdriver.remote.webelement.WebElement (session=\"7248d6218ea020b7072f8143aa40ae77\", element=\"1db6f708-0984-4db0-9a8e-a988bcd7c7bd\")>,\n",
       " <selenium.webdriver.remote.webelement.WebElement (session=\"7248d6218ea020b7072f8143aa40ae77\", element=\"efe2eff3-bdb1-4daf-a9c3-b4750c2e16d2\")>,\n",
       " <selenium.webdriver.remote.webelement.WebElement (session=\"7248d6218ea020b7072f8143aa40ae77\", element=\"14c1b91e-2e90-4efc-bf1c-4b94ae9f205c\")>,\n",
       " <selenium.webdriver.remote.webelement.WebElement (session=\"7248d6218ea020b7072f8143aa40ae77\", element=\"f65bcb64-3ff0-44a1-a719-3af211142547\")>,\n",
       " <selenium.webdriver.remote.webelement.WebElement (session=\"7248d6218ea020b7072f8143aa40ae77\", element=\"7d565ed4-60f3-4733-997c-2426c7967233\")>,\n",
       " <selenium.webdriver.remote.webelement.WebElement (session=\"7248d6218ea020b7072f8143aa40ae77\", element=\"8686bb0a-980e-4da6-95ed-6fd0640a64e5\")>,\n",
       " <selenium.webdriver.remote.webelement.WebElement (session=\"7248d6218ea020b7072f8143aa40ae77\", element=\"c5471944-e781-49f5-84f9-cd16f4f1aa29\")>,\n",
       " <selenium.webdriver.remote.webelement.WebElement (session=\"7248d6218ea020b7072f8143aa40ae77\", element=\"e416ce5a-ba42-48cc-9a43-6a204fd660b8\")>,\n",
       " <selenium.webdriver.remote.webelement.WebElement (session=\"7248d6218ea020b7072f8143aa40ae77\", element=\"e5f01412-da46-4d42-9c76-44f8e5c9c559\")>,\n",
       " <selenium.webdriver.remote.webelement.WebElement (session=\"7248d6218ea020b7072f8143aa40ae77\", element=\"298125ae-fba3-470f-a39c-6d715fd740f3\")>,\n",
       " <selenium.webdriver.remote.webelement.WebElement (session=\"7248d6218ea020b7072f8143aa40ae77\", element=\"a1fed380-f245-4160-ada5-9ea53d795094\")>,\n",
       " <selenium.webdriver.remote.webelement.WebElement (session=\"7248d6218ea020b7072f8143aa40ae77\", element=\"be8aa932-2eea-43ef-a686-790a00628278\")>]"
      ]
     },
     "execution_count": 60,
     "metadata": {},
     "output_type": "execute_result"
    }
   ],
   "source": [
    "posted_tag = driver.find_elements_by_xpath(\"//span[@class='body-small-l']\")\n",
    "posted_tag[0:20]"
   ]
  },
  {
   "cell_type": "code",
   "execution_count": 67,
   "id": "8ad56216",
   "metadata": {},
   "outputs": [
    {
     "data": {
      "text/plain": [
       "['7d ago',\n",
       " '2d ago',\n",
       " '28d ago',\n",
       " '19d ago',\n",
       " '19d ago',\n",
       " '30d ago',\n",
       " '1d ago',\n",
       " '2d ago',\n",
       " '4d ago',\n",
       " '1mon ago']"
      ]
     },
     "execution_count": 67,
     "metadata": {},
     "output_type": "execute_result"
    }
   ],
   "source": [
    "posted_days_ago = []\n",
    "for i in range(0,20,2):\n",
    "    posted_days_ago.append(posted_tag[i].text)\n",
    "posted_days_ago[0:20]"
   ]
  },
  {
   "cell_type": "code",
   "execution_count": 68,
   "id": "7322f52a",
   "metadata": {},
   "outputs": [
    {
     "name": "stderr",
     "output_type": "stream",
     "text": [
      "<ipython-input-68-15641f38c12f>:1: DeprecationWarning: find_elements_by_* commands are deprecated. Please use find_elements() instead\n",
      "  ratingtag = driver.find_elements_by_xpath(\"//span[@class='body-small']\")\n"
     ]
    },
    {
     "data": {
      "text/plain": [
       "[<selenium.webdriver.remote.webelement.WebElement (session=\"7248d6218ea020b7072f8143aa40ae77\", element=\"020f4fbd-7184-4478-98ec-1bfee0515b8c\")>,\n",
       " <selenium.webdriver.remote.webelement.WebElement (session=\"7248d6218ea020b7072f8143aa40ae77\", element=\"6f766d9b-9398-4569-a53c-6af2337da409\")>,\n",
       " <selenium.webdriver.remote.webelement.WebElement (session=\"7248d6218ea020b7072f8143aa40ae77\", element=\"e257067a-e358-4b18-ae6a-3cfde677712e\")>,\n",
       " <selenium.webdriver.remote.webelement.WebElement (session=\"7248d6218ea020b7072f8143aa40ae77\", element=\"76a33c21-9c8a-4cf7-92db-52c7a689cc19\")>,\n",
       " <selenium.webdriver.remote.webelement.WebElement (session=\"7248d6218ea020b7072f8143aa40ae77\", element=\"f0e1e3f0-f08c-44ce-bc21-442d06435205\")>,\n",
       " <selenium.webdriver.remote.webelement.WebElement (session=\"7248d6218ea020b7072f8143aa40ae77\", element=\"6dc2b21c-2658-4221-a1c0-b32cda8fd0ca\")>,\n",
       " <selenium.webdriver.remote.webelement.WebElement (session=\"7248d6218ea020b7072f8143aa40ae77\", element=\"0fcbf8b4-cdc0-41b3-98e0-9cb1f9b88f68\")>,\n",
       " <selenium.webdriver.remote.webelement.WebElement (session=\"7248d6218ea020b7072f8143aa40ae77\", element=\"a8bb66a3-bed2-472c-b3b0-31ad428bdade\")>,\n",
       " <selenium.webdriver.remote.webelement.WebElement (session=\"7248d6218ea020b7072f8143aa40ae77\", element=\"34a0a7c1-7ca1-43a8-bb6e-528fc2c5c3b6\")>,\n",
       " <selenium.webdriver.remote.webelement.WebElement (session=\"7248d6218ea020b7072f8143aa40ae77\", element=\"9ba7aadc-9c72-41ab-93e0-4306603a67fa\")>]"
      ]
     },
     "execution_count": 68,
     "metadata": {},
     "output_type": "execute_result"
    }
   ],
   "source": [
    "ratingtag = driver.find_elements_by_xpath(\"//span[@class='body-small']\")\n",
    "ratingtag[0:10]"
   ]
  },
  {
   "cell_type": "code",
   "execution_count": 70,
   "id": "961d58d7",
   "metadata": {},
   "outputs": [
    {
     "data": {
      "text/plain": [
       "['4.1', '4.1', '4.1', '4.1', '4.1', '3.8', '4.2', '3.9', '3.9', '4.1']"
      ]
     },
     "execution_count": 70,
     "metadata": {},
     "output_type": "execute_result"
    }
   ],
   "source": [
    "company_rating = []\n",
    "for i in ratingtag:\n",
    "    rating = i.text\n",
    "    company_rating.append(rating)\n",
    "company_rating[0:10]"
   ]
  },
  {
   "cell_type": "code",
   "execution_count": 71,
   "id": "98efb6aa",
   "metadata": {},
   "outputs": [],
   "source": [
    "dataScientistNoida = pd.DataFrame()\n",
    "dataScientistNoida['Company Name'] = company_name[0:10]\n",
    "dataScientistNoida['Job Posted'] = posted_days_ago[0:20]\n",
    "dataScientistNoida['Company Rating'] = company_rating[0:10]"
   ]
  },
  {
   "cell_type": "code",
   "execution_count": 72,
   "id": "559f049b",
   "metadata": {},
   "outputs": [
    {
     "data": {
      "text/html": [
       "<div>\n",
       "<style scoped>\n",
       "    .dataframe tbody tr th:only-of-type {\n",
       "        vertical-align: middle;\n",
       "    }\n",
       "\n",
       "    .dataframe tbody tr th {\n",
       "        vertical-align: top;\n",
       "    }\n",
       "\n",
       "    .dataframe thead th {\n",
       "        text-align: right;\n",
       "    }\n",
       "</style>\n",
       "<table border=\"1\" class=\"dataframe\">\n",
       "  <thead>\n",
       "    <tr style=\"text-align: right;\">\n",
       "      <th></th>\n",
       "      <th>Company Name</th>\n",
       "      <th>Job Posted</th>\n",
       "      <th>Company Rating</th>\n",
       "    </tr>\n",
       "  </thead>\n",
       "  <tbody>\n",
       "    <tr>\n",
       "      <th>0</th>\n",
       "      <td>Optum Global Solutions (India) Private Limited</td>\n",
       "      <td>7d ago</td>\n",
       "      <td>4.1</td>\n",
       "    </tr>\n",
       "    <tr>\n",
       "      <th>1</th>\n",
       "      <td>Ameriprise Financial</td>\n",
       "      <td>2d ago</td>\n",
       "      <td>4.1</td>\n",
       "    </tr>\n",
       "    <tr>\n",
       "      <th>2</th>\n",
       "      <td>Optum Global Solutions (India) Private Limited</td>\n",
       "      <td>28d ago</td>\n",
       "      <td>4.1</td>\n",
       "    </tr>\n",
       "    <tr>\n",
       "      <th>3</th>\n",
       "      <td>Steria India Ltd</td>\n",
       "      <td>19d ago</td>\n",
       "      <td>4.1</td>\n",
       "    </tr>\n",
       "    <tr>\n",
       "      <th>4</th>\n",
       "      <td>Steria India Ltd</td>\n",
       "      <td>19d ago</td>\n",
       "      <td>4.1</td>\n",
       "    </tr>\n",
       "    <tr>\n",
       "      <th>5</th>\n",
       "      <td>HCL Technologies Limited</td>\n",
       "      <td>30d ago</td>\n",
       "      <td>3.8</td>\n",
       "    </tr>\n",
       "    <tr>\n",
       "      <th>6</th>\n",
       "      <td>Zyoin</td>\n",
       "      <td>1d ago</td>\n",
       "      <td>4.2</td>\n",
       "    </tr>\n",
       "    <tr>\n",
       "      <th>7</th>\n",
       "      <td>GI Group</td>\n",
       "      <td>2d ago</td>\n",
       "      <td>3.9</td>\n",
       "    </tr>\n",
       "    <tr>\n",
       "      <th>8</th>\n",
       "      <td>GI Group</td>\n",
       "      <td>4d ago</td>\n",
       "      <td>3.9</td>\n",
       "    </tr>\n",
       "    <tr>\n",
       "      <th>9</th>\n",
       "      <td>IBM India Pvt. Limited</td>\n",
       "      <td>1mon ago</td>\n",
       "      <td>4.1</td>\n",
       "    </tr>\n",
       "  </tbody>\n",
       "</table>\n",
       "</div>"
      ],
      "text/plain": [
       "                                     Company Name Job Posted Company Rating\n",
       "0  Optum Global Solutions (India) Private Limited     7d ago            4.1\n",
       "1                            Ameriprise Financial     2d ago            4.1\n",
       "2  Optum Global Solutions (India) Private Limited    28d ago            4.1\n",
       "3                                Steria India Ltd    19d ago            4.1\n",
       "4                                Steria India Ltd    19d ago            4.1\n",
       "5                        HCL Technologies Limited    30d ago            3.8\n",
       "6                                           Zyoin     1d ago            4.2\n",
       "7                                        GI Group     2d ago            3.9\n",
       "8                                        GI Group     4d ago            3.9\n",
       "9                          IBM India Pvt. Limited   1mon ago            4.1"
      ]
     },
     "execution_count": 72,
     "metadata": {},
     "output_type": "execute_result"
    }
   ],
   "source": [
    "dataScientistNoida"
   ]
  },
  {
   "cell_type": "markdown",
   "id": "7248b625",
   "metadata": {},
   "source": [
    "Q10. Write a python program to scrape the salary data for Data Scientist designation.\n",
    "You have to scrape Company name, Number of salaries, Average salary, Min salary, Max Salary. \n",
    "\n",
    "The above task will be, done as shown in the below steps:\n",
    "\n",
    "1. First get the webpage https://www.ambitionbox.com/\n",
    "\n",
    "2. After reaching to the following webpage, In place of “Search Job Profile” enters “Data Scientist” and\n",
    "then click on “Data Scientist”. \n",
    "\n",
    "3. Scrape the data for the first 10 companies. Scrape the company name, total salary record, average\n",
    "salary, minimum salary, maximum salary, experience required.\n",
    "\n",
    "4. Store the data in a dataframe. "
   ]
  },
  {
   "cell_type": "code",
   "execution_count": 23,
   "id": "cd55e61e",
   "metadata": {},
   "outputs": [
    {
     "name": "stderr",
     "output_type": "stream",
     "text": [
      "<ipython-input-23-7cb550b8266b>:2: DeprecationWarning: executable_path has been deprecated, please pass in a Service object\n",
      "  driver = webdriver.Chrome(PATH)\n"
     ]
    }
   ],
   "source": [
    "PATH = \"C:\\Program Files (x86)\\chromedriver.exe\"\n",
    "driver = webdriver.Chrome(PATH)"
   ]
  },
  {
   "cell_type": "code",
   "execution_count": 24,
   "id": "289c26b7",
   "metadata": {},
   "outputs": [],
   "source": [
    "driver.get('https://www.ambitionbox.com/')"
   ]
  },
  {
   "cell_type": "code",
   "execution_count": 25,
   "id": "61cbbf44",
   "metadata": {},
   "outputs": [
    {
     "name": "stderr",
     "output_type": "stream",
     "text": [
      "<ipython-input-25-32a5dbccaf5d>:1: DeprecationWarning: find_element_by_* commands are deprecated. Please use find_element() instead\n",
      "  salaries_click = driver.find_element_by_xpath('/html/body/div[1]/nav/nav/a[4]').click()\n"
     ]
    }
   ],
   "source": [
    "salaries_click = driver.find_element_by_xpath('/html/body/div[1]/nav/nav/a[4]').click()"
   ]
  },
  {
   "cell_type": "code",
   "execution_count": 26,
   "id": "9003d5a8",
   "metadata": {},
   "outputs": [
    {
     "name": "stderr",
     "output_type": "stream",
     "text": [
      "<ipython-input-26-9c1d6e38af74>:1: DeprecationWarning: find_element_by_* commands are deprecated. Please use find_element() instead\n",
      "  enterDataScientist = driver.find_element_by_xpath(\"//input[@class='tt-input']\")\n"
     ]
    }
   ],
   "source": [
    "enterDataScientist = driver.find_element_by_xpath(\"//input[@class='tt-input']\")\n",
    "enterDataScientist.send_keys(\"Data Scientist\")"
   ]
  },
  {
   "cell_type": "code",
   "execution_count": 27,
   "id": "e88e2056",
   "metadata": {},
   "outputs": [
    {
     "name": "stderr",
     "output_type": "stream",
     "text": [
      "<ipython-input-27-58fab25472a1>:1: DeprecationWarning: find_element_by_* commands are deprecated. Please use find_element() instead\n",
      "  selectDataScientist = driver.find_element_by_xpath('/html/body/div/div/div/main/section[1]/div[2]/div[1]/span/div/div/div[1]/div/div/p').click()\n"
     ]
    }
   ],
   "source": [
    "selectDataScientist = driver.find_element_by_xpath('/html/body/div/div/div/main/section[1]/div[2]/div[1]/span/div/div/div[1]/div/div/p').click()"
   ]
  },
  {
   "cell_type": "code",
   "execution_count": 28,
   "id": "4c19eefe",
   "metadata": {},
   "outputs": [
    {
     "name": "stderr",
     "output_type": "stream",
     "text": [
      "<ipython-input-28-5d24aa861f29>:1: DeprecationWarning: find_elements_by_* commands are deprecated. Please use find_elements() instead\n",
      "  orgName_tag = driver.find_elements_by_xpath(\"//div[@class='name']\")\n"
     ]
    },
    {
     "data": {
      "text/plain": [
       "[<selenium.webdriver.remote.webelement.WebElement (session=\"3afd1fc6deaa79a616773e55107614fa\", element=\"baaa1d84-fb51-45b9-8857-ae99ffe2a93c\")>,\n",
       " <selenium.webdriver.remote.webelement.WebElement (session=\"3afd1fc6deaa79a616773e55107614fa\", element=\"fe3f713d-800e-4d77-b07e-8d4bb4703190\")>,\n",
       " <selenium.webdriver.remote.webelement.WebElement (session=\"3afd1fc6deaa79a616773e55107614fa\", element=\"2a53e642-df57-43d6-8ba3-2cb2d6489178\")>,\n",
       " <selenium.webdriver.remote.webelement.WebElement (session=\"3afd1fc6deaa79a616773e55107614fa\", element=\"c76131c6-16ac-4642-a948-6abef5939ab5\")>,\n",
       " <selenium.webdriver.remote.webelement.WebElement (session=\"3afd1fc6deaa79a616773e55107614fa\", element=\"1d3836bf-4346-4a4f-a793-a9b3429c7b5f\")>,\n",
       " <selenium.webdriver.remote.webelement.WebElement (session=\"3afd1fc6deaa79a616773e55107614fa\", element=\"057ff940-3cbf-4c9c-b095-716580b84194\")>,\n",
       " <selenium.webdriver.remote.webelement.WebElement (session=\"3afd1fc6deaa79a616773e55107614fa\", element=\"ab7ad7b8-83a7-4146-8866-f265ddfaaa61\")>,\n",
       " <selenium.webdriver.remote.webelement.WebElement (session=\"3afd1fc6deaa79a616773e55107614fa\", element=\"cee9fe7d-e1a9-455e-aa43-0797bf2ec44e\")>,\n",
       " <selenium.webdriver.remote.webelement.WebElement (session=\"3afd1fc6deaa79a616773e55107614fa\", element=\"a75926f2-6995-4797-89ae-292c26423ec7\")>,\n",
       " <selenium.webdriver.remote.webelement.WebElement (session=\"3afd1fc6deaa79a616773e55107614fa\", element=\"e10bbf21-4098-4e2d-8829-f0a386a2d683\")>]"
      ]
     },
     "execution_count": 28,
     "metadata": {},
     "output_type": "execute_result"
    }
   ],
   "source": [
    "orgName_tag = driver.find_elements_by_xpath(\"//div[@class='name']\")\n",
    "orgName_tag[0:10]"
   ]
  },
  {
   "cell_type": "code",
   "execution_count": 29,
   "id": "05646c8f",
   "metadata": {},
   "outputs": [
    {
     "data": {
      "text/plain": [
       "['Ab Inbev',\n",
       " 'Optum',\n",
       " 'Fractal Analytics',\n",
       " 'Tiger Analytics',\n",
       " 'UnitedHealth',\n",
       " 'Verizon',\n",
       " 'Ganit Business Solutions',\n",
       " 'Deloitte',\n",
       " 'Ernst & Young',\n",
       " 'Ericsson']"
      ]
     },
     "execution_count": 29,
     "metadata": {},
     "output_type": "execute_result"
    }
   ],
   "source": [
    "Org_Name = []\n",
    "for i in orgName_tag:\n",
    "    org = i.text.split('\\n')[0]\n",
    "    Org_Name.append(org)\n",
    "Org_Name[0:10]"
   ]
  },
  {
   "cell_type": "code",
   "execution_count": 30,
   "id": "4e9b4d83",
   "metadata": {},
   "outputs": [
    {
     "name": "stderr",
     "output_type": "stream",
     "text": [
      "<ipython-input-30-a8abf9700285>:1: DeprecationWarning: find_elements_by_* commands are deprecated. Please use find_elements() instead\n",
      "  total_salary_tag = driver.find_elements_by_xpath(\"//div[@class='name']\")\n"
     ]
    },
    {
     "data": {
      "text/plain": [
       "[<selenium.webdriver.remote.webelement.WebElement (session=\"3afd1fc6deaa79a616773e55107614fa\", element=\"baaa1d84-fb51-45b9-8857-ae99ffe2a93c\")>,\n",
       " <selenium.webdriver.remote.webelement.WebElement (session=\"3afd1fc6deaa79a616773e55107614fa\", element=\"fe3f713d-800e-4d77-b07e-8d4bb4703190\")>,\n",
       " <selenium.webdriver.remote.webelement.WebElement (session=\"3afd1fc6deaa79a616773e55107614fa\", element=\"2a53e642-df57-43d6-8ba3-2cb2d6489178\")>,\n",
       " <selenium.webdriver.remote.webelement.WebElement (session=\"3afd1fc6deaa79a616773e55107614fa\", element=\"c76131c6-16ac-4642-a948-6abef5939ab5\")>,\n",
       " <selenium.webdriver.remote.webelement.WebElement (session=\"3afd1fc6deaa79a616773e55107614fa\", element=\"1d3836bf-4346-4a4f-a793-a9b3429c7b5f\")>,\n",
       " <selenium.webdriver.remote.webelement.WebElement (session=\"3afd1fc6deaa79a616773e55107614fa\", element=\"057ff940-3cbf-4c9c-b095-716580b84194\")>,\n",
       " <selenium.webdriver.remote.webelement.WebElement (session=\"3afd1fc6deaa79a616773e55107614fa\", element=\"ab7ad7b8-83a7-4146-8866-f265ddfaaa61\")>,\n",
       " <selenium.webdriver.remote.webelement.WebElement (session=\"3afd1fc6deaa79a616773e55107614fa\", element=\"cee9fe7d-e1a9-455e-aa43-0797bf2ec44e\")>,\n",
       " <selenium.webdriver.remote.webelement.WebElement (session=\"3afd1fc6deaa79a616773e55107614fa\", element=\"a75926f2-6995-4797-89ae-292c26423ec7\")>,\n",
       " <selenium.webdriver.remote.webelement.WebElement (session=\"3afd1fc6deaa79a616773e55107614fa\", element=\"e10bbf21-4098-4e2d-8829-f0a386a2d683\")>]"
      ]
     },
     "execution_count": 30,
     "metadata": {},
     "output_type": "execute_result"
    }
   ],
   "source": [
    "total_salary_tag = driver.find_elements_by_xpath(\"//div[@class='name']\")\n",
    "total_salary_tag[0:10]"
   ]
  },
  {
   "cell_type": "code",
   "execution_count": 31,
   "id": "2d3969ba",
   "metadata": {},
   "outputs": [
    {
     "data": {
      "text/plain": [
       "['based on 10 salaries',\n",
       " 'based on 22 salaries',\n",
       " 'based on 60 salaries',\n",
       " 'based on 24 salaries',\n",
       " 'based on 45 salaries',\n",
       " 'based on 14 salaries',\n",
       " 'based on 12 salaries',\n",
       " 'based on 45 salaries',\n",
       " 'based on 26 salaries',\n",
       " 'based on 43 salaries']"
      ]
     },
     "execution_count": 31,
     "metadata": {},
     "output_type": "execute_result"
    }
   ],
   "source": [
    "Total_Salary = []\n",
    "for i in total_salary_tag:\n",
    "    sal = i.text.split('\\n')[1]\n",
    "    Total_Salary.append(sal)\n",
    "Total_Salary[0:10]"
   ]
  },
  {
   "cell_type": "code",
   "execution_count": 32,
   "id": "7c111c8f",
   "metadata": {},
   "outputs": [
    {
     "name": "stderr",
     "output_type": "stream",
     "text": [
      "<ipython-input-32-328f1ace90a1>:1: DeprecationWarning: find_elements_by_* commands are deprecated. Please use find_elements() instead\n",
      "  exp_tag = driver.find_elements_by_xpath(\"//div[@class='salaries sbold-list-header']\")\n"
     ]
    },
    {
     "data": {
      "text/plain": [
       "[<selenium.webdriver.remote.webelement.WebElement (session=\"3afd1fc6deaa79a616773e55107614fa\", element=\"416d7a64-2ff6-4771-8fcc-aab57fccd048\")>,\n",
       " <selenium.webdriver.remote.webelement.WebElement (session=\"3afd1fc6deaa79a616773e55107614fa\", element=\"42fbb980-09ec-4208-af3c-2bc9485e46f6\")>,\n",
       " <selenium.webdriver.remote.webelement.WebElement (session=\"3afd1fc6deaa79a616773e55107614fa\", element=\"5de65fbf-a883-4e2a-9b82-ad4dd45447eb\")>,\n",
       " <selenium.webdriver.remote.webelement.WebElement (session=\"3afd1fc6deaa79a616773e55107614fa\", element=\"802fdea3-ef45-4e10-9938-01e0762f595c\")>,\n",
       " <selenium.webdriver.remote.webelement.WebElement (session=\"3afd1fc6deaa79a616773e55107614fa\", element=\"86c1b3d3-5345-45ae-a1fd-7235a8c620dc\")>,\n",
       " <selenium.webdriver.remote.webelement.WebElement (session=\"3afd1fc6deaa79a616773e55107614fa\", element=\"fa5e80e8-e3c2-484d-8440-b605cfada759\")>,\n",
       " <selenium.webdriver.remote.webelement.WebElement (session=\"3afd1fc6deaa79a616773e55107614fa\", element=\"03892b98-1676-4fdf-bf3f-a99395a375b6\")>,\n",
       " <selenium.webdriver.remote.webelement.WebElement (session=\"3afd1fc6deaa79a616773e55107614fa\", element=\"cc8c33ae-2570-4883-a1a3-fe5838ead512\")>,\n",
       " <selenium.webdriver.remote.webelement.WebElement (session=\"3afd1fc6deaa79a616773e55107614fa\", element=\"3edbc8fe-deba-44aa-821e-29bea0e1597f\")>,\n",
       " <selenium.webdriver.remote.webelement.WebElement (session=\"3afd1fc6deaa79a616773e55107614fa\", element=\"b6fbb89f-34de-4613-ba9d-c7e297d7a459\")>]"
      ]
     },
     "execution_count": 32,
     "metadata": {},
     "output_type": "execute_result"
    }
   ],
   "source": [
    "exp_tag = driver.find_elements_by_xpath(\"//div[@class='salaries sbold-list-header']\")\n",
    "exp_tag[0:10]"
   ]
  },
  {
   "cell_type": "code",
   "execution_count": 33,
   "id": "226fe8bc",
   "metadata": {},
   "outputs": [
    {
     "data": {
      "text/plain": [
       "['4 yrs exp',\n",
       " '3-4 yrs exp',\n",
       " '2-4 yrs exp',\n",
       " '3-4 yrs exp',\n",
       " '2-4 yrs exp',\n",
       " '4 yrs exp',\n",
       " '4 yrs exp',\n",
       " '2-4 yrs exp',\n",
       " '3-4 yrs exp',\n",
       " '3-4 yrs exp']"
      ]
     },
     "execution_count": 33,
     "metadata": {},
     "output_type": "execute_result"
    }
   ],
   "source": [
    "Exp_Required = []\n",
    "for i in exp_tag:\n",
    "    exp = i.text.split('\\n')[2]\n",
    "    Exp_Required.append(exp)\n",
    "Exp_Required[0:10]"
   ]
  },
  {
   "cell_type": "code",
   "execution_count": 34,
   "id": "4db4a701",
   "metadata": {},
   "outputs": [
    {
     "name": "stderr",
     "output_type": "stream",
     "text": [
      "<ipython-input-34-1875671b4924>:1: DeprecationWarning: find_elements_by_* commands are deprecated. Please use find_elements() instead\n",
      "  avg_sal_tag = driver.find_elements_by_xpath(\"//p[@class='averageCtc']\")\n"
     ]
    },
    {
     "data": {
      "text/plain": [
       "[<selenium.webdriver.remote.webelement.WebElement (session=\"3afd1fc6deaa79a616773e55107614fa\", element=\"0b4c33ca-6fe2-4bc1-83d9-ccbeb9adbd67\")>,\n",
       " <selenium.webdriver.remote.webelement.WebElement (session=\"3afd1fc6deaa79a616773e55107614fa\", element=\"48a236bc-6b97-4bd6-82f6-c287c66fb9ce\")>,\n",
       " <selenium.webdriver.remote.webelement.WebElement (session=\"3afd1fc6deaa79a616773e55107614fa\", element=\"dc82ae6f-f621-4fb6-8770-6d9911c9f6c5\")>,\n",
       " <selenium.webdriver.remote.webelement.WebElement (session=\"3afd1fc6deaa79a616773e55107614fa\", element=\"ade00c3a-1a21-4a07-8a84-b05bf84ab7b7\")>,\n",
       " <selenium.webdriver.remote.webelement.WebElement (session=\"3afd1fc6deaa79a616773e55107614fa\", element=\"5a6d0bae-61cc-40a2-b2b9-68e3c0e8cfb8\")>,\n",
       " <selenium.webdriver.remote.webelement.WebElement (session=\"3afd1fc6deaa79a616773e55107614fa\", element=\"a140a669-3c24-40c0-add9-495cd1f8220e\")>,\n",
       " <selenium.webdriver.remote.webelement.WebElement (session=\"3afd1fc6deaa79a616773e55107614fa\", element=\"2f011c95-3c7a-460c-a9d6-32cc50362840\")>,\n",
       " <selenium.webdriver.remote.webelement.WebElement (session=\"3afd1fc6deaa79a616773e55107614fa\", element=\"1724a2c6-8e42-4e5d-9136-cb57af0312a4\")>,\n",
       " <selenium.webdriver.remote.webelement.WebElement (session=\"3afd1fc6deaa79a616773e55107614fa\", element=\"91b244fe-3217-456e-8df6-ff8529200f5d\")>,\n",
       " <selenium.webdriver.remote.webelement.WebElement (session=\"3afd1fc6deaa79a616773e55107614fa\", element=\"6d8a1464-602e-479f-bea6-165593047675\")>]"
      ]
     },
     "execution_count": 34,
     "metadata": {},
     "output_type": "execute_result"
    }
   ],
   "source": [
    "avg_sal_tag = driver.find_elements_by_xpath(\"//p[@class='averageCtc']\")\n",
    "avg_sal_tag[0:10]"
   ]
  },
  {
   "cell_type": "code",
   "execution_count": 35,
   "id": "c2a77b49",
   "metadata": {},
   "outputs": [
    {
     "data": {
      "text/plain": [
       "['₹ 19.4L',\n",
       " '₹ 15.1L',\n",
       " '₹ 14.7L',\n",
       " '₹ 13.4L',\n",
       " '₹ 13.3L',\n",
       " '₹ 12.7L',\n",
       " '₹ 12.4L',\n",
       " '₹ 11.2L',\n",
       " '₹ 11.1L',\n",
       " '₹ 10.9L']"
      ]
     },
     "execution_count": 35,
     "metadata": {},
     "output_type": "execute_result"
    }
   ],
   "source": [
    "Avg_Sal = []\n",
    "for i in avg_sal_tag:\n",
    "    Asal = i.text\n",
    "    Avg_Sal.append(Asal)\n",
    "Avg_Sal[0:10]"
   ]
  },
  {
   "cell_type": "code",
   "execution_count": 36,
   "id": "b9577a6a",
   "metadata": {},
   "outputs": [
    {
     "name": "stderr",
     "output_type": "stream",
     "text": [
      "<ipython-input-36-cf0810eafbdd>:1: DeprecationWarning: find_elements_by_* commands are deprecated. Please use find_elements() instead\n",
      "  min_sal_tag = driver.find_elements_by_xpath(\"//div[@class='value body-medium']\")\n"
     ]
    },
    {
     "data": {
      "text/plain": [
       "[<selenium.webdriver.remote.webelement.WebElement (session=\"3afd1fc6deaa79a616773e55107614fa\", element=\"f43f82bd-fe03-4cc7-a486-c7d56084abc5\")>,\n",
       " <selenium.webdriver.remote.webelement.WebElement (session=\"3afd1fc6deaa79a616773e55107614fa\", element=\"b88190df-f12f-4cb4-8620-ed7613613b84\")>,\n",
       " <selenium.webdriver.remote.webelement.WebElement (session=\"3afd1fc6deaa79a616773e55107614fa\", element=\"3cab7c8f-fd23-4871-90fb-b3ec8fd9fcc8\")>,\n",
       " <selenium.webdriver.remote.webelement.WebElement (session=\"3afd1fc6deaa79a616773e55107614fa\", element=\"8394fad5-8932-4801-9d7f-d0bfdea91d2d\")>,\n",
       " <selenium.webdriver.remote.webelement.WebElement (session=\"3afd1fc6deaa79a616773e55107614fa\", element=\"289ab0c8-7a04-43dd-9ee2-912723c9a9b1\")>,\n",
       " <selenium.webdriver.remote.webelement.WebElement (session=\"3afd1fc6deaa79a616773e55107614fa\", element=\"d3455105-cc45-4844-8094-d4bbd914e8a3\")>,\n",
       " <selenium.webdriver.remote.webelement.WebElement (session=\"3afd1fc6deaa79a616773e55107614fa\", element=\"c9f6d36c-a8cd-46f0-a794-02e3ff950b85\")>,\n",
       " <selenium.webdriver.remote.webelement.WebElement (session=\"3afd1fc6deaa79a616773e55107614fa\", element=\"b1227764-e791-4aa8-b120-c092a0a96df3\")>,\n",
       " <selenium.webdriver.remote.webelement.WebElement (session=\"3afd1fc6deaa79a616773e55107614fa\", element=\"91e2a8ba-76f8-4cdf-a3dd-0208865e20af\")>,\n",
       " <selenium.webdriver.remote.webelement.WebElement (session=\"3afd1fc6deaa79a616773e55107614fa\", element=\"b54e5226-b517-46bb-b02e-7461c788c23c\")>]"
      ]
     },
     "execution_count": 36,
     "metadata": {},
     "output_type": "execute_result"
    }
   ],
   "source": [
    "min_sal_tag = driver.find_elements_by_xpath(\"//div[@class='value body-medium']\")\n",
    "min_sal_tag[0:10]"
   ]
  },
  {
   "cell_type": "code",
   "execution_count": 38,
   "id": "b38b97cf",
   "metadata": {},
   "outputs": [
    {
     "data": {
      "text/plain": [
       "['₹ 15.0L',\n",
       " '₹ 11.0L',\n",
       " '₹ 9.0L',\n",
       " '₹ 8.3L',\n",
       " '₹ 7.2L',\n",
       " '₹ 10.0L',\n",
       " '₹ 8.5L',\n",
       " '₹ 6.9L',\n",
       " '₹ 6.0L',\n",
       " '₹ 5.0L']"
      ]
     },
     "execution_count": 38,
     "metadata": {},
     "output_type": "execute_result"
    }
   ],
   "source": [
    "Min_Sal = []\n",
    "for i in range(0,20,2):\n",
    "    Min_Sal.append(min_sal_tag[i].text)\n",
    "Min_Sal[0:20]"
   ]
  },
  {
   "cell_type": "code",
   "execution_count": 40,
   "id": "f62a39cc",
   "metadata": {},
   "outputs": [
    {
     "data": {
      "text/plain": [
       "['₹ 23.0L',\n",
       " '₹ 21.3L',\n",
       " '₹ 20.8L',\n",
       " '₹ 18.5L',\n",
       " '₹ 20.5L',\n",
       " '₹ 21.0L',\n",
       " '₹ 15.0L',\n",
       " '₹ 20.5L',\n",
       " '₹ 20.0L',\n",
       " '₹ 21.5L']"
      ]
     },
     "execution_count": 40,
     "metadata": {},
     "output_type": "execute_result"
    }
   ],
   "source": [
    "Max_Sal = []\n",
    "for i in range(1,20,2):\n",
    "    Max_Sal.append(min_sal_tag[i].text)\n",
    "Max_Sal[0:20]"
   ]
  },
  {
   "cell_type": "code",
   "execution_count": 42,
   "id": "2de05451",
   "metadata": {},
   "outputs": [],
   "source": [
    "DataScientist = pd.DataFrame()\n",
    "DataScientist['Company Name'] = Org_Name[0:10]\n",
    "DataScientist['Total Salary'] = Total_Salary[0:10]\n",
    "DataScientist['Experience Required'] = Exp_Required[0:10]\n",
    "DataScientist['Average Salary'] = Avg_Sal[0:10]\n",
    "DataScientist['Minimum Salary'] = Min_Sal[0:10]\n",
    "DataScientist['Maximum Salary'] = Max_Sal[0:10]"
   ]
  },
  {
   "cell_type": "code",
   "execution_count": 43,
   "id": "db54563a",
   "metadata": {},
   "outputs": [
    {
     "data": {
      "text/html": [
       "<div>\n",
       "<style scoped>\n",
       "    .dataframe tbody tr th:only-of-type {\n",
       "        vertical-align: middle;\n",
       "    }\n",
       "\n",
       "    .dataframe tbody tr th {\n",
       "        vertical-align: top;\n",
       "    }\n",
       "\n",
       "    .dataframe thead th {\n",
       "        text-align: right;\n",
       "    }\n",
       "</style>\n",
       "<table border=\"1\" class=\"dataframe\">\n",
       "  <thead>\n",
       "    <tr style=\"text-align: right;\">\n",
       "      <th></th>\n",
       "      <th>Company Name</th>\n",
       "      <th>Total Salary</th>\n",
       "      <th>Experience Required</th>\n",
       "      <th>Average Salary</th>\n",
       "      <th>Minimum Salary</th>\n",
       "      <th>Maximum Salary</th>\n",
       "    </tr>\n",
       "  </thead>\n",
       "  <tbody>\n",
       "    <tr>\n",
       "      <th>0</th>\n",
       "      <td>Ab Inbev</td>\n",
       "      <td>based on 10 salaries</td>\n",
       "      <td>4 yrs exp</td>\n",
       "      <td>₹ 19.4L</td>\n",
       "      <td>₹ 15.0L</td>\n",
       "      <td>₹ 23.0L</td>\n",
       "    </tr>\n",
       "    <tr>\n",
       "      <th>1</th>\n",
       "      <td>Optum</td>\n",
       "      <td>based on 22 salaries</td>\n",
       "      <td>3-4 yrs exp</td>\n",
       "      <td>₹ 15.1L</td>\n",
       "      <td>₹ 11.0L</td>\n",
       "      <td>₹ 21.3L</td>\n",
       "    </tr>\n",
       "    <tr>\n",
       "      <th>2</th>\n",
       "      <td>Fractal Analytics</td>\n",
       "      <td>based on 60 salaries</td>\n",
       "      <td>2-4 yrs exp</td>\n",
       "      <td>₹ 14.7L</td>\n",
       "      <td>₹ 9.0L</td>\n",
       "      <td>₹ 20.8L</td>\n",
       "    </tr>\n",
       "    <tr>\n",
       "      <th>3</th>\n",
       "      <td>Tiger Analytics</td>\n",
       "      <td>based on 24 salaries</td>\n",
       "      <td>3-4 yrs exp</td>\n",
       "      <td>₹ 13.4L</td>\n",
       "      <td>₹ 8.3L</td>\n",
       "      <td>₹ 18.5L</td>\n",
       "    </tr>\n",
       "    <tr>\n",
       "      <th>4</th>\n",
       "      <td>UnitedHealth</td>\n",
       "      <td>based on 45 salaries</td>\n",
       "      <td>2-4 yrs exp</td>\n",
       "      <td>₹ 13.3L</td>\n",
       "      <td>₹ 7.2L</td>\n",
       "      <td>₹ 20.5L</td>\n",
       "    </tr>\n",
       "    <tr>\n",
       "      <th>5</th>\n",
       "      <td>Verizon</td>\n",
       "      <td>based on 14 salaries</td>\n",
       "      <td>4 yrs exp</td>\n",
       "      <td>₹ 12.7L</td>\n",
       "      <td>₹ 10.0L</td>\n",
       "      <td>₹ 21.0L</td>\n",
       "    </tr>\n",
       "    <tr>\n",
       "      <th>6</th>\n",
       "      <td>Ganit Business Solutions</td>\n",
       "      <td>based on 12 salaries</td>\n",
       "      <td>4 yrs exp</td>\n",
       "      <td>₹ 12.4L</td>\n",
       "      <td>₹ 8.5L</td>\n",
       "      <td>₹ 15.0L</td>\n",
       "    </tr>\n",
       "    <tr>\n",
       "      <th>7</th>\n",
       "      <td>Deloitte</td>\n",
       "      <td>based on 45 salaries</td>\n",
       "      <td>2-4 yrs exp</td>\n",
       "      <td>₹ 11.2L</td>\n",
       "      <td>₹ 6.9L</td>\n",
       "      <td>₹ 20.5L</td>\n",
       "    </tr>\n",
       "    <tr>\n",
       "      <th>8</th>\n",
       "      <td>Ernst &amp; Young</td>\n",
       "      <td>based on 26 salaries</td>\n",
       "      <td>3-4 yrs exp</td>\n",
       "      <td>₹ 11.1L</td>\n",
       "      <td>₹ 6.0L</td>\n",
       "      <td>₹ 20.0L</td>\n",
       "    </tr>\n",
       "    <tr>\n",
       "      <th>9</th>\n",
       "      <td>Ericsson</td>\n",
       "      <td>based on 43 salaries</td>\n",
       "      <td>3-4 yrs exp</td>\n",
       "      <td>₹ 10.9L</td>\n",
       "      <td>₹ 5.0L</td>\n",
       "      <td>₹ 21.5L</td>\n",
       "    </tr>\n",
       "  </tbody>\n",
       "</table>\n",
       "</div>"
      ],
      "text/plain": [
       "               Company Name          Total Salary Experience Required  \\\n",
       "0                  Ab Inbev  based on 10 salaries           4 yrs exp   \n",
       "1                     Optum  based on 22 salaries         3-4 yrs exp   \n",
       "2         Fractal Analytics  based on 60 salaries         2-4 yrs exp   \n",
       "3           Tiger Analytics  based on 24 salaries         3-4 yrs exp   \n",
       "4              UnitedHealth  based on 45 salaries         2-4 yrs exp   \n",
       "5                   Verizon  based on 14 salaries           4 yrs exp   \n",
       "6  Ganit Business Solutions  based on 12 salaries           4 yrs exp   \n",
       "7                  Deloitte  based on 45 salaries         2-4 yrs exp   \n",
       "8             Ernst & Young  based on 26 salaries         3-4 yrs exp   \n",
       "9                  Ericsson  based on 43 salaries         3-4 yrs exp   \n",
       "\n",
       "  Average Salary Minimum Salary Maximum Salary  \n",
       "0        ₹ 19.4L        ₹ 15.0L        ₹ 23.0L  \n",
       "1        ₹ 15.1L        ₹ 11.0L        ₹ 21.3L  \n",
       "2        ₹ 14.7L         ₹ 9.0L        ₹ 20.8L  \n",
       "3        ₹ 13.4L         ₹ 8.3L        ₹ 18.5L  \n",
       "4        ₹ 13.3L         ₹ 7.2L        ₹ 20.5L  \n",
       "5        ₹ 12.7L        ₹ 10.0L        ₹ 21.0L  \n",
       "6        ₹ 12.4L         ₹ 8.5L        ₹ 15.0L  \n",
       "7        ₹ 11.2L         ₹ 6.9L        ₹ 20.5L  \n",
       "8        ₹ 11.1L         ₹ 6.0L        ₹ 20.0L  \n",
       "9        ₹ 10.9L         ₹ 5.0L        ₹ 21.5L  "
      ]
     },
     "execution_count": 43,
     "metadata": {},
     "output_type": "execute_result"
    }
   ],
   "source": [
    "DataScientist"
   ]
  },
  {
   "cell_type": "code",
   "execution_count": null,
   "id": "ea08d683",
   "metadata": {},
   "outputs": [],
   "source": []
  }
 ],
 "metadata": {
  "kernelspec": {
   "display_name": "Python 3",
   "language": "python",
   "name": "python3"
  },
  "language_info": {
   "codemirror_mode": {
    "name": "ipython",
    "version": 3
   },
   "file_extension": ".py",
   "mimetype": "text/x-python",
   "name": "python",
   "nbconvert_exporter": "python",
   "pygments_lexer": "ipython3",
   "version": "3.9.1"
  }
 },
 "nbformat": 4,
 "nbformat_minor": 5
}
