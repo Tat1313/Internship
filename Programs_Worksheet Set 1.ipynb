{
 "cells": [
  {
   "cell_type": "markdown",
   "id": "619b1b6b",
   "metadata": {},
   "source": [
    "Program to find a factorial of a number"
   ]
  },
  {
   "cell_type": "code",
   "execution_count": 6,
   "id": "66404498",
   "metadata": {},
   "outputs": [
    {
     "name": "stdout",
     "output_type": "stream",
     "text": [
      "6\n",
      "Factorial is 720\n"
     ]
    }
   ],
   "source": [
    "num = int(input())\n",
    "x = 1\n",
    "fact = 1\n",
    "while x<=num:\n",
    "    fact1 = num \n",
    "    fact = fact1 * fact\n",
    "    num = num - 1\n",
    "print('Factorial is',fact)\n",
    "    "
   ]
  },
  {
   "cell_type": "markdown",
   "id": "7c6d6020",
   "metadata": {},
   "source": [
    "Program to find whether a number is prime or composite"
   ]
  },
  {
   "cell_type": "code",
   "execution_count": 44,
   "id": "1c86d80c",
   "metadata": {},
   "outputs": [
    {
     "name": "stdout",
     "output_type": "stream",
     "text": [
      "99\n",
      "Number is not prime\n"
     ]
    }
   ],
   "source": [
    "num = int(input())\n",
    "count = 2\n",
    "while count<num:\n",
    "    if num == 2:\n",
    "        print(\"Number is prime\")\n",
    "    if num%count==0:\n",
    "        print(\"Number is not prime\")\n",
    "        break\n",
    "    else:\n",
    "        count = count+1\n",
    "else:\n",
    "    print(\"Number is prime\")\n",
    "    \n",
    "    "
   ]
  },
  {
   "cell_type": "markdown",
   "id": "0a28d30f",
   "metadata": {},
   "source": [
    "Program to find whether a string is palindrome or not"
   ]
  },
  {
   "cell_type": "code",
   "execution_count": 113,
   "id": "18357be8",
   "metadata": {},
   "outputs": [
    {
     "name": "stdout",
     "output_type": "stream",
     "text": [
      "radara\n",
      "String is not palindrome\n"
     ]
    }
   ],
   "source": [
    "string = str(input())\n",
    "copyString = string\n",
    "revstring = copyString[::-1] # here, slicing is used...\n",
    "if copyString == revstring:\n",
    "    print(\"String is palindrome\")\n",
    "else:\n",
    "    print(\"String is not palindrome\")"
   ]
  },
  {
   "cell_type": "markdown",
   "id": "5640edc0",
   "metadata": {},
   "source": [
    "Program to get the third side of right-angled triangle from two given sides"
   ]
  },
  {
   "cell_type": "code",
   "execution_count": 122,
   "id": "ffe5f369",
   "metadata": {},
   "outputs": [
    {
     "name": "stdout",
     "output_type": "stream",
     "text": [
      "5\n",
      "5\n",
      "7.07\n"
     ]
    }
   ],
   "source": [
    "from math import sqrt\n",
    "side1 = int(input())\n",
    "side2 = int(input())\n",
    "side3 = (side1 * side1) + (side2 * side2)\n",
    "thirdside = round(sqrt(side3),2)\n",
    "print(thirdside)"
   ]
  },
  {
   "cell_type": "markdown",
   "id": "646d94e3",
   "metadata": {},
   "source": [
    "Program to print the frequency of each of the characters present in a given string"
   ]
  },
  {
   "cell_type": "code",
   "execution_count": 142,
   "id": "cea10b77",
   "metadata": {},
   "outputs": [
    {
     "name": "stdout",
     "output_type": "stream",
     "text": [
      "Please Enter a String: tatwinder kaur\n",
      "per char frequencies in 'tatwinder kaur' is: \n",
      " {'t': 2, 'a': 2, 'w': 1, 'i': 1, 'n': 1, 'd': 1, 'e': 1, 'r': 2, ' ': 1, 'k': 1, 'u': 1}\n"
     ]
    }
   ],
   "source": [
    "string = str(input(\"Please Enter a String: \"))\n",
    "frequencies = {} # this is an empty dictionary\n",
    "for char in string:\n",
    "    if char in frequencies:\n",
    "        frequencies[char] += 1\n",
    "    else:\n",
    "        frequencies[char] = 1\n",
    "print(\"per char frequencies in '{}' is: \\n {}\".format(string,str(frequencies)))"
   ]
  },
  {
   "cell_type": "code",
   "execution_count": null,
   "id": "4a791d29",
   "metadata": {},
   "outputs": [],
   "source": []
  },
  {
   "cell_type": "code",
   "execution_count": null,
   "id": "59867c79",
   "metadata": {},
   "outputs": [],
   "source": []
  }
 ],
 "metadata": {
  "kernelspec": {
   "display_name": "Python 3",
   "language": "python",
   "name": "python3"
  },
  "language_info": {
   "codemirror_mode": {
    "name": "ipython",
    "version": 3
   },
   "file_extension": ".py",
   "mimetype": "text/x-python",
   "name": "python",
   "nbconvert_exporter": "python",
   "pygments_lexer": "ipython3",
   "version": "3.9.1"
  }
 },
 "nbformat": 4,
 "nbformat_minor": 5
}
